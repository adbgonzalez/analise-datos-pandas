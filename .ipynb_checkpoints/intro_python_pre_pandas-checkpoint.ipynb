{
 "cells": [
  {
   "cell_type": "markdown",
   "id": "89c85312",
   "metadata": {},
   "source": [
    "# introdución a python (previo a pandas)\n",
    "\n",
    "este caderno reúne a **base teórica**, a **sintaxe esencial** e **exemplos executables** que o alumnado precisa dominar antes de entrar en pandas. non cubrimos a configuración de contornos nin markdown, e deixamos a visualización para outro módulo.\n",
    "\n",
    "---\n",
    "\n",
    "**que imos ver:**\n",
    "1. sintaxe básica e tipos primitivos  \n",
    "2. cadeas de texto  \n",
    "3. estruturas de datos (list, tuple, set, dict)  \n",
    "4. control de fluxo  \n",
    "5. comprensións e utilidades funcionais  \n",
    "6. funcións e ámbito  \n",
    "7. erros e excepcións  \n",
    "8. módulos da biblioteca estándar (selección práctica)  \n",
    "9. ficheiros e rutas  \n",
    "10. datas e horas  \n",
    "11. expresións regulares  \n",
    "12. numpy imprescindible para pandas  \n",
    "13. boas prácticas e estilo  \n"
   ]
  },
  {
   "cell_type": "markdown",
   "id": "6acbb571",
   "metadata": {},
   "source": [
    "## 1) sintaxe básica e tipos primitivos\n",
    "\n",
    "**obxectivos**\n",
    "- comprender variables, tipos (`int`, `float`, `bool`, `None`) e operacións aritméticas/lóxicas.\n",
    "- entender a diferencia entre `/` (división real) e `//` (división enteira), `%` (módulo) e `**` (potencia).\n",
    "- saber empregar `type()` e `isinstance()`.\n"
   ]
  },
  {
   "cell_type": "code",
   "execution_count": null,
   "id": "951ba507",
   "metadata": {},
   "outputs": [],
   "source": [
    "# exemplos básicos de tipos e operacións\n",
    "a = 7          # int\n",
    "b = 3          # int\n",
    "c = 7.0        # float\n",
    "flag = True    # bool\n",
    "nada = None    # NoneType\n",
    "\n",
    "print('a + b =', a + b)\n",
    "print('a / b =', a / b)    # división real -> 2.333...\n",
    "print('a // b =', a // b)  # división enteira -> 2\n",
    "print('a % b =', a % b)    # resto -> 1\n",
    "print('2 ** 10 =', 2 ** 10)\n",
    "\n",
    "print('type(a):', type(a).__name__)\n",
    "print('isinstance(c, float)?', isinstance(c, float))\n",
    "\n",
    "# comparacións e lóxica\n",
    "print('a > b:', a > b)\n",
    "print('a == c:', a == c)   # True (7 == 7.0)\n",
    "print('a is c:', a is c)   # False (obxectos distintos)\n",
    "print('flag and (a>b):', flag and (a>b))"
   ]
  },
  {
   "cell_type": "markdown",
   "id": "8fffba45",
   "metadata": {},
   "source": [
    "## 2) cadeas de texto\n",
    "\n",
    "**ideas clave**\n",
    "- as cadeas son inmutables; úsanse moito para limpeza e normalización.\n",
    "- slicing e métodos comúns: `lower`, `upper`, `strip`, `replace`, `split`, `join`.\n",
    "- **f-strings** para formateo claro.\n"
   ]
  },
  {
   "cell_type": "code",
   "execution_count": null,
   "id": "3bd1a7cc",
   "metadata": {},
   "outputs": [],
   "source": [
    "nome = '  carmen pérez  '\n",
    "limpo = nome.strip().title()  # quita espazos e pon Maiúscula Inicial\n",
    "print(limpo)  # 'Carmen Pérez'\n",
    "\n",
    "# slicing\n",
    "s = 'ABCD1234'\n",
    "print(s[:4], s[4:], s[-2:])  # 'ABCD', '1234', '34'\n",
    "\n",
    "# f-strings\n",
    "n, m = 5, 3\n",
    "print(f'{n} + {m} = {n+m} (ok)')\n",
    "\n",
    "# join/split\n",
    "tokens = 'a,b,c'.split(',')\n",
    "recomposto = ' | '.join(tokens)\n",
    "print(tokens, '->', recomposto)"
   ]
  },
  {
   "cell_type": "markdown",
   "id": "1ae7f8e0",
   "metadata": {},
   "source": [
    "## 3) estruturas de datos (list, tuple, set, dict)\n",
    "\n",
    "**en que situación usar cada unha**\n",
    "- **list**: colección ordenada, **mutable**, admite duplicados.\n",
    "- **tuple**: colección ordenada, **inmutable** (bo para claves e retornos múltiples).\n",
    "- **set**: colección **sen duplicados**, operacións de conxuntos.\n",
    "- **dict**: mapeo **clave→valor**; acceso rápido por clave.\n"
   ]
  },
  {
   "cell_type": "code",
   "execution_count": null,
   "id": "bace56e4",
   "metadata": {},
   "outputs": [],
   "source": [
    "# lista\n",
    "nums = [4, 1, 4, 2]\n",
    "nums.append(9); nums.sort()\n",
    "print('lista:', nums)\n",
    "\n",
    "# tupla\n",
    "punto = (3, 5)\n",
    "print('tupla:', punto)\n",
    "\n",
    "# set (elimina duplicados automaticamente)\n",
    "unique = set(nums)\n",
    "print('set:', unique, 'contén 4?', 4 in unique)\n",
    "\n",
    "# dict\n",
    "notas = {'ana': 8.5, 'xurxo': 6.0}\n",
    "notas['ana'] = 9.0\n",
    "print('dict:', notas, 'nota de ana:', notas.get('ana', 'sen dato'))\n",
    "\n",
    "# iteración sobre dict\n",
    "for alumno, nota in notas.items():\n",
    "    print(f'{alumno}: {nota}')"
   ]
  },
  {
   "cell_type": "markdown",
   "id": "5de95752",
   "metadata": {},
   "source": [
    "## 4) control de fluxo\n",
    "\n",
    "- condicións: `if / elif / else`\n",
    "- bucles: `for` (sobre secuencias), `while` (ata condición), `break`/`continue`\n",
    "- utilidades: `range`, `enumerate`, `zip`\n"
   ]
  },
  {
   "cell_type": "code",
   "execution_count": null,
   "id": "284b42d5",
   "metadata": {},
   "outputs": [],
   "source": [
    "x = 12\n",
    "if x % 2 == 0:\n",
    "    tipo = 'par'\n",
    "else:\n",
    "    tipo = 'impar'\n",
    "print('x é', tipo)\n",
    "\n",
    "# for + range\n",
    "suma = 0\n",
    "for i in range(1, 6):  # 1..5\n",
    "    suma += i\n",
    "print('suma 1..5 =', suma)\n",
    "\n",
    "# enumerate\n",
    "frutas = ['mazá','pera','uva']\n",
    "for i, f in enumerate(frutas, start=1):\n",
    "    print(i, f)\n",
    "\n",
    "# zip\n",
    "cores = ['vermello','verde','azul']\n",
    "for f, c in zip(frutas, cores):\n",
    "    print(f'{f} -> {c}')"
   ]
  },
  {
   "cell_type": "markdown",
   "id": "1ec06a0f",
   "metadata": {},
   "source": [
    "## 5) comprensións e utilidades funcionais\n",
    "\n",
    "- **list/dict/set comprehensions** fan transformacións concisas.\n",
    "- `any` / `all` para comprobar condicións nunha colección.\n",
    "- `sorted(sequence, key=func)` con `lambda` para ordenar por criterio.\n"
   ]
  },
  {
   "cell_type": "code",
   "execution_count": null,
   "id": "42ede2d8",
   "metadata": {},
   "outputs": [],
   "source": [
    "nums = [1,2,3,4,5,6]\n",
    "\n",
    "pares = [n for n in nums if n % 2 == 0]\n",
    "cuadrados = {n: n**2 for n in nums}\n",
    "unicos = {n % 3 for n in nums}\n",
    "print('pares:', pares)\n",
    "print('cuadrados:', cuadrados)\n",
    "print('restos únicos mod 3:', unicos)\n",
    "\n",
    "print('algún > 5?', any(n>5 for n in nums))\n",
    "print('todos > 0?', all(n>0 for n in nums))\n",
    "\n",
    "palabras = ['python','Pandas','Numpy']\n",
    "print(sorted(palabras, key=lambda s: s.lower()))  # ordena ignorando maiúsculas"
   ]
  },
  {
   "cell_type": "markdown",
   "id": "cc55fbf7",
   "metadata": {},
   "source": [
    "## 6) funcións e ámbito\n",
    "\n",
    "- definición con `def`, argumentos por defecto, posicionais e nomeados.\n",
    "- `*args` e `**kwargs` para flexibilidade.\n",
    "- docstrings para documentación; ámbito **LEGB** (local → enclosing → global → builtins).\n"
   ]
  },
  {
   "cell_type": "code",
   "execution_count": null,
   "id": "4862ee4f",
   "metadata": {},
   "outputs": [],
   "source": [
    "def area_rect(base, altura=1, *, unidades='cm^2'):\n",
    "    \"\"\"Calcula a área dun rectángulo.\n",
    "    Args:\n",
    "        base (float): base\n",
    "        altura (float): altura (por defecto 1)\n",
    "        unidades (str): cadea de unidades (argumento só por nome)\n",
    "    Returns:\n",
    "        float: área\n",
    "    \"\"\"\n",
    "    return base * altura\n",
    "\n",
    "print(area_rect(3, 4), 'cm^2')\n",
    "print(area_rect(base=5, altura=2))\n",
    "\n",
    "def suma_todo(*args):\n",
    "    return sum(args)\n",
    "\n",
    "print('suma 1..5 =', suma_todo(1,2,3,4,5))\n",
    "\n",
    "# ámbito: variable global lida dende función\n",
    "factor = 2\n",
    "def dup(n):\n",
    "    return n * factor  # le a global\n",
    "print('dup(7)=', dup(7))"
   ]
  },
  {
   "cell_type": "markdown",
   "id": "09af1332",
   "metadata": {},
   "source": [
    "## 7) erros e excepcións\n",
    "\n",
    "- manexo seguro con `try / except / else / finally`\n",
    "- levantar erros con `raise`\n",
    "- captura específica por tipo (`ValueError`, `KeyError`, ...)\n"
   ]
  },
  {
   "cell_type": "code",
   "execution_count": null,
   "id": "cd4d3bb3",
   "metadata": {},
   "outputs": [],
   "source": [
    "def to_int(s):\n",
    "    try:\n",
    "        x = int(s)\n",
    "    except ValueError as e:\n",
    "        print('non é un enteiro:', s)\n",
    "        return None\n",
    "    else:\n",
    "        # execútase se non houbo excepción\n",
    "        return x\n",
    "    finally:\n",
    "        # sempre se executa\n",
    "        pass\n",
    "\n",
    "print(to_int('42'))\n",
    "print(to_int('4x'))\n",
    "\n",
    "# exemplo de raise\n",
    "def dividir(a, b):\n",
    "    if b == 0:\n",
    "        raise ZeroDivisionError('b non pode ser 0')\n",
    "    return a / b\n",
    "\n",
    "print(dividir(10,2))"
   ]
  },
  {
   "cell_type": "markdown",
   "id": "f5b5fa97",
   "metadata": {},
   "source": [
    "## 8) módulos da biblioteca estándar (selección práctica)\n",
    "\n",
    "- `math`, `statistics`: cálculo numérico básico.\n",
    "- `pathlib`: rutas e manipulación de ficheiros.\n",
    "- `json`, `csv`: formatos de datos comúns.\n",
    "- `random`: reproducibilidade con sementes.\n"
   ]
  },
  {
   "cell_type": "code",
   "execution_count": null,
   "id": "b9f7b3af",
   "metadata": {},
   "outputs": [],
   "source": [
    "import math, statistics as stats, random\n",
    "random.seed(123)\n",
    "\n",
    "valores = [2.0, 3.5, 4.0, 4.5]\n",
    "print('pi aprox:', round(math.pi, 4))\n",
    "print('media:', stats.mean(valores), 'var:', round(stats.pvariance(valores), 4))\n",
    "\n",
    "print('un enteiro aleatorio 1..10:', random.randint(1,10))"
   ]
  },
  {
   "cell_type": "markdown",
   "id": "bfa39c39",
   "metadata": {},
   "source": [
    "## 9) ficheiros e rutas\n",
    "\n",
    "- usar `pathlib.Path` para rutas portables.\n",
    "- ler/escribir texto con `open` e *context manager*.\n",
    "- CSV/JSON coa stdlib (sen pandas de momento).\n"
   ]
  },
  {
   "cell_type": "code",
   "execution_count": null,
   "id": "f8a7f6d2",
   "metadata": {},
   "outputs": [],
   "source": [
    "from pathlib import Path\n",
    "import json, csv\n",
    "\n",
    "base = Path.cwd() / 'data_demo'\n",
    "base.mkdir(exist_ok=True)\n",
    "\n",
    "# escribir e ler texto plano\n",
    "txt_path = base / 'nota.txt'\n",
    "with open(txt_path, 'w', encoding='utf-8') as f:\n",
    "    f.write('ola mundo\\nsegunda liña')\n",
    "with open(txt_path, encoding='utf-8') as f:\n",
    "    print('lido:', f.read())\n",
    "\n",
    "# JSON\n",
    "data = {'alumno':'ana', 'notas':[8,9,7.5]}\n",
    "json_path = base / 'notas.json'\n",
    "json_path.write_text(json.dumps(data, ensure_ascii=False, indent=2), encoding='utf-8')\n",
    "print('json:', json.loads(json_path.read_text(encoding='utf-8')))\n",
    "\n",
    "# CSV\n",
    "csv_path = base / 'táboa.csv'\n",
    "rows = [{'id':1,'nome':'ana'},{'id':2,'nome':'beto'}]\n",
    "with open(csv_path, 'w', newline='', encoding='utf-8') as f:\n",
    "    writer = csv.DictWriter(f, fieldnames=['id','nome'])\n",
    "    writer.writeheader(); writer.writerows(rows)\n",
    "with open(csv_path, encoding='utf-8') as f:\n",
    "    print('csv\\n', f.read())"
   ]
  },
  {
   "cell_type": "markdown",
   "id": "efd42e18",
   "metadata": {},
   "source": [
    "## 10) datas e horas\n",
    "\n",
    "- `datetime`, `timedelta`, `strptime/strftime`\n",
    "- zonas horarias con `zoneinfo` (desde python 3.9)\n"
   ]
  },
  {
   "cell_type": "code",
   "execution_count": null,
   "id": "2dac8027",
   "metadata": {},
   "outputs": [],
   "source": [
    "from datetime import datetime, timedelta\n",
    "from zoneinfo import ZoneInfo\n",
    "\n",
    "agora_utc = datetime.now(tz=ZoneInfo('UTC'))\n",
    "print('agora UTC:', agora_utc.strftime('%Y-%m-%d %H:%M:%S %Z'))\n",
    "\n",
    "# conversión de zona\n",
    "agora_madrid = agora_utc.astimezone(ZoneInfo('Europe/Madrid'))\n",
    "print('agora Madrid:', agora_madrid.strftime('%Y-%m-%d %H:%M:%S %Z'))\n",
    "\n",
    "# parsear e formatear\n",
    "s = '2025-09-24 14:30'\n",
    "dt = datetime.strptime(s, '%Y-%m-%d %H:%M')\n",
    "print('parsed:', dt, '| +90min ->', dt + timedelta(minutes=90))"
   ]
  },
  {
   "cell_type": "markdown",
   "id": "3cb25607",
   "metadata": {},
   "source": [
    "## 11) expresións regulares (mínimo viable)\n",
    "\n",
    "- `re.search` / `re.findall` para atopar patróns.\n",
    "- `re.sub` para substitucións.\n",
    "- patróns comúns: `\\d` díxitos, `\\w` alfanuméricos, `+` repeticións, grupos `(...)`.\n"
   ]
  },
  {
   "cell_type": "code",
   "execution_count": null,
   "id": "b2b04476",
   "metadata": {},
   "outputs": [],
   "source": [
    "import re\n",
    "\n",
    "texto = 'pedido #A-2025-009 entregado a carmen, tlf: +34 600 123 456.'\n",
    "m = re.search(r'#([A-Z]-\\d{4}-\\d{3})', texto)\n",
    "print('código pedido:', m.group(1) if m else None)\n",
    "\n",
    "tlf = re.findall(r'\\+?\\d[\\d\\s]{7,}', texto)\n",
    "print('teléfonos atopados:', [t.strip() for t in tlf])\n",
    "\n",
    "limpo = re.sub(r'\\s+', ' ', texto).strip()\n",
    "print('texto limpo:', limpo)"
   ]
  },
  {
   "cell_type": "markdown",
   "id": "e6217647",
   "metadata": {},
   "source": [
    "## 12) numpy imprescindible para pandas\n",
    "\n",
    "- `ndarray`: `shape`, `dtype`, indexación/slicing.\n",
    "- operacións vectorizadas e *broadcasting*.\n",
    "- máscaras booleanas, agregación por eixes, `np.nan`.\n"
   ]
  },
  {
   "cell_type": "code",
   "execution_count": null,
   "id": "70117e6d",
   "metadata": {},
   "outputs": [],
   "source": [
    "import numpy as np\n",
    "np.random.seed(42)\n",
    "\n",
    "a = np.array([1,2,3,4], dtype=np.int64)\n",
    "b = np.arange(12).reshape(3,4)\n",
    "print('a:', a, 'dtype:', a.dtype)\n",
    "print('b shape:', b.shape); print(b)\n",
    "\n",
    "# operacións vectorizadas\n",
    "print('a*10:', a*10)\n",
    "print('fila 0 de b:', b[0], 'columna 1:', b[:,1])\n",
    "\n",
    "# máscara booleana\n",
    "mask = b % 2 == 0\n",
    "print('pares en b:', b[mask])\n",
    "\n",
    "# broadcasting\n",
    "col_mean = b.mean(axis=0)\n",
    "norm = (b - col_mean) / (b.std(axis=0) + 1e-9)\n",
    "print('media por columna:', np.round(col_mean,2))\n",
    "print('norm shape:', norm.shape)\n",
    "\n",
    "# NaN e agregación segura\n",
    "x = np.array([1.0, np.nan, 3.0])\n",
    "print('media ignorando NaN:', np.nanmean(x))"
   ]
  },
  {
   "cell_type": "markdown",
   "id": "2b18a9d8",
   "metadata": {},
   "source": [
    "## 13) boas prácticas e estilo\n",
    "\n",
    "- **nomes descritivos** en variables e funcións.\n",
    "- **pep8** (espazos, liñas curtas, indentación uniforme).\n",
    "- **funcións pequenas** con responsabilidades claras; evitar código duplicado.\n",
    "- **reproducibilidade**: sementes aleatorias, versións anotadas, camiños relativos.\n",
    "- **validación**: `assert` para condicións que deben cumprirse.\n"
   ]
  },
  {
   "cell_type": "code",
   "execution_count": null,
   "id": "ed0081e5",
   "metadata": {},
   "outputs": [],
   "source": [
    "def normaliza_texto(s: str, *, lower=True, strip=True) -> str:\n",
    "    \"\"\"normaliza cadeas de texto de forma simple.\"\"\"\n",
    "    if s is None:\n",
    "        return ''\n",
    "    if strip:\n",
    "        s = s.strip()\n",
    "    if lower:\n",
    "        s = s.lower()\n",
    "    return s\n",
    "\n",
    "# probas rápidas con assert (non substitúen tests formais)\n",
    "assert normaliza_texto(' Ola ') == 'ola'\n",
    "assert normaliza_texto(' Ola ', lower=False) == 'Ola'\n",
    "print('ok: funcións e asserts básicos listos.')"
   ]
  }
 ],
 "metadata": {},
 "nbformat": 4,
 "nbformat_minor": 5
}