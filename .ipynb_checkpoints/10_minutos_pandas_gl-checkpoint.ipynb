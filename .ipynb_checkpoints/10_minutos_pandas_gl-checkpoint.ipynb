{
 "cells": [
  {
   "cell_type": "markdown",
   "id": "72ef3eb0-0bed-44f2-a11c-b83a0af855e0",
   "metadata": {},
   "source": [
    "# *pandas* na práctica\n",
    "\n",
    "Este notebook está enfocado ao uso de **pandas** na práctica."
   ]
  },
  {
   "cell_type": "markdown",
   "id": "33539c8c",
   "metadata": {},
   "source": [
    "**Importacións recomendadas**\n",
    "\n",
    "Para manexar **pandas** é habitual facer estas importacións:\n",
    "- `numpy`: módulo de computación numérica.\n",
    "- `pandas`: módulo para análise de datos.\n",
    "- `IPython.display`: para visualizar de forma máis atractiva os *DataFrames*."
   ]
  },
  {
   "cell_type": "code",
   "execution_count": 1,
   "id": "71df43e2",
   "metadata": {},
   "outputs": [],
   "source": [
    "import numpy as np\n",
    "import pandas as pd\n",
    "from IPython.display import display"
   ]
  },
  {
   "cell_type": "markdown",
   "id": "d8461b82",
   "metadata": {},
   "source": [
    "## 1. Estruturas de datos básicas en pandas\n",
    "\n",
    "### Series\n",
    "Unha `Series` é un array unidimensional etiquetado (calquera tipo: int, float, string, obxectos de Python…). \n",
    "Método básico de creación:\n",
    "```python\n",
    "s = pd.Series(data, index=index)\n",
    "```\n",
    "\n",
    "Onde `data` pode ser:\n",
    "- Un dicionario de python (`dict`).\n",
    "- un `ndarray`.\n",
    "- Un valor escalar.\n",
    "\n",
    "#### Creación a partir de *ndarray*\n",
    "O *index* é opcional, se non se pasa créase automáticamente un cos valores `[0,..., len(data)-1]`.\n"
   ]
  },
  {
   "cell_type": "code",
   "execution_count": 3,
   "id": "78d00d74-85e8-401e-a68e-4c9d331557d7",
   "metadata": {},
   "outputs": [
    {
     "data": {
      "text/plain": [
       "a   -1.099427\n",
       "b   -2.314373\n",
       "c    0.443223\n",
       "d    1.203526\n",
       "e   -1.786452\n",
       "dtype: float64"
      ]
     },
     "execution_count": 3,
     "metadata": {},
     "output_type": "execute_result"
    }
   ],
   "source": [
    "# A partir de ndarray:\n",
    "\n",
    "s = pd.Series(np.random.randn(5), index = [\"a\", \"b\", \"c\", \"d\", \"e\"])\n",
    "s"
   ]
  },
  {
   "cell_type": "markdown",
   "id": "96156d77-6198-4147-aefa-72d6d9c8543a",
   "metadata": {},
   "source": [
    "#### Creación a partir de *dicionario*\n",
    "Poden crearse series automáticamente a partir de dicionarios (*dict*). Se se proporciona un *index* só se terán en conta os valores con etiquetas coincidentes co mesno. Os membros do índice que non se correspondan con etiqueteas do dicionario tomarán o \"valor\" *NaN*."
   ]
  },
  {
   "cell_type": "code",
   "execution_count": 9,
   "id": "09ff2a6a-4278-4018-816f-aa1ba998edfe",
   "metadata": {},
   "outputs": [
    {
     "data": {
      "text/plain": [
       "b    1\n",
       "a    2\n",
       "c    3\n",
       "dtype: int64"
      ]
     },
     "execution_count": 9,
     "metadata": {},
     "output_type": "execute_result"
    }
   ],
   "source": [
    "# A partir de dict\n",
    "d = {\"b\": 1, \"a\": 2, \"c\": 3}\n",
    "s2 = pd.Series(d)\n",
    "# Exemplo con índice\n",
    "# s2 = pd.Series(d, index=[\"a\",\"b\",\"d\"])\n",
    "s2\n"
   ]
  },
  {
   "cell_type": "markdown",
   "id": "3944e120-ad1c-4452-a4c2-19352484ac6c",
   "metadata": {},
   "source": [
    "#### Creación a partir de *escalar*\n",
    "Tamén poden crearse *Series* a partir dun valor escalar. Nese caso o valor repetirase segundo a lonxitude do *index*."
   ]
  },
  {
   "cell_type": "code",
   "execution_count": 6,
   "id": "d9a79264-a328-49eb-8d03-9cea189ddea5",
   "metadata": {},
   "outputs": [
    {
     "data": {
      "text/plain": [
       "a    5.0\n",
       "b    5.0\n",
       "c    5.0\n",
       "dtype: float64"
      ]
     },
     "execution_count": 6,
     "metadata": {},
     "output_type": "execute_result"
    }
   ],
   "source": [
    "# A partir de escalar\n",
    "s3 = pd.Series(5.0, index =[\"a\", \"b\", \"c\"])\n",
    "s3"
   ]
  },
  {
   "cell_type": "markdown",
   "id": "a8e1b4a1-8592-4878-ae33-41325612e31f",
   "metadata": {},
   "source": [
    "Consideracións sobre as `Series`:\n",
    "- Compórtanse como **ndarray** soportando casi todas as operacións. Sen embargo, hai que ter en conta que operacións como *slicing* afectarán tamén ao índice.\n",
    "- Compórtanse tamén como **dicionarios**, permitindo acceder a valores a partir da etiqueta do *índice*.\n",
    "- Opcionalmente tamén teñen un atributo **name** que se pode indicar no momento da creación.\n",
    "\n",
    "### DataFrame\n",
    "Un `DataFrame` é unha estrutura de datos bidimensional con etiquetas, con columnas que poden ser de tipos diferentes. Pódese imaxinar como unha folla de cálculo ou unha táboa *SQL*, ou ben como un dicionario de obxectos Series. En xeral, é o obxecto máis empregado en pandas. Igual que ocorre con Series, DataFrame acepta moitos tipos distintos de entrada:\n",
    "- Dicionario (`dict`) de `ndarray` unidimensionais, listas, dicionarios ou Series.\n",
    "- `numpy.ndarray` bidimensional.\n",
    "- ndarray estruturado ou de rexistros.\n",
    "- Unha `Series`\n",
    "- Outro `DataFrame`\n",
    "\n",
    "Opcionalmente poden pasarse os seguintes parámetros.\n",
    "- **index**: etiquetas das filas.\n",
    "- **columns**: etiquetas das columnas.\n",
    "\n",
    "#### Creación a partir de *dicionario de ndarrays/listas*\n",
    "Todos os `ndarrays` deben ter a mesma lonxitude. Se se pasa un índice tamén ter qeu ter a mesma lonxitude. Se non se pasa será `range(n)`."
   ]
  },
  {
   "cell_type": "code",
   "execution_count": 3,
   "id": "3713e5c7-4b20-4a2d-b967-6f7351836ddb",
   "metadata": {},
   "outputs": [
    {
     "data": {
      "text/html": [
       "<div>\n",
       "<style scoped>\n",
       "    .dataframe tbody tr th:only-of-type {\n",
       "        vertical-align: middle;\n",
       "    }\n",
       "\n",
       "    .dataframe tbody tr th {\n",
       "        vertical-align: top;\n",
       "    }\n",
       "\n",
       "    .dataframe thead th {\n",
       "        text-align: right;\n",
       "    }\n",
       "</style>\n",
       "<table border=\"1\" class=\"dataframe\">\n",
       "  <thead>\n",
       "    <tr style=\"text-align: right;\">\n",
       "      <th></th>\n",
       "      <th>un</th>\n",
       "      <th>dous</th>\n",
       "    </tr>\n",
       "  </thead>\n",
       "  <tbody>\n",
       "    <tr>\n",
       "      <th>0</th>\n",
       "      <td>1</td>\n",
       "      <td>6.0</td>\n",
       "    </tr>\n",
       "    <tr>\n",
       "      <th>1</th>\n",
       "      <td>2</td>\n",
       "      <td>7.0</td>\n",
       "    </tr>\n",
       "    <tr>\n",
       "      <th>2</th>\n",
       "      <td>3</td>\n",
       "      <td>8.0</td>\n",
       "    </tr>\n",
       "    <tr>\n",
       "      <th>3</th>\n",
       "      <td>4</td>\n",
       "      <td>9.0</td>\n",
       "    </tr>\n",
       "  </tbody>\n",
       "</table>\n",
       "</div>"
      ],
      "text/plain": [
       "   un  dous\n",
       "0   1   6.0\n",
       "1   2   7.0\n",
       "2   3   8.0\n",
       "3   4   9.0"
      ]
     },
     "execution_count": 3,
     "metadata": {},
     "output_type": "execute_result"
    }
   ],
   "source": [
    "# A partir de dicionario de ndarray/listas\n",
    "d = {\"un\": [1, 2, 3, 4], \"dous\":[6.0,7.0,8.0,9.0]}\n",
    "df = pd.DataFrame(d)\n",
    "df"
   ]
  },
  {
   "cell_type": "markdown",
   "id": "9a3efad3-0636-415e-9c4a-0487ee5ccfca",
   "metadata": {},
   "source": [
    "#### A partir dun *array de estruturas ou rexistros*\n",
    "Non moi habitual.\n"
   ]
  },
  {
   "cell_type": "code",
   "execution_count": 6,
   "id": "2012fba4-d49a-4718-8a86-d83e27880695",
   "metadata": {},
   "outputs": [
    {
     "data": {
      "text/html": [
       "<div>\n",
       "<style scoped>\n",
       "    .dataframe tbody tr th:only-of-type {\n",
       "        vertical-align: middle;\n",
       "    }\n",
       "\n",
       "    .dataframe tbody tr th {\n",
       "        vertical-align: top;\n",
       "    }\n",
       "\n",
       "    .dataframe thead th {\n",
       "        text-align: right;\n",
       "    }\n",
       "</style>\n",
       "<table border=\"1\" class=\"dataframe\">\n",
       "  <thead>\n",
       "    <tr style=\"text-align: right;\">\n",
       "      <th></th>\n",
       "      <th>A</th>\n",
       "      <th>B</th>\n",
       "      <th>C</th>\n",
       "    </tr>\n",
       "  </thead>\n",
       "  <tbody>\n",
       "    <tr>\n",
       "      <th>0</th>\n",
       "      <td>1</td>\n",
       "      <td>2.0</td>\n",
       "      <td>b'Hello'</td>\n",
       "    </tr>\n",
       "    <tr>\n",
       "      <th>1</th>\n",
       "      <td>2</td>\n",
       "      <td>3.0</td>\n",
       "      <td>b'World'</td>\n",
       "    </tr>\n",
       "  </tbody>\n",
       "</table>\n",
       "</div>"
      ],
      "text/plain": [
       "   A    B         C\n",
       "0  1  2.0  b'Hello'\n",
       "1  2  3.0  b'World'"
      ]
     },
     "execution_count": 6,
     "metadata": {},
     "output_type": "execute_result"
    }
   ],
   "source": [
    "data = np.zeros((2,), dtype=[(\"A\", \"i4\"), (\"B\", \"f4\"), (\"C\", \"a10\")])\n",
    "data[:] = [(1, 2.0, \"Hello\"), (2, 3.0, \"World\")]\n",
    "df2 = pd.DataFrame(data)\n",
    "df2"
   ]
  },
  {
   "cell_type": "markdown",
   "id": "02a14458-99f8-45d5-bd82-e034c57cda69",
   "metadata": {},
   "source": [
    "#### A partir dunha *lista de dicionarios*\n"
   ]
  },
  {
   "cell_type": "code",
   "execution_count": 15,
   "id": "0f22487f-5da5-4fae-b8dd-662e19abc8d8",
   "metadata": {},
   "outputs": [
    {
     "data": {
      "text/html": [
       "<div>\n",
       "<style scoped>\n",
       "    .dataframe tbody tr th:only-of-type {\n",
       "        vertical-align: middle;\n",
       "    }\n",
       "\n",
       "    .dataframe tbody tr th {\n",
       "        vertical-align: top;\n",
       "    }\n",
       "\n",
       "    .dataframe thead th {\n",
       "        text-align: right;\n",
       "    }\n",
       "</style>\n",
       "<table border=\"1\" class=\"dataframe\">\n",
       "  <thead>\n",
       "    <tr style=\"text-align: right;\">\n",
       "      <th></th>\n",
       "      <th>a</th>\n",
       "      <th>b</th>\n",
       "      <th>c</th>\n",
       "    </tr>\n",
       "  </thead>\n",
       "  <tbody>\n",
       "    <tr>\n",
       "      <th>0</th>\n",
       "      <td>1</td>\n",
       "      <td>2</td>\n",
       "      <td>NaN</td>\n",
       "    </tr>\n",
       "    <tr>\n",
       "      <th>1</th>\n",
       "      <td>5</td>\n",
       "      <td>10</td>\n",
       "      <td>20.0</td>\n",
       "    </tr>\n",
       "  </tbody>\n",
       "</table>\n",
       "</div>"
      ],
      "text/plain": [
       "   a   b     c\n",
       "0  1   2   NaN\n",
       "1  5  10  20.0"
      ]
     },
     "execution_count": 15,
     "metadata": {},
     "output_type": "execute_result"
    }
   ],
   "source": [
    "data2 = [{\"a\": 1, \"b\": 2}, {\"a\": 5, \"b\": 10, \"c\": 20}]\n",
    "df3 = pd.DataFrame(data2)\n",
    "df3"
   ]
  },
  {
   "cell_type": "markdown",
   "id": "cf37c220-4234-4b44-9e2b-49afbb11cac1",
   "metadata": {},
   "source": [
    "#### A partir dun *dicionario de tuplas*\n"
   ]
  },
  {
   "cell_type": "code",
   "execution_count": 18,
   "id": "6310e7eb-916b-4be1-ac36-b7661c88cfb5",
   "metadata": {},
   "outputs": [
    {
     "data": {
      "text/html": [
       "<div>\n",
       "<style scoped>\n",
       "    .dataframe tbody tr th:only-of-type {\n",
       "        vertical-align: middle;\n",
       "    }\n",
       "\n",
       "    .dataframe tbody tr th {\n",
       "        vertical-align: top;\n",
       "    }\n",
       "\n",
       "    .dataframe thead tr th {\n",
       "        text-align: left;\n",
       "    }\n",
       "</style>\n",
       "<table border=\"1\" class=\"dataframe\">\n",
       "  <thead>\n",
       "    <tr>\n",
       "      <th></th>\n",
       "      <th></th>\n",
       "      <th colspan=\"3\" halign=\"left\">a</th>\n",
       "      <th colspan=\"2\" halign=\"left\">b</th>\n",
       "    </tr>\n",
       "    <tr>\n",
       "      <th></th>\n",
       "      <th></th>\n",
       "      <th>b</th>\n",
       "      <th>a</th>\n",
       "      <th>c</th>\n",
       "      <th>a</th>\n",
       "      <th>b</th>\n",
       "    </tr>\n",
       "  </thead>\n",
       "  <tbody>\n",
       "    <tr>\n",
       "      <th rowspan=\"3\" valign=\"top\">A</th>\n",
       "      <th>B</th>\n",
       "      <td>1.0</td>\n",
       "      <td>4.0</td>\n",
       "      <td>5.0</td>\n",
       "      <td>8.0</td>\n",
       "      <td>10.0</td>\n",
       "    </tr>\n",
       "    <tr>\n",
       "      <th>C</th>\n",
       "      <td>2.0</td>\n",
       "      <td>3.0</td>\n",
       "      <td>6.0</td>\n",
       "      <td>7.0</td>\n",
       "      <td>NaN</td>\n",
       "    </tr>\n",
       "    <tr>\n",
       "      <th>D</th>\n",
       "      <td>NaN</td>\n",
       "      <td>NaN</td>\n",
       "      <td>NaN</td>\n",
       "      <td>NaN</td>\n",
       "      <td>9.0</td>\n",
       "    </tr>\n",
       "  </tbody>\n",
       "</table>\n",
       "</div>"
      ],
      "text/plain": [
       "       a              b      \n",
       "       b    a    c    a     b\n",
       "A B  1.0  4.0  5.0  8.0  10.0\n",
       "  C  2.0  3.0  6.0  7.0   NaN\n",
       "  D  NaN  NaN  NaN  NaN   9.0"
      ]
     },
     "execution_count": 18,
     "metadata": {},
     "output_type": "execute_result"
    }
   ],
   "source": [
    "df4 = pd.DataFrame(\n",
    "    {\n",
    "        (\"a\", \"b\"): {(\"A\", \"B\"): 1, (\"A\", \"C\"): 2},\n",
    "        (\"a\", \"a\"): {(\"A\", \"C\"): 3, (\"A\", \"B\"): 4},\n",
    "        (\"a\", \"c\"): {(\"A\", \"B\"): 5, (\"A\", \"C\"): 6},\n",
    "        (\"b\", \"a\"): {(\"A\", \"C\"): 7, (\"A\", \"B\"): 8},\n",
    "        (\"b\", \"b\"): {(\"A\", \"D\"): 9, (\"A\", \"B\"): 10},\n",
    "    }\n",
    ")\n",
    "df4"
   ]
  },
  {
   "cell_type": "markdown",
   "id": "660b4b77-7e71-4130-9431-2b89965406ec",
   "metadata": {},
   "source": [
    "#### A partir dunha *Series*"
   ]
  },
  {
   "cell_type": "code",
   "execution_count": 19,
   "id": "f0570f61-c1fc-4bd7-9feb-35dbb23b0a16",
   "metadata": {},
   "outputs": [
    {
     "data": {
      "text/html": [
       "<div>\n",
       "<style scoped>\n",
       "    .dataframe tbody tr th:only-of-type {\n",
       "        vertical-align: middle;\n",
       "    }\n",
       "\n",
       "    .dataframe tbody tr th {\n",
       "        vertical-align: top;\n",
       "    }\n",
       "\n",
       "    .dataframe thead th {\n",
       "        text-align: right;\n",
       "    }\n",
       "</style>\n",
       "<table border=\"1\" class=\"dataframe\">\n",
       "  <thead>\n",
       "    <tr style=\"text-align: right;\">\n",
       "      <th></th>\n",
       "      <th>ser</th>\n",
       "    </tr>\n",
       "  </thead>\n",
       "  <tbody>\n",
       "    <tr>\n",
       "      <th>a</th>\n",
       "      <td>0</td>\n",
       "    </tr>\n",
       "    <tr>\n",
       "      <th>b</th>\n",
       "      <td>1</td>\n",
       "    </tr>\n",
       "    <tr>\n",
       "      <th>c</th>\n",
       "      <td>2</td>\n",
       "    </tr>\n",
       "  </tbody>\n",
       "</table>\n",
       "</div>"
      ],
      "text/plain": [
       "   ser\n",
       "a    0\n",
       "b    1\n",
       "c    2"
      ]
     },
     "execution_count": 19,
     "metadata": {},
     "output_type": "execute_result"
    }
   ],
   "source": [
    "s = pd.Series(range(3), index=list(\"abc\"), name=\"ser\")\n",
    "df5 = pd.DataFrame(s)\n",
    "df5"
   ]
  },
  {
   "cell_type": "markdown",
   "id": "de0c782b-3a79-4d90-8c3e-0142f3e4c772",
   "metadata": {},
   "source": [
    "#### A partir dunha lista de *namedtuples*\n",
    "Os nomes dos campos da primeira tupla da lista determinan as columnas do **DataFrame**."
   ]
  },
  {
   "cell_type": "code",
   "execution_count": 21,
   "id": "86f38693-53ad-4ab2-a6dc-94480e887b07",
   "metadata": {},
   "outputs": [
    {
     "data": {
      "text/html": [
       "<div>\n",
       "<style scoped>\n",
       "    .dataframe tbody tr th:only-of-type {\n",
       "        vertical-align: middle;\n",
       "    }\n",
       "\n",
       "    .dataframe tbody tr th {\n",
       "        vertical-align: top;\n",
       "    }\n",
       "\n",
       "    .dataframe thead th {\n",
       "        text-align: right;\n",
       "    }\n",
       "</style>\n",
       "<table border=\"1\" class=\"dataframe\">\n",
       "  <thead>\n",
       "    <tr style=\"text-align: right;\">\n",
       "      <th></th>\n",
       "      <th>x</th>\n",
       "      <th>y</th>\n",
       "    </tr>\n",
       "  </thead>\n",
       "  <tbody>\n",
       "    <tr>\n",
       "      <th>0</th>\n",
       "      <td>0</td>\n",
       "      <td>0</td>\n",
       "    </tr>\n",
       "    <tr>\n",
       "      <th>1</th>\n",
       "      <td>0</td>\n",
       "      <td>3</td>\n",
       "    </tr>\n",
       "    <tr>\n",
       "      <th>2</th>\n",
       "      <td>2</td>\n",
       "      <td>3</td>\n",
       "    </tr>\n",
       "  </tbody>\n",
       "</table>\n",
       "</div>"
      ],
      "text/plain": [
       "   x  y\n",
       "0  0  0\n",
       "1  0  3\n",
       "2  2  3"
      ]
     },
     "execution_count": 21,
     "metadata": {},
     "output_type": "execute_result"
    }
   ],
   "source": [
    "from collections import namedtuple\n",
    "\n",
    "Point = namedtuple(\"Point\", \"x y\")\n",
    "\n",
    "df6 = pd.DataFrame([Point(0, 0), Point(0, 3), (2, 3)])\n",
    "df6"
   ]
  },
  {
   "cell_type": "markdown",
   "id": "0b41b7a1-a453-47bc-a5aa-b2c40d6001f8",
   "metadata": {},
   "source": [
    "#### A partir dunha lista de *dataclasses*\n",
    "Semellante a pasar unha lista de dicionarios."
   ]
  },
  {
   "cell_type": "code",
   "execution_count": 23,
   "id": "09d7c318-d591-4443-99cb-6a3f56d610ea",
   "metadata": {},
   "outputs": [
    {
     "data": {
      "text/html": [
       "<div>\n",
       "<style scoped>\n",
       "    .dataframe tbody tr th:only-of-type {\n",
       "        vertical-align: middle;\n",
       "    }\n",
       "\n",
       "    .dataframe tbody tr th {\n",
       "        vertical-align: top;\n",
       "    }\n",
       "\n",
       "    .dataframe thead th {\n",
       "        text-align: right;\n",
       "    }\n",
       "</style>\n",
       "<table border=\"1\" class=\"dataframe\">\n",
       "  <thead>\n",
       "    <tr style=\"text-align: right;\">\n",
       "      <th></th>\n",
       "      <th>x</th>\n",
       "      <th>y</th>\n",
       "    </tr>\n",
       "  </thead>\n",
       "  <tbody>\n",
       "    <tr>\n",
       "      <th>0</th>\n",
       "      <td>0</td>\n",
       "      <td>0</td>\n",
       "    </tr>\n",
       "    <tr>\n",
       "      <th>1</th>\n",
       "      <td>0</td>\n",
       "      <td>3</td>\n",
       "    </tr>\n",
       "    <tr>\n",
       "      <th>2</th>\n",
       "      <td>2</td>\n",
       "      <td>3</td>\n",
       "    </tr>\n",
       "  </tbody>\n",
       "</table>\n",
       "</div>"
      ],
      "text/plain": [
       "   x  y\n",
       "0  0  0\n",
       "1  0  3\n",
       "2  2  3"
      ]
     },
     "execution_count": 23,
     "metadata": {},
     "output_type": "execute_result"
    }
   ],
   "source": [
    "from dataclasses import make_dataclass\n",
    "\n",
    "Point = make_dataclass(\"Point\", [(\"x\", int), (\"y\", int)])\n",
    "\n",
    "df7 = pd.DataFrame([Point(0, 0), Point(0, 3), Point(2, 3)])\n",
    "df7"
   ]
  },
  {
   "cell_type": "markdown",
   "id": "b39deeed",
   "metadata": {},
   "source": [
    "**Series** a partir dunha lista (pandas crea un `RangeIndex` por defecto):"
   ]
  },
  {
   "cell_type": "code",
   "execution_count": 2,
   "id": "c8ccf72d",
   "metadata": {},
   "outputs": [
    {
     "data": {
      "text/plain": [
       "0    1.0\n",
       "1    3.0\n",
       "2    5.0\n",
       "3    NaN\n",
       "4    6.0\n",
       "5    8.0\n",
       "dtype: float64"
      ]
     },
     "execution_count": 2,
     "metadata": {},
     "output_type": "execute_result"
    }
   ],
   "source": [
    "s = pd.Series([1, 3, 5, np.nan, 6, 8])\n",
    "s"
   ]
  },
  {
   "cell_type": "markdown",
   "id": "5fc40822-c26a-4b9f-b2b4-acf719ac283a",
   "metadata": {},
   "source": [
    "#### Construtores alternativos\n",
    "- `DataFrame.from_dict()`: crea un DF a partir dun dicionario de dicionarios ou dun dicionario de arrays."
   ]
  },
  {
   "cell_type": "code",
   "execution_count": 24,
   "id": "452113c8-87fd-4c31-b110-7ecb00042aab",
   "metadata": {},
   "outputs": [
    {
     "data": {
      "text/html": [
       "<div>\n",
       "<style scoped>\n",
       "    .dataframe tbody tr th:only-of-type {\n",
       "        vertical-align: middle;\n",
       "    }\n",
       "\n",
       "    .dataframe tbody tr th {\n",
       "        vertical-align: top;\n",
       "    }\n",
       "\n",
       "    .dataframe thead th {\n",
       "        text-align: right;\n",
       "    }\n",
       "</style>\n",
       "<table border=\"1\" class=\"dataframe\">\n",
       "  <thead>\n",
       "    <tr style=\"text-align: right;\">\n",
       "      <th></th>\n",
       "      <th>A</th>\n",
       "      <th>B</th>\n",
       "    </tr>\n",
       "  </thead>\n",
       "  <tbody>\n",
       "    <tr>\n",
       "      <th>0</th>\n",
       "      <td>1</td>\n",
       "      <td>4</td>\n",
       "    </tr>\n",
       "    <tr>\n",
       "      <th>1</th>\n",
       "      <td>2</td>\n",
       "      <td>5</td>\n",
       "    </tr>\n",
       "    <tr>\n",
       "      <th>2</th>\n",
       "      <td>3</td>\n",
       "      <td>6</td>\n",
       "    </tr>\n",
       "  </tbody>\n",
       "</table>\n",
       "</div>"
      ],
      "text/plain": [
       "   A  B\n",
       "0  1  4\n",
       "1  2  5\n",
       "2  3  6"
      ]
     },
     "execution_count": 24,
     "metadata": {},
     "output_type": "execute_result"
    }
   ],
   "source": [
    "df8 = pd.DataFrame.from_dict(dict([(\"A\", [1, 2, 3]), (\"B\", [4, 5, 6])]))\n",
    "df8"
   ]
  },
  {
   "cell_type": "markdown",
   "id": "b12aac32-c13d-4da4-920e-7a53c7b22208",
   "metadata": {},
   "source": [
    "- `DataFrame.from_records`"
   ]
  },
  {
   "cell_type": "code",
   "execution_count": 3,
   "id": "0e53eccd-b19f-4ac0-a385-30892be6f59d",
   "metadata": {},
   "outputs": [
    {
     "data": {
      "text/html": [
       "<div>\n",
       "<style scoped>\n",
       "    .dataframe tbody tr th:only-of-type {\n",
       "        vertical-align: middle;\n",
       "    }\n",
       "\n",
       "    .dataframe tbody tr th {\n",
       "        vertical-align: top;\n",
       "    }\n",
       "\n",
       "    .dataframe thead th {\n",
       "        text-align: right;\n",
       "    }\n",
       "</style>\n",
       "<table border=\"1\" class=\"dataframe\">\n",
       "  <thead>\n",
       "    <tr style=\"text-align: right;\">\n",
       "      <th></th>\n",
       "      <th>A</th>\n",
       "      <th>B</th>\n",
       "    </tr>\n",
       "    <tr>\n",
       "      <th>C</th>\n",
       "      <th></th>\n",
       "      <th></th>\n",
       "    </tr>\n",
       "  </thead>\n",
       "  <tbody>\n",
       "    <tr>\n",
       "      <th>b'Hello'</th>\n",
       "      <td>1</td>\n",
       "      <td>2.0</td>\n",
       "    </tr>\n",
       "    <tr>\n",
       "      <th>b'World'</th>\n",
       "      <td>2</td>\n",
       "      <td>3.0</td>\n",
       "    </tr>\n",
       "  </tbody>\n",
       "</table>\n",
       "</div>"
      ],
      "text/plain": [
       "          A    B\n",
       "C               \n",
       "b'Hello'  1  2.0\n",
       "b'World'  2  3.0"
      ]
     },
     "execution_count": 3,
     "metadata": {},
     "output_type": "execute_result"
    }
   ],
   "source": [
    "data = np.array(\n",
    "    [(1, 2., b'Hello'), (2, 3., b'World')],\n",
    "    dtype=[('A', '<i4'), ('B', '<f4'), ('C', 'S10')]\n",
    ")\n",
    "\n",
    "df9 = pd.DataFrame.from_records(data, index=\"C\")\n",
    "df9\n"
   ]
  },
  {
   "cell_type": "markdown",
   "id": "e7ccadd3-2055-451e-a327-72292632fc15",
   "metadata": {},
   "source": [
    "#### Operacións con columnas\n",
    "| Operación                           | Sintaxe         | Resultado   |\n",
    "|-------------------------------------|-----------------|-------------|\n",
    "| Seleccionar unha columna            | `df[col]`       | Series      |\n",
    "| Seleccionar unha fila por etiqueta  | `df.loc[label]` | Series      |\n",
    "| Seleccionar unha fila por posición  | `df.iloc[loc]`  | Series      |\n",
    "| Fatiar filas                        | `df[5:10]`      | DataFrame   |\n",
    "| Seleccionar filas cun vector lóxico | `df[bool_vec]`  | DataFrame   |\n"
   ]
  },
  {
   "cell_type": "code",
   "execution_count": 5,
   "id": "31238430-4f75-45c0-8f04-62b9dd2ec545",
   "metadata": {},
   "outputs": [
    {
     "data": {
      "text/plain": [
       "0    1\n",
       "1    2\n",
       "2    3\n",
       "3    4\n",
       "Name: un, dtype: int64"
      ]
     },
     "metadata": {},
     "output_type": "display_data"
    }
   ],
   "source": [
    "# Exemplos:\n",
    "# Seleccionar unha columna:\n",
    "display(df[\"un\"])"
   ]
  },
  {
   "cell_type": "markdown",
   "id": "0cefb652",
   "metadata": {},
   "source": [
    "## 2. Visualización rápida de datos\n",
    "Imos empregar os seguintes DataFrames para exemplificar as diferentes operacións:\n"
   ]
  },
  {
   "cell_type": "code",
   "execution_count": 6,
   "id": "d3509590-55f9-48cd-869d-58f602e00757",
   "metadata": {},
   "outputs": [
    {
     "name": "stdout",
     "output_type": "stream",
     "text": [
      "df:\n"
     ]
    },
    {
     "data": {
      "text/html": [
       "<div>\n",
       "<style scoped>\n",
       "    .dataframe tbody tr th:only-of-type {\n",
       "        vertical-align: middle;\n",
       "    }\n",
       "\n",
       "    .dataframe tbody tr th {\n",
       "        vertical-align: top;\n",
       "    }\n",
       "\n",
       "    .dataframe thead th {\n",
       "        text-align: right;\n",
       "    }\n",
       "</style>\n",
       "<table border=\"1\" class=\"dataframe\">\n",
       "  <thead>\n",
       "    <tr style=\"text-align: right;\">\n",
       "      <th></th>\n",
       "      <th>A</th>\n",
       "      <th>B</th>\n",
       "      <th>C</th>\n",
       "      <th>D</th>\n",
       "    </tr>\n",
       "  </thead>\n",
       "  <tbody>\n",
       "    <tr>\n",
       "      <th>2013-01-01</th>\n",
       "      <td>-1.552774</td>\n",
       "      <td>0.307371</td>\n",
       "      <td>-0.114671</td>\n",
       "      <td>-0.406623</td>\n",
       "    </tr>\n",
       "    <tr>\n",
       "      <th>2013-01-02</th>\n",
       "      <td>-0.167043</td>\n",
       "      <td>-0.878004</td>\n",
       "      <td>0.312697</td>\n",
       "      <td>-1.119811</td>\n",
       "    </tr>\n",
       "    <tr>\n",
       "      <th>2013-01-03</th>\n",
       "      <td>0.447901</td>\n",
       "      <td>-1.177936</td>\n",
       "      <td>-0.747903</td>\n",
       "      <td>-0.517672</td>\n",
       "    </tr>\n",
       "    <tr>\n",
       "      <th>2013-01-04</th>\n",
       "      <td>2.014769</td>\n",
       "      <td>1.471520</td>\n",
       "      <td>-3.926166</td>\n",
       "      <td>-0.864319</td>\n",
       "    </tr>\n",
       "    <tr>\n",
       "      <th>2013-01-05</th>\n",
       "      <td>-0.279355</td>\n",
       "      <td>0.948285</td>\n",
       "      <td>-0.909921</td>\n",
       "      <td>0.357762</td>\n",
       "    </tr>\n",
       "    <tr>\n",
       "      <th>2013-01-06</th>\n",
       "      <td>0.600544</td>\n",
       "      <td>-2.327438</td>\n",
       "      <td>-0.567549</td>\n",
       "      <td>-0.693234</td>\n",
       "    </tr>\n",
       "  </tbody>\n",
       "</table>\n",
       "</div>"
      ],
      "text/plain": [
       "                   A         B         C         D\n",
       "2013-01-01 -1.552774  0.307371 -0.114671 -0.406623\n",
       "2013-01-02 -0.167043 -0.878004  0.312697 -1.119811\n",
       "2013-01-03  0.447901 -1.177936 -0.747903 -0.517672\n",
       "2013-01-04  2.014769  1.471520 -3.926166 -0.864319\n",
       "2013-01-05 -0.279355  0.948285 -0.909921  0.357762\n",
       "2013-01-06  0.600544 -2.327438 -0.567549 -0.693234"
      ]
     },
     "metadata": {},
     "output_type": "display_data"
    },
    {
     "name": "stdout",
     "output_type": "stream",
     "text": [
      "df2:\n"
     ]
    },
    {
     "data": {
      "text/html": [
       "<div>\n",
       "<style scoped>\n",
       "    .dataframe tbody tr th:only-of-type {\n",
       "        vertical-align: middle;\n",
       "    }\n",
       "\n",
       "    .dataframe tbody tr th {\n",
       "        vertical-align: top;\n",
       "    }\n",
       "\n",
       "    .dataframe thead th {\n",
       "        text-align: right;\n",
       "    }\n",
       "</style>\n",
       "<table border=\"1\" class=\"dataframe\">\n",
       "  <thead>\n",
       "    <tr style=\"text-align: right;\">\n",
       "      <th></th>\n",
       "      <th>A</th>\n",
       "      <th>B</th>\n",
       "      <th>C</th>\n",
       "      <th>D</th>\n",
       "      <th>E</th>\n",
       "      <th>F</th>\n",
       "    </tr>\n",
       "  </thead>\n",
       "  <tbody>\n",
       "    <tr>\n",
       "      <th>0</th>\n",
       "      <td>1.0</td>\n",
       "      <td>2013-01-02</td>\n",
       "      <td>1.0</td>\n",
       "      <td>3</td>\n",
       "      <td>test</td>\n",
       "      <td>foo</td>\n",
       "    </tr>\n",
       "    <tr>\n",
       "      <th>1</th>\n",
       "      <td>1.0</td>\n",
       "      <td>2013-01-02</td>\n",
       "      <td>1.0</td>\n",
       "      <td>3</td>\n",
       "      <td>train</td>\n",
       "      <td>foo</td>\n",
       "    </tr>\n",
       "    <tr>\n",
       "      <th>2</th>\n",
       "      <td>1.0</td>\n",
       "      <td>2013-01-02</td>\n",
       "      <td>1.0</td>\n",
       "      <td>3</td>\n",
       "      <td>test</td>\n",
       "      <td>foo</td>\n",
       "    </tr>\n",
       "    <tr>\n",
       "      <th>3</th>\n",
       "      <td>1.0</td>\n",
       "      <td>2013-01-02</td>\n",
       "      <td>1.0</td>\n",
       "      <td>3</td>\n",
       "      <td>none</td>\n",
       "      <td>foo</td>\n",
       "    </tr>\n",
       "  </tbody>\n",
       "</table>\n",
       "</div>"
      ],
      "text/plain": [
       "     A          B    C  D      E    F\n",
       "0  1.0 2013-01-02  1.0  3   test  foo\n",
       "1  1.0 2013-01-02  1.0  3  train  foo\n",
       "2  1.0 2013-01-02  1.0  3   test  foo\n",
       "3  1.0 2013-01-02  1.0  3   none  foo"
      ]
     },
     "metadata": {},
     "output_type": "display_data"
    }
   ],
   "source": [
    "dates = pd.date_range(\"20130101\", periods=6)\n",
    "df = pd.DataFrame(np.random.randn(6, 4), index=dates, columns=list(\"ABCD\"))\n",
    "print (\"df:\")\n",
    "display(df)\n",
    "df2 = pd.DataFrame(\n",
    "    {\n",
    "        \"A\": 1.0,\n",
    "        \"B\": pd.Timestamp(\"20130102\"),\n",
    "        \"C\": pd.Series(1, index=list(range(4)), dtype=\"float32\"),\n",
    "        \"D\": np.array([3] * 4, dtype=\"int32\"),\n",
    "        \"E\": pd.Categorical([\"test\", \"train\", \"test\", \"none\"]),\n",
    "        \"F\": \"foo\",\n",
    "    }\n",
    ")\n",
    "print (\"df2:\")\n",
    "display(df2)\n"
   ]
  },
  {
   "cell_type": "markdown",
   "id": "04124df3",
   "metadata": {},
   "source": [
    "Exemplos: "
   ]
  },
  {
   "cell_type": "code",
   "execution_count": 24,
   "id": "730348d5",
   "metadata": {},
   "outputs": [
    {
     "data": {
      "text/plain": [
       "A          float64\n",
       "B    datetime64[s]\n",
       "C          float32\n",
       "D            int32\n",
       "E         category\n",
       "F           object\n",
       "dtype: object"
      ]
     },
     "execution_count": 24,
     "metadata": {},
     "output_type": "execute_result"
    }
   ],
   "source": [
    "# Tipos das columnas\n",
    "df2.dtypes"
   ]
  },
  {
   "cell_type": "code",
   "execution_count": 8,
   "id": "e03ad131",
   "metadata": {},
   "outputs": [
    {
     "data": {
      "text/html": [
       "<div>\n",
       "<style scoped>\n",
       "    .dataframe tbody tr th:only-of-type {\n",
       "        vertical-align: middle;\n",
       "    }\n",
       "\n",
       "    .dataframe tbody tr th {\n",
       "        vertical-align: top;\n",
       "    }\n",
       "\n",
       "    .dataframe thead th {\n",
       "        text-align: right;\n",
       "    }\n",
       "</style>\n",
       "<table border=\"1\" class=\"dataframe\">\n",
       "  <thead>\n",
       "    <tr style=\"text-align: right;\">\n",
       "      <th></th>\n",
       "      <th>un</th>\n",
       "      <th>dous</th>\n",
       "    </tr>\n",
       "  </thead>\n",
       "  <tbody>\n",
       "    <tr>\n",
       "      <th>0</th>\n",
       "      <td>1</td>\n",
       "      <td>6.0</td>\n",
       "    </tr>\n",
       "    <tr>\n",
       "      <th>1</th>\n",
       "      <td>2</td>\n",
       "      <td>7.0</td>\n",
       "    </tr>\n",
       "    <tr>\n",
       "      <th>2</th>\n",
       "      <td>3</td>\n",
       "      <td>8.0</td>\n",
       "    </tr>\n",
       "    <tr>\n",
       "      <th>3</th>\n",
       "      <td>4</td>\n",
       "      <td>9.0</td>\n",
       "    </tr>\n",
       "  </tbody>\n",
       "</table>\n",
       "</div>"
      ],
      "text/plain": [
       "   un  dous\n",
       "0   1   6.0\n",
       "1   2   7.0\n",
       "2   3   8.0\n",
       "3   4   9.0"
      ]
     },
     "execution_count": 8,
     "metadata": {},
     "output_type": "execute_result"
    }
   ],
   "source": [
    "# Primeiras filas\n",
    "df.head()  "
   ]
  },
  {
   "cell_type": "code",
   "execution_count": null,
   "id": "7e74d4d8",
   "metadata": {},
   "outputs": [],
   "source": [
    "# últimas 3 filas\n",
    "df.tail(3)  "
   ]
  },
  {
   "cell_type": "code",
   "execution_count": 9,
   "id": "482517ad",
   "metadata": {},
   "outputs": [
    {
     "data": {
      "text/plain": [
       "RangeIndex(start=0, stop=4, step=1)"
      ]
     },
     "execution_count": 9,
     "metadata": {},
     "output_type": "execute_result"
    }
   ],
   "source": [
    "# Índice:\n",
    "df.index "
   ]
  },
  {
   "cell_type": "code",
   "execution_count": 25,
   "id": "f71540ea",
   "metadata": {},
   "outputs": [
    {
     "data": {
      "text/plain": [
       "Index(['A', 'B', 'C', 'D'], dtype='object')"
      ]
     },
     "execution_count": 25,
     "metadata": {},
     "output_type": "execute_result"
    }
   ],
   "source": [
    "# columnas\n",
    "df.columns  "
   ]
  },
  {
   "cell_type": "code",
   "execution_count": 7,
   "id": "bc2402f1",
   "metadata": {},
   "outputs": [
    {
     "data": {
      "text/plain": [
       "array([[-1.55277351,  0.30737124, -0.11467132, -0.40662299],\n",
       "       [-0.16704305, -0.87800387,  0.31269667, -1.11981149],\n",
       "       [ 0.44790137, -1.17793642, -0.74790332, -0.51767162],\n",
       "       [ 2.01476927,  1.47152013, -3.92616643, -0.86431907],\n",
       "       [-0.27935495,  0.94828477, -0.90992106,  0.35776234],\n",
       "       [ 0.60054357, -2.32743769, -0.56754871, -0.69323402]])"
      ]
     },
     "execution_count": 7,
     "metadata": {},
     "output_type": "execute_result"
    }
   ],
   "source": [
    "# Representación como matriz de NumPy (sen etiquetas de filas/columnas):\n",
    "df.to_numpy()"
   ]
  },
  {
   "cell_type": "markdown",
   "id": "71f663bb",
   "metadata": {},
   "source": [
    "> ℹ️ **Nota**: os arrays de NumPy teñen **un único dtype** para todo o array; nos DataFrames cada columna pode ter un dtype distinto."
   ]
  },
  {
   "cell_type": "code",
   "execution_count": 8,
   "id": "8bbbe565",
   "metadata": {},
   "outputs": [
    {
     "data": {
      "text/plain": [
       "array([[1.0, Timestamp('2013-01-02 00:00:00'), 1.0, 3, 'test', 'foo'],\n",
       "       [1.0, Timestamp('2013-01-02 00:00:00'), 1.0, 3, 'train', 'foo'],\n",
       "       [1.0, Timestamp('2013-01-02 00:00:00'), 1.0, 3, 'test', 'foo'],\n",
       "       [1.0, Timestamp('2013-01-02 00:00:00'), 1.0, 3, 'none', 'foo']],\n",
       "      dtype=object)"
      ]
     },
     "execution_count": 8,
     "metadata": {},
     "output_type": "execute_result"
    }
   ],
   "source": [
    "df2.to_numpy()"
   ]
  },
  {
   "cell_type": "code",
   "execution_count": 9,
   "id": "9e25da9d",
   "metadata": {},
   "outputs": [
    {
     "data": {
      "text/html": [
       "<div>\n",
       "<style scoped>\n",
       "    .dataframe tbody tr th:only-of-type {\n",
       "        vertical-align: middle;\n",
       "    }\n",
       "\n",
       "    .dataframe tbody tr th {\n",
       "        vertical-align: top;\n",
       "    }\n",
       "\n",
       "    .dataframe thead th {\n",
       "        text-align: right;\n",
       "    }\n",
       "</style>\n",
       "<table border=\"1\" class=\"dataframe\">\n",
       "  <thead>\n",
       "    <tr style=\"text-align: right;\">\n",
       "      <th></th>\n",
       "      <th>A</th>\n",
       "      <th>B</th>\n",
       "      <th>C</th>\n",
       "      <th>D</th>\n",
       "    </tr>\n",
       "  </thead>\n",
       "  <tbody>\n",
       "    <tr>\n",
       "      <th>count</th>\n",
       "      <td>6.000000</td>\n",
       "      <td>6.000000</td>\n",
       "      <td>6.000000</td>\n",
       "      <td>6.000000</td>\n",
       "    </tr>\n",
       "    <tr>\n",
       "      <th>mean</th>\n",
       "      <td>0.177340</td>\n",
       "      <td>-0.276034</td>\n",
       "      <td>-0.992252</td>\n",
       "      <td>-0.540649</td>\n",
       "    </tr>\n",
       "    <tr>\n",
       "      <th>std</th>\n",
       "      <td>1.178890</td>\n",
       "      <td>1.433689</td>\n",
       "      <td>1.505174</td>\n",
       "      <td>0.507761</td>\n",
       "    </tr>\n",
       "    <tr>\n",
       "      <th>min</th>\n",
       "      <td>-1.552774</td>\n",
       "      <td>-2.327438</td>\n",
       "      <td>-3.926166</td>\n",
       "      <td>-1.119811</td>\n",
       "    </tr>\n",
       "    <tr>\n",
       "      <th>25%</th>\n",
       "      <td>-0.251277</td>\n",
       "      <td>-1.102953</td>\n",
       "      <td>-0.869417</td>\n",
       "      <td>-0.821548</td>\n",
       "    </tr>\n",
       "    <tr>\n",
       "      <th>50%</th>\n",
       "      <td>0.140429</td>\n",
       "      <td>-0.285316</td>\n",
       "      <td>-0.657726</td>\n",
       "      <td>-0.605453</td>\n",
       "    </tr>\n",
       "    <tr>\n",
       "      <th>75%</th>\n",
       "      <td>0.562383</td>\n",
       "      <td>0.788056</td>\n",
       "      <td>-0.227891</td>\n",
       "      <td>-0.434385</td>\n",
       "    </tr>\n",
       "    <tr>\n",
       "      <th>max</th>\n",
       "      <td>2.014769</td>\n",
       "      <td>1.471520</td>\n",
       "      <td>0.312697</td>\n",
       "      <td>0.357762</td>\n",
       "    </tr>\n",
       "  </tbody>\n",
       "</table>\n",
       "</div>"
      ],
      "text/plain": [
       "              A         B         C         D\n",
       "count  6.000000  6.000000  6.000000  6.000000\n",
       "mean   0.177340 -0.276034 -0.992252 -0.540649\n",
       "std    1.178890  1.433689  1.505174  0.507761\n",
       "min   -1.552774 -2.327438 -3.926166 -1.119811\n",
       "25%   -0.251277 -1.102953 -0.869417 -0.821548\n",
       "50%    0.140429 -0.285316 -0.657726 -0.605453\n",
       "75%    0.562383  0.788056 -0.227891 -0.434385\n",
       "max    2.014769  1.471520  0.312697  0.357762"
      ]
     },
     "execution_count": 9,
     "metadata": {},
     "output_type": "execute_result"
    }
   ],
   "source": [
    "# Resumo estatístico rápido:\n",
    "df.describe()"
   ]
  },
  {
   "cell_type": "code",
   "execution_count": 10,
   "id": "bdbb570b",
   "metadata": {},
   "outputs": [
    {
     "data": {
      "text/html": [
       "<div>\n",
       "<style scoped>\n",
       "    .dataframe tbody tr th:only-of-type {\n",
       "        vertical-align: middle;\n",
       "    }\n",
       "\n",
       "    .dataframe tbody tr th {\n",
       "        vertical-align: top;\n",
       "    }\n",
       "\n",
       "    .dataframe thead th {\n",
       "        text-align: right;\n",
       "    }\n",
       "</style>\n",
       "<table border=\"1\" class=\"dataframe\">\n",
       "  <thead>\n",
       "    <tr style=\"text-align: right;\">\n",
       "      <th></th>\n",
       "      <th>2013-01-01</th>\n",
       "      <th>2013-01-02</th>\n",
       "      <th>2013-01-03</th>\n",
       "      <th>2013-01-04</th>\n",
       "      <th>2013-01-05</th>\n",
       "      <th>2013-01-06</th>\n",
       "    </tr>\n",
       "  </thead>\n",
       "  <tbody>\n",
       "    <tr>\n",
       "      <th>A</th>\n",
       "      <td>-1.552774</td>\n",
       "      <td>-0.167043</td>\n",
       "      <td>0.447901</td>\n",
       "      <td>2.014769</td>\n",
       "      <td>-0.279355</td>\n",
       "      <td>0.600544</td>\n",
       "    </tr>\n",
       "    <tr>\n",
       "      <th>B</th>\n",
       "      <td>0.307371</td>\n",
       "      <td>-0.878004</td>\n",
       "      <td>-1.177936</td>\n",
       "      <td>1.471520</td>\n",
       "      <td>0.948285</td>\n",
       "      <td>-2.327438</td>\n",
       "    </tr>\n",
       "    <tr>\n",
       "      <th>C</th>\n",
       "      <td>-0.114671</td>\n",
       "      <td>0.312697</td>\n",
       "      <td>-0.747903</td>\n",
       "      <td>-3.926166</td>\n",
       "      <td>-0.909921</td>\n",
       "      <td>-0.567549</td>\n",
       "    </tr>\n",
       "    <tr>\n",
       "      <th>D</th>\n",
       "      <td>-0.406623</td>\n",
       "      <td>-1.119811</td>\n",
       "      <td>-0.517672</td>\n",
       "      <td>-0.864319</td>\n",
       "      <td>0.357762</td>\n",
       "      <td>-0.693234</td>\n",
       "    </tr>\n",
       "  </tbody>\n",
       "</table>\n",
       "</div>"
      ],
      "text/plain": [
       "   2013-01-01  2013-01-02  2013-01-03  2013-01-04  2013-01-05  2013-01-06\n",
       "A   -1.552774   -0.167043    0.447901    2.014769   -0.279355    0.600544\n",
       "B    0.307371   -0.878004   -1.177936    1.471520    0.948285   -2.327438\n",
       "C   -0.114671    0.312697   -0.747903   -3.926166   -0.909921   -0.567549\n",
       "D   -0.406623   -1.119811   -0.517672   -0.864319    0.357762   -0.693234"
      ]
     },
     "execution_count": 10,
     "metadata": {},
     "output_type": "execute_result"
    }
   ],
   "source": [
    "# Transpoñer a táboa:\n",
    "df.T"
   ]
  },
  {
   "cell_type": "code",
   "execution_count": 11,
   "id": "a4b0fbea",
   "metadata": {},
   "outputs": [
    {
     "data": {
      "text/html": [
       "<div>\n",
       "<style scoped>\n",
       "    .dataframe tbody tr th:only-of-type {\n",
       "        vertical-align: middle;\n",
       "    }\n",
       "\n",
       "    .dataframe tbody tr th {\n",
       "        vertical-align: top;\n",
       "    }\n",
       "\n",
       "    .dataframe thead th {\n",
       "        text-align: right;\n",
       "    }\n",
       "</style>\n",
       "<table border=\"1\" class=\"dataframe\">\n",
       "  <thead>\n",
       "    <tr style=\"text-align: right;\">\n",
       "      <th></th>\n",
       "      <th>D</th>\n",
       "      <th>C</th>\n",
       "      <th>B</th>\n",
       "      <th>A</th>\n",
       "    </tr>\n",
       "  </thead>\n",
       "  <tbody>\n",
       "    <tr>\n",
       "      <th>2013-01-01</th>\n",
       "      <td>-0.406623</td>\n",
       "      <td>-0.114671</td>\n",
       "      <td>0.307371</td>\n",
       "      <td>-1.552774</td>\n",
       "    </tr>\n",
       "    <tr>\n",
       "      <th>2013-01-02</th>\n",
       "      <td>-1.119811</td>\n",
       "      <td>0.312697</td>\n",
       "      <td>-0.878004</td>\n",
       "      <td>-0.167043</td>\n",
       "    </tr>\n",
       "    <tr>\n",
       "      <th>2013-01-03</th>\n",
       "      <td>-0.517672</td>\n",
       "      <td>-0.747903</td>\n",
       "      <td>-1.177936</td>\n",
       "      <td>0.447901</td>\n",
       "    </tr>\n",
       "    <tr>\n",
       "      <th>2013-01-04</th>\n",
       "      <td>-0.864319</td>\n",
       "      <td>-3.926166</td>\n",
       "      <td>1.471520</td>\n",
       "      <td>2.014769</td>\n",
       "    </tr>\n",
       "    <tr>\n",
       "      <th>2013-01-05</th>\n",
       "      <td>0.357762</td>\n",
       "      <td>-0.909921</td>\n",
       "      <td>0.948285</td>\n",
       "      <td>-0.279355</td>\n",
       "    </tr>\n",
       "    <tr>\n",
       "      <th>2013-01-06</th>\n",
       "      <td>-0.693234</td>\n",
       "      <td>-0.567549</td>\n",
       "      <td>-2.327438</td>\n",
       "      <td>0.600544</td>\n",
       "    </tr>\n",
       "  </tbody>\n",
       "</table>\n",
       "</div>"
      ],
      "text/plain": [
       "                   D         C         B         A\n",
       "2013-01-01 -0.406623 -0.114671  0.307371 -1.552774\n",
       "2013-01-02 -1.119811  0.312697 -0.878004 -0.167043\n",
       "2013-01-03 -0.517672 -0.747903 -1.177936  0.447901\n",
       "2013-01-04 -0.864319 -3.926166  1.471520  2.014769\n",
       "2013-01-05  0.357762 -0.909921  0.948285 -0.279355\n",
       "2013-01-06 -0.693234 -0.567549 -2.327438  0.600544"
      ]
     },
     "execution_count": 11,
     "metadata": {},
     "output_type": "execute_result"
    }
   ],
   "source": [
    "# Ordenar por eixes/valores:\n",
    "df.sort_index(axis=1, ascending=False)"
   ]
  },
  {
   "cell_type": "code",
   "execution_count": 12,
   "id": "0490498b",
   "metadata": {},
   "outputs": [
    {
     "data": {
      "text/html": [
       "<div>\n",
       "<style scoped>\n",
       "    .dataframe tbody tr th:only-of-type {\n",
       "        vertical-align: middle;\n",
       "    }\n",
       "\n",
       "    .dataframe tbody tr th {\n",
       "        vertical-align: top;\n",
       "    }\n",
       "\n",
       "    .dataframe thead th {\n",
       "        text-align: right;\n",
       "    }\n",
       "</style>\n",
       "<table border=\"1\" class=\"dataframe\">\n",
       "  <thead>\n",
       "    <tr style=\"text-align: right;\">\n",
       "      <th></th>\n",
       "      <th>A</th>\n",
       "      <th>B</th>\n",
       "      <th>C</th>\n",
       "      <th>D</th>\n",
       "    </tr>\n",
       "  </thead>\n",
       "  <tbody>\n",
       "    <tr>\n",
       "      <th>2013-01-06</th>\n",
       "      <td>0.600544</td>\n",
       "      <td>-2.327438</td>\n",
       "      <td>-0.567549</td>\n",
       "      <td>-0.693234</td>\n",
       "    </tr>\n",
       "    <tr>\n",
       "      <th>2013-01-03</th>\n",
       "      <td>0.447901</td>\n",
       "      <td>-1.177936</td>\n",
       "      <td>-0.747903</td>\n",
       "      <td>-0.517672</td>\n",
       "    </tr>\n",
       "    <tr>\n",
       "      <th>2013-01-02</th>\n",
       "      <td>-0.167043</td>\n",
       "      <td>-0.878004</td>\n",
       "      <td>0.312697</td>\n",
       "      <td>-1.119811</td>\n",
       "    </tr>\n",
       "    <tr>\n",
       "      <th>2013-01-01</th>\n",
       "      <td>-1.552774</td>\n",
       "      <td>0.307371</td>\n",
       "      <td>-0.114671</td>\n",
       "      <td>-0.406623</td>\n",
       "    </tr>\n",
       "    <tr>\n",
       "      <th>2013-01-05</th>\n",
       "      <td>-0.279355</td>\n",
       "      <td>0.948285</td>\n",
       "      <td>-0.909921</td>\n",
       "      <td>0.357762</td>\n",
       "    </tr>\n",
       "    <tr>\n",
       "      <th>2013-01-04</th>\n",
       "      <td>2.014769</td>\n",
       "      <td>1.471520</td>\n",
       "      <td>-3.926166</td>\n",
       "      <td>-0.864319</td>\n",
       "    </tr>\n",
       "  </tbody>\n",
       "</table>\n",
       "</div>"
      ],
      "text/plain": [
       "                   A         B         C         D\n",
       "2013-01-06  0.600544 -2.327438 -0.567549 -0.693234\n",
       "2013-01-03  0.447901 -1.177936 -0.747903 -0.517672\n",
       "2013-01-02 -0.167043 -0.878004  0.312697 -1.119811\n",
       "2013-01-01 -1.552774  0.307371 -0.114671 -0.406623\n",
       "2013-01-05 -0.279355  0.948285 -0.909921  0.357762\n",
       "2013-01-04  2.014769  1.471520 -3.926166 -0.864319"
      ]
     },
     "execution_count": 12,
     "metadata": {},
     "output_type": "execute_result"
    }
   ],
   "source": [
    "# Ordear por unha columna en concreto\n",
    "df.sort_values(by=\"B\")"
   ]
  },
  {
   "cell_type": "markdown",
   "id": "34627af9",
   "metadata": {},
   "source": [
    "## 3. Selección (*indexing*)\n",
    "\n",
    "Para código en produción, recomenda-se usar `loc`, `iloc`, `at`, `iat` (máis rápidos e claros).\n",
    "A sintaxe básica é a seguinte:\n",
    "```python\n",
    "df.loc[filas, columnas]\n",
    "df.iloc[filas, columna]\n",
    "```\n",
    "Onde:\n",
    "- O primeiro argumento -> filas\n",
    "- O segundo argumento -> columnas\n",
    "\n",
    "Pola súa banda `at` e `iat` funcionan de forma parecida pero só admiten unha fila e unha columna, xa que son unha versión optimizada para devolver un *escalar*.\n",
    "\n"
   ]
  },
  {
   "cell_type": "markdown",
   "id": "6f0a7ee4",
   "metadata": {},
   "source": [
    "### Selección mediante o operador `[]`\n",
    "O operador `[]` ten comportamentos diferentes en función do seu argumento:\n",
    "- Unha cadea de texto `\"A\"`: devolve a columna correspondente como *Series*.\n",
    "- Lista de cadeas `[\"A\",\"B\"]`: Devolve un *DataFrame* só con esas columnas.\n",
    "- *Slice* de enteiros `0:3`: Devolve as filas correspondentes.\n",
    "- Vector booleano `[True, False, False, True]`: Devolve as filas correspondentes a *True*."
   ]
  },
  {
   "cell_type": "code",
   "execution_count": 26,
   "id": "8e06ad53",
   "metadata": {},
   "outputs": [
    {
     "data": {
      "text/plain": [
       "2013-01-01    0.198529\n",
       "2013-01-02   -0.676725\n",
       "2013-01-03    0.249794\n",
       "2013-01-04    0.936736\n",
       "2013-01-05   -0.359879\n",
       "2013-01-06   -2.527784\n",
       "Freq: D, Name: A, dtype: float64"
      ]
     },
     "execution_count": 26,
     "metadata": {},
     "output_type": "execute_result"
    }
   ],
   "source": [
    "# Selección por etiqueta de columna. unha columna → Series\n",
    "df[\"A\"]          "
   ]
  },
  {
   "cell_type": "code",
   "execution_count": 38,
   "id": "40558d4c",
   "metadata": {},
   "outputs": [
    {
     "data": {
      "text/html": [
       "<div>\n",
       "<style scoped>\n",
       "    .dataframe tbody tr th:only-of-type {\n",
       "        vertical-align: middle;\n",
       "    }\n",
       "\n",
       "    .dataframe tbody tr th {\n",
       "        vertical-align: top;\n",
       "    }\n",
       "\n",
       "    .dataframe thead th {\n",
       "        text-align: right;\n",
       "    }\n",
       "</style>\n",
       "<table border=\"1\" class=\"dataframe\">\n",
       "  <thead>\n",
       "    <tr style=\"text-align: right;\">\n",
       "      <th></th>\n",
       "      <th>A</th>\n",
       "      <th>B</th>\n",
       "      <th>C</th>\n",
       "      <th>D</th>\n",
       "    </tr>\n",
       "  </thead>\n",
       "  <tbody>\n",
       "    <tr>\n",
       "      <th>2013-01-01</th>\n",
       "      <td>0.198529</td>\n",
       "      <td>-0.613499</td>\n",
       "      <td>0.865548</td>\n",
       "      <td>-2.311220</td>\n",
       "    </tr>\n",
       "    <tr>\n",
       "      <th>2013-01-02</th>\n",
       "      <td>-0.676725</td>\n",
       "      <td>0.528886</td>\n",
       "      <td>-1.325348</td>\n",
       "      <td>-0.075884</td>\n",
       "    </tr>\n",
       "    <tr>\n",
       "      <th>2013-01-03</th>\n",
       "      <td>0.249794</td>\n",
       "      <td>-1.156157</td>\n",
       "      <td>0.766323</td>\n",
       "      <td>0.449804</td>\n",
       "    </tr>\n",
       "  </tbody>\n",
       "</table>\n",
       "</div>"
      ],
      "text/plain": [
       "                   A         B         C         D\n",
       "2013-01-01  0.198529 -0.613499  0.865548 -2.311220\n",
       "2013-01-02 -0.676725  0.528886 -1.325348 -0.075884\n",
       "2013-01-03  0.249794 -1.156157  0.766323  0.449804"
      ]
     },
     "execution_count": 38,
     "metadata": {},
     "output_type": "execute_result"
    }
   ],
   "source": [
    "# Recortado por posición de filas. Xera un novo DataFrame que é un subconxunto do anterior.\n",
    "df[0:3]          "
   ]
  },
  {
   "cell_type": "code",
   "execution_count": 40,
   "id": "847bd48a",
   "metadata": {},
   "outputs": [
    {
     "data": {
      "text/html": [
       "<div>\n",
       "<style scoped>\n",
       "    .dataframe tbody tr th:only-of-type {\n",
       "        vertical-align: middle;\n",
       "    }\n",
       "\n",
       "    .dataframe tbody tr th {\n",
       "        vertical-align: top;\n",
       "    }\n",
       "\n",
       "    .dataframe thead th {\n",
       "        text-align: right;\n",
       "    }\n",
       "</style>\n",
       "<table border=\"1\" class=\"dataframe\">\n",
       "  <thead>\n",
       "    <tr style=\"text-align: right;\">\n",
       "      <th></th>\n",
       "      <th>A</th>\n",
       "      <th>B</th>\n",
       "      <th>C</th>\n",
       "      <th>D</th>\n",
       "    </tr>\n",
       "  </thead>\n",
       "  <tbody>\n",
       "    <tr>\n",
       "      <th>2013-01-02</th>\n",
       "      <td>-0.676725</td>\n",
       "      <td>0.528886</td>\n",
       "      <td>-1.325348</td>\n",
       "      <td>-0.075884</td>\n",
       "    </tr>\n",
       "    <tr>\n",
       "      <th>2013-01-03</th>\n",
       "      <td>0.249794</td>\n",
       "      <td>-1.156157</td>\n",
       "      <td>0.766323</td>\n",
       "      <td>0.449804</td>\n",
       "    </tr>\n",
       "    <tr>\n",
       "      <th>2013-01-04</th>\n",
       "      <td>0.936736</td>\n",
       "      <td>0.413997</td>\n",
       "      <td>-1.208743</td>\n",
       "      <td>-0.173091</td>\n",
       "    </tr>\n",
       "  </tbody>\n",
       "</table>\n",
       "</div>"
      ],
      "text/plain": [
       "                   A         B         C         D\n",
       "2013-01-02 -0.676725  0.528886 -1.325348 -0.075884\n",
       "2013-01-03  0.249794 -1.156157  0.766323  0.449804\n",
       "2013-01-04  0.936736  0.413997 -1.208743 -0.173091"
      ]
     },
     "execution_count": 40,
     "metadata": {},
     "output_type": "execute_result"
    }
   ],
   "source": [
    "# Recortado por etiqueta de fila. Xera un novo DataFrame que é un subconxunto do anterior.\n",
    "df[\"20130102\":\"20130104\"]  "
   ]
  },
  {
   "cell_type": "markdown",
   "id": "708be275",
   "metadata": {},
   "source": [
    "### Selección por **etiqueta**: `loc` / `at`"
   ]
  },
  {
   "cell_type": "code",
   "execution_count": 4,
   "id": "c002156e-fa93-4e20-a617-53485c8e32dc",
   "metadata": {},
   "outputs": [
    {
     "data": {
      "text/html": [
       "<div>\n",
       "<style scoped>\n",
       "    .dataframe tbody tr th:only-of-type {\n",
       "        vertical-align: middle;\n",
       "    }\n",
       "\n",
       "    .dataframe tbody tr th {\n",
       "        vertical-align: top;\n",
       "    }\n",
       "\n",
       "    .dataframe thead th {\n",
       "        text-align: right;\n",
       "    }\n",
       "</style>\n",
       "<table border=\"1\" class=\"dataframe\">\n",
       "  <thead>\n",
       "    <tr style=\"text-align: right;\">\n",
       "      <th></th>\n",
       "      <th>A</th>\n",
       "      <th>B</th>\n",
       "      <th>C</th>\n",
       "      <th>D</th>\n",
       "    </tr>\n",
       "  </thead>\n",
       "  <tbody>\n",
       "    <tr>\n",
       "      <th>2013-01-01</th>\n",
       "      <td>0.935814</td>\n",
       "      <td>-1.106669</td>\n",
       "      <td>1.082935</td>\n",
       "      <td>0.387564</td>\n",
       "    </tr>\n",
       "    <tr>\n",
       "      <th>2013-01-04</th>\n",
       "      <td>0.475739</td>\n",
       "      <td>-0.071542</td>\n",
       "      <td>0.734652</td>\n",
       "      <td>-1.560578</td>\n",
       "    </tr>\n",
       "    <tr>\n",
       "      <th>2013-01-06</th>\n",
       "      <td>-0.435495</td>\n",
       "      <td>0.565049</td>\n",
       "      <td>-0.451076</td>\n",
       "      <td>-1.271194</td>\n",
       "    </tr>\n",
       "  </tbody>\n",
       "</table>\n",
       "</div>"
      ],
      "text/plain": [
       "                   A         B         C         D\n",
       "2013-01-01  0.935814 -1.106669  1.082935  0.387564\n",
       "2013-01-04  0.475739 -0.071542  0.734652 -1.560578\n",
       "2013-01-06 -0.435495  0.565049 -0.451076 -1.271194"
      ]
     },
     "execution_count": 4,
     "metadata": {},
     "output_type": "execute_result"
    }
   ],
   "source": [
    "# Selección mediante vector booleano\n",
    "df[[True,False,False,True, False, True]]"
   ]
  },
  {
   "cell_type": "code",
   "execution_count": 6,
   "id": "f2b9ab09-126f-4f4f-b3fb-3acef52a9ceb",
   "metadata": {},
   "outputs": [
    {
     "data": {
      "text/html": [
       "<div>\n",
       "<style scoped>\n",
       "    .dataframe tbody tr th:only-of-type {\n",
       "        vertical-align: middle;\n",
       "    }\n",
       "\n",
       "    .dataframe tbody tr th {\n",
       "        vertical-align: top;\n",
       "    }\n",
       "\n",
       "    .dataframe thead th {\n",
       "        text-align: right;\n",
       "    }\n",
       "</style>\n",
       "<table border=\"1\" class=\"dataframe\">\n",
       "  <thead>\n",
       "    <tr style=\"text-align: right;\">\n",
       "      <th></th>\n",
       "      <th>A</th>\n",
       "      <th>B</th>\n",
       "      <th>C</th>\n",
       "      <th>D</th>\n",
       "    </tr>\n",
       "  </thead>\n",
       "  <tbody>\n",
       "    <tr>\n",
       "      <th>2013-01-01</th>\n",
       "      <td>0.935814</td>\n",
       "      <td>-1.106669</td>\n",
       "      <td>1.082935</td>\n",
       "      <td>0.387564</td>\n",
       "    </tr>\n",
       "    <tr>\n",
       "      <th>2013-01-02</th>\n",
       "      <td>0.002571</td>\n",
       "      <td>-0.610472</td>\n",
       "      <td>1.278957</td>\n",
       "      <td>2.823811</td>\n",
       "    </tr>\n",
       "    <tr>\n",
       "      <th>2013-01-03</th>\n",
       "      <td>-0.085514</td>\n",
       "      <td>-1.520154</td>\n",
       "      <td>-1.142194</td>\n",
       "      <td>-0.206655</td>\n",
       "    </tr>\n",
       "    <tr>\n",
       "      <th>2013-01-04</th>\n",
       "      <td>0.475739</td>\n",
       "      <td>-0.071542</td>\n",
       "      <td>0.734652</td>\n",
       "      <td>-1.560578</td>\n",
       "    </tr>\n",
       "    <tr>\n",
       "      <th>2013-01-05</th>\n",
       "      <td>-0.903796</td>\n",
       "      <td>-0.287035</td>\n",
       "      <td>-1.979621</td>\n",
       "      <td>0.498389</td>\n",
       "    </tr>\n",
       "    <tr>\n",
       "      <th>2013-01-06</th>\n",
       "      <td>-0.435495</td>\n",
       "      <td>0.565049</td>\n",
       "      <td>-0.451076</td>\n",
       "      <td>-1.271194</td>\n",
       "    </tr>\n",
       "  </tbody>\n",
       "</table>\n",
       "</div>"
      ],
      "text/plain": [
       "                   A         B         C         D\n",
       "2013-01-01  0.935814 -1.106669  1.082935  0.387564\n",
       "2013-01-02  0.002571 -0.610472  1.278957  2.823811\n",
       "2013-01-03 -0.085514 -1.520154 -1.142194 -0.206655\n",
       "2013-01-04  0.475739 -0.071542  0.734652 -1.560578\n",
       "2013-01-05 -0.903796 -0.287035 -1.979621  0.498389\n",
       "2013-01-06 -0.435495  0.565049 -0.451076 -1.271194"
      ]
     },
     "execution_count": 6,
     "metadata": {},
     "output_type": "execute_result"
    }
   ],
   "source": [
    "# Recordemos o noso df\n",
    "df"
   ]
  },
  {
   "cell_type": "code",
   "execution_count": 41,
   "id": "85e4c309",
   "metadata": {},
   "outputs": [
    {
     "name": "stdout",
     "output_type": "stream",
     "text": [
      "2013-01-01 00:00:00\n"
     ]
    },
    {
     "data": {
      "text/plain": [
       "A    0.198529\n",
       "B   -0.613499\n",
       "C    0.865548\n",
       "D   -2.311220\n",
       "Name: 2013-01-01 00:00:00, dtype: float64"
      ]
     },
     "execution_count": 41,
     "metadata": {},
     "output_type": "execute_result"
    }
   ],
   "source": [
    "# Seleccionar unha fila por etiqueta\n",
    "print (dates[0])\n",
    "df.loc[dates[0]]"
   ]
  },
  {
   "cell_type": "code",
   "execution_count": 31,
   "id": "0c99913d",
   "metadata": {},
   "outputs": [
    {
     "data": {
      "text/html": [
       "<div>\n",
       "<style scoped>\n",
       "    .dataframe tbody tr th:only-of-type {\n",
       "        vertical-align: middle;\n",
       "    }\n",
       "\n",
       "    .dataframe tbody tr th {\n",
       "        vertical-align: top;\n",
       "    }\n",
       "\n",
       "    .dataframe thead th {\n",
       "        text-align: right;\n",
       "    }\n",
       "</style>\n",
       "<table border=\"1\" class=\"dataframe\">\n",
       "  <thead>\n",
       "    <tr style=\"text-align: right;\">\n",
       "      <th></th>\n",
       "      <th>A</th>\n",
       "      <th>B</th>\n",
       "    </tr>\n",
       "  </thead>\n",
       "  <tbody>\n",
       "    <tr>\n",
       "      <th>2013-01-01</th>\n",
       "      <td>0.198529</td>\n",
       "      <td>-0.613499</td>\n",
       "    </tr>\n",
       "    <tr>\n",
       "      <th>2013-01-02</th>\n",
       "      <td>-0.676725</td>\n",
       "      <td>0.528886</td>\n",
       "    </tr>\n",
       "    <tr>\n",
       "      <th>2013-01-03</th>\n",
       "      <td>0.249794</td>\n",
       "      <td>-1.156157</td>\n",
       "    </tr>\n",
       "    <tr>\n",
       "      <th>2013-01-04</th>\n",
       "      <td>0.936736</td>\n",
       "      <td>0.413997</td>\n",
       "    </tr>\n",
       "    <tr>\n",
       "      <th>2013-01-05</th>\n",
       "      <td>-0.359879</td>\n",
       "      <td>-0.115182</td>\n",
       "    </tr>\n",
       "    <tr>\n",
       "      <th>2013-01-06</th>\n",
       "      <td>-2.527784</td>\n",
       "      <td>0.101102</td>\n",
       "    </tr>\n",
       "  </tbody>\n",
       "</table>\n",
       "</div>"
      ],
      "text/plain": [
       "                   A         B\n",
       "2013-01-01  0.198529 -0.613499\n",
       "2013-01-02 -0.676725  0.528886\n",
       "2013-01-03  0.249794 -1.156157\n",
       "2013-01-04  0.936736  0.413997\n",
       "2013-01-05 -0.359879 -0.115182\n",
       "2013-01-06 -2.527784  0.101102"
      ]
     },
     "execution_count": 31,
     "metadata": {},
     "output_type": "execute_result"
    }
   ],
   "source": [
    "# Seleccionar todas as filas con determinadas etiquetas de coluna:\n",
    "df.loc[:, [\"A\", \"B\"]]"
   ]
  },
  {
   "cell_type": "code",
   "execution_count": 32,
   "id": "57ca1c07",
   "metadata": {},
   "outputs": [
    {
     "data": {
      "text/html": [
       "<div>\n",
       "<style scoped>\n",
       "    .dataframe tbody tr th:only-of-type {\n",
       "        vertical-align: middle;\n",
       "    }\n",
       "\n",
       "    .dataframe tbody tr th {\n",
       "        vertical-align: top;\n",
       "    }\n",
       "\n",
       "    .dataframe thead th {\n",
       "        text-align: right;\n",
       "    }\n",
       "</style>\n",
       "<table border=\"1\" class=\"dataframe\">\n",
       "  <thead>\n",
       "    <tr style=\"text-align: right;\">\n",
       "      <th></th>\n",
       "      <th>A</th>\n",
       "      <th>B</th>\n",
       "    </tr>\n",
       "  </thead>\n",
       "  <tbody>\n",
       "    <tr>\n",
       "      <th>2013-01-02</th>\n",
       "      <td>-0.676725</td>\n",
       "      <td>0.528886</td>\n",
       "    </tr>\n",
       "    <tr>\n",
       "      <th>2013-01-03</th>\n",
       "      <td>0.249794</td>\n",
       "      <td>-1.156157</td>\n",
       "    </tr>\n",
       "    <tr>\n",
       "      <th>2013-01-04</th>\n",
       "      <td>0.936736</td>\n",
       "      <td>0.413997</td>\n",
       "    </tr>\n",
       "  </tbody>\n",
       "</table>\n",
       "</div>"
      ],
      "text/plain": [
       "                   A         B\n",
       "2013-01-02 -0.676725  0.528886\n",
       "2013-01-03  0.249794 -1.156157\n",
       "2013-01-04  0.936736  0.413997"
      ]
     },
     "execution_count": 32,
     "metadata": {},
     "output_type": "execute_result"
    }
   ],
   "source": [
    "# Seleccionar varias columnas para unhas filas en concreto\n",
    "df.loc[\"20130102\":\"20130104\", [\"A\", \"B\"]]"
   ]
  },
  {
   "cell_type": "code",
   "execution_count": 33,
   "id": "ad1a9822",
   "metadata": {},
   "outputs": [
    {
     "data": {
      "text/plain": [
       "0.19852877566111138"
      ]
     },
     "execution_count": 33,
     "metadata": {},
     "output_type": "execute_result"
    }
   ],
   "source": [
    "# Selecionar unha fila e unha columna en concreto -> Devolve un escalar.\n",
    "df.loc[dates[0], \"A\"]"
   ]
  },
  {
   "cell_type": "code",
   "execution_count": 34,
   "id": "6fba724d",
   "metadata": {},
   "outputs": [
    {
     "data": {
      "text/plain": [
       "0.19852877566111138"
      ]
     },
     "execution_count": 34,
     "metadata": {},
     "output_type": "execute_result"
    }
   ],
   "source": [
    "# Función optimizada para acceso a escalares\n",
    "df.at[dates[0], \"A\"]  "
   ]
  },
  {
   "cell_type": "markdown",
   "id": "992b54c9",
   "metadata": {},
   "source": [
    "### Selección por **posición**: `iloc` / `iat`"
   ]
  },
  {
   "cell_type": "code",
   "execution_count": 7,
   "id": "bf2ef7ff",
   "metadata": {},
   "outputs": [
    {
     "data": {
      "text/plain": [
       "A    0.475739\n",
       "B   -0.071542\n",
       "C    0.734652\n",
       "D   -1.560578\n",
       "Name: 2013-01-04 00:00:00, dtype: float64"
      ]
     },
     "execution_count": 7,
     "metadata": {},
     "output_type": "execute_result"
    }
   ],
   "source": [
    "# Selecionamos a fila situada na posición 3 (empezando en 0)\n",
    "df.iloc[3]"
   ]
  },
  {
   "cell_type": "code",
   "execution_count": 9,
   "id": "9aaa3342",
   "metadata": {},
   "outputs": [
    {
     "data": {
      "text/html": [
       "<div>\n",
       "<style scoped>\n",
       "    .dataframe tbody tr th:only-of-type {\n",
       "        vertical-align: middle;\n",
       "    }\n",
       "\n",
       "    .dataframe tbody tr th {\n",
       "        vertical-align: top;\n",
       "    }\n",
       "\n",
       "    .dataframe thead th {\n",
       "        text-align: right;\n",
       "    }\n",
       "</style>\n",
       "<table border=\"1\" class=\"dataframe\">\n",
       "  <thead>\n",
       "    <tr style=\"text-align: right;\">\n",
       "      <th></th>\n",
       "      <th>A</th>\n",
       "      <th>B</th>\n",
       "    </tr>\n",
       "  </thead>\n",
       "  <tbody>\n",
       "    <tr>\n",
       "      <th>2013-01-04</th>\n",
       "      <td>0.475739</td>\n",
       "      <td>-0.071542</td>\n",
       "    </tr>\n",
       "    <tr>\n",
       "      <th>2013-01-05</th>\n",
       "      <td>-0.903796</td>\n",
       "      <td>-0.287035</td>\n",
       "    </tr>\n",
       "  </tbody>\n",
       "</table>\n",
       "</div>"
      ],
      "text/plain": [
       "                   A         B\n",
       "2013-01-04  0.475739 -0.071542\n",
       "2013-01-05 -0.903796 -0.287035"
      ]
     },
     "execution_count": 9,
     "metadata": {},
     "output_type": "execute_result"
    }
   ],
   "source": [
    "# Selección de rangos de filas e columnas. O primeiro rango representa as filas, o segundo as columnas. \n",
    "# O final dorango non se inclúe.\n",
    "df.iloc[3:5, 0:2]"
   ]
  },
  {
   "cell_type": "code",
   "execution_count": 10,
   "id": "aefa7e31",
   "metadata": {},
   "outputs": [
    {
     "data": {
      "text/html": [
       "<div>\n",
       "<style scoped>\n",
       "    .dataframe tbody tr th:only-of-type {\n",
       "        vertical-align: middle;\n",
       "    }\n",
       "\n",
       "    .dataframe tbody tr th {\n",
       "        vertical-align: top;\n",
       "    }\n",
       "\n",
       "    .dataframe thead th {\n",
       "        text-align: right;\n",
       "    }\n",
       "</style>\n",
       "<table border=\"1\" class=\"dataframe\">\n",
       "  <thead>\n",
       "    <tr style=\"text-align: right;\">\n",
       "      <th></th>\n",
       "      <th>A</th>\n",
       "      <th>C</th>\n",
       "    </tr>\n",
       "  </thead>\n",
       "  <tbody>\n",
       "    <tr>\n",
       "      <th>2013-01-02</th>\n",
       "      <td>0.002571</td>\n",
       "      <td>1.278957</td>\n",
       "    </tr>\n",
       "    <tr>\n",
       "      <th>2013-01-03</th>\n",
       "      <td>-0.085514</td>\n",
       "      <td>-1.142194</td>\n",
       "    </tr>\n",
       "    <tr>\n",
       "      <th>2013-01-05</th>\n",
       "      <td>-0.903796</td>\n",
       "      <td>-1.979621</td>\n",
       "    </tr>\n",
       "  </tbody>\n",
       "</table>\n",
       "</div>"
      ],
      "text/plain": [
       "                   A         C\n",
       "2013-01-02  0.002571  1.278957\n",
       "2013-01-03 -0.085514 -1.142194\n",
       "2013-01-05 -0.903796 -1.979621"
      ]
     },
     "execution_count": 10,
     "metadata": {},
     "output_type": "execute_result"
    }
   ],
   "source": [
    "# Selección de filas e clumnas por posicións concretas. O primeiro rango representa as filas, \n",
    "#o segundo as columnas.\n",
    "\n",
    "df.iloc[[1, 2, 4], [0, 2]]"
   ]
  },
  {
   "cell_type": "code",
   "execution_count": 11,
   "id": "4c9c9d22",
   "metadata": {},
   "outputs": [
    {
     "data": {
      "text/html": [
       "<div>\n",
       "<style scoped>\n",
       "    .dataframe tbody tr th:only-of-type {\n",
       "        vertical-align: middle;\n",
       "    }\n",
       "\n",
       "    .dataframe tbody tr th {\n",
       "        vertical-align: top;\n",
       "    }\n",
       "\n",
       "    .dataframe thead th {\n",
       "        text-align: right;\n",
       "    }\n",
       "</style>\n",
       "<table border=\"1\" class=\"dataframe\">\n",
       "  <thead>\n",
       "    <tr style=\"text-align: right;\">\n",
       "      <th></th>\n",
       "      <th>A</th>\n",
       "      <th>B</th>\n",
       "      <th>C</th>\n",
       "      <th>D</th>\n",
       "    </tr>\n",
       "  </thead>\n",
       "  <tbody>\n",
       "    <tr>\n",
       "      <th>2013-01-02</th>\n",
       "      <td>0.002571</td>\n",
       "      <td>-0.610472</td>\n",
       "      <td>1.278957</td>\n",
       "      <td>2.823811</td>\n",
       "    </tr>\n",
       "    <tr>\n",
       "      <th>2013-01-03</th>\n",
       "      <td>-0.085514</td>\n",
       "      <td>-1.520154</td>\n",
       "      <td>-1.142194</td>\n",
       "      <td>-0.206655</td>\n",
       "    </tr>\n",
       "  </tbody>\n",
       "</table>\n",
       "</div>"
      ],
      "text/plain": [
       "                   A         B         C         D\n",
       "2013-01-02  0.002571 -0.610472  1.278957  2.823811\n",
       "2013-01-03 -0.085514 -1.520154 -1.142194 -0.206655"
      ]
     },
     "execution_count": 11,
     "metadata": {},
     "output_type": "execute_result"
    }
   ],
   "source": [
    "# Selección de rango de filas. O operador \":\" actúa de comodín.\n",
    "df.iloc[1:3, :]"
   ]
  },
  {
   "cell_type": "code",
   "execution_count": null,
   "id": "e0dc29b0",
   "metadata": {},
   "outputs": [],
   "source": [
    "# Selección de rango de columnas. O operador \":\" actúa de comodín.\n",
    "df.iloc[:, 1:3]"
   ]
  },
  {
   "cell_type": "code",
   "execution_count": 12,
   "id": "4202d9fc",
   "metadata": {},
   "outputs": [
    {
     "data": {
      "text/plain": [
       "-0.6104715670370632"
      ]
     },
     "execution_count": 12,
     "metadata": {},
     "output_type": "execute_result"
    }
   ],
   "source": [
    "# Selección de fila e columnas concretas -> Devolve un escalar.\n",
    "df.iloc[1, 1]"
   ]
  },
  {
   "cell_type": "code",
   "execution_count": null,
   "id": "f5fff678",
   "metadata": {},
   "outputs": [],
   "source": [
    "# Equivalente á anterior. Optimizada para escalares.\n",
    "df.iat[1, 1]  # escalar rápido"
   ]
  },
  {
   "cell_type": "markdown",
   "id": "1dad94a2",
   "metadata": {},
   "source": [
    "## 4. Filtrado de datos por filas"
   ]
  },
  {
   "cell_type": "code",
   "execution_count": 14,
   "id": "ec0e79b8",
   "metadata": {},
   "outputs": [
    {
     "data": {
      "text/html": [
       "<div>\n",
       "<style scoped>\n",
       "    .dataframe tbody tr th:only-of-type {\n",
       "        vertical-align: middle;\n",
       "    }\n",
       "\n",
       "    .dataframe tbody tr th {\n",
       "        vertical-align: top;\n",
       "    }\n",
       "\n",
       "    .dataframe thead th {\n",
       "        text-align: right;\n",
       "    }\n",
       "</style>\n",
       "<table border=\"1\" class=\"dataframe\">\n",
       "  <thead>\n",
       "    <tr style=\"text-align: right;\">\n",
       "      <th></th>\n",
       "      <th>A</th>\n",
       "      <th>B</th>\n",
       "      <th>C</th>\n",
       "      <th>D</th>\n",
       "    </tr>\n",
       "  </thead>\n",
       "  <tbody>\n",
       "    <tr>\n",
       "      <th>2013-01-01</th>\n",
       "      <td>0.935814</td>\n",
       "      <td>-1.106669</td>\n",
       "      <td>1.082935</td>\n",
       "      <td>0.387564</td>\n",
       "    </tr>\n",
       "  </tbody>\n",
       "</table>\n",
       "</div>"
      ],
      "text/plain": [
       "                   A         B         C         D\n",
       "2013-01-01  0.935814 -1.106669  1.082935  0.387564"
      ]
     },
     "execution_count": 14,
     "metadata": {},
     "output_type": "execute_result"
    }
   ],
   "source": [
    "# Selección de filas nas que se cumple unha determinada condición para unha columna en concreto\n",
    "df[df[\"A\"] > 0.5]"
   ]
  },
  {
   "cell_type": "code",
   "execution_count": 15,
   "id": "94b05859",
   "metadata": {},
   "outputs": [
    {
     "data": {
      "text/html": [
       "<div>\n",
       "<style scoped>\n",
       "    .dataframe tbody tr th:only-of-type {\n",
       "        vertical-align: middle;\n",
       "    }\n",
       "\n",
       "    .dataframe tbody tr th {\n",
       "        vertical-align: top;\n",
       "    }\n",
       "\n",
       "    .dataframe thead th {\n",
       "        text-align: right;\n",
       "    }\n",
       "</style>\n",
       "<table border=\"1\" class=\"dataframe\">\n",
       "  <thead>\n",
       "    <tr style=\"text-align: right;\">\n",
       "      <th></th>\n",
       "      <th>A</th>\n",
       "      <th>B</th>\n",
       "      <th>C</th>\n",
       "      <th>D</th>\n",
       "    </tr>\n",
       "  </thead>\n",
       "  <tbody>\n",
       "    <tr>\n",
       "      <th>2013-01-01</th>\n",
       "      <td>0.935814</td>\n",
       "      <td>NaN</td>\n",
       "      <td>1.082935</td>\n",
       "      <td>0.387564</td>\n",
       "    </tr>\n",
       "    <tr>\n",
       "      <th>2013-01-02</th>\n",
       "      <td>0.002571</td>\n",
       "      <td>NaN</td>\n",
       "      <td>1.278957</td>\n",
       "      <td>2.823811</td>\n",
       "    </tr>\n",
       "    <tr>\n",
       "      <th>2013-01-03</th>\n",
       "      <td>NaN</td>\n",
       "      <td>NaN</td>\n",
       "      <td>NaN</td>\n",
       "      <td>NaN</td>\n",
       "    </tr>\n",
       "    <tr>\n",
       "      <th>2013-01-04</th>\n",
       "      <td>0.475739</td>\n",
       "      <td>NaN</td>\n",
       "      <td>0.734652</td>\n",
       "      <td>NaN</td>\n",
       "    </tr>\n",
       "    <tr>\n",
       "      <th>2013-01-05</th>\n",
       "      <td>NaN</td>\n",
       "      <td>NaN</td>\n",
       "      <td>NaN</td>\n",
       "      <td>0.498389</td>\n",
       "    </tr>\n",
       "    <tr>\n",
       "      <th>2013-01-06</th>\n",
       "      <td>NaN</td>\n",
       "      <td>0.565049</td>\n",
       "      <td>NaN</td>\n",
       "      <td>NaN</td>\n",
       "    </tr>\n",
       "  </tbody>\n",
       "</table>\n",
       "</div>"
      ],
      "text/plain": [
       "                   A         B         C         D\n",
       "2013-01-01  0.935814       NaN  1.082935  0.387564\n",
       "2013-01-02  0.002571       NaN  1.278957  2.823811\n",
       "2013-01-03       NaN       NaN       NaN       NaN\n",
       "2013-01-04  0.475739       NaN  0.734652       NaN\n",
       "2013-01-05       NaN       NaN       NaN  0.498389\n",
       "2013-01-06       NaN  0.565049       NaN       NaN"
      ]
     },
     "execution_count": 15,
     "metadata": {},
     "output_type": "execute_result"
    }
   ],
   "source": [
    "# Selección de valores do DataFrame que cumplen unha determinada condición. \n",
    "# O resto figuran como NaN\n",
    "df[df > 0]"
   ]
  },
  {
   "cell_type": "code",
   "execution_count": 19,
   "id": "17e3cf68",
   "metadata": {},
   "outputs": [
    {
     "data": {
      "text/html": [
       "<div>\n",
       "<style scoped>\n",
       "    .dataframe tbody tr th:only-of-type {\n",
       "        vertical-align: middle;\n",
       "    }\n",
       "\n",
       "    .dataframe tbody tr th {\n",
       "        vertical-align: top;\n",
       "    }\n",
       "\n",
       "    .dataframe thead th {\n",
       "        text-align: right;\n",
       "    }\n",
       "</style>\n",
       "<table border=\"1\" class=\"dataframe\">\n",
       "  <thead>\n",
       "    <tr style=\"text-align: right;\">\n",
       "      <th></th>\n",
       "      <th>A</th>\n",
       "      <th>B</th>\n",
       "      <th>C</th>\n",
       "      <th>D</th>\n",
       "      <th>E</th>\n",
       "      <th>F</th>\n",
       "    </tr>\n",
       "  </thead>\n",
       "  <tbody>\n",
       "    <tr>\n",
       "      <th>0</th>\n",
       "      <td>1.0</td>\n",
       "      <td>2013-01-02</td>\n",
       "      <td>1.0</td>\n",
       "      <td>3</td>\n",
       "      <td>test</td>\n",
       "      <td>foo</td>\n",
       "    </tr>\n",
       "    <tr>\n",
       "      <th>1</th>\n",
       "      <td>1.0</td>\n",
       "      <td>2013-01-02</td>\n",
       "      <td>1.0</td>\n",
       "      <td>3</td>\n",
       "      <td>train</td>\n",
       "      <td>foo</td>\n",
       "    </tr>\n",
       "    <tr>\n",
       "      <th>2</th>\n",
       "      <td>1.0</td>\n",
       "      <td>2013-01-02</td>\n",
       "      <td>1.0</td>\n",
       "      <td>3</td>\n",
       "      <td>test</td>\n",
       "      <td>foo</td>\n",
       "    </tr>\n",
       "  </tbody>\n",
       "</table>\n",
       "</div>"
      ],
      "text/plain": [
       "     A          B    C  D      E    F\n",
       "0  1.0 2013-01-02  1.0  3   test  foo\n",
       "1  1.0 2013-01-02  1.0  3  train  foo\n",
       "2  1.0 2013-01-02  1.0  3   test  foo"
      ]
     },
     "execution_count": 19,
     "metadata": {},
     "output_type": "execute_result"
    }
   ],
   "source": [
    "# A funcion isin permítenos facer \"match\" se o valor da celda coincide cun entre varios valores \n",
    "df2[df2[\"E\"].isin([\"test\",\"train\"]) ]"
   ]
  },
  {
   "cell_type": "markdown",
   "id": "d762447a",
   "metadata": {},
   "source": [
    "## 5. Modificación de valores (setting)"
   ]
  },
  {
   "cell_type": "code",
   "execution_count": 3,
   "id": "9e4d0343",
   "metadata": {},
   "outputs": [
    {
     "data": {
      "text/html": [
       "<div>\n",
       "<style scoped>\n",
       "    .dataframe tbody tr th:only-of-type {\n",
       "        vertical-align: middle;\n",
       "    }\n",
       "\n",
       "    .dataframe tbody tr th {\n",
       "        vertical-align: top;\n",
       "    }\n",
       "\n",
       "    .dataframe thead th {\n",
       "        text-align: right;\n",
       "    }\n",
       "</style>\n",
       "<table border=\"1\" class=\"dataframe\">\n",
       "  <thead>\n",
       "    <tr style=\"text-align: right;\">\n",
       "      <th></th>\n",
       "      <th>A</th>\n",
       "      <th>B</th>\n",
       "      <th>C</th>\n",
       "      <th>D</th>\n",
       "      <th>F</th>\n",
       "    </tr>\n",
       "  </thead>\n",
       "  <tbody>\n",
       "    <tr>\n",
       "      <th>2013-01-01</th>\n",
       "      <td>0.000000</td>\n",
       "      <td>0.000000</td>\n",
       "      <td>-0.746724</td>\n",
       "      <td>5.0</td>\n",
       "      <td>NaN</td>\n",
       "    </tr>\n",
       "    <tr>\n",
       "      <th>2013-01-02</th>\n",
       "      <td>-1.091865</td>\n",
       "      <td>0.218459</td>\n",
       "      <td>0.364683</td>\n",
       "      <td>5.0</td>\n",
       "      <td>1.0</td>\n",
       "    </tr>\n",
       "    <tr>\n",
       "      <th>2013-01-03</th>\n",
       "      <td>0.349689</td>\n",
       "      <td>0.269348</td>\n",
       "      <td>-1.340883</td>\n",
       "      <td>5.0</td>\n",
       "      <td>2.0</td>\n",
       "    </tr>\n",
       "    <tr>\n",
       "      <th>2013-01-04</th>\n",
       "      <td>-0.448750</td>\n",
       "      <td>-0.775242</td>\n",
       "      <td>0.072446</td>\n",
       "      <td>5.0</td>\n",
       "      <td>3.0</td>\n",
       "    </tr>\n",
       "    <tr>\n",
       "      <th>2013-01-05</th>\n",
       "      <td>-0.689677</td>\n",
       "      <td>-0.349035</td>\n",
       "      <td>-0.753628</td>\n",
       "      <td>5.0</td>\n",
       "      <td>4.0</td>\n",
       "    </tr>\n",
       "    <tr>\n",
       "      <th>2013-01-06</th>\n",
       "      <td>0.549844</td>\n",
       "      <td>-0.494400</td>\n",
       "      <td>-1.384073</td>\n",
       "      <td>5.0</td>\n",
       "      <td>5.0</td>\n",
       "    </tr>\n",
       "  </tbody>\n",
       "</table>\n",
       "</div>"
      ],
      "text/plain": [
       "                   A         B         C    D    F\n",
       "2013-01-01  0.000000  0.000000 -0.746724  5.0  NaN\n",
       "2013-01-02 -1.091865  0.218459  0.364683  5.0  1.0\n",
       "2013-01-03  0.349689  0.269348 -1.340883  5.0  2.0\n",
       "2013-01-04 -0.448750 -0.775242  0.072446  5.0  3.0\n",
       "2013-01-05 -0.689677 -0.349035 -0.753628  5.0  4.0\n",
       "2013-01-06  0.549844 -0.494400 -1.384073  5.0  5.0"
      ]
     },
     "execution_count": 3,
     "metadata": {},
     "output_type": "execute_result"
    }
   ],
   "source": [
    "# Asignar (engadir ou sobreescribir) unha Series a unha columna\n",
    "s1 = pd.Series([1,2,3,4,5,6], index=pd.date_range(\"2013-01-02\", periods=6))\n",
    "df[\"F\"] = s1\n",
    "# Asignar un valor escalar a unha cela en concreto por etiquetas.\n",
    "df.at[dates[0], \"A\"] = 0\n",
    "# Asignar un valor escalara unha cela en concreto por posicións.\n",
    "df.iat[0, 1] = 0\n",
    "# Asignar un array de numpy (neste caso, un co valor \"5\" en todas as posicións\n",
    "# e lonxitude igual á do DataFrame) a unha columna.\n",
    "df.loc[:, \"D\"] = np.array([5] * len(df))\n",
    "df"
   ]
  },
  {
   "cell_type": "code",
   "execution_count": 4,
   "id": "4ca6d62e",
   "metadata": {},
   "outputs": [
    {
     "data": {
      "text/html": [
       "<div>\n",
       "<style scoped>\n",
       "    .dataframe tbody tr th:only-of-type {\n",
       "        vertical-align: middle;\n",
       "    }\n",
       "\n",
       "    .dataframe tbody tr th {\n",
       "        vertical-align: top;\n",
       "    }\n",
       "\n",
       "    .dataframe thead th {\n",
       "        text-align: right;\n",
       "    }\n",
       "</style>\n",
       "<table border=\"1\" class=\"dataframe\">\n",
       "  <thead>\n",
       "    <tr style=\"text-align: right;\">\n",
       "      <th></th>\n",
       "      <th>A</th>\n",
       "      <th>B</th>\n",
       "      <th>C</th>\n",
       "      <th>D</th>\n",
       "      <th>F</th>\n",
       "    </tr>\n",
       "  </thead>\n",
       "  <tbody>\n",
       "    <tr>\n",
       "      <th>2013-01-01</th>\n",
       "      <td>0.000000</td>\n",
       "      <td>0.000000</td>\n",
       "      <td>-0.746724</td>\n",
       "      <td>-5.0</td>\n",
       "      <td>NaN</td>\n",
       "    </tr>\n",
       "    <tr>\n",
       "      <th>2013-01-02</th>\n",
       "      <td>-1.091865</td>\n",
       "      <td>-0.218459</td>\n",
       "      <td>-0.364683</td>\n",
       "      <td>-5.0</td>\n",
       "      <td>-1.0</td>\n",
       "    </tr>\n",
       "    <tr>\n",
       "      <th>2013-01-03</th>\n",
       "      <td>-0.349689</td>\n",
       "      <td>-0.269348</td>\n",
       "      <td>-1.340883</td>\n",
       "      <td>-5.0</td>\n",
       "      <td>-2.0</td>\n",
       "    </tr>\n",
       "    <tr>\n",
       "      <th>2013-01-04</th>\n",
       "      <td>-0.448750</td>\n",
       "      <td>-0.775242</td>\n",
       "      <td>-0.072446</td>\n",
       "      <td>-5.0</td>\n",
       "      <td>-3.0</td>\n",
       "    </tr>\n",
       "    <tr>\n",
       "      <th>2013-01-05</th>\n",
       "      <td>-0.689677</td>\n",
       "      <td>-0.349035</td>\n",
       "      <td>-0.753628</td>\n",
       "      <td>-5.0</td>\n",
       "      <td>-4.0</td>\n",
       "    </tr>\n",
       "    <tr>\n",
       "      <th>2013-01-06</th>\n",
       "      <td>-0.549844</td>\n",
       "      <td>-0.494400</td>\n",
       "      <td>-1.384073</td>\n",
       "      <td>-5.0</td>\n",
       "      <td>-5.0</td>\n",
       "    </tr>\n",
       "  </tbody>\n",
       "</table>\n",
       "</div>"
      ],
      "text/plain": [
       "                   A         B         C    D    F\n",
       "2013-01-01  0.000000  0.000000 -0.746724 -5.0  NaN\n",
       "2013-01-02 -1.091865 -0.218459 -0.364683 -5.0 -1.0\n",
       "2013-01-03 -0.349689 -0.269348 -1.340883 -5.0 -2.0\n",
       "2013-01-04 -0.448750 -0.775242 -0.072446 -5.0 -3.0\n",
       "2013-01-05 -0.689677 -0.349035 -0.753628 -5.0 -4.0\n",
       "2013-01-06 -0.549844 -0.494400 -1.384073 -5.0 -5.0"
      ]
     },
     "execution_count": 4,
     "metadata": {},
     "output_type": "execute_result"
    }
   ],
   "source": [
    "# Aplicar unha operación a todas as celas que cumplan unha condición.\n",
    "# Neste caso pasamos o valor a negativo para todas as celas con valores positivos.\n",
    "\n",
    "df2 = df.copy(); df2[df2 > 0] = -df2; df2"
   ]
  },
  {
   "cell_type": "markdown",
   "id": "af45b539",
   "metadata": {},
   "source": [
    "## 6. Tratamento de datos ausentes\n",
    "Para os tipos de datos de *NumPy*, *nnp.nan* representa os datos ausentes. Por defecto ignóranse á hora de facer cálculos.\n",
    "### reindexing \n",
    "Operación que permite cambiar a estrutura dun DataFrame aplicando un novo índice. Isto supón: \n",
    "- *reordenar* segundo o novo índice,\n",
    "- *engadir etiquetas novas* enchendo esas filas e columnas con *NaN*\n",
    "- *eliminando filas ou columnas con etiquetas* que non estean no novo índice."
   ]
  },
  {
   "cell_type": "code",
   "execution_count": 5,
   "id": "2fba2440",
   "metadata": {},
   "outputs": [
    {
     "data": {
      "text/html": [
       "<div>\n",
       "<style scoped>\n",
       "    .dataframe tbody tr th:only-of-type {\n",
       "        vertical-align: middle;\n",
       "    }\n",
       "\n",
       "    .dataframe tbody tr th {\n",
       "        vertical-align: top;\n",
       "    }\n",
       "\n",
       "    .dataframe thead th {\n",
       "        text-align: right;\n",
       "    }\n",
       "</style>\n",
       "<table border=\"1\" class=\"dataframe\">\n",
       "  <thead>\n",
       "    <tr style=\"text-align: right;\">\n",
       "      <th></th>\n",
       "      <th>A</th>\n",
       "      <th>B</th>\n",
       "      <th>C</th>\n",
       "      <th>D</th>\n",
       "      <th>E</th>\n",
       "    </tr>\n",
       "  </thead>\n",
       "  <tbody>\n",
       "    <tr>\n",
       "      <th>2013-01-01</th>\n",
       "      <td>-1.699910</td>\n",
       "      <td>1.567781</td>\n",
       "      <td>-0.463695</td>\n",
       "      <td>0.117894</td>\n",
       "      <td>1.0</td>\n",
       "    </tr>\n",
       "    <tr>\n",
       "      <th>2013-01-02</th>\n",
       "      <td>-0.547647</td>\n",
       "      <td>2.601384</td>\n",
       "      <td>0.294401</td>\n",
       "      <td>-0.302136</td>\n",
       "      <td>1.0</td>\n",
       "    </tr>\n",
       "    <tr>\n",
       "      <th>2013-01-03</th>\n",
       "      <td>-0.638611</td>\n",
       "      <td>-0.237857</td>\n",
       "      <td>0.010749</td>\n",
       "      <td>-0.729269</td>\n",
       "      <td>NaN</td>\n",
       "    </tr>\n",
       "    <tr>\n",
       "      <th>2013-01-04</th>\n",
       "      <td>1.013930</td>\n",
       "      <td>0.009305</td>\n",
       "      <td>0.079194</td>\n",
       "      <td>0.419951</td>\n",
       "      <td>NaN</td>\n",
       "    </tr>\n",
       "  </tbody>\n",
       "</table>\n",
       "</div>"
      ],
      "text/plain": [
       "                   A         B         C         D    E\n",
       "2013-01-01 -1.699910  1.567781 -0.463695  0.117894  1.0\n",
       "2013-01-02 -0.547647  2.601384  0.294401 -0.302136  1.0\n",
       "2013-01-03 -0.638611 -0.237857  0.010749 -0.729269  NaN\n",
       "2013-01-04  1.013930  0.009305  0.079194  0.419951  NaN"
      ]
     },
     "execution_count": 5,
     "metadata": {},
     "output_type": "execute_result"
    }
   ],
   "source": [
    "df1 = df.reindex(index=dates[0:4], columns=list(df.columns) + [\"E\"])\n",
    "df1.loc[dates[0]:dates[1], \"E\"] = 1\n",
    "df1"
   ]
  },
  {
   "cell_type": "markdown",
   "id": "ef21d300-a75d-43dd-b67a-a858e360ba1c",
   "metadata": {},
   "source": [
    "### dropna\n",
    "Operación que permite eliminar filas ou columnas que conteñan datos ausentes (*NaN*). Parámetros importantes:\n",
    "- `axis`: Indica que eliminar:\n",
    "  - `axis=0` (por defecto): elimina filas.\n",
    "  - `axis=1`: elimina columnas.\n",
    "- `how`: criterio de eliminación.\n",
    "  - `\"any\"` (por defecto): elimina se hai **polo menos un NaN**.\n",
    "  - `\"all\"`: elimina se **todos os valores son NaN**.\n",
    "- `tresh`: número mínimo de valores non nulos para manter a fila/columna.\n",
    "- `subset`: limitar a comprobación a certas columnas.\n",
    "- `implace`: Se é *True* modifica o DataFrame \"in situ\", se non crea unha copia"
   ]
  },
  {
   "cell_type": "code",
   "execution_count": null,
   "id": "90c5dab5",
   "metadata": {},
   "outputs": [],
   "source": [
    "# Eliminar todas as filas ou columnas que conteñan un valor NaN\n",
    "df1.dropna(how=\"any\")"
   ]
  },
  {
   "cell_type": "markdown",
   "id": "e13e1a18-0444-45d2-8cf0-04afc422de70",
   "metadata": {},
   "source": [
    "### fillna\n",
    "Permite substituir os valores `NaN`por un valor constante, un cálculo ou valores veciños.\n",
    "Algúns parámetros:\n",
    "- `value`: valor ou dicionario que empregamos para substituír.\n",
    "- `method` (deprecated): para cubrir propagando valores.\n",
    "  -  `ffill` (forward fill): copia o valor anterior cara abaixo (substituído por `df.ffill()`).\n",
    "  -  `bfill` (backward fill): copia o valor seguinte cara arriba (substituído por `df.bfill()`).\n",
    "- `axis`: determina se se aplic por filas (0) ou columnas (1).\n",
    "- `inplace`: se é *True* modifica o DataFrame \"in situ\", se non crea unha copia.\n",
    "- `limit`: número máximo de `NaN`a cubrir consecutivamente.\n"
   ]
  },
  {
   "cell_type": "code",
   "execution_count": 6,
   "id": "9640e5c1",
   "metadata": {},
   "outputs": [
    {
     "data": {
      "text/html": [
       "<div>\n",
       "<style scoped>\n",
       "    .dataframe tbody tr th:only-of-type {\n",
       "        vertical-align: middle;\n",
       "    }\n",
       "\n",
       "    .dataframe tbody tr th {\n",
       "        vertical-align: top;\n",
       "    }\n",
       "\n",
       "    .dataframe thead th {\n",
       "        text-align: right;\n",
       "    }\n",
       "</style>\n",
       "<table border=\"1\" class=\"dataframe\">\n",
       "  <thead>\n",
       "    <tr style=\"text-align: right;\">\n",
       "      <th></th>\n",
       "      <th>A</th>\n",
       "      <th>B</th>\n",
       "      <th>C</th>\n",
       "      <th>D</th>\n",
       "      <th>E</th>\n",
       "    </tr>\n",
       "  </thead>\n",
       "  <tbody>\n",
       "    <tr>\n",
       "      <th>2013-01-01</th>\n",
       "      <td>-1.699910</td>\n",
       "      <td>1.567781</td>\n",
       "      <td>-0.463695</td>\n",
       "      <td>0.117894</td>\n",
       "      <td>1.0</td>\n",
       "    </tr>\n",
       "    <tr>\n",
       "      <th>2013-01-02</th>\n",
       "      <td>-0.547647</td>\n",
       "      <td>2.601384</td>\n",
       "      <td>0.294401</td>\n",
       "      <td>-0.302136</td>\n",
       "      <td>1.0</td>\n",
       "    </tr>\n",
       "    <tr>\n",
       "      <th>2013-01-03</th>\n",
       "      <td>-0.638611</td>\n",
       "      <td>-0.237857</td>\n",
       "      <td>0.010749</td>\n",
       "      <td>-0.729269</td>\n",
       "      <td>5.0</td>\n",
       "    </tr>\n",
       "    <tr>\n",
       "      <th>2013-01-04</th>\n",
       "      <td>1.013930</td>\n",
       "      <td>0.009305</td>\n",
       "      <td>0.079194</td>\n",
       "      <td>0.419951</td>\n",
       "      <td>5.0</td>\n",
       "    </tr>\n",
       "  </tbody>\n",
       "</table>\n",
       "</div>"
      ],
      "text/plain": [
       "                   A         B         C         D    E\n",
       "2013-01-01 -1.699910  1.567781 -0.463695  0.117894  1.0\n",
       "2013-01-02 -0.547647  2.601384  0.294401 -0.302136  1.0\n",
       "2013-01-03 -0.638611 -0.237857  0.010749 -0.729269  5.0\n",
       "2013-01-04  1.013930  0.009305  0.079194  0.419951  5.0"
      ]
     },
     "execution_count": 6,
     "metadata": {},
     "output_type": "execute_result"
    }
   ],
   "source": [
    "# Substituír por un valor concreto\n",
    "df1.fillna(value=5)"
   ]
  },
  {
   "cell_type": "code",
   "execution_count": 13,
   "id": "6b532233-175a-41f1-8d7f-0349629366dd",
   "metadata": {},
   "outputs": [
    {
     "data": {
      "text/html": [
       "<div>\n",
       "<style scoped>\n",
       "    .dataframe tbody tr th:only-of-type {\n",
       "        vertical-align: middle;\n",
       "    }\n",
       "\n",
       "    .dataframe tbody tr th {\n",
       "        vertical-align: top;\n",
       "    }\n",
       "\n",
       "    .dataframe thead th {\n",
       "        text-align: right;\n",
       "    }\n",
       "</style>\n",
       "<table border=\"1\" class=\"dataframe\">\n",
       "  <thead>\n",
       "    <tr style=\"text-align: right;\">\n",
       "      <th></th>\n",
       "      <th>A</th>\n",
       "      <th>B</th>\n",
       "      <th>C</th>\n",
       "      <th>D</th>\n",
       "      <th>E</th>\n",
       "    </tr>\n",
       "  </thead>\n",
       "  <tbody>\n",
       "    <tr>\n",
       "      <th>2013-01-01</th>\n",
       "      <td>-1.699910</td>\n",
       "      <td>1.567781</td>\n",
       "      <td>-0.463695</td>\n",
       "      <td>0.117894</td>\n",
       "      <td>1.0</td>\n",
       "    </tr>\n",
       "    <tr>\n",
       "      <th>2013-01-02</th>\n",
       "      <td>-0.547647</td>\n",
       "      <td>2.601384</td>\n",
       "      <td>0.294401</td>\n",
       "      <td>-0.302136</td>\n",
       "      <td>1.0</td>\n",
       "    </tr>\n",
       "    <tr>\n",
       "      <th>2013-01-03</th>\n",
       "      <td>-0.638611</td>\n",
       "      <td>-0.237857</td>\n",
       "      <td>0.010749</td>\n",
       "      <td>-0.729269</td>\n",
       "      <td>2.0</td>\n",
       "    </tr>\n",
       "    <tr>\n",
       "      <th>2013-01-04</th>\n",
       "      <td>1.013930</td>\n",
       "      <td>0.009305</td>\n",
       "      <td>0.079194</td>\n",
       "      <td>0.419951</td>\n",
       "      <td>2.0</td>\n",
       "    </tr>\n",
       "  </tbody>\n",
       "</table>\n",
       "</div>"
      ],
      "text/plain": [
       "                   A         B         C         D    E\n",
       "2013-01-01 -1.699910  1.567781 -0.463695  0.117894  1.0\n",
       "2013-01-02 -0.547647  2.601384  0.294401 -0.302136  1.0\n",
       "2013-01-03 -0.638611 -0.237857  0.010749 -0.729269  2.0\n",
       "2013-01-04  1.013930  0.009305  0.079194  0.419951  2.0"
      ]
     },
     "execution_count": 13,
     "metadata": {},
     "output_type": "execute_result"
    }
   ],
   "source": [
    "# Substituir por columnas\n",
    "df1.fillna(value = 2, axis=1)"
   ]
  },
  {
   "cell_type": "code",
   "execution_count": 9,
   "id": "205c5849-3915-4680-946f-0dc9658723d1",
   "metadata": {},
   "outputs": [
    {
     "data": {
      "text/html": [
       "<div>\n",
       "<style scoped>\n",
       "    .dataframe tbody tr th:only-of-type {\n",
       "        vertical-align: middle;\n",
       "    }\n",
       "\n",
       "    .dataframe tbody tr th {\n",
       "        vertical-align: top;\n",
       "    }\n",
       "\n",
       "    .dataframe thead th {\n",
       "        text-align: right;\n",
       "    }\n",
       "</style>\n",
       "<table border=\"1\" class=\"dataframe\">\n",
       "  <thead>\n",
       "    <tr style=\"text-align: right;\">\n",
       "      <th></th>\n",
       "      <th>A</th>\n",
       "      <th>B</th>\n",
       "      <th>C</th>\n",
       "      <th>D</th>\n",
       "      <th>E</th>\n",
       "    </tr>\n",
       "  </thead>\n",
       "  <tbody>\n",
       "    <tr>\n",
       "      <th>2013-01-01</th>\n",
       "      <td>-1.699910</td>\n",
       "      <td>1.567781</td>\n",
       "      <td>-0.463695</td>\n",
       "      <td>0.117894</td>\n",
       "      <td>1.0</td>\n",
       "    </tr>\n",
       "    <tr>\n",
       "      <th>2013-01-02</th>\n",
       "      <td>-0.547647</td>\n",
       "      <td>2.601384</td>\n",
       "      <td>0.294401</td>\n",
       "      <td>-0.302136</td>\n",
       "      <td>1.0</td>\n",
       "    </tr>\n",
       "    <tr>\n",
       "      <th>2013-01-03</th>\n",
       "      <td>-0.638611</td>\n",
       "      <td>-0.237857</td>\n",
       "      <td>0.010749</td>\n",
       "      <td>-0.729269</td>\n",
       "      <td>1.0</td>\n",
       "    </tr>\n",
       "    <tr>\n",
       "      <th>2013-01-04</th>\n",
       "      <td>1.013930</td>\n",
       "      <td>0.009305</td>\n",
       "      <td>0.079194</td>\n",
       "      <td>0.419951</td>\n",
       "      <td>1.0</td>\n",
       "    </tr>\n",
       "  </tbody>\n",
       "</table>\n",
       "</div>"
      ],
      "text/plain": [
       "                   A         B         C         D    E\n",
       "2013-01-01 -1.699910  1.567781 -0.463695  0.117894  1.0\n",
       "2013-01-02 -0.547647  2.601384  0.294401 -0.302136  1.0\n",
       "2013-01-03 -0.638611 -0.237857  0.010749 -0.729269  1.0\n",
       "2013-01-04  1.013930  0.009305  0.079194  0.419951  1.0"
      ]
     },
     "execution_count": 9,
     "metadata": {},
     "output_type": "execute_result"
    }
   ],
   "source": [
    "# Substituir con propagación.\n",
    "df1.ffill()"
   ]
  },
  {
   "cell_type": "markdown",
   "id": "62d26b96-0a87-4130-bcd3-6783d4d41762",
   "metadata": {},
   "source": [
    "### isna \n",
    "Detecta valores ausentes. Devolve un *DataFrame* ou *Series* booleano coa mesma forma que o orixinal, onde:\n",
    "- `True`se o valor equivalente no DataFrame orixinal é nulo.\n",
    "- `False`en caso contrario"
   ]
  },
  {
   "cell_type": "code",
   "execution_count": 14,
   "id": "bcfce790",
   "metadata": {},
   "outputs": [
    {
     "data": {
      "text/html": [
       "<div>\n",
       "<style scoped>\n",
       "    .dataframe tbody tr th:only-of-type {\n",
       "        vertical-align: middle;\n",
       "    }\n",
       "\n",
       "    .dataframe tbody tr th {\n",
       "        vertical-align: top;\n",
       "    }\n",
       "\n",
       "    .dataframe thead th {\n",
       "        text-align: right;\n",
       "    }\n",
       "</style>\n",
       "<table border=\"1\" class=\"dataframe\">\n",
       "  <thead>\n",
       "    <tr style=\"text-align: right;\">\n",
       "      <th></th>\n",
       "      <th>A</th>\n",
       "      <th>B</th>\n",
       "      <th>C</th>\n",
       "      <th>D</th>\n",
       "      <th>E</th>\n",
       "    </tr>\n",
       "  </thead>\n",
       "  <tbody>\n",
       "    <tr>\n",
       "      <th>2013-01-01</th>\n",
       "      <td>False</td>\n",
       "      <td>False</td>\n",
       "      <td>False</td>\n",
       "      <td>False</td>\n",
       "      <td>False</td>\n",
       "    </tr>\n",
       "    <tr>\n",
       "      <th>2013-01-02</th>\n",
       "      <td>False</td>\n",
       "      <td>False</td>\n",
       "      <td>False</td>\n",
       "      <td>False</td>\n",
       "      <td>False</td>\n",
       "    </tr>\n",
       "    <tr>\n",
       "      <th>2013-01-03</th>\n",
       "      <td>False</td>\n",
       "      <td>False</td>\n",
       "      <td>False</td>\n",
       "      <td>False</td>\n",
       "      <td>True</td>\n",
       "    </tr>\n",
       "    <tr>\n",
       "      <th>2013-01-04</th>\n",
       "      <td>False</td>\n",
       "      <td>False</td>\n",
       "      <td>False</td>\n",
       "      <td>False</td>\n",
       "      <td>True</td>\n",
       "    </tr>\n",
       "  </tbody>\n",
       "</table>\n",
       "</div>"
      ],
      "text/plain": [
       "                A      B      C      D      E\n",
       "2013-01-01  False  False  False  False  False\n",
       "2013-01-02  False  False  False  False  False\n",
       "2013-01-03  False  False  False  False   True\n",
       "2013-01-04  False  False  False  False   True"
      ]
     },
     "execution_count": 14,
     "metadata": {},
     "output_type": "execute_result"
    }
   ],
   "source": [
    "pd.isna(df1)"
   ]
  },
  {
   "cell_type": "markdown",
   "id": "d322b7d4",
   "metadata": {},
   "source": [
    "## 7. Operacións \n",
    "### Estatísticas\n",
    "Estas son algunhas das principais operacións estatísticas:\n",
    "- `describe()`: Resumo de estatísticas básicas.\n",
    "- `mean()`: media aritmética.\n",
    "- `median()`: mediana (valor central).\n",
    "- `mode()`: moda (valores máis frecuentes).\n",
    "- `std()`: desviación estándar.\n",
    "- `var()`: varianza.\n",
    "- `min()`/`max()`: mínimo/máximo.\n",
    "- `quantile(q)`: percentís (exemplo, q=0.25 -> cuartil inferior).\n",
    "- `mad(d)`: desviación absoluta media.\n",
    "- `sum()`: suma dos valores.\n",
    "- `cumsum()`: suma acumulada.\n",
    "- `cumprod()`: produto acumulado.\n"
   ]
  },
  {
   "cell_type": "code",
   "execution_count": 15,
   "id": "0458a74f-65da-47dc-a671-910fad639686",
   "metadata": {},
   "outputs": [
    {
     "data": {
      "text/html": [
       "<div>\n",
       "<style scoped>\n",
       "    .dataframe tbody tr th:only-of-type {\n",
       "        vertical-align: middle;\n",
       "    }\n",
       "\n",
       "    .dataframe tbody tr th {\n",
       "        vertical-align: top;\n",
       "    }\n",
       "\n",
       "    .dataframe thead th {\n",
       "        text-align: right;\n",
       "    }\n",
       "</style>\n",
       "<table border=\"1\" class=\"dataframe\">\n",
       "  <thead>\n",
       "    <tr style=\"text-align: right;\">\n",
       "      <th></th>\n",
       "      <th>A</th>\n",
       "      <th>B</th>\n",
       "      <th>C</th>\n",
       "      <th>D</th>\n",
       "    </tr>\n",
       "  </thead>\n",
       "  <tbody>\n",
       "    <tr>\n",
       "      <th>count</th>\n",
       "      <td>6.000000</td>\n",
       "      <td>6.000000</td>\n",
       "      <td>6.000000</td>\n",
       "      <td>6.000000</td>\n",
       "    </tr>\n",
       "    <tr>\n",
       "      <th>mean</th>\n",
       "      <td>-0.368382</td>\n",
       "      <td>1.039050</td>\n",
       "      <td>-0.396533</td>\n",
       "      <td>-0.191088</td>\n",
       "    </tr>\n",
       "    <tr>\n",
       "      <th>std</th>\n",
       "      <td>1.163026</td>\n",
       "      <td>1.357428</td>\n",
       "      <td>0.634776</td>\n",
       "      <td>0.440522</td>\n",
       "    </tr>\n",
       "    <tr>\n",
       "      <th>min</th>\n",
       "      <td>-1.699910</td>\n",
       "      <td>-0.237857</td>\n",
       "      <td>-1.201927</td>\n",
       "      <td>-0.729269</td>\n",
       "    </tr>\n",
       "    <tr>\n",
       "      <th>25%</th>\n",
       "      <td>-1.188724</td>\n",
       "      <td>-0.168417</td>\n",
       "      <td>-0.939365</td>\n",
       "      <td>-0.534393</td>\n",
       "    </tr>\n",
       "    <tr>\n",
       "      <th>50%</th>\n",
       "      <td>-0.593129</td>\n",
       "      <td>0.788543</td>\n",
       "      <td>-0.226473</td>\n",
       "      <td>-0.171645</td>\n",
       "    </tr>\n",
       "    <tr>\n",
       "      <th>75%</th>\n",
       "      <td>0.623536</td>\n",
       "      <td>2.282953</td>\n",
       "      <td>0.062083</td>\n",
       "      <td>0.078132</td>\n",
       "    </tr>\n",
       "    <tr>\n",
       "      <th>max</th>\n",
       "      <td>1.034042</td>\n",
       "      <td>2.601384</td>\n",
       "      <td>0.294401</td>\n",
       "      <td>0.419951</td>\n",
       "    </tr>\n",
       "  </tbody>\n",
       "</table>\n",
       "</div>"
      ],
      "text/plain": [
       "              A         B         C         D\n",
       "count  6.000000  6.000000  6.000000  6.000000\n",
       "mean  -0.368382  1.039050 -0.396533 -0.191088\n",
       "std    1.163026  1.357428  0.634776  0.440522\n",
       "min   -1.699910 -0.237857 -1.201927 -0.729269\n",
       "25%   -1.188724 -0.168417 -0.939365 -0.534393\n",
       "50%   -0.593129  0.788543 -0.226473 -0.171645\n",
       "75%    0.623536  2.282953  0.062083  0.078132\n",
       "max    1.034042  2.601384  0.294401  0.419951"
      ]
     },
     "execution_count": 15,
     "metadata": {},
     "output_type": "execute_result"
    }
   ],
   "source": [
    "# Resumo xeral:\n",
    "df.describe()"
   ]
  },
  {
   "cell_type": "code",
   "execution_count": 16,
   "id": "d6dceb23",
   "metadata": {},
   "outputs": [
    {
     "data": {
      "text/plain": [
       "A   -0.368382\n",
       "B    1.039050\n",
       "C   -0.396533\n",
       "D   -0.191088\n",
       "dtype: float64"
      ]
     },
     "execution_count": 16,
     "metadata": {},
     "output_type": "execute_result"
    }
   ],
   "source": [
    "# Media por columna\n",
    "df.mean()         "
   ]
  },
  {
   "cell_type": "code",
   "execution_count": 17,
   "id": "a674bf4d",
   "metadata": {},
   "outputs": [
    {
     "data": {
      "text/plain": [
       "2013-01-01   -0.119483\n",
       "2013-01-02    0.511501\n",
       "2013-01-03   -0.398747\n",
       "2013-01-04    0.380595\n",
       "2013-01-05    0.578076\n",
       "2013-01-06   -0.827372\n",
       "Freq: D, dtype: float64"
      ]
     },
     "execution_count": 17,
     "metadata": {},
     "output_type": "execute_result"
    }
   ],
   "source": [
    "# Media por fila\n",
    "df.mean(axis=1)    "
   ]
  },
  {
   "cell_type": "code",
   "execution_count": 25,
   "id": "e51af406-29e9-4e17-b125-9b876bc5473b",
   "metadata": {},
   "outputs": [
    {
     "data": {
      "text/plain": [
       "-0.3987470398597568"
      ]
     },
     "execution_count": 25,
     "metadata": {},
     "output_type": "execute_result"
    }
   ],
   "source": [
    "# Media por fila para a fila en posición 2\n",
    "df.mean( axis=1).iloc[2]"
   ]
  },
  {
   "cell_type": "code",
   "execution_count": 28,
   "id": "453d9af1-e148-4233-b1dd-b9040e44c665",
   "metadata": {},
   "outputs": [
    {
     "name": "stdout",
     "output_type": "stream",
     "text": [
      "A    1.034042\n",
      "B    2.601384\n",
      "C    0.294401\n",
      "D    0.419951\n",
      "dtype: float64\n",
      "A   -1.699910\n",
      "B   -0.237857\n",
      "C   -1.201927\n",
      "D   -0.729269\n",
      "dtype: float64\n"
     ]
    }
   ],
   "source": [
    "# Máximo/mínimo\n",
    "print(df.max())\n",
    "print(df.min())\n"
   ]
  },
  {
   "cell_type": "markdown",
   "id": "b1197619-c5d2-4ccf-86da-dce83d3b8251",
   "metadata": {},
   "source": [
    "- `idxmin()`: índice do valor mínimo.\n",
    "- `idxmax()`: índice do valor máximo.\n",
    "- `rank()`: rango de cada elemento respecto ao resto."
   ]
  },
  {
   "cell_type": "markdown",
   "id": "ec703a18-410d-4b56-9208-4dfc242ee92f",
   "metadata": {},
   "source": [
    "### Funcións definidas polo usuario\n",
    "#### agg\n",
    "- Serve para reducir os datos dunha columna a un único valor.\n",
    "- Exemplo: media, suma, mínimo, máximo… ou unha función que ti definas.\n",
    "- O resultado adoita ser unha Serie, onde cada columna do DataFrame foi reducida a un só valor."
   ]
  },
  {
   "cell_type": "code",
   "execution_count": 29,
   "id": "129f2630",
   "metadata": {},
   "outputs": [
    {
     "data": {
      "text/plain": [
       "A   -2.062938\n",
       "B    5.818679\n",
       "C   -2.220587\n",
       "D   -1.070091\n",
       "dtype: float64"
      ]
     },
     "execution_count": 29,
     "metadata": {},
     "output_type": "execute_result"
    }
   ],
   "source": [
    "df.agg(lambda x: np.mean(x) * 5.6)"
   ]
  },
  {
   "cell_type": "markdown",
   "id": "452b86cd-5a78-4d29-844c-f20c0a4b05c5",
   "metadata": {},
   "source": [
    "#### transform\n",
    "- Server para transformar os datos mantendo a forma do `DataFrame` orixinal.\n",
    "- A función que pasas aplícase a cada elemento ou columna, pero o resultado ten que ter o mesmo tamaño que a entrada.\n",
    "- Útil cando se quere escalar, normalizar ou modificar todos os valores mantendo a estrutura."
   ]
  },
  {
   "cell_type": "code",
   "execution_count": null,
   "id": "0e97575a",
   "metadata": {},
   "outputs": [],
   "source": [
    "df.transform(lambda x: x * 101.2)"
   ]
  },
  {
   "cell_type": "markdown",
   "id": "53a6eaeb",
   "metadata": {},
   "source": [
    "### Conteos e métodos de cadea\n",
    "#### value_counts\n",
    "Conta as ocorrencias de cada valor nunha `Series`.\n",
    "Parámetros:\n",
    "- `normalize=True`: devolve proporcións en vez de conteos.\n",
    "- `sort=False`: mantén a orde orixinal dos valores.\n",
    "- `ascending=True`: Ordena de menor a maior.\n",
    "- `bins= ...`: Agrupa en intervalos.\n",
    "#### métodos de cadea\n",
    "`str`permite aplicar operacións de texto a cada elemento dunha `Series` sen necesidade de empregar bucles. Algúns métodos comúns:\n",
    "- `str.lower()`: convirte todas as cadeas a minúsculas.\n",
    "- `str.upper()`: convirte todas as cadeas a maiúsculas.\n",
    "- `str.tittle()`: formato título.\n",
    "- `str.replace(\"A\",\"B\")`: reemplaza todas as ocorrencias da cadea \"A\" por \"B\".\n",
    "- `str.strip()`: elimina espazos.\n",
    "- `str.split(\"a\")`: divide a cadea por cada ocorrencia da subcadea \"a\".\n",
    "- `str.get(pos)`: selecciona o caracter da posición `pos` (enteiro).\n",
    "- `str[pos1..pos2]`: slice de caracteres entre as dúas posicións (teñen que ser enteiros).\n",
    "- `str.isalpha()`: devolve `True` se contén exclusivamente caracteres alfabéticos.\n",
    "- `str.isNumeric()`: devolve `True` se contén exclusivamente caracteres numéricos.\n",
    "- `str.contains(\"subcadea\")`: Devolve `True`se contén a subcadea especificada (admite regexp)."
   ]
  },
  {
   "cell_type": "code",
   "execution_count": 31,
   "id": "b6e9b561",
   "metadata": {},
   "outputs": [
    {
     "data": {
      "text/plain": [
       "(0    0\n",
       " 1    4\n",
       " 2    4\n",
       " 3    3\n",
       " 4    5\n",
       " 5    6\n",
       " 6    1\n",
       " 7    5\n",
       " 8    2\n",
       " 9    1\n",
       " dtype: int64,\n",
       " 4    2\n",
       " 5    2\n",
       " 1    2\n",
       " 0    1\n",
       " 3    1\n",
       " 6    1\n",
       " 2    1\n",
       " Name: count, dtype: int64)"
      ]
     },
     "execution_count": 31,
     "metadata": {},
     "output_type": "execute_result"
    }
   ],
   "source": [
    "# Exemplo value_counts\n",
    "s = pd.Series(np.random.randint(0,7,size=10))\n",
    "s, s.value_counts()"
   ]
  },
  {
   "cell_type": "code",
   "execution_count": 35,
   "id": "161b7b12",
   "metadata": {},
   "outputs": [
    {
     "data": {
      "text/plain": [
       "0       a\n",
       "1       b\n",
       "2       c\n",
       "3    aaba\n",
       "4    baca\n",
       "5     NaN\n",
       "6    caba\n",
       "7     dog\n",
       "8     cat\n",
       "dtype: object"
      ]
     },
     "execution_count": 35,
     "metadata": {},
     "output_type": "execute_result"
    }
   ],
   "source": [
    "# Exemplo str: pasar a minúsculas\n",
    "s = pd.Series([\"A\",\"B\",\"C\",\"Aaba\",\"Baca\",np.nan,\"CABA\",\"dog\",\"cat\"]); s.str.lower()"
   ]
  },
  {
   "cell_type": "markdown",
   "id": "c64e21f6",
   "metadata": {},
   "source": [
    "## 8. Combinación de datos de varias táboas\n",
    "### Concatenación\n",
    "`concat` serve para xuntar obxectos (`Series` ou `DataFrames`) ao longo dun eixo (filas ou columnas).\n",
    "Parámetros:\n",
    "- `axis`: Permite seleccionar se se concatena por filas (por defecto, 0) ou por columnas.\n",
    "\n",
    "Na concatenación por columnas, se os índices non coinciden, `pandas` fai a unión polos índices (coma se fose unha chave), enchendo os ocos con `NaN`.\n"
   ]
  },
  {
   "cell_type": "code",
   "execution_count": 3,
   "id": "3f6b36bc",
   "metadata": {},
   "outputs": [
    {
     "name": "stdout",
     "output_type": "stream",
     "text": [
      "    A   B\n",
      "0  A0  B0\n",
      "1  A1  B1\n",
      "2  A2  B2\n",
      "0  A3  B3\n",
      "1  A4  B4\n",
      "2  A5  B5\n"
     ]
    }
   ],
   "source": [
    "# Concatenar por filas (apilar)\n",
    "df1 = pd.DataFrame({\"A\": [\"A0\", \"A1\", \"A2\"],\n",
    "                    \"B\": [\"B0\", \"B1\", \"B2\"]})\n",
    "\n",
    "df2 = pd.DataFrame({\"A\": [\"A3\", \"A4\", \"A5\"],\n",
    "                    \"B\": [\"B3\", \"B4\", \"B5\"]})\n",
    "\n",
    "\n",
    "res_filas = pd.concat([df1, df2], axis=0)\n",
    "print(res_filas)"
   ]
  },
  {
   "cell_type": "code",
   "execution_count": 4,
   "id": "d4b9e056-d93e-4f61-a490-2bd45df1b845",
   "metadata": {},
   "outputs": [
    {
     "name": "stdout",
     "output_type": "stream",
     "text": [
      "    C   D\n",
      "0  C0  D0\n",
      "1  C1  D1\n",
      "2  C2  D2\n"
     ]
    }
   ],
   "source": [
    "# Concatenar por columnas (lado a lado)\n",
    "df3 = pd.DataFrame({\"C\": [\"C0\", \"C1\", \"C2\"]})\n",
    "df4 = pd.DataFrame({\"D\": [\"D0\", \"D1\", \"D2\"]})\n",
    "\n",
    "\n",
    "res_columnas = pd.concat([df3, df4], axis=1)\n",
    "print(res_columnas)\n"
   ]
  },
  {
   "cell_type": "markdown",
   "id": "0ba4f93b-a4ce-4840-a6c9-7698b4c3f20a",
   "metadata": {},
   "source": [
    "### Join\n",
    "- `merge()` serve para facer combinacións entre dous `DataFrames`a partir dunha ou varias columnas clave.\n",
    "- É equivalente ás operacións `JOIN` en SQL: `INNER`, `LEFT`, `RIGHT`, `OUTER`.\n",
    "- A opción por defecto é `inner join`."
   ]
  },
  {
   "cell_type": "code",
   "execution_count": 5,
   "id": "d17c7da7",
   "metadata": {},
   "outputs": [
    {
     "data": {
      "text/html": [
       "<div>\n",
       "<style scoped>\n",
       "    .dataframe tbody tr th:only-of-type {\n",
       "        vertical-align: middle;\n",
       "    }\n",
       "\n",
       "    .dataframe tbody tr th {\n",
       "        vertical-align: top;\n",
       "    }\n",
       "\n",
       "    .dataframe thead th {\n",
       "        text-align: right;\n",
       "    }\n",
       "</style>\n",
       "<table border=\"1\" class=\"dataframe\">\n",
       "  <thead>\n",
       "    <tr style=\"text-align: right;\">\n",
       "      <th></th>\n",
       "      <th>key</th>\n",
       "      <th>lval</th>\n",
       "      <th>rval</th>\n",
       "    </tr>\n",
       "  </thead>\n",
       "  <tbody>\n",
       "    <tr>\n",
       "      <th>0</th>\n",
       "      <td>foo</td>\n",
       "      <td>1</td>\n",
       "      <td>4</td>\n",
       "    </tr>\n",
       "    <tr>\n",
       "      <th>1</th>\n",
       "      <td>foo</td>\n",
       "      <td>1</td>\n",
       "      <td>5</td>\n",
       "    </tr>\n",
       "    <tr>\n",
       "      <th>2</th>\n",
       "      <td>foo</td>\n",
       "      <td>2</td>\n",
       "      <td>4</td>\n",
       "    </tr>\n",
       "    <tr>\n",
       "      <th>3</th>\n",
       "      <td>foo</td>\n",
       "      <td>2</td>\n",
       "      <td>5</td>\n",
       "    </tr>\n",
       "  </tbody>\n",
       "</table>\n",
       "</div>"
      ],
      "text/plain": [
       "   key  lval  rval\n",
       "0  foo     1     4\n",
       "1  foo     1     5\n",
       "2  foo     2     4\n",
       "3  foo     2     5"
      ]
     },
     "execution_count": 5,
     "metadata": {},
     "output_type": "execute_result"
    }
   ],
   "source": [
    "left = pd.DataFrame({\"key\":[\"foo\",\"foo\"], \"lval\":[1,2]})\n",
    "right = pd.DataFrame({\"key\":[\"foo\",\"foo\"], \"rval\":[4,5]})\n",
    "pd.merge(left, right, on=\"key\")"
   ]
  },
  {
   "cell_type": "code",
   "execution_count": 6,
   "id": "e61ba251",
   "metadata": {},
   "outputs": [
    {
     "data": {
      "text/html": [
       "<div>\n",
       "<style scoped>\n",
       "    .dataframe tbody tr th:only-of-type {\n",
       "        vertical-align: middle;\n",
       "    }\n",
       "\n",
       "    .dataframe tbody tr th {\n",
       "        vertical-align: top;\n",
       "    }\n",
       "\n",
       "    .dataframe thead th {\n",
       "        text-align: right;\n",
       "    }\n",
       "</style>\n",
       "<table border=\"1\" class=\"dataframe\">\n",
       "  <thead>\n",
       "    <tr style=\"text-align: right;\">\n",
       "      <th></th>\n",
       "      <th>key</th>\n",
       "      <th>lval</th>\n",
       "      <th>rval</th>\n",
       "    </tr>\n",
       "  </thead>\n",
       "  <tbody>\n",
       "    <tr>\n",
       "      <th>0</th>\n",
       "      <td>foo</td>\n",
       "      <td>1</td>\n",
       "      <td>4</td>\n",
       "    </tr>\n",
       "    <tr>\n",
       "      <th>1</th>\n",
       "      <td>bar</td>\n",
       "      <td>2</td>\n",
       "      <td>5</td>\n",
       "    </tr>\n",
       "  </tbody>\n",
       "</table>\n",
       "</div>"
      ],
      "text/plain": [
       "   key  lval  rval\n",
       "0  foo     1     4\n",
       "1  bar     2     5"
      ]
     },
     "execution_count": 6,
     "metadata": {},
     "output_type": "execute_result"
    }
   ],
   "source": [
    "left = pd.DataFrame({\"key\":[\"foo\",\"bar\"], \"lval\":[1,2]})\n",
    "right = pd.DataFrame({\"key\":[\"foo\",\"bar\"], \"rval\":[4,5]})\n",
    "pd.merge(left, right, on=\"key\")"
   ]
  },
  {
   "cell_type": "markdown",
   "id": "170c535e",
   "metadata": {},
   "source": [
    "## 9. Groupby (split-apply-combine)\n",
    "Os *agrupamentos* comprenden un ou varios dos seguintes pasos:\n",
    "- **split**: \"romper\" os datos en grupos.\n",
    "- **apply**: aplicar unha función a cada grupo por separado.\n",
    "- **combine**: combinar os resultados nunha estrutura de datos."
   ]
  },
  {
   "cell_type": "code",
   "execution_count": 13,
   "id": "36227541",
   "metadata": {},
   "outputs": [
    {
     "data": {
      "text/html": [
       "<div>\n",
       "<style scoped>\n",
       "    .dataframe tbody tr th:only-of-type {\n",
       "        vertical-align: middle;\n",
       "    }\n",
       "\n",
       "    .dataframe tbody tr th {\n",
       "        vertical-align: top;\n",
       "    }\n",
       "\n",
       "    .dataframe thead th {\n",
       "        text-align: right;\n",
       "    }\n",
       "</style>\n",
       "<table border=\"1\" class=\"dataframe\">\n",
       "  <thead>\n",
       "    <tr style=\"text-align: right;\">\n",
       "      <th></th>\n",
       "      <th>A</th>\n",
       "      <th>B</th>\n",
       "      <th>C</th>\n",
       "      <th>D</th>\n",
       "    </tr>\n",
       "  </thead>\n",
       "  <tbody>\n",
       "    <tr>\n",
       "      <th>0</th>\n",
       "      <td>foo</td>\n",
       "      <td>one</td>\n",
       "      <td>1.137651</td>\n",
       "      <td>0.153132</td>\n",
       "    </tr>\n",
       "    <tr>\n",
       "      <th>1</th>\n",
       "      <td>bar</td>\n",
       "      <td>one</td>\n",
       "      <td>1.315243</td>\n",
       "      <td>2.959309</td>\n",
       "    </tr>\n",
       "    <tr>\n",
       "      <th>2</th>\n",
       "      <td>foo</td>\n",
       "      <td>two</td>\n",
       "      <td>-0.794658</td>\n",
       "      <td>0.299753</td>\n",
       "    </tr>\n",
       "    <tr>\n",
       "      <th>3</th>\n",
       "      <td>bar</td>\n",
       "      <td>three</td>\n",
       "      <td>1.983446</td>\n",
       "      <td>-0.397823</td>\n",
       "    </tr>\n",
       "    <tr>\n",
       "      <th>4</th>\n",
       "      <td>foo</td>\n",
       "      <td>two</td>\n",
       "      <td>1.387361</td>\n",
       "      <td>-0.037580</td>\n",
       "    </tr>\n",
       "    <tr>\n",
       "      <th>5</th>\n",
       "      <td>bar</td>\n",
       "      <td>two</td>\n",
       "      <td>-0.973921</td>\n",
       "      <td>-0.794055</td>\n",
       "    </tr>\n",
       "    <tr>\n",
       "      <th>6</th>\n",
       "      <td>foo</td>\n",
       "      <td>one</td>\n",
       "      <td>-0.638767</td>\n",
       "      <td>-0.282305</td>\n",
       "    </tr>\n",
       "    <tr>\n",
       "      <th>7</th>\n",
       "      <td>foo</td>\n",
       "      <td>three</td>\n",
       "      <td>-0.346540</td>\n",
       "      <td>1.481074</td>\n",
       "    </tr>\n",
       "  </tbody>\n",
       "</table>\n",
       "</div>"
      ],
      "text/plain": [
       "     A      B         C         D\n",
       "0  foo    one  1.137651  0.153132\n",
       "1  bar    one  1.315243  2.959309\n",
       "2  foo    two -0.794658  0.299753\n",
       "3  bar  three  1.983446 -0.397823\n",
       "4  foo    two  1.387361 -0.037580\n",
       "5  bar    two -0.973921 -0.794055\n",
       "6  foo    one -0.638767 -0.282305\n",
       "7  foo  three -0.346540  1.481074"
      ]
     },
     "execution_count": 13,
     "metadata": {},
     "output_type": "execute_result"
    }
   ],
   "source": [
    "# DataFrame de probas\n",
    "dfg = pd.DataFrame({\n",
    "    \"A\": [\"foo\",\"bar\",\"foo\",\"bar\",\"foo\",\"bar\",\"foo\",\"foo\"],\n",
    "    \"B\": [\"one\",\"one\",\"two\",\"three\",\"two\",\"two\",\"one\",\"three\"],\n",
    "    \"C\": np.random.randn(8),\n",
    "    \"D\": np.random.randn(8),\n",
    "})\n",
    "dfg"
   ]
  },
  {
   "cell_type": "code",
   "execution_count": 14,
   "id": "60cc64f0",
   "metadata": {},
   "outputs": [
    {
     "data": {
      "text/html": [
       "<div>\n",
       "<style scoped>\n",
       "    .dataframe tbody tr th:only-of-type {\n",
       "        vertical-align: middle;\n",
       "    }\n",
       "\n",
       "    .dataframe tbody tr th {\n",
       "        vertical-align: top;\n",
       "    }\n",
       "\n",
       "    .dataframe thead th {\n",
       "        text-align: right;\n",
       "    }\n",
       "</style>\n",
       "<table border=\"1\" class=\"dataframe\">\n",
       "  <thead>\n",
       "    <tr style=\"text-align: right;\">\n",
       "      <th></th>\n",
       "      <th>C</th>\n",
       "      <th>D</th>\n",
       "    </tr>\n",
       "    <tr>\n",
       "      <th>A</th>\n",
       "      <th></th>\n",
       "      <th></th>\n",
       "    </tr>\n",
       "  </thead>\n",
       "  <tbody>\n",
       "    <tr>\n",
       "      <th>bar</th>\n",
       "      <td>2.324768</td>\n",
       "      <td>1.767431</td>\n",
       "    </tr>\n",
       "    <tr>\n",
       "      <th>foo</th>\n",
       "      <td>0.745046</td>\n",
       "      <td>1.614074</td>\n",
       "    </tr>\n",
       "  </tbody>\n",
       "</table>\n",
       "</div>"
      ],
      "text/plain": [
       "            C         D\n",
       "A                      \n",
       "bar  2.324768  1.767431\n",
       "foo  0.745046  1.614074"
      ]
     },
     "execution_count": 14,
     "metadata": {},
     "output_type": "execute_result"
    }
   ],
   "source": [
    "# Agrupamos pola columna A e calculamos as sumas das columnas C e D\n",
    "dfg.groupby(\"A\")[[\"C\",\"D\"]].sum()"
   ]
  },
  {
   "cell_type": "code",
   "execution_count": 15,
   "id": "09becdca",
   "metadata": {},
   "outputs": [
    {
     "data": {
      "text/html": [
       "<div>\n",
       "<style scoped>\n",
       "    .dataframe tbody tr th:only-of-type {\n",
       "        vertical-align: middle;\n",
       "    }\n",
       "\n",
       "    .dataframe tbody tr th {\n",
       "        vertical-align: top;\n",
       "    }\n",
       "\n",
       "    .dataframe thead th {\n",
       "        text-align: right;\n",
       "    }\n",
       "</style>\n",
       "<table border=\"1\" class=\"dataframe\">\n",
       "  <thead>\n",
       "    <tr style=\"text-align: right;\">\n",
       "      <th></th>\n",
       "      <th></th>\n",
       "      <th>C</th>\n",
       "      <th>D</th>\n",
       "    </tr>\n",
       "    <tr>\n",
       "      <th>A</th>\n",
       "      <th>B</th>\n",
       "      <th></th>\n",
       "      <th></th>\n",
       "    </tr>\n",
       "  </thead>\n",
       "  <tbody>\n",
       "    <tr>\n",
       "      <th rowspan=\"3\" valign=\"top\">bar</th>\n",
       "      <th>one</th>\n",
       "      <td>1.315243</td>\n",
       "      <td>2.959309</td>\n",
       "    </tr>\n",
       "    <tr>\n",
       "      <th>three</th>\n",
       "      <td>1.983446</td>\n",
       "      <td>-0.397823</td>\n",
       "    </tr>\n",
       "    <tr>\n",
       "      <th>two</th>\n",
       "      <td>-0.973921</td>\n",
       "      <td>-0.794055</td>\n",
       "    </tr>\n",
       "    <tr>\n",
       "      <th rowspan=\"3\" valign=\"top\">foo</th>\n",
       "      <th>one</th>\n",
       "      <td>0.498883</td>\n",
       "      <td>-0.129173</td>\n",
       "    </tr>\n",
       "    <tr>\n",
       "      <th>three</th>\n",
       "      <td>-0.346540</td>\n",
       "      <td>1.481074</td>\n",
       "    </tr>\n",
       "    <tr>\n",
       "      <th>two</th>\n",
       "      <td>0.592702</td>\n",
       "      <td>0.262173</td>\n",
       "    </tr>\n",
       "  </tbody>\n",
       "</table>\n",
       "</div>"
      ],
      "text/plain": [
       "                  C         D\n",
       "A   B                        \n",
       "bar one    1.315243  2.959309\n",
       "    three  1.983446 -0.397823\n",
       "    two   -0.973921 -0.794055\n",
       "foo one    0.498883 -0.129173\n",
       "    three -0.346540  1.481074\n",
       "    two    0.592702  0.262173"
      ]
     },
     "execution_count": 15,
     "metadata": {},
     "output_type": "execute_result"
    }
   ],
   "source": [
    "# Agrupación por varios índices\n",
    "dfg.groupby([\"A\",\"B\"]).sum()"
   ]
  },
  {
   "cell_type": "markdown",
   "id": "fc5d3eb9",
   "metadata": {},
   "source": [
    "## 10. Reestruturación: `stack`/`unstack` e táboas dinámicas\n",
    "A *reestruturacación* ou *reshaping* é un proceso que pode involucrar as seguintes operacións:\n",
    "- `stack`: \"apila\" unha dimensión cara abaixo. Move un nivel (por defecto, columnas) ao *índice* reducindo anchura e alongando a táboa.\n",
    "- `unstack`: \"desapila\" unha dimensión cara a dereita. Move un nivel do *índice* ás columnas, ensanchando a táboa.\n",
    "- `pivot / pivot_table`: constrúen táboas cruzadas a partir de datos en formato *longo*.\n",
    "- `melt / wide_to_long`: proceso inverso a `pivot`: pasa de formato *ancho* a *longo*.\n",
    "\n",
    "### stack vs unstack"
   ]
  },
  {
   "cell_type": "code",
   "execution_count": 3,
   "id": "1fbd1de1",
   "metadata": {},
   "outputs": [
    {
     "data": {
      "text/html": [
       "<div>\n",
       "<style scoped>\n",
       "    .dataframe tbody tr th:only-of-type {\n",
       "        vertical-align: middle;\n",
       "    }\n",
       "\n",
       "    .dataframe tbody tr th {\n",
       "        vertical-align: top;\n",
       "    }\n",
       "\n",
       "    .dataframe thead th {\n",
       "        text-align: right;\n",
       "    }\n",
       "</style>\n",
       "<table border=\"1\" class=\"dataframe\">\n",
       "  <thead>\n",
       "    <tr style=\"text-align: right;\">\n",
       "      <th></th>\n",
       "      <th></th>\n",
       "      <th>A</th>\n",
       "      <th>B</th>\n",
       "    </tr>\n",
       "    <tr>\n",
       "      <th>first</th>\n",
       "      <th>second</th>\n",
       "      <th></th>\n",
       "      <th></th>\n",
       "    </tr>\n",
       "  </thead>\n",
       "  <tbody>\n",
       "    <tr>\n",
       "      <th rowspan=\"2\" valign=\"top\">bar</th>\n",
       "      <th>one</th>\n",
       "      <td>0.434900</td>\n",
       "      <td>-0.441671</td>\n",
       "    </tr>\n",
       "    <tr>\n",
       "      <th>two</th>\n",
       "      <td>-0.983878</td>\n",
       "      <td>-0.467730</td>\n",
       "    </tr>\n",
       "    <tr>\n",
       "      <th rowspan=\"2\" valign=\"top\">baz</th>\n",
       "      <th>one</th>\n",
       "      <td>0.336854</td>\n",
       "      <td>0.624896</td>\n",
       "    </tr>\n",
       "    <tr>\n",
       "      <th>two</th>\n",
       "      <td>-0.165100</td>\n",
       "      <td>0.095774</td>\n",
       "    </tr>\n",
       "  </tbody>\n",
       "</table>\n",
       "</div>"
      ],
      "text/plain": [
       "                     A         B\n",
       "first second                    \n",
       "bar   one     0.434900 -0.441671\n",
       "      two    -0.983878 -0.467730\n",
       "baz   one     0.336854  0.624896\n",
       "      two    -0.165100  0.095774"
      ]
     },
     "execution_count": 3,
     "metadata": {},
     "output_type": "execute_result"
    }
   ],
   "source": [
    "# Creamos un df con dous niveis de índice.\n",
    "arrays = [\n",
    "   [\"bar\",\"bar\",\"baz\",\"baz\",\"foo\",\"foo\",\"qux\",\"qux\"],\n",
    "   [\"one\",\"two\",\"one\",\"two\",\"one\",\"two\",\"one\",\"two\"],\n",
    "]\n",
    "index = pd.MultiIndex.from_arrays(arrays, names=[\"first\",\"second\"])\n",
    "dfh = pd.DataFrame(np.random.randn(8,2), index=index, columns=[\"A\",\"B\"])\n",
    "df2h = dfh[:4]; df2h"
   ]
  },
  {
   "cell_type": "code",
   "execution_count": 5,
   "id": "235edc4e",
   "metadata": {},
   "outputs": [
    {
     "data": {
      "text/plain": [
       "first  second   \n",
       "bar    one     A    0.434900\n",
       "               B   -0.441671\n",
       "       two     A   -0.983878\n",
       "               B   -0.467730\n",
       "baz    one     A    0.336854\n",
       "               B    0.624896\n",
       "       two     A   -0.165100\n",
       "               B    0.095774\n",
       "dtype: float64"
      ]
     },
     "execution_count": 5,
     "metadata": {},
     "output_type": "execute_result"
    }
   ],
   "source": [
    "# Movemos as columnas A e B a un novo nivel do índice.\n",
    "stacked = df2h.stack(future_stack=True)\n",
    "stacked"
   ]
  },
  {
   "cell_type": "markdown",
   "id": "3330c09f-17bc-4a2a-86a7-63c7e1271fb3",
   "metadata": {},
   "source": [
    "Vamos a ver o comportamento de `unstack`. No noso caso o `DataFrame` ten tres niveis: \n",
    "- first (0)\n",
    "- second (1) \n",
    "- columnas A e B (2).\n",
    "\n",
    "Por defecto desapila o último nivel, que para este `DataFrame`é 2."
   ]
  },
  {
   "cell_type": "code",
   "execution_count": 11,
   "id": "872edf10",
   "metadata": {},
   "outputs": [
    {
     "data": {
      "text/html": [
       "<div>\n",
       "<style scoped>\n",
       "    .dataframe tbody tr th:only-of-type {\n",
       "        vertical-align: middle;\n",
       "    }\n",
       "\n",
       "    .dataframe tbody tr th {\n",
       "        vertical-align: top;\n",
       "    }\n",
       "\n",
       "    .dataframe thead th {\n",
       "        text-align: right;\n",
       "    }\n",
       "</style>\n",
       "<table border=\"1\" class=\"dataframe\">\n",
       "  <thead>\n",
       "    <tr style=\"text-align: right;\">\n",
       "      <th></th>\n",
       "      <th></th>\n",
       "      <th>A</th>\n",
       "      <th>B</th>\n",
       "    </tr>\n",
       "    <tr>\n",
       "      <th>first</th>\n",
       "      <th>second</th>\n",
       "      <th></th>\n",
       "      <th></th>\n",
       "    </tr>\n",
       "  </thead>\n",
       "  <tbody>\n",
       "    <tr>\n",
       "      <th rowspan=\"2\" valign=\"top\">bar</th>\n",
       "      <th>one</th>\n",
       "      <td>0.434900</td>\n",
       "      <td>-0.441671</td>\n",
       "    </tr>\n",
       "    <tr>\n",
       "      <th>two</th>\n",
       "      <td>-0.983878</td>\n",
       "      <td>-0.467730</td>\n",
       "    </tr>\n",
       "    <tr>\n",
       "      <th rowspan=\"2\" valign=\"top\">baz</th>\n",
       "      <th>one</th>\n",
       "      <td>0.336854</td>\n",
       "      <td>0.624896</td>\n",
       "    </tr>\n",
       "    <tr>\n",
       "      <th>two</th>\n",
       "      <td>-0.165100</td>\n",
       "      <td>0.095774</td>\n",
       "    </tr>\n",
       "  </tbody>\n",
       "</table>\n",
       "</div>"
      ],
      "text/plain": [
       "                     A         B\n",
       "first second                    \n",
       "bar   one     0.434900 -0.441671\n",
       "      two    -0.983878 -0.467730\n",
       "baz   one     0.336854  0.624896\n",
       "      two    -0.165100  0.095774"
      ]
     },
     "execution_count": 11,
     "metadata": {},
     "output_type": "execute_result"
    }
   ],
   "source": [
    "# Por defecto\n",
    "stacked.unstack()"
   ]
  },
  {
   "cell_type": "code",
   "execution_count": 12,
   "id": "9343fd27-7a12-4a67-bc55-a382422c26c7",
   "metadata": {},
   "outputs": [
    {
     "data": {
      "text/html": [
       "<div>\n",
       "<style scoped>\n",
       "    .dataframe tbody tr th:only-of-type {\n",
       "        vertical-align: middle;\n",
       "    }\n",
       "\n",
       "    .dataframe tbody tr th {\n",
       "        vertical-align: top;\n",
       "    }\n",
       "\n",
       "    .dataframe thead th {\n",
       "        text-align: right;\n",
       "    }\n",
       "</style>\n",
       "<table border=\"1\" class=\"dataframe\">\n",
       "  <thead>\n",
       "    <tr style=\"text-align: right;\">\n",
       "      <th></th>\n",
       "      <th>second</th>\n",
       "      <th>one</th>\n",
       "      <th>two</th>\n",
       "    </tr>\n",
       "    <tr>\n",
       "      <th>first</th>\n",
       "      <th></th>\n",
       "      <th></th>\n",
       "      <th></th>\n",
       "    </tr>\n",
       "  </thead>\n",
       "  <tbody>\n",
       "    <tr>\n",
       "      <th rowspan=\"2\" valign=\"top\">bar</th>\n",
       "      <th>A</th>\n",
       "      <td>0.434900</td>\n",
       "      <td>-0.983878</td>\n",
       "    </tr>\n",
       "    <tr>\n",
       "      <th>B</th>\n",
       "      <td>-0.441671</td>\n",
       "      <td>-0.467730</td>\n",
       "    </tr>\n",
       "    <tr>\n",
       "      <th rowspan=\"2\" valign=\"top\">baz</th>\n",
       "      <th>A</th>\n",
       "      <td>0.336854</td>\n",
       "      <td>-0.165100</td>\n",
       "    </tr>\n",
       "    <tr>\n",
       "      <th>B</th>\n",
       "      <td>0.624896</td>\n",
       "      <td>0.095774</td>\n",
       "    </tr>\n",
       "  </tbody>\n",
       "</table>\n",
       "</div>"
      ],
      "text/plain": [
       "second        one       two\n",
       "first                      \n",
       "bar   A  0.434900 -0.983878\n",
       "      B -0.441671 -0.467730\n",
       "baz   A  0.336854 -0.165100\n",
       "      B  0.624896  0.095774"
      ]
     },
     "execution_count": 12,
     "metadata": {},
     "output_type": "execute_result"
    }
   ],
   "source": [
    "# Nivel 1\n",
    "stacked.unstack(1)"
   ]
  },
  {
   "cell_type": "code",
   "execution_count": 13,
   "id": "06cde559",
   "metadata": {},
   "outputs": [
    {
     "data": {
      "text/html": [
       "<div>\n",
       "<style scoped>\n",
       "    .dataframe tbody tr th:only-of-type {\n",
       "        vertical-align: middle;\n",
       "    }\n",
       "\n",
       "    .dataframe tbody tr th {\n",
       "        vertical-align: top;\n",
       "    }\n",
       "\n",
       "    .dataframe thead th {\n",
       "        text-align: right;\n",
       "    }\n",
       "</style>\n",
       "<table border=\"1\" class=\"dataframe\">\n",
       "  <thead>\n",
       "    <tr style=\"text-align: right;\">\n",
       "      <th></th>\n",
       "      <th>first</th>\n",
       "      <th>bar</th>\n",
       "      <th>baz</th>\n",
       "    </tr>\n",
       "    <tr>\n",
       "      <th>second</th>\n",
       "      <th></th>\n",
       "      <th></th>\n",
       "      <th></th>\n",
       "    </tr>\n",
       "  </thead>\n",
       "  <tbody>\n",
       "    <tr>\n",
       "      <th rowspan=\"2\" valign=\"top\">one</th>\n",
       "      <th>A</th>\n",
       "      <td>0.434900</td>\n",
       "      <td>0.336854</td>\n",
       "    </tr>\n",
       "    <tr>\n",
       "      <th>B</th>\n",
       "      <td>-0.441671</td>\n",
       "      <td>0.624896</td>\n",
       "    </tr>\n",
       "    <tr>\n",
       "      <th rowspan=\"2\" valign=\"top\">two</th>\n",
       "      <th>A</th>\n",
       "      <td>-0.983878</td>\n",
       "      <td>-0.165100</td>\n",
       "    </tr>\n",
       "    <tr>\n",
       "      <th>B</th>\n",
       "      <td>-0.467730</td>\n",
       "      <td>0.095774</td>\n",
       "    </tr>\n",
       "  </tbody>\n",
       "</table>\n",
       "</div>"
      ],
      "text/plain": [
       "first          bar       baz\n",
       "second                      \n",
       "one    A  0.434900  0.336854\n",
       "       B -0.441671  0.624896\n",
       "two    A -0.983878 -0.165100\n",
       "       B -0.467730  0.095774"
      ]
     },
     "execution_count": 13,
     "metadata": {},
     "output_type": "execute_result"
    }
   ],
   "source": [
    "# Nivel 0\n",
    "stacked.unstack(0)"
   ]
  },
  {
   "cell_type": "markdown",
   "id": "cdd79eb2-a083-430f-89ac-6cf1614364e7",
   "metadata": {},
   "source": [
    "### pivot vs pivot_table\n",
    "Ambos métodos permiten pasar de formato *longo* a *ancho*.\n",
    "- `pivot(index=..., columns=..., values=...)`: **Non agrega** os datos, polo que require que cada par `(index,columns)` sexa **único**. Se hai duplicados lanza erro.\n",
    "- `pivot_table(values=..., index=..., columns=..., aggfunc='mean')`: **agrega** cando hai duplicados. É a máis usada. Parámetros:\n",
    "  - `aggfunc`: `'mean'`, `'sum'`, `'count'`, `'list'` ou funcións personalizadas.\n",
    "  - `fill_value`: enche baleiros (ex: `fill_value=0`).\n",
    "  - `margins=True, margins_name='Total'`: engade totais por fila/columna.\n",
    "  - `observerd=True`: con columnas/índices categ´roricos, limita as combinacións máis observadas.\n",
    "  - `values`pode ser unha lista."
   ]
  },
  {
   "cell_type": "code",
   "execution_count": 14,
   "id": "3b86e801",
   "metadata": {},
   "outputs": [
    {
     "data": {
      "text/html": [
       "<div>\n",
       "<style scoped>\n",
       "    .dataframe tbody tr th:only-of-type {\n",
       "        vertical-align: middle;\n",
       "    }\n",
       "\n",
       "    .dataframe tbody tr th {\n",
       "        vertical-align: top;\n",
       "    }\n",
       "\n",
       "    .dataframe thead th {\n",
       "        text-align: right;\n",
       "    }\n",
       "</style>\n",
       "<table border=\"1\" class=\"dataframe\">\n",
       "  <thead>\n",
       "    <tr style=\"text-align: right;\">\n",
       "      <th></th>\n",
       "      <th>C</th>\n",
       "      <th>bar</th>\n",
       "      <th>foo</th>\n",
       "    </tr>\n",
       "    <tr>\n",
       "      <th>A</th>\n",
       "      <th>B</th>\n",
       "      <th></th>\n",
       "      <th></th>\n",
       "    </tr>\n",
       "  </thead>\n",
       "  <tbody>\n",
       "    <tr>\n",
       "      <th rowspan=\"3\" valign=\"top\">one</th>\n",
       "      <th>A</th>\n",
       "      <td>0.076682</td>\n",
       "      <td>2.133013</td>\n",
       "    </tr>\n",
       "    <tr>\n",
       "      <th>B</th>\n",
       "      <td>-0.730265</td>\n",
       "      <td>0.427780</td>\n",
       "    </tr>\n",
       "    <tr>\n",
       "      <th>C</th>\n",
       "      <td>0.425733</td>\n",
       "      <td>-2.012666</td>\n",
       "    </tr>\n",
       "    <tr>\n",
       "      <th rowspan=\"3\" valign=\"top\">three</th>\n",
       "      <th>A</th>\n",
       "      <td>-1.606930</td>\n",
       "      <td>NaN</td>\n",
       "    </tr>\n",
       "    <tr>\n",
       "      <th>B</th>\n",
       "      <td>NaN</td>\n",
       "      <td>1.501329</td>\n",
       "    </tr>\n",
       "    <tr>\n",
       "      <th>C</th>\n",
       "      <td>-0.351071</td>\n",
       "      <td>NaN</td>\n",
       "    </tr>\n",
       "    <tr>\n",
       "      <th rowspan=\"3\" valign=\"top\">two</th>\n",
       "      <th>A</th>\n",
       "      <td>NaN</td>\n",
       "      <td>0.885647</td>\n",
       "    </tr>\n",
       "    <tr>\n",
       "      <th>B</th>\n",
       "      <td>1.517366</td>\n",
       "      <td>NaN</td>\n",
       "    </tr>\n",
       "    <tr>\n",
       "      <th>C</th>\n",
       "      <td>NaN</td>\n",
       "      <td>-0.478450</td>\n",
       "    </tr>\n",
       "  </tbody>\n",
       "</table>\n",
       "</div>"
      ],
      "text/plain": [
       "C             bar       foo\n",
       "A     B                    \n",
       "one   A  0.076682  2.133013\n",
       "      B -0.730265  0.427780\n",
       "      C  0.425733 -2.012666\n",
       "three A -1.606930       NaN\n",
       "      B       NaN  1.501329\n",
       "      C -0.351071       NaN\n",
       "two   A       NaN  0.885647\n",
       "      B  1.517366       NaN\n",
       "      C       NaN -0.478450"
      ]
     },
     "execution_count": 14,
     "metadata": {},
     "output_type": "execute_result"
    }
   ],
   "source": [
    "dfp = pd.DataFrame({\n",
    "    \"A\": [\"one\",\"one\",\"two\",\"three\"] * 3,\n",
    "    \"B\": [\"A\",\"B\",\"C\"] * 4,\n",
    "    \"C\": [\"foo\",\"foo\",\"foo\",\"bar\",\"bar\",\"bar\"] * 2,\n",
    "    \"D\": np.random.randn(12),\n",
    "    \"E\": np.random.randn(12),\n",
    "})\n",
    "pd.pivot_table(dfp, values=\"D\", index=[\"A\",\"B\"], columns=[\"C\"])"
   ]
  },
  {
   "cell_type": "markdown",
   "id": "befc646f-107f-4964-afa5-a5355eef170c",
   "metadata": {},
   "source": [
    "### melt()\n",
    "- Permite pasar de ancho a longo. Moi útil antes de facer `groupby`/`pivot_table`.\n",
    "- Para volver a ancho: `pivot()` se non hai duplicados ou `pivot_table()` se os hai."
   ]
  },
  {
   "cell_type": "code",
   "execution_count": 22,
   "id": "cf32e8dc-2579-4630-a398-abb5c96d46da",
   "metadata": {},
   "outputs": [
    {
     "name": "stdout",
     "output_type": "stream",
     "text": [
      "wide:\n"
     ]
    },
    {
     "data": {
      "text/html": [
       "<div>\n",
       "<style scoped>\n",
       "    .dataframe tbody tr th:only-of-type {\n",
       "        vertical-align: middle;\n",
       "    }\n",
       "\n",
       "    .dataframe tbody tr th {\n",
       "        vertical-align: top;\n",
       "    }\n",
       "\n",
       "    .dataframe thead th {\n",
       "        text-align: right;\n",
       "    }\n",
       "</style>\n",
       "<table border=\"1\" class=\"dataframe\">\n",
       "  <thead>\n",
       "    <tr style=\"text-align: right;\">\n",
       "      <th></th>\n",
       "      <th>id</th>\n",
       "      <th>D_foo</th>\n",
       "      <th>D_bar</th>\n",
       "    </tr>\n",
       "  </thead>\n",
       "  <tbody>\n",
       "    <tr>\n",
       "      <th>0</th>\n",
       "      <td>1</td>\n",
       "      <td>0.5</td>\n",
       "      <td>1.0</td>\n",
       "    </tr>\n",
       "    <tr>\n",
       "      <th>1</th>\n",
       "      <td>2</td>\n",
       "      <td>0.2</td>\n",
       "      <td>0.0</td>\n",
       "    </tr>\n",
       "    <tr>\n",
       "      <th>2</th>\n",
       "      <td>3</td>\n",
       "      <td>0.1</td>\n",
       "      <td>0.3</td>\n",
       "    </tr>\n",
       "  </tbody>\n",
       "</table>\n",
       "</div>"
      ],
      "text/plain": [
       "   id  D_foo  D_bar\n",
       "0   1    0.5    1.0\n",
       "1   2    0.2    0.0\n",
       "2   3    0.1    0.3"
      ]
     },
     "metadata": {},
     "output_type": "display_data"
    },
    {
     "name": "stdout",
     "output_type": "stream",
     "text": [
      "long:\n"
     ]
    },
    {
     "data": {
      "text/html": [
       "<div>\n",
       "<style scoped>\n",
       "    .dataframe tbody tr th:only-of-type {\n",
       "        vertical-align: middle;\n",
       "    }\n",
       "\n",
       "    .dataframe tbody tr th {\n",
       "        vertical-align: top;\n",
       "    }\n",
       "\n",
       "    .dataframe thead th {\n",
       "        text-align: right;\n",
       "    }\n",
       "</style>\n",
       "<table border=\"1\" class=\"dataframe\">\n",
       "  <thead>\n",
       "    <tr style=\"text-align: right;\">\n",
       "      <th></th>\n",
       "      <th>id</th>\n",
       "      <th>metric</th>\n",
       "      <th>val</th>\n",
       "    </tr>\n",
       "  </thead>\n",
       "  <tbody>\n",
       "    <tr>\n",
       "      <th>0</th>\n",
       "      <td>1</td>\n",
       "      <td>D_foo</td>\n",
       "      <td>0.5</td>\n",
       "    </tr>\n",
       "    <tr>\n",
       "      <th>1</th>\n",
       "      <td>2</td>\n",
       "      <td>D_foo</td>\n",
       "      <td>0.2</td>\n",
       "    </tr>\n",
       "    <tr>\n",
       "      <th>2</th>\n",
       "      <td>3</td>\n",
       "      <td>D_foo</td>\n",
       "      <td>0.1</td>\n",
       "    </tr>\n",
       "    <tr>\n",
       "      <th>3</th>\n",
       "      <td>1</td>\n",
       "      <td>D_bar</td>\n",
       "      <td>1.0</td>\n",
       "    </tr>\n",
       "    <tr>\n",
       "      <th>4</th>\n",
       "      <td>2</td>\n",
       "      <td>D_bar</td>\n",
       "      <td>0.0</td>\n",
       "    </tr>\n",
       "    <tr>\n",
       "      <th>5</th>\n",
       "      <td>3</td>\n",
       "      <td>D_bar</td>\n",
       "      <td>0.3</td>\n",
       "    </tr>\n",
       "  </tbody>\n",
       "</table>\n",
       "</div>"
      ],
      "text/plain": [
       "   id metric  val\n",
       "0   1  D_foo  0.5\n",
       "1   2  D_foo  0.2\n",
       "2   3  D_foo  0.1\n",
       "3   1  D_bar  1.0\n",
       "4   2  D_bar  0.0\n",
       "5   3  D_bar  0.3"
      ]
     },
     "metadata": {},
     "output_type": "display_data"
    },
    {
     "name": "stdout",
     "output_type": "stream",
     "text": [
      "nose:\n"
     ]
    },
    {
     "data": {
      "text/html": [
       "<div>\n",
       "<style scoped>\n",
       "    .dataframe tbody tr th:only-of-type {\n",
       "        vertical-align: middle;\n",
       "    }\n",
       "\n",
       "    .dataframe tbody tr th {\n",
       "        vertical-align: top;\n",
       "    }\n",
       "\n",
       "    .dataframe thead th {\n",
       "        text-align: right;\n",
       "    }\n",
       "</style>\n",
       "<table border=\"1\" class=\"dataframe\">\n",
       "  <thead>\n",
       "    <tr style=\"text-align: right;\">\n",
       "      <th></th>\n",
       "      <th>id</th>\n",
       "      <th>val</th>\n",
       "      <th>var</th>\n",
       "      <th>cat</th>\n",
       "    </tr>\n",
       "  </thead>\n",
       "  <tbody>\n",
       "    <tr>\n",
       "      <th>0</th>\n",
       "      <td>1</td>\n",
       "      <td>0.5</td>\n",
       "      <td>D</td>\n",
       "      <td>foo</td>\n",
       "    </tr>\n",
       "    <tr>\n",
       "      <th>1</th>\n",
       "      <td>2</td>\n",
       "      <td>0.2</td>\n",
       "      <td>D</td>\n",
       "      <td>foo</td>\n",
       "    </tr>\n",
       "    <tr>\n",
       "      <th>2</th>\n",
       "      <td>3</td>\n",
       "      <td>0.1</td>\n",
       "      <td>D</td>\n",
       "      <td>foo</td>\n",
       "    </tr>\n",
       "    <tr>\n",
       "      <th>3</th>\n",
       "      <td>1</td>\n",
       "      <td>1.0</td>\n",
       "      <td>D</td>\n",
       "      <td>bar</td>\n",
       "    </tr>\n",
       "    <tr>\n",
       "      <th>4</th>\n",
       "      <td>2</td>\n",
       "      <td>0.0</td>\n",
       "      <td>D</td>\n",
       "      <td>bar</td>\n",
       "    </tr>\n",
       "    <tr>\n",
       "      <th>5</th>\n",
       "      <td>3</td>\n",
       "      <td>0.3</td>\n",
       "      <td>D</td>\n",
       "      <td>bar</td>\n",
       "    </tr>\n",
       "  </tbody>\n",
       "</table>\n",
       "</div>"
      ],
      "text/plain": [
       "   id  val var  cat\n",
       "0   1  0.5   D  foo\n",
       "1   2  0.2   D  foo\n",
       "2   3  0.1   D  foo\n",
       "3   1  1.0   D  bar\n",
       "4   2  0.0   D  bar\n",
       "5   3  0.3   D  bar"
      ]
     },
     "metadata": {},
     "output_type": "display_data"
    },
    {
     "name": "stdout",
     "output_type": "stream",
     "text": [
      "Volta a wide:\n"
     ]
    },
    {
     "data": {
      "text/html": [
       "<div>\n",
       "<style scoped>\n",
       "    .dataframe tbody tr th:only-of-type {\n",
       "        vertical-align: middle;\n",
       "    }\n",
       "\n",
       "    .dataframe tbody tr th {\n",
       "        vertical-align: top;\n",
       "    }\n",
       "\n",
       "    .dataframe thead th {\n",
       "        text-align: right;\n",
       "    }\n",
       "</style>\n",
       "<table border=\"1\" class=\"dataframe\">\n",
       "  <thead>\n",
       "    <tr style=\"text-align: right;\">\n",
       "      <th>cat</th>\n",
       "      <th>bar</th>\n",
       "      <th>foo</th>\n",
       "    </tr>\n",
       "    <tr>\n",
       "      <th>id</th>\n",
       "      <th></th>\n",
       "      <th></th>\n",
       "    </tr>\n",
       "  </thead>\n",
       "  <tbody>\n",
       "    <tr>\n",
       "      <th>1</th>\n",
       "      <td>1.0</td>\n",
       "      <td>0.5</td>\n",
       "    </tr>\n",
       "    <tr>\n",
       "      <th>2</th>\n",
       "      <td>0.0</td>\n",
       "      <td>0.2</td>\n",
       "    </tr>\n",
       "    <tr>\n",
       "      <th>3</th>\n",
       "      <td>0.3</td>\n",
       "      <td>0.1</td>\n",
       "    </tr>\n",
       "  </tbody>\n",
       "</table>\n",
       "</div>"
      ],
      "text/plain": [
       "cat  bar  foo\n",
       "id           \n",
       "1    1.0  0.5\n",
       "2    0.0  0.2\n",
       "3    0.3  0.1"
      ]
     },
     "metadata": {},
     "output_type": "display_data"
    }
   ],
   "source": [
    "wide = pd.DataFrame({\n",
    "    \"id\":[1,2,3],\n",
    "    \"D_foo\":[0.5, 0.2, 0.1],\n",
    "    \"D_bar\":[1.0, 0.0, 0.3],\n",
    "})\n",
    "print (\"wide:\")\n",
    "display(wide)\n",
    "long = wide.melt(id_vars=\"id\", var_name=\"metric\", value_name=\"val\")\n",
    "print (\"long:\")\n",
    "display(long)\n",
    "# Separas \"D\" e \"foo/bar\"\n",
    "parts = long[\"metric\"].str.split(\"_\", expand=True)\n",
    "long = long.assign(var=parts[0], cat=parts[1]).drop(columns=\"metric\")\n",
    "print (\"nose:\")\n",
    "display (long)\n",
    "# Volta a ancho (cada cat nunha columna)\n",
    "back = long.pivot_table(index=\"id\", columns=\"cat\", values=\"val\", aggfunc=\"first\")\n",
    "print (\"Volta a wide:\")\n",
    "display (back)"
   ]
  },
  {
   "cell_type": "markdown",
   "id": "0a9153e0",
   "metadata": {},
   "source": [
    "## 11.Series temporais: resampling e zonas horarias\n",
    "Unha **serie temporal** é unha colección de *datos ordenados* no tempo, normalmente con intervalos fixos ou variables.\n",
    "Exemplos típicos:\n",
    "- O prezo dunha acción cada segundo.\n",
    "- A temperatura rexistrada cada 10 minutos nun sensor meteorolóxico.\n",
    "- O número de visitas a unha web cada hora.\n",
    "- A produción dunha fábrica medida cada día.\n",
    "\n",
    "En pandas, unha serie temporal é normalmente un Series ou DataFrame onde o índice é de tipo `DatetimeIndex`.\n",
    "\n",
    "Isto permítelle a pandas recoñecer a dimensión temporal e aplicar operacións específicas: reescalado de frecuencia, ventás móbiles, manipulación de zonas horarias, etc.\n",
    "\n",
    "### resampling\n",
    "**Resampling** significa cambiar a **frecuencia temporal** da serie:\n",
    "- **Downsampling**: pasar dunha frecuncia *alta* a unha *baixa* (Ex. datos cada segundo a datos cada 5 minutos).\n",
    "- **Upsampling**: pasar dunha frecuencia *baixa* a unha *alta* (Ex: datos diariosa horarios).\n"
   ]
  },
  {
   "cell_type": "code",
   "execution_count": 23,
   "id": "40ded858",
   "metadata": {},
   "outputs": [
    {
     "data": {
      "text/plain": [
       "2012-01-01    21085\n",
       "Freq: 5T, dtype: int64"
      ]
     },
     "execution_count": 23,
     "metadata": {},
     "output_type": "execute_result"
    }
   ],
   "source": [
    "# Exemplo de downsampling\n",
    "rng = pd.date_range(\"2012-01-01\", periods=100, freq=\"s\")\n",
    "ts = pd.Series(np.random.randint(0,500,len(rng)), index=rng)\n",
    "ts.resample(\"5min\").sum()"
   ]
  },
  {
   "cell_type": "markdown",
   "id": "998292c1-82ed-40bd-9cfa-be9265522909",
   "metadata": {},
   "source": [
    "### Zonas horarias\n",
    "É habitual traballar con datos que veñen de diferentes zonhas horarias. Para traballar con estes datos é importante ter en consideración as seguintes operacións:\n",
    "- `tz_localize(\"UTC\")`: Engade información da zona horaria sen cambiar os tempos reais.\n",
    "- `tz_convert(\"US/Eastern\")`: convérteo a unha zona horaria, **desprazando os valores**."
   ]
  },
  {
   "cell_type": "code",
   "execution_count": 25,
   "id": "7f8558a6",
   "metadata": {},
   "outputs": [
    {
     "name": "stdout",
     "output_type": "stream",
     "text": [
      "localize:\n",
      "2012-03-06 00:00:00+00:00   -0.149625\n",
      "2012-03-07 00:00:00+00:00    1.264901\n",
      "2012-03-08 00:00:00+00:00   -0.116940\n",
      "2012-03-09 00:00:00+00:00    1.081779\n",
      "2012-03-10 00:00:00+00:00   -0.148750\n",
      "Freq: D, dtype: float64\n",
      "convert:\n"
     ]
    },
    {
     "data": {
      "text/plain": [
       "2012-03-05 19:00:00-05:00   -0.149625\n",
       "2012-03-06 19:00:00-05:00    1.264901\n",
       "2012-03-07 19:00:00-05:00   -0.116940\n",
       "2012-03-08 19:00:00-05:00    1.081779\n",
       "2012-03-09 19:00:00-05:00   -0.148750\n",
       "Freq: D, dtype: float64"
      ]
     },
     "execution_count": 25,
     "metadata": {},
     "output_type": "execute_result"
    }
   ],
   "source": [
    "rng = pd.date_range(\"2012-03-06 00:00\", periods=5, freq=\"D\")\n",
    "ts = pd.Series(np.random.randn(len(rng)), index=rng)\n",
    "ts_utc = ts.tz_localize(\"UTC\")\n",
    "print (\"localize:\")\n",
    "print (ts_utc)\n",
    "print (\"convert:\")\n",
    "ts_utc.tz_convert(\"US/Eastern\")"
   ]
  },
  {
   "cell_type": "markdown",
   "id": "a71ddb57-a036-4290-b93f-657eaa22b92e",
   "metadata": {},
   "source": [
    "### Offsets e calendarios especiais\n",
    "Pandas non só entende as unidades de tempo tradicionais, senón que tamén pode manexar **unidades de tempo intelixentes** chamadas *offsets*.\n",
    "\n",
    "Exemplos.\n",
    "- `pd.offsets.BussinessDay(5)`: 5 días laborables.\n",
    "- `Monthend()`, `QuarterEnd()`, `YearBegin()`: saltan directamente ao fin/inicio dese periodo.\n",
    "- `CustomBusinessDay(holidays=[...])`: podes definir o teu propio calendario (ex: incluir festivos locais)."
   ]
  },
  {
   "cell_type": "code",
   "execution_count": 26,
   "id": "9b7bebc1",
   "metadata": {},
   "outputs": [
    {
     "data": {
      "text/plain": [
       "DatetimeIndex(['2012-03-13', '2012-03-14', '2012-03-15', '2012-03-16',\n",
       "               '2012-03-16'],\n",
       "              dtype='datetime64[ns]', freq=None)"
      ]
     },
     "execution_count": 26,
     "metadata": {},
     "output_type": "execute_result"
    }
   ],
   "source": [
    "# Exemplo: avanzar 5 días hábiles\n",
    "rng + pd.offsets.BusinessDay(5)"
   ]
  },
  {
   "cell_type": "markdown",
   "id": "52018568",
   "metadata": {},
   "source": [
    "## 12. Datos categóricos\n",
    "Un **categorigal** é un tipo de dato pensado para **variables categóricas**: valores dsicretos que pertencen a un **conxunto finito de categorías**.\n",
    "\n",
    "Exemplos:\n",
    "- **Nominais**: sen orde (Ex: `cor={vermello,verde,azul}`)\n",
    "- **Orixinais**: con orde (Ex: `avaliacion={moi malo < malo < medio < bo < moi bo }`)\n",
    "\n",
    "Vantaxes do seu uso:\n",
    "- **Memoria**: gardan internamente un **array de códigos** + unha táboa de **categorías únicas**. Adoitan consumir moita menos memoria que a clase `object`.\n",
    "- **Velocidade**: operacións como `groupby`, `value_counts`, `merge` sobre variables repetidas son máis rápidas.\n",
    "- **Semántica**: podes fixar unha **orde lóxica** (non alfabética) das categorías e traballar con ela.\n",
    "\n",
    "Internamente, unha `Series` categórica ten:\n",
    "- `categories`: un `Index` con cadeas únicas.\n",
    "- `codes`: enteiros que apuntan a estas cadeas."
   ]
  },
  {
   "cell_type": "code",
   "execution_count": null,
   "id": "80f9f8ac",
   "metadata": {},
   "outputs": [],
   "source": [
    "# Exemplo: convertimos unha columna a categórico\n",
    "dfc = pd.DataFrame({\"id\":[1,2,3,4,5,6], \"raw_grade\":[\"a\",\"b\",\"b\",\"a\",\"a\",\"e\"]})\n",
    "dfc[\"grade\"] = dfc[\"raw_grade\"].astype(\"category\")\n",
    "\n",
    "# Renomear categorías:\n",
    "dfc[\"grade\"] = dfc[\"grade\"].cat.rename_categories([\"very good\",\"good\",\"very bad\"])\n",
    "\n",
    "# Reordenar e engadir categorías\n",
    "dfc[\"grade\"] = dfc[\"grade\"].cat.set_categories([\"very bad\",\"bad\",\"medium\",\"good\",\"very good\"])\n",
    "dfc.sort_values(by=\"grade\")"
   ]
  },
  {
   "cell_type": "markdown",
   "id": "1a84a42a-a8f0-46bf-bb65-15c893b9c823",
   "metadata": {},
   "source": [
    "Agrupar por categorías ten algunha pecularidade:\n",
    "- `observer=False`: inclúe todas as categorías definidas, mesmo as non observadas nos datos.\n",
    "- `observed=True`: amosa só as categorías presentes.\n",
    "\n",
    "Isto último é util en informes nos que queren amosarse tamén as clases sen ocorrencias."
   ]
  },
  {
   "cell_type": "code",
   "execution_count": null,
   "id": "5fff05c2",
   "metadata": {},
   "outputs": [],
   "source": [
    "dfc.groupby(\"grade\", observed=False).size()"
   ]
  },
  {
   "cell_type": "markdown",
   "id": "3098862b-2665-4adf-8bc0-515781b8434d",
   "metadata": {},
   "source": [
    "## 13. Importación e exportación de datos\n",
    "### Principais formatos de almacenamento de datos\n",
    "#### CSV (Comma-Separated Values)\n",
    "- **Texto plano**, tabular, sen **esquema** (non garda tipos de datos nin metadatos: todo son cadeas).\n",
    "- **Portabilidade altísima**, lexible por case calquera ferramenta.\n",
    "- **Desvantaxes**: perde tipos (p. ex., categorías, zonas horarias, booleanos), ocupa máis espazo e é máis **lento** en lectura/escritura; a inferencia de tipos pode fallar (p. ex., códigos postais con ceros á esquerda).\n",
    "- **Uso típico**: intercambio universal, quick&dirty, exportacións para interoperabilidade.\n",
    "\n",
    "#### Parquet\n",
    "- Formato **binario e columnar** (garda por columnas): compresión eficiente, lecturas parciais por columnas.\n",
    "- **Garda esquema** (tipos, nulos, categorías…), e adoita **preservar mellor os dtypes** ca CSV.\n",
    "- **Moi rápido e compacto** para datos grandes; ideal para ciencia de datos, lagoas de datos, ETL.\n",
    "- **Requisitos**: motor externo (`pyarrow` ou `fastparquet`) instalado.\n",
    "\n",
    "#### Excel (XLSX)\n",
    "- **Libro de cálculo** con follas, celdas, formato visual; é un contedor máis “rico”.\n",
    "- **Máis pesado e lento** cá lectura/escritura de CSV/Parquet; non está pensado para *big data*.\n",
    "- Útil cando o **destino é unha persoa** que o vai abrir en Excel, con follas nomeadas, etc.\n",
    "- **Requisitos**: motores como `openpyxl` (lectura/escritura) e/ou `xlsxwriter` (escritura).\n",
    "\n",
    "### Exportación de datos\n",
    "\n",
    "#### CSV\n",
    "Sintaxe básica:\n",
    "```python\n",
    "df.to_csv(\"arquivo.csv\", index=True/False, sep='sep', encoding= 'encoding',compression='compression_format')               # por defecto: index=True, sep=\",\", header=True\n",
    "```\n",
    "Parámetros:\n",
    "- **Index**: por defecto pandas **escribe o índice** como primeira columna. Se é un `RangeIndex` de 0..n-1, probablemente **non o queres** → usa `index=False`.\n",
    "- **Separador**: `sep=\",\"` por defecto; en moitos países úsase `sep=\";\"` (especialmente se a coma é separador decimal).\n",
    "- **Codificación**: `encoding=\"utf-8\"` (ou `\"utf-8-sig\"` se Excel che come o primeiro caracter), ás veces `\"latin-1\"`.\n",
    "- **Compresión**: podes gardar comprimido, p. ex. `to_csv(\"foo.csv.gz\", compression=\"gzip\")`.\n"
   ]
  },
  {
   "cell_type": "code",
   "execution_count": 14,
   "id": "5b91d792-95e4-435d-8c26-031968a3ce76",
   "metadata": {},
   "outputs": [],
   "source": [
    "# Exemplo escritura a un arquivo csv\n",
    "df.to_csv(\"out/arquivo.csv\")"
   ]
  },
  {
   "cell_type": "markdown",
   "id": "f7e188bb",
   "metadata": {},
   "source": [
    "#### Parquet\n",
    "A sintaxe básica para exportar a arquivo **parquet** é a seguinte:\n",
    "```python\n",
    "df.to_parquet(\"foo.parquet\", index=True/False)             # columnar, comprimido por defecto (p.ex. snappy)\n",
    "```\n",
    "Consideracións:\n",
    "- **Esquema**: garda dtypes, nulos, categorías e marcas temporais mellor ca CSV.\n",
    "- **Índice**:\n",
    "  - Se o índice é un `RangeIndex` “trivial”, pandas pode **omitilo** por defecto para aforrar espazo; por iso ao re-ler ves un DataFrame igual pero **sen columna ‘Unnamed: 0’**.\n",
    "  - Se queres **preservar** un índice significativo, usa `index=True`.\n",
    "- **Lectura por columnas** (selección de columnas) é moi rápida.\n",
    "- **Particionado por columnas** (en directorios) é útil en lagoas de datos (p. ex. por `ano`, `mes`, `día`)."
   ]
  },
  {
   "cell_type": "code",
   "execution_count": 13,
   "id": "2a6a650f",
   "metadata": {},
   "outputs": [],
   "source": [
    "#Exemplo\n",
    "df.to_parquet(\"out/foo.parquet\")"
   ]
  },
  {
   "cell_type": "markdown",
   "id": "ff0c9690",
   "metadata": {},
   "source": [
    "#### Excel\n",
    "\n",
    "Sintaxe básica:\n",
    "```python\n",
    "# Unha soa folla\n",
    "df.to_excel(\"foo.xlsx\", index = True/False, sheet_name=\"Sheet1\")  # por defecto: index=True\n",
    "\n",
    "#Varias follas\n",
    "with pd.ExcelWriter(\"multi.xlsx\") as xw:\n",
    "    df.to_excel(xw, sheet_name=\"Data\", index=False)\n",
    "    (df.describe().T).to_excel(xw, sheet_name=\"Summary\")\n",
    "```\n",
    "Consideracións:\n",
    "- **Index**: igual ca CSV; se non o queres, `index=False`.\n",
    "- **Várias follas**: usa `ExcelWriter`.\n",
    "- **Formato**: se precisas estilo/formato, co motor `xlsxwriter` podes engadir formatos, pero lembra que pandas non é unha ferramenta de maquetación."
   ]
  },
  {
   "cell_type": "code",
   "execution_count": 3,
   "id": "3ee64116",
   "metadata": {},
   "outputs": [
    {
     "ename": "NameError",
     "evalue": "name 'df' is not defined",
     "output_type": "error",
     "traceback": [
      "\u001b[1;31m---------------------------------------------------------------------------\u001b[0m",
      "\u001b[1;31mNameError\u001b[0m                                 Traceback (most recent call last)",
      "Cell \u001b[1;32mIn[3], line 2\u001b[0m\n\u001b[0;32m      1\u001b[0m \u001b[38;5;66;03m# Exemplo unha folla\u001b[39;00m\n\u001b[1;32m----> 2\u001b[0m \u001b[43mdf\u001b[49m\u001b[38;5;241m.\u001b[39mto_excel(\u001b[38;5;124m\"\u001b[39m\u001b[38;5;124mfoo.xlsx\u001b[39m\u001b[38;5;124m\"\u001b[39m)\n\u001b[0;32m      4\u001b[0m \u001b[38;5;66;03m# Exemplo varias follas\u001b[39;00m\n\u001b[0;32m      5\u001b[0m \u001b[38;5;28;01mwith\u001b[39;00m pd\u001b[38;5;241m.\u001b[39mExcelWriter(\u001b[38;5;124m\"\u001b[39m\u001b[38;5;124mmulti.xlsx\u001b[39m\u001b[38;5;124m\"\u001b[39m) \u001b[38;5;28;01mas\u001b[39;00m xw:\n",
      "\u001b[1;31mNameError\u001b[0m: name 'df' is not defined"
     ]
    }
   ],
   "source": [
    "# Exemplo unha folla\n",
    "df.to_excel(\"out/foo.xlsx\")\n",
    "\n",
    "# Exemplo varias follas\n",
    "with pd.ExcelWriter(\"out/multi.xlsx\") as xw:\n",
    "    df.to_excel(xw, sheet_name=\"Data\", index=False)\n",
    "    (df.describe().T).to_excel(xw, sheet_name=\"Summary\")"
   ]
  },
  {
   "cell_type": "markdown",
   "id": "bacca21f",
   "metadata": {},
   "source": [
    "### Importar\n",
    "#### CSV\n",
    "Sintaxe básica:\n",
    "```python\n",
    "pd.read_csv(\"arquivo.csv\", index_col=num, sep=\"sep\", decimal=\"sep_decimal\", usecols=[...],dtype={\"col\":\"tipo\"}, parse_dates=[\"data\"], na_values= [\"NA\", \"\"],low_memory=False)\n",
    "\n",
    "```\n",
    "Consideracións:\n",
    "- Ao **escribir**: `to_csv(..., index=False)` → non se crea columnade índice.\n",
    "- Ao **ler**: `read_csv(..., index_col=0)` → úsase a primeira columna como índice (.\n",
    "- **Inferencia de tipos**: CSV non garda dtypes; especifica `dtype=` cando sexa sensible (evitar erros e acelerar).\n",
    "- **Datas**: sen esquema; usa `parse_dates=` (e, se procede, `dayfirst=True`).\n",
    "- **Rendemento**: para ficheiros grandes, le en **chunks**:\n",
    "  ```python\n",
    "  it = pd.read_csv(\"foo.csv\", chunksize=100_000)\n",
    "  df = pd.concat(it, ignore_index=True)\n",
    "  ```Ç\n"
   ]
  },
  {
   "cell_type": "code",
   "execution_count": null,
   "id": "415bc58a",
   "metadata": {},
   "outputs": [],
   "source": [
    "# Exemplos\n",
    "pd.read_csv(\"out/foo.csv\")\n",
    "pd.read_csv(\"out/foo.csv\", index_col=0)       # ler a primeira columna como índice\n",
    "pd.read_csv(\"out/foo.csv\", sep=\";\", decimal=\",\")\n",
    "pd.read_csv(\"out/foo.csv\", usecols=[...], dtype={\"col\": \"string\"}, parse_dates=[\"data\"])\n",
    "pd.read_csv(\"out/foo.csv\", na_values=[\"NA\", \"\"], low_memory=False)"
   ]
  },
  {
   "cell_type": "markdown",
   "id": "0e1ef3b4",
   "metadata": {},
   "source": [
    "#### Parquet\n",
    "Sintaxe básica\n",
    "```python\n",
    "pd.read_parquet(\"foo.parquet\")\n",
    "pd.read_parquet(\"foo.parquet\", columns=[\"colA\", \"colCC\"])  # lectura selectiva por columnas\n",
    "```\n",
    "\n",
    "Consideracións:\n",
    "- **Rendemento e fidelidade de tipos** son as grandes vantaxes.\n",
    "- **Dependencias**: instala `pyarrow` (recomendado) ou `fastparquet`.\n"
   ]
  },
  {
   "cell_type": "code",
   "execution_count": null,
   "id": "1e7f051f",
   "metadata": {},
   "outputs": [],
   "source": [
    "pd.read_parquet(\"out/foo.parquet\")"
   ]
  },
  {
   "cell_type": "markdown",
   "id": "e6953a53",
   "metadata": {},
   "source": [
    "#### Excel\n",
    "Sintaxe básica:\n",
    "```python\n",
    "pd.read_excel(\"foo.xlsx\", \"Sheet1\", index_col=None, na_values=[\"NA\"])\n",
    "pd.read_excel(\"foo.xlsx\", sheet_name=0, usecols=\"A:D\", dtype={\"col\": \"Int64\"})\n",
    "```\n",
    "\n",
    "Consideracións:\n",
    "- **Motores**: `openpyxl` é o estándar para XLSX.\n",
    "- **NA e tipos**: Excel non ten un “esquema estrito”; especifica `dtype=` e `na_values=` se queres controlar a carga.\n",
    "- **Datas**: Excel garda números en días dende unha orixe; `read_excel` fai a conversión, pero revisa TZ/offset se son críticas."
   ]
  },
  {
   "cell_type": "code",
   "execution_count": null,
   "id": "889b9e3b",
   "metadata": {},
   "outputs": [],
   "source": [
    "pd.read_excel(\"out/foo.xlsx\", \"Sheet1\", index_col=None, na_values=[\"NA\"])\n",
    "pd.read_excel(\"out/foo.xlsx\", sheet_name=0, usecols=\"A:D\", dtype={\"col\": \"Int64\"})"
   ]
  },
  {
   "cell_type": "markdown",
   "id": "70a9a6ef-cee1-4e71-83ad-d339a449fb2d",
   "metadata": {},
   "source": [
    "### Consideracións adicionais\n",
    "\n",
    "- **CSV**:\n",
    "  - `to_csv(\"foo.csv\")` → escribiches o **índice por defecto**.\n",
    "  - `read_csv(\"foo.csv\")` **sen** `index_col=0` → o índice gardado convértese en **columna** `Unnamed: 0`.\n",
    "  - Evitalo:\n",
    "    - **A)** `df.to_csv(\"foo.csv\", index=False)`\n",
    "    - **B)** `pd.read_csv(\"foo.csv\", index_col=0)`\n",
    "\n",
    "- **Parquet**:\n",
    "  - `to_parquet(\"foo.parquet\")` → pode **omitir** o RangeIndex; ao ler, non aparece `Unnamed: 0`.\n",
    "  - As columnas reaparécense tal cal.\n",
    "\n",
    "- **Excel**:\n",
    "  - `to_excel(...)` por defecto **escribe índice**; ao ler, verás `Unnamed: 0` se non indicas `index_col=0`.\n",
    "  - Igual ca CSV: **ou non o escribes** (`index=False`) ou **o usas como índice** ao ler (`index_col=0`).\n",
    "\n",
    "---\n",
    "\n",
    "### Boas prácticas\n",
    "\n",
    "- **Se non precisas índice no disco**:\n",
    "  - CSV/Excel → `index=False`\n",
    "  - Parquet → por defecto; ou `index=False` explícito\n",
    "- **Controla os tipos ao ler texto**:\n",
    "  - `dtype=`, `parse_dates=`, `na_values=`, `usecols=`\n",
    "- **Rendemento e fidelidade**:\n",
    "  - Datos grandes → **Parquet**\n",
    "  - Intercambio humano/ofimático → **Excel**\n",
    "  - Intercambio universal/plano → **CSV** (coidado cos tipos)\n",
    "- **Compresión**:\n",
    "  - CSV: `compression=\"gzip\"` (ou nome `.gz`)\n",
    "  - Parquet: compresión columnar por defecto (p.ex. Snappy)\n",
    "- **Datas e zonas horarias**:\n",
    "  - CSV/Excel: poden **perder TZ**; Parquet adoita preservalas mellor\n",
    "- **Categoricals**:\n",
    "  - CSV: reverterán a `object` ao ler (a non ser que recastes)\n",
    "  - Parquet: adoita **preservar** mellor as categorías\n"
   ]
  },
  {
   "cell_type": "code",
   "execution_count": null,
   "id": "2d0645d3",
   "metadata": {},
   "outputs": [],
   "source": [
    "df_io = pd.DataFrame(np.random.randint(0,5,(10,5)))\n",
    "# df_io.to_csv(\"foo.csv\", index=False)\n",
    "# pd.read_csv(\"foo.csv\")\n",
    "# df_io.to_parquet(\"foo.parquet\")\n",
    "# pd.read_parquet(\"foo.parquet\")\n",
    "# df_io.to_excel(\"foo.xlsx\", sheet_name=\"Sheet1\")\n",
    "# pd.read_excel(\"foo.xlsx\", \"Sheet1\", index_col=None, na_values=[\"NA\"])\n",
    "df_io.head()"
   ]
  },
  {
   "cell_type": "markdown",
   "id": "0ea0742c",
   "metadata": {},
   "source": [
    "## Gotchas (cousas a ter en conta)\n",
    "\n",
    "Se fas unha operación booleana sobre unha `Series`/`DataFrame` directamente nun `if`, verás un erro de ambigüidade.\n",
    "Usa `.any()`, `.all()`, `.empty`, etc."
   ]
  },
  {
   "cell_type": "code",
   "execution_count": null,
   "id": "6824f22b",
   "metadata": {},
   "outputs": [],
   "source": [
    "# if pd.Series([False, True, False]):\n",
    "#     print(\"I was true\")\n",
    "# s = pd.Series([False, True, False])\n",
    "# if s.any():\n",
    "#     print(\"Hai polo menos un True\")"
   ]
  }
 ],
 "metadata": {
  "kernelspec": {
   "display_name": "Python 3 (ipykernel)",
   "language": "python",
   "name": "python3"
  },
  "language_info": {
   "codemirror_mode": {
    "name": "ipython",
    "version": 3
   },
   "file_extension": ".py",
   "mimetype": "text/x-python",
   "name": "python",
   "nbconvert_exporter": "python",
   "pygments_lexer": "ipython3",
   "version": "3.11.6"
  }
 },
 "nbformat": 4,
 "nbformat_minor": 5
}
