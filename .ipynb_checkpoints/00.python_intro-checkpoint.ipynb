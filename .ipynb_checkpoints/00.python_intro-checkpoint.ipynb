{
 "cells": [
  {
   "cell_type": "markdown",
   "id": "c8ba68a9",
   "metadata": {},
   "source": [
    "# Introdución a Python\n",
    "\n",
    "Este caderno está pensado como unha **introdución completa a Python** para comezar desde cero.\n",
    "Inclúe explicación teórica, sintaxe básica e moitos exemplos executables en celas de código.\n",
    "\n",
    "> Nota: as librarías como **pandas**, **matplotlib**, **scipy** ou **django** introdúcense brevemente aquí; máis adiante terán o seu propio caderno en profundidade.\n",
    "> As celas están pensadas para executarse de forma independente."
   ]
  },
  {
   "cell_type": "markdown",
   "id": "ca05eb5c",
   "metadata": {},
   "source": [
    "## 1. Introdución a Python"
   ]
  },
  {
   "cell_type": "markdown",
   "id": "37607572",
   "metadata": {},
   "source": [
    "**Que é Python?**  \n",
    "Python é unha linguaxe de programación de alto nivel, interpretada, dinámica e multiparadigma (imperativa, orientada a obxectos e funcional).  \n",
    "Foi creada por Guido van Rossum e destácase por unha sintaxe clara, unha enorme comunidade e un ecosistema de librarías moi amplo.\n",
    "\n",
    "**Características principais**  \n",
    "- Interpretada: non compilas antes, execútase directamente o código fonte.\n",
    "- Tipado dinámico: non é preciso declarar o tipo das variables explicitamente.\n",
    "- Indentación significativa: a sangría marca os bloques de código (en vez de chaves).\n",
    "- Portabilidade: código multiplataforma.\n",
    "- Baterías incluídas: libraría estándar moi completa.\n",
    "- Comunidade e ecosistema: miles de paquetes para datos, web, ciencia, IA...\n",
    "\n",
    "**Exemplo clásico: 'Ola mundo'**"
   ]
  },
  {
   "cell_type": "code",
   "execution_count": null,
   "id": "9a383c33",
   "metadata": {},
   "outputs": [],
   "source": [
    "print(\"Ola, mundo!\")"
   ]
  },
  {
   "cell_type": "markdown",
   "id": "f48b4cc8",
   "metadata": {},
   "source": [
    "## 2. Sintaxe básica: indentación, variables, comentarios"
   ]
  },
  {
   "cell_type": "markdown",
   "id": "ee35bf53",
   "metadata": {},
   "source": [
    "### Indentación\n",
    "En Python a indentación (normalmente 4 espazos) define bloques. Non usar a indentación correcta produce erros."
   ]
  },
  {
   "cell_type": "code",
   "execution_count": null,
   "id": "be4cbf8b",
   "metadata": {},
   "outputs": [],
   "source": [
    "# Exemplo de bloque con indentación\n",
    "x = 3\n",
    "if x > 0:\n",
    "    print(\"x é positivo\")  # esta liña está dentro do bloque\n",
    "print(\"Fin\")  # fóra do bloque"
   ]
  },
  {
   "cell_type": "markdown",
   "id": "49f4a9a9",
   "metadata": {},
   "source": [
    "### Variables\n",
    "- Créanse ao asignarlles un valor.\n",
    "- O nome debe comezar por letra ou _ e pode conter letras, díxitos e _.\n",
    "- Python é de **tipado dinámico**: o tipo dedúcese do valor."
   ]
  },
  {
   "cell_type": "code",
   "execution_count": null,
   "id": "f58cfaa3",
   "metadata": {},
   "outputs": [],
   "source": [
    "a = 10        # int\n",
    "b = 3.14       # float\n",
    "c = \"texto\"    # str\n",
    "d = True       # bool\n",
    "e = None       # valor nulo\n",
    "\n",
    "print(type(a), type(b), type(c), type(d), type(e))\n",
    "\n",
    "# reasignación con outro tipo\n",
    "a = \"agora son unha cadea\"\n",
    "print(a, type(a))"
   ]
  },
  {
   "cell_type": "markdown",
   "id": "9255a16f",
   "metadata": {},
   "source": [
    "### Comentarios\n",
    "- De liña: comezan con `#`\n",
    "- De varias liñas: normalmente empréganse *docstrings* entre triple comiñas (`'''` ou `\"\"\"`)."
   ]
  },
  {
   "cell_type": "code",
   "execution_count": null,
   "id": "98aecf2a",
   "metadata": {},
   "outputs": [],
   "source": [
    "# Isto é un comentario dunha liña\n",
    "\n",
    "'''\n",
    "Isto sería un bloque de comentario/docstring.\n",
    "Non se executa.\n",
    "'''\n",
    "def funcion_exemplo():\n",
    "    \"\"\"Docstring que explica que fai a función\"\"\"\n",
    "    pass"
   ]
  },
  {
   "cell_type": "markdown",
   "id": "eecbc876",
   "metadata": {},
   "source": [
    "## 3. Tipos de datos simples: números, strings, booleanos"
   ]
  },
  {
   "cell_type": "markdown",
   "id": "4295bd05",
   "metadata": {},
   "source": [
    "### Números (int, float, complex)\n",
    "- `int`: enteiros de precisión arbitraria.\n",
    "- `float`: punto flotante (dobre precisión).\n",
    "- `complex`: números complexos (parte real + imaxinaria)."
   ]
  },
  {
   "cell_type": "code",
   "execution_count": 17,
   "id": "47c38191",
   "metadata": {},
   "outputs": [
    {
     "name": "stdout",
     "output_type": "stream",
     "text": [
      "42 <class 'int'>\n",
      "3.14159 <class 'float'>\n",
      "(2+3j) <class 'complex'>\n",
      "suma: 10\n",
      "resta: 4\n",
      "produto: 21\n",
      "división: 2.3333333333333335\n",
      "división enteira: 2\n",
      "módulo: 1\n",
      "potencia: 343\n",
      "división: 2.3333\n"
     ]
    }
   ],
   "source": [
    "# int\n",
    "n = 42\n",
    "# float\n",
    "pi = 3.14159\n",
    "# complex\n",
    "z = 2 + 3j\n",
    "\n",
    "print(n, type(n))\n",
    "print(pi, type(pi))\n",
    "print(z, type(z))\n",
    "\n",
    "# Operacións básicas\n",
    "a, b = 7, 3\n",
    "print(\"suma:\", a + b)\n",
    "print(\"resta:\", a - b)\n",
    "print(\"produto:\", a * b)\n",
    "print(\"división:\", a / b)\n",
    "print(\"división enteira:\", a // b)\n",
    "print(\"módulo:\", a % b)\n",
    "print(\"potencia:\", a ** b)\n",
    "\n",
    "# amosar un número de decimais concreto:\n",
    "print(f\"división: {(a/ b):.4f}\")"
   ]
  },
  {
   "cell_type": "markdown",
   "id": "ad42f45c",
   "metadata": {},
   "source": [
    "### Strings (cadeas de texto)\n",
    "- Defínense con comiñas simples `'...'` ou dobres `\"...\"` (mesmo triple comiñas para varias liñas).\n",
    "- Inmutables.\n",
    "- Soportan *slicing*, concatenación, métodos útiles e *f-strings* para formato."
   ]
  },
  {
   "cell_type": "code",
   "execution_count": null,
   "id": "a4486c99",
   "metadata": {},
   "outputs": [],
   "source": [
    "s = \"Ola, Python!\"\n",
    "print(s, len(s))\n",
    "print(\"Primeiro carácter:\", s[0])\n",
    "print(\"Subcadea:\", s[5:11])\n",
    "print(\"Maiúsculas:\", s.upper())\n",
    "print(\"Minúsculas:\", s.lower())\n",
    "print(\"Reemplazar:\", s.replace(\"Python\", \"mundo\"))\n",
    "\n",
    "nome = \"Ana\"\n",
    "idade = 20\n",
    "print(f\"{nome} ten {idade} anos\")  # f-string"
   ]
  },
  {
   "cell_type": "markdown",
   "id": "8940706a",
   "metadata": {},
   "source": [
    "### Booleanos (bool)\n",
    "- Valores: `True` e `False`.\n",
    "- Úsanse en condicións e operacións lóxicas (`and`, `or`, `not`)."
   ]
  },
  {
   "cell_type": "code",
   "execution_count": 3,
   "id": "fc60b0a3",
   "metadata": {},
   "outputs": [
    {
     "name": "stdout",
     "output_type": "stream",
     "text": [
      "False True False\n",
      "True\n"
     ]
    }
   ],
   "source": [
    "# Definimos dúas variables booleanas\n",
    "t, f = True, False\n",
    "\n",
    "# Operadores lóxicos básicos\n",
    "print(t and f, t or f, not t)\n",
    "\n",
    "# Comprobamos se 't' é efectivamente do tipo bool\n",
    "print(isinstance(t, bool))\n"
   ]
  },
  {
   "cell_type": "markdown",
   "id": "47343685",
   "metadata": {},
   "source": [
    "## 4. Casting e operadores"
   ]
  },
  {
   "cell_type": "markdown",
   "id": "055024b0",
   "metadata": {},
   "source": [
    "### Casting (conversión de tipos)\n",
    "Empregamos funcións construtoras: `int()`, `float()`, `str()`, `bool()`, etc."
   ]
  },
  {
   "cell_type": "code",
   "execution_count": 4,
   "id": "4c339e46",
   "metadata": {},
   "outputs": [
    {
     "name": "stdout",
     "output_type": "stream",
     "text": [
      "3\n",
      "2.5\n",
      "123\n",
      "False True False\n"
     ]
    }
   ],
   "source": [
    "# Conversión explícita (casting) entre tipos en Python\n",
    "\n",
    "# Converte un número en coma flotante a enteiro (trunca, non arredonda)\n",
    "print(int(3.9))     # 3\n",
    "\n",
    "# Converte unha cadea de texto que representa un número a float\n",
    "print(float(\"2.5\"))  # 2.5\n",
    "\n",
    "# Converte un número enteiro en cadea de texto\n",
    "print(str(123))      # '123'\n",
    "\n",
    "# Conversión a booleano:\n",
    "# 0 → False, 1 → True, cadea baleira \"\" → False\n",
    "print(bool(0), bool(1), bool(\"\"))  # False True False\n"
   ]
  },
  {
   "cell_type": "markdown",
   "id": "5415af9a",
   "metadata": {},
   "source": [
    "### Operadores\n",
    "- Aritméticos: `+ - * / // % **`\n",
    "- Comparación: `== != < <= > >=`\n",
    "- Lóxicos: `and or not`\n",
    "- De pertenza: `in`, `not in`\n",
    "- De identidade: `is`, `is not`"
   ]
  },
  {
   "cell_type": "code",
   "execution_count": 5,
   "id": "32723298",
   "metadata": {},
   "outputs": [
    {
     "name": "stdout",
     "output_type": "stream",
     "text": [
      "False True True False\n",
      "True\n",
      "True False\n"
     ]
    }
   ],
   "source": [
    "# Asignación múltiple: a=5, b=2\n",
    "a, b = 5, 2\n",
    "\n",
    "# Comparacións numéricas\n",
    "print(a == b, a != b, a > b, a <= b)\n",
    "\n",
    "# Operador de pertenza: comproba se \"py\" está dentro da cadea \"python\"\n",
    "print(\"py\" in \"python\")\n",
    "\n",
    "# Listas\n",
    "x = [1, 2, 3]\n",
    "y = x          # y apunta ao MESMO obxecto que x\n",
    "z = [1, 2, 3]  # z é unha lista diferente, pero co mesmo contido\n",
    "\n",
    "# 'is' comproba identidade (mesmo obxecto na memoria)\n",
    "# '==' comproba igualdade de contido\n",
    "print(x is y, x is z)  # identidade vs igualdade\n"
   ]
  },
  {
   "cell_type": "markdown",
   "id": "48d38401",
   "metadata": {},
   "source": [
    "## 5. Tipos de datos complexos: listas, tuplas, sets, dicts, arrays"
   ]
  },
  {
   "cell_type": "markdown",
   "id": "d8b0f653",
   "metadata": {},
   "source": [
    "### Listas\n",
    "- Ordenadas, mutables, permiten duplicados.\n",
    "- Sintaxe: `[elem1, elem2, ...]`"
   ]
  },
  {
   "cell_type": "code",
   "execution_count": null,
   "id": "b84711e1",
   "metadata": {},
   "outputs": [],
   "source": [
    "# crear e acceder\n",
    "l = [10, 20, 30]\n",
    "print(l, l[0], l[-1])\n",
    "\n",
    "# modificación\n",
    "l.append(40)\n",
    "l.extend([50, 60])\n",
    "l.insert(1, 15)\n",
    "print(l)\n",
    "\n",
    "# eliminación\n",
    "l.remove(20)        # por valor\n",
    "ultimo = l.pop()    # por índice (por defecto, o último)\n",
    "print(l, ultimo)\n",
    "\n",
    "# slicing e comprensións\n",
    "print(l[1:4])\n",
    "pares = [n for n in range(10) if n % 2 == 0]\n",
    "print(pares)"
   ]
  },
  {
   "cell_type": "markdown",
   "id": "01504425",
   "metadata": {},
   "source": [
    "### Tuplas\n",
    "- Ordenadas, **inmutables**, permiten duplicados.\n",
    "- Útiles para agrupacións fixas de datos.\n",
    "- Sintaxe: `(e1, e2, ...)` ou `e1, e2`"
   ]
  },
  {
   "cell_type": "code",
   "execution_count": null,
   "id": "e6ca3f6c",
   "metadata": {},
   "outputs": [],
   "source": [
    "t = (1, \"a\", True)\n",
    "print(t, t[1])\n",
    "# desempacado\n",
    "x, y, z = t\n",
    "print(x, y, z)"
   ]
  },
  {
   "cell_type": "markdown",
   "id": "b38adc5a",
   "metadata": {},
   "source": [
    "### Sets (conxuntos)\n",
    "- Non ordenados, **únicos** (non permiten duplicados), mutables.\n",
    "- Boas operacións de teoría de conxuntos: unión, intersección...\n",
    "- Sintaxe: `{e1, e2, ...}` ou `set()`."
   ]
  },
  {
   "cell_type": "code",
   "execution_count": 5,
   "id": "dcd1f188",
   "metadata": {},
   "outputs": [
    {
     "name": "stdout",
     "output_type": "stream",
     "text": [
      "[2, 2, 3, 4]\n",
      "{2, 3, 4}\n",
      "{1, 2, 3}\n",
      "unión: {1, 2, 3, 4, 5}\n",
      "intersección: {3}\n",
      "diferenza: {1, 2}\n",
      "diferenza simétrica: {1, 2, 4, 5}\n"
     ]
    }
   ],
   "source": [
    "# Definimos dous conxuntos\n",
    "A = {1, 2, 3, 3}   # Os conxuntos eliminan duplicados automaticamente → {1, 2, 3}\n",
    "B = {3, 4, 5}\n",
    "\n",
    "# Lista con elementos repetidos\n",
    "lista_c = [2, 2, 3, 4]\n",
    "print(lista_c)  # [2, 2, 3, 4]\n",
    "\n",
    "# Convertimos a lista en set para eliminar duplicados\n",
    "C = set(lista_c)\n",
    "print(C)        # {2, 3, 4}\n",
    "\n",
    "# Amosamos o conxunto A (sen duplicados)\n",
    "print(A)        # {1, 2, 3}\n",
    "\n",
    "# Operacións conxunto A e B:\n",
    "print(\"unión:\", A | B)              # {1, 2, 3, 4, 5}\n",
    "print(\"intersección:\", A & B)       # {3}\n",
    "print(\"diferenza:\", A - B)          # {1, 2} (en A pero non en B)\n",
    "print(\"diferenza simétrica:\", A ^ B) # {1, 2, 4, 5} (en A ou B, pero non en ambos)\n"
   ]
  },
  {
   "cell_type": "markdown",
   "id": "63015d6a",
   "metadata": {},
   "source": [
    "### Diccionarios (dict)\n",
    "- Pares clave:valor, mutables, non ordenados (en Python 3.7+ manteñen orde de inserción).\n",
    "- Sintaxe: `{'k': 'v', ...}`"
   ]
  },
  {
   "cell_type": "code",
   "execution_count": null,
   "id": "da756848",
   "metadata": {},
   "outputs": [],
   "source": [
    "# inicializar dict\n",
    "d = {\"nome\": \"Ana\", \"idade\": 20}\n",
    "\n",
    "# acceder ao valor dunha clave determinada\n",
    "print(d[\"nome\"])\n",
    "\n",
    "# actualizar ou engadir un elemento\n",
    "d[\"idade\"] = 21\n",
    "d[\"cidade\"] = \"Vigo\"\n",
    "print(d)\n",
    "\n",
    "# eliminar elementos\n",
    "d.pop('cidade')\n",
    "d.pop('pais',None) # Non lanza erro se non existe\n",
    "d.popitem() # elimina último elemento inserido\n",
    "\n",
    "print(d.keys(), d.values(), d.items())\n",
    "for k, v in d.items():\n",
    "    print(k, \"->\", v)\n",
    "\n"
   ]
  },
  {
   "cell_type": "markdown",
   "id": "19f2e746-dd5a-48dc-bd7f-c40c740f456b",
   "metadata": {},
   "source": [
    "Tamén poden crearse dicionarios mediante o método **dict comprehension**:\n",
    "```python\n",
    "d = {clave: valor for elemento in iterable if condición}\r",
    "```\n",
    "\n",
    "- **clave**: clave do dicionario.\n",
    "- **valor**: valor do dicionario.\n",
    "- **for element in iterable**: o bucle que recore cada elemento dunha secuencia (lista, cadea, rango)\n",
    "- **if condición** (opcional): filtra os elementos.`"
   ]
  },
  {
   "cell_type": "code",
   "execution_count": 2,
   "id": "ec83bce1-604f-4b21-9eec-d82337889ee6",
   "metadata": {},
   "outputs": [
    {
     "name": "stdout",
     "output_type": "stream",
     "text": [
      "{0: 0, 1: 1, 2: 4, 3: 9, 4: 16}\n"
     ]
    }
   ],
   "source": [
    "# Comprensión de diccionario:\n",
    "# Creamos un diccionario onde cada clave é n e o valor é n*n\n",
    "quadrados = {n: n*n for n in range(5)}\n",
    "\n",
    "print(quadrados)\n"
   ]
  },
  {
   "cell_type": "markdown",
   "id": "e1da8840",
   "metadata": {},
   "source": [
    "### Arrays\n",
    "- O módulo integrado `array` fornece arrays máis compactos que listas, pero dun **único tipo**.\n",
    "- Para cálculo numérico avanzado emprégase **NumPy** (ver sección 11)."
   ]
  },
  {
   "cell_type": "code",
   "execution_count": 4,
   "id": "4bea0c3f",
   "metadata": {},
   "outputs": [
    {
     "name": "stdout",
     "output_type": "stream",
     "text": [
      "[1, 2, 3, 4, 5]\n"
     ]
    }
   ],
   "source": [
    "from array import array\n",
    "\n",
    "# Creamos un array do módulo 'array'\n",
    "# 'i' indica o tipo → 'signed int' (entero con signo)\n",
    "arr = array('i', [1, 2, 3, 4]) #f para floats, d para doubles...\n",
    "\n",
    "# Engadimos un novo elemento ao final\n",
    "arr.append(5)\n",
    "\n",
    "# Convertémolo a lista de Python e imprimímolo\n",
    "print(arr.tolist())\n"
   ]
  },
  {
   "cell_type": "markdown",
   "id": "9927431f",
   "metadata": {},
   "source": [
    "## 6. Control de fluxo: if/else, match, while, for"
   ]
  },
  {
   "cell_type": "markdown",
   "id": "572e2c80",
   "metadata": {},
   "source": [
    "### if / elif / else"
   ]
  },
  {
   "cell_type": "code",
   "execution_count": null,
   "id": "512f6974",
   "metadata": {},
   "outputs": [],
   "source": [
    "n = 7\n",
    "\n",
    "# Estrutura condicional:\n",
    "# Primeiro comproba se n < 0\n",
    "if n < 0:\n",
    "    print(\"negativo\")\n",
    "\n",
    "# Se non é menor ca 0, comproba se é igual a 0\n",
    "elif n == 0:\n",
    "    print(\"cero\")\n",
    "\n",
    "# Se ningunha das condicións anteriores se cumpre\n",
    "# execútase o bloque 'else'\n",
    "else:\n",
    "    print(\"positivo\")\n"
   ]
  },
  {
   "cell_type": "markdown",
   "id": "f7c4a7d7",
   "metadata": {},
   "source": [
    "### match (Python 3.10+)\n",
    "Emprega *pattern matching* para comparar estruturas."
   ]
  },
  {
   "cell_type": "code",
   "execution_count": null,
   "id": "4c6bc798",
   "metadata": {},
   "outputs": [],
   "source": [
    "# Exemplo sinxelo de match\n",
    "# Definimos unha tupla (comando, valor)\n",
    "comando = (\"move\", 10)\n",
    "\n",
    "# Usamos a estrutura match-case (semellante a switch noutras linguaxes)\n",
    "match comando:\n",
    "    # Se o comando é unha tupla (\"move\", pasos), extrae o número en 'pasos'\n",
    "    case (\"move\", pasos):\n",
    "        print(f\"mover {pasos} pasos\")\n",
    "\n",
    "    # Se o comando é unha tupla (\"xira\", angulo), extrae o número en 'angulo'\n",
    "    case (\"xira\", angulo):\n",
    "        print(f\"xirar {angulo} graos\")\n",
    "\n",
    "    # Caso por defecto (calquera outro valor)\n",
    "    case _:\n",
    "        print(\"comando descoñecido\")\n"
   ]
  },
  {
   "cell_type": "markdown",
   "id": "f4440477",
   "metadata": {},
   "source": [
    "### while"
   ]
  },
  {
   "cell_type": "code",
   "execution_count": null,
   "id": "0f7db561",
   "metadata": {},
   "outputs": [],
   "source": [
    "# Exemplo sinxelo de while\n",
    "i = 0\n",
    "\n",
    "# Bucle while: repite mentres a condición sexa verdadeira\n",
    "while i < 5:\n",
    "    print(\"i =\", i)  # imprime o valor actual de i\n",
    "    i += 1           # incrementa i en 1 en cada iteración\n"
   ]
  },
  {
   "cell_type": "markdown",
   "id": "e702335a",
   "metadata": {},
   "source": [
    "### for\n",
    "Itera sobre calquera obxecto *iterable* (lista, cadea, range...)."
   ]
  },
  {
   "cell_type": "code",
   "execution_count": null,
   "id": "39feedea",
   "metadata": {},
   "outputs": [],
   "source": [
    "# Primeiro bucle: percorremos unha cadea carácter a carácter\n",
    "for ch in \"Python\":\n",
    "    print(ch, end=\" \")   # end=\" \" evita o salto de liña e separa con espazos\n",
    "print()  # salto de liña final\n",
    "\n",
    "# Segundo bucle: usamos range(inicio, fin, paso)\n",
    "for n in range(0, 10, 2):\n",
    "    print(n, end=\" \")\n",
    "print()  # salto de liña final\n"
   ]
  },
  {
   "cell_type": "markdown",
   "id": "15d2a12e-f2c9-45dc-899b-cd5460001966",
   "metadata": {},
   "source": [
    "Os bucles `for`poden empregarse tamén para crear `arrays` dunha forma moi concisa e elegante, denominada *list comprehension'. A sintaxe é a seguinte:\n",
    "\n",
    "```python\n",
    "[expresión for elemento in iterable if condición]\n",
    "```\r\n",
    "- **expresión**: valor que se vai engadir á lista.\n",
    "- **for element in iterable**: o bucle que recore cada elemento dunha secuencia (lista, cadea, rango)\n",
    "- **if condición** (opcional): filtra os elementos.\n",
    "\n",
    "\n"
   ]
  },
  {
   "cell_type": "code",
   "execution_count": 1,
   "id": "0049b238-7a05-4e7c-811c-56b792d56256",
   "metadata": {},
   "outputs": [
    {
     "name": "stdout",
     "output_type": "stream",
     "text": [
      "[1, 4, 9, 16, 25, 36, 49, 64, 81]\n"
     ]
    }
   ],
   "source": [
    "# Usamos unha list comprehension:\n",
    "# para cada n no rango 1..9 (recorda que range(1,10) chega ata 9),\n",
    "# calculamos n**2 (o cadrado de n) e gardámolo na lista.\n",
    "cadrados = [n**2 for n in range(1, 10)]\n",
    "\n",
    "# Amosamos o resultado\n",
    "print(cadrados)\n"
   ]
  },
  {
   "cell_type": "markdown",
   "id": "87b9c3b4",
   "metadata": {},
   "source": [
    "## 7. Funcións: declaración e uso, decoradores, lambda, range"
   ]
  },
  {
   "cell_type": "markdown",
   "id": "ca71706b",
   "metadata": {},
   "source": [
    "### Declaración e retorno"
   ]
  },
  {
   "cell_type": "code",
   "execution_count": null,
   "id": "bc6f5a01",
   "metadata": {},
   "outputs": [],
   "source": [
    "# Definimos unha función chamada 'saudar' que recibe un parámetro 'nome'\n",
    "def saudar(nome):\n",
    "    # A función devolve un texto usando f-string (formateo de cadeas)\n",
    "    return f\"Ola, {nome}!\"\n",
    "\n",
    "# Chamamos á función pasando o argumento \"Marta\"\n",
    "print(saudar(\"Marta\"))\n"
   ]
  },
  {
   "cell_type": "markdown",
   "id": "2c7e704d",
   "metadata": {},
   "source": [
    "### Parámetros por defecto, args e kwargs"
   ]
  },
  {
   "cell_type": "code",
   "execution_count": 3,
   "id": "81b8e81a",
   "metadata": {},
   "outputs": [
    {
     "name": "stdout",
     "output_type": "stream",
     "text": [
      "7 5\n",
      "10\n",
      "nome = Ana\n",
      "idade = 20\n"
     ]
    }
   ],
   "source": [
    "def sumar(a, b=0):\n",
    "    # Esta función suma dous números.\n",
    "    # O primeiro argumento (a) é obrigatorio.\n",
    "    # O segundo (b) é opcional e por defecto vale 0.\n",
    "    return a + b\n",
    "\n",
    "def total(*args):\n",
    "    # Esta función acepta un número variable de argumentos\n",
    "    # (gardados nunha tupla chamada args).\n",
    "    # Usa a función integrada sum() para obter a suma de todos.\n",
    "    return sum(args)\n",
    "\n",
    "def mostrar(**kwargs):\n",
    "    # Esta función acepta un número variable de argumentos con nome\n",
    "    # (gardados nun dicionario chamado kwargs).\n",
    "    # Recorre o dicionario e amosa cada par clave = valor.\n",
    "    for k, v in kwargs.items():\n",
    "        print(k, \"=\", v)\n",
    "\n",
    "# --- Chamadas ás funcións ---\n",
    "\n",
    "print(sumar(3, 4), sumar(5))\n",
    "# sumar(3, 4) → a=3, b=4 → devolve 7\n",
    "# sumar(5)    → a=5, b=0 (valor por defecto) → devolve 5\n",
    "# imprime \"7 5\"\n",
    "\n",
    "print(total(1, 2, 3, 4))\n",
    "# total(1,2,3,4) → args = (1,2,3,4)\n",
    "# sum(args) = 10\n",
    "# imprime \"10\"\n",
    "\n",
    "mostrar(nome=\"Ana\", idade=20)\n",
    "# kwargs = {\"nome\": \"Ana\", \"idade\": 20}\n",
    "# Recorre o dicionario:\n",
    "# imprime:\n",
    "# nome = Ana\n",
    "# idade = 20\n"
   ]
  },
  {
   "cell_type": "markdown",
   "id": "d5d53eab",
   "metadata": {},
   "source": [
    "### Funcións lambda (anónimas)"
   ]
  },
  {
   "cell_type": "code",
   "execution_count": null,
   "id": "5ebdf33c",
   "metadata": {},
   "outputs": [],
   "source": [
    "dobrar = lambda x: x * 2\n",
    "print(list(map(dobrar, [1,2,3])))\n",
    "\n",
    "# combinación con sorted e key\n",
    "palabras = [\"python\", \"é\", \"fermosa\"]\n",
    "print(sorted(palabras, key=lambda s: len(s)))"
   ]
  },
  {
   "cell_type": "markdown",
   "id": "85a8e26e",
   "metadata": {},
   "source": [
    "### Decoradores\n",
    "Un decorador é unha función especial que:\n",
    "- **Recibe como entrada** outra función.\n",
    "- **Crea e devolve unha nova función**, que normalmente chama á orixinal, pero **engadindo código** extra antes ou despois.\n",
    "- Permite **modificar ou ampliar o comportamento** dunha función sen cambiar o seu código.\n"
   ]
  },
  {
   "cell_type": "code",
   "execution_count": 4,
   "id": "f09af4f1",
   "metadata": {},
   "outputs": [
    {
     "name": "stdout",
     "output_type": "stream",
     "text": [
      "[LOG] chamando a multiplicar con (3, 5) {}\n",
      "[LOG] multiplicar devolveu 15\n"
     ]
    },
    {
     "data": {
      "text/plain": [
       "15"
      ]
     },
     "execution_count": 4,
     "metadata": {},
     "output_type": "execute_result"
    }
   ],
   "source": [
    "def log(func):\n",
    "    # Esta función é un DECORADOR.\n",
    "    # Recibe como argumento outra función (func).\n",
    "    def envoltura(*args, **kwargs):\n",
    "        # A función \"envoltura\" substitúe á orixinal.\n",
    "        # Pode recibir calquera número de argumentos posicionais (*args)\n",
    "        # e con nome (**kwargs).\n",
    "        \n",
    "        # Antes de executar a función orixinal:\n",
    "        print(f\"[LOG] chamando a {func.__name__} con {args} {kwargs}\")\n",
    "        \n",
    "        # Executamos a función orixinal con eses mesmos argumentos:\n",
    "        resultado = func(*args, **kwargs)\n",
    "        \n",
    "        # Despois de executar, rexistramos o resultado:\n",
    "        print(f\"[LOG] {func.__name__} devolveu {resultado}\")\n",
    "        \n",
    "        # Devolvemos o resultado para que a función siga funcionando igual.\n",
    "        return resultado\n",
    "    \n",
    "    # Retornamos a función \"envoltura\" xa preparada para envolver á orixinal.\n",
    "    return envoltura\n",
    "\n",
    "@log\n",
    "def multiplicar(a, b):\n",
    "    # Decoramos a función \"multiplicar\" con @log.\n",
    "    # Isto fai que, ao chamala, realmente se execute \"envoltura\".\n",
    "    return a * b\n",
    "\n",
    "# Chamamos á función decorada:\n",
    "multiplicar(3, 5)\n",
    "# O que sucede realmente é:\n",
    "# 1. \"envoltura\" imprime unha mensaxe de log coa chamada.\n",
    "# 2. Chama á función orixinal multiplicar(3,5).\n",
    "# 3. Imprime outra mensaxe de log co resultado.\n",
    "# 4. Devolve o resultado.\n"
   ]
  },
  {
   "cell_type": "markdown",
   "id": "ca2e6c09",
   "metadata": {},
   "source": [
    "### range\n",
    "`range(inicio, fin, paso)` xera unha secuencia de enteiros (fin excluído)."
   ]
  },
  {
   "cell_type": "code",
   "execution_count": null,
   "id": "a82a35b5",
   "metadata": {},
   "outputs": [],
   "source": [
    "print(list(range(5)))         # 0..4\n",
    "print(list(range(2, 10)))      # 2..9\n",
    "print(list(range(0, 10, 3)))   # 0,3,6,9"
   ]
  },
  {
   "cell_type": "markdown",
   "id": "d54e3cd1",
   "metadata": {},
   "source": [
    "## 8. Entrada e saída de datos de usuario: print, input"
   ]
  },
  {
   "cell_type": "markdown",
   "id": "516e63c6",
   "metadata": {},
   "source": [
    "### print\n",
    "Imprime valores. Parám. útiles: `sep`, `end`, `file`, `flush`."
   ]
  },
  {
   "cell_type": "code",
   "execution_count": null,
   "id": "774cabe9",
   "metadata": {},
   "outputs": [],
   "source": [
    "# Imprimimos varias cadeas usando separador e final personalizados\n",
    "print(\"A\", \"B\", \"C\", sep=\"-\", end=\"\\n\\n\")\n",
    "\n",
    "# Outra impresión normal\n",
    "print(\"Liña final\")\n"
   ]
  },
  {
   "cell_type": "markdown",
   "id": "2a7dd8bc",
   "metadata": {},
   "source": [
    "### input\n",
    "Le unha cadea desde a entrada estándar. **Ollo**: en notebooks, `input()` detén a execución ata introducir datos."
   ]
  },
  {
   "cell_type": "code",
   "execution_count": 6,
   "id": "fa459af6",
   "metadata": {},
   "outputs": [
    {
     "name": "stdin",
     "output_type": "stream",
     "text": [
      "Como te chamas?  Adri\n"
     ]
    },
    {
     "name": "stdout",
     "output_type": "stream",
     "text": [
      "Ola, Adri\n"
     ]
    }
   ],
   "source": [
    "# A función input() mostra un texto e espera que o usuario escriba algo\n",
    "# O que se introduce sempre se devolve como cadea (string)\n",
    "nome = input(\"Como te chamas? \")\n",
    "\n",
    "# Imprime un saúdo co valor introducido\n",
    "print(\"Ola,\", nome)\n"
   ]
  },
  {
   "cell_type": "markdown",
   "id": "6899f47a",
   "metadata": {},
   "source": [
    "## 9. Introdución á orientación a obxectos (OO) en Python"
   ]
  },
  {
   "cell_type": "markdown",
   "id": "33cb2625",
   "metadata": {},
   "source": [
    "### Clases e obxectos\n",
    "- Unha **clase** define a estrutura e o comportamento.\n",
    "- Un **obxecto** é unha instancia dunha clase.\n",
    "- Métodos especiais: `__init__`, `__str__`, `__repr__`..."
   ]
  },
  {
   "cell_type": "code",
   "execution_count": 7,
   "id": "1e2473bb",
   "metadata": {},
   "outputs": [
    {
     "name": "stdout",
     "output_type": "stream",
     "text": [
      "Ola, son Ana\n",
      "Persoa(Ana, 20)\n"
     ]
    }
   ],
   "source": [
    "# Definimos unha clase chamada Persoa\n",
    "class Persoa:\n",
    "    # Método constructor (__init__): créase cada vez que instanciamos un obxecto\n",
    "    def __init__(self, nome, idade):\n",
    "        self.nome = nome      # atributo de instancia 'nome'\n",
    "        self.idade = idade    # atributo de instancia 'idade'\n",
    "\n",
    "    # Método normal da clase\n",
    "    def saudar(self):\n",
    "        return f\"Ola, son {self.nome}\"\n",
    "\n",
    "    # Método especial __str__: define a representación en forma de texto\n",
    "    def __str__(self):\n",
    "        return f\"Persoa({self.nome}, {self.idade})\"\n",
    "\n",
    "# Creamos un obxecto da clase Persoa\n",
    "p = Persoa(\"Ana\", 20)\n",
    "\n",
    "# Chamamos ao método saudar()\n",
    "print(p.saudar())\n",
    "\n",
    "# Imprimimos o obxecto directamente → chama internamente a __str__()\n",
    "print(p)\n"
   ]
  },
  {
   "cell_type": "markdown",
   "id": "19822d34",
   "metadata": {},
   "source": [
    "### Herdanza e polimorfismo"
   ]
  },
  {
   "cell_type": "code",
   "execution_count": 8,
   "id": "01596f0a",
   "metadata": {},
   "outputs": [
    {
     "name": "stdout",
     "output_type": "stream",
     "text": [
      "Ola, son Brais e gaño 1800€\n",
      "Ola, son Lucía\n"
     ]
    }
   ],
   "source": [
    "# Definimos unha subclase de Persoa chamada Empregado\n",
    "class Empregado(Persoa):\n",
    "    def __init__(self, nome, idade, salario):\n",
    "        # Chamamos ao constructor da clase nai (Persoa) con super()\n",
    "        super().__init__(nome, idade)\n",
    "        self.salario = salario  # atributo propio de Empregado\n",
    "\n",
    "    # Sobreescribimos o método saudar() → polimorfismo\n",
    "    def saudar(self):\n",
    "        return f\"Ola, son {self.nome} e gaño {self.salario}€\"\n",
    "\n",
    "# Definimos outra subclase de Persoa chamada Estudante\n",
    "class Estudante(Persoa):\n",
    "    def __init__(self, nome, idade, curso):\n",
    "        super().__init__(nome, idade)\n",
    "        self.curso = curso  # atributo propio de Estudante\n",
    "        # Neste caso non sobreescribimos saudar()\n",
    "\n",
    "# Creamos unha lista heteroxénea con obxectos de distintas subclases\n",
    "persoas = [\n",
    "    Empregado(\"Brais\", 30, 1800),\n",
    "    Estudante(\"Lucía\", 22, \"1º DAM\")\n",
    "]\n",
    "\n",
    "# Recorremos a lista e chamamos a saudar() en cada obxecto\n",
    "for pers in persoas:\n",
    "    print(pers.saudar())  # chamada polimórfica\n"
   ]
  },
  {
   "cell_type": "markdown",
   "id": "31557420",
   "metadata": {},
   "source": [
    "### Encapsulamento (propiedades)"
   ]
  },
  {
   "cell_type": "code",
   "execution_count": null,
   "id": "236ea5f3",
   "metadata": {},
   "outputs": [],
   "source": [
    "class ContaBancaria:\n",
    "    def __init__(self, saldo=0):\n",
    "        # Atributo interno \"protexido\" por convención (guión baixo).\n",
    "        # Non hai bloqueo real, pero indica \"non accedas directamente dende fóra\".\n",
    "        self._saldo = saldo\n",
    "\n",
    "    @property\n",
    "    def saldo(self):\n",
    "        # Propiedade de só lectura: permite consultar o saldo como se fose un atributo,\n",
    "        # p.ex. c.saldo, pero sen poder asignarlle un valor directamente.\n",
    "        return self._saldo\n",
    "\n",
    "    def ingresar(self, cant):\n",
    "        # Ingresa cartos só se a cantidade é positiva.\n",
    "        # Se cant <= 0, non fai nada (poderías lanzar un ValueError se queres estrito).\n",
    "        if cant > 0:\n",
    "            self._saldo += cant\n",
    "\n",
    "    def retirar(self, cant):\n",
    "        # Retira cartos só se a cantidade é positiva e hai saldo suficiente.\n",
    "        # Se non se cumpre a condición, non fai nada (tamén se podería lanzar erro).\n",
    "        if 0 < cant <= self._saldo:\n",
    "            self._saldo -= cant\n",
    "\n",
    "\n",
    "# --- Exemplo de uso ---\n",
    "c = ContaBancaria(100)  # crea a conta cun saldo inicial de 100\n",
    "c.ingresar(50)          # saldo: 150\n",
    "c.retirar(30)           # saldo: 120\n",
    "print(c.saldo)          # imprime 120\n"
   ]
  },
  {
   "cell_type": "markdown",
   "id": "264156cf",
   "metadata": {},
   "source": [
    "## 10. Módulos de Python: concepto, importación e exemplos rápidos"
   ]
  },
  {
   "cell_type": "markdown",
   "id": "39edb4bc",
   "metadata": {},
   "source": [
    "Un **módulo** é un ficheiro `.py` con definicións (funcións, clases, constantes).  \n",
    "A **importación** permite reutilizar código: `import modulo`, `from modulo import nome`, `import modulo as alias`.\n",
    "\n",
    "A continuación vanse mostrar exemplos **básicos** dalgúns módulos habituais.  \n",
    "> Nota: algunhas librarías externas poden non estar instaladas no teu contorno. Estes exemplos están pensados para ver a sintaxe; se unha importación falla, instala previamente o paquete."
   ]
  },
  {
   "cell_type": "markdown",
   "id": "d6e15a72",
   "metadata": {},
   "source": [
    "### datetime (traballo con datas e horas)"
   ]
  },
  {
   "cell_type": "code",
   "execution_count": null,
   "id": "f1f1a297",
   "metadata": {},
   "outputs": [],
   "source": [
    "from datetime import datetime, timedelta, date\n",
    "\n",
    "# Obtemos a data e hora actuais (inclúe ano, mes, día, hora, minuto, segundo...)\n",
    "agora = datetime.now()\n",
    "\n",
    "# Obtemos a data de hoxe e sumámoslle 1 día con timedelta\n",
    "manan = date.today() + timedelta(days=1)\n",
    "\n",
    "# Formateamos a data/hora actual cun patrón específico:\n",
    "# %Y = ano, %m = mes, %d = día, %H = hora (24h), %M = minutos\n",
    "print(agora.strftime(\"%Y-%m-%d %H:%M\"))\n",
    "\n",
    "# Amosamos a data de mañá (como obxecto date → imprime en formato ISO: YYYY-MM-DD)\n",
    "print(\"Mañá:\", manan)\n"
   ]
  },
  {
   "cell_type": "markdown",
   "id": "a46c65ba",
   "metadata": {},
   "source": [
    "### math (funcións matemáticas)"
   ]
  },
  {
   "cell_type": "code",
   "execution_count": 5,
   "id": "feb5dea6",
   "metadata": {},
   "outputs": [
    {
     "name": "stdout",
     "output_type": "stream",
     "text": [
      "4.0 3.141592653589793\n",
      "120\n",
      "3.1415926536\n"
     ]
    }
   ],
   "source": [
    "import math\n",
    "\n",
    "# math.sqrt(16): calcula a raíz cadrada de 16 → 4.0\n",
    "# math.pi: constante matemática π (3.141592...)\n",
    "print(math.sqrt(16), math.pi)\n",
    "\n",
    "# math.factorial(5): calcula 5! = 5*4*3*2*1 → 120\n",
    "print(math.factorial(5))\n",
    "\n",
    "# Formateo con f-string:\n",
    "# {math.pi:.10f} → mostra π con 10 decimais\n",
    "print(f\"{math.pi:.10f}\")\n"
   ]
  },
  {
   "cell_type": "markdown",
   "id": "352ae10c",
   "metadata": {},
   "source": [
    "### json (serialización a JSON)"
   ]
  },
  {
   "cell_type": "code",
   "execution_count": null,
   "id": "03f7b539",
   "metadata": {},
   "outputs": [],
   "source": [
    "import json\n",
    "\n",
    "# Diccionario de Python (estrutura de datos nativa)\n",
    "datos = {\"nome\": \"Ana\", \"idade\": 20}\n",
    "\n",
    "# json.dumps(): converte o diccionario nunha cadea en formato JSON\n",
    "s = json.dumps(datos)\n",
    "\n",
    "# Amosamos a cadea JSON resultante\n",
    "print(s)\n",
    "\n",
    "# json.loads(): fai a operación inversa, \n",
    "# converte a cadea JSON de novo nun diccionario de Python\n",
    "print(json.loads(s))\n"
   ]
  },
  {
   "cell_type": "markdown",
   "id": "cba4ece4",
   "metadata": {},
   "source": [
    "### re (expresións regulares)"
   ]
  },
  {
   "cell_type": "code",
   "execution_count": null,
   "id": "7d1b2c4b",
   "metadata": {},
   "outputs": [],
   "source": [
    "import re\n",
    "\n",
    "# Texto de exemplo cun correo\n",
    "texto = \"O meu correo é exemplo@dominio.com\"\n",
    "\n",
    "# re.search() busca a primeira coincidencia do patrón no texto\n",
    "# Patrón:\n",
    "# [\\w.-]+ → un ou máis caracteres de palabra (\\w = letras, díxitos, \"_\"),\n",
    "#            tamén admite \".\" e \"-\"\n",
    "# @       → símbolo arroba literal\n",
    "# [\\w.-]+ → dominio: letras, números, guións ou puntos\n",
    "m = re.search(r\"[\\w.-]+@[\\w.-]+\", texto)\n",
    "\n",
    "# Se hai coincidencia, m.group() devolve o texto atopado\n",
    "# Se non, devolve \"non atopado\"\n",
    "print(m.group() if m else \"non atopado\")\n"
   ]
  },
  {
   "cell_type": "markdown",
   "id": "1dfce277",
   "metadata": {},
   "source": [
    "### numpy (arrays e cálculo numérico) — vista rápida"
   ]
  },
  {
   "cell_type": "code",
   "execution_count": 9,
   "id": "f29058b9",
   "metadata": {},
   "outputs": [
    {
     "name": "stdout",
     "output_type": "stream",
     "text": [
      "[1 2 3] int64 (3,)\n",
      "suma: [11 12 13]\n"
     ]
    }
   ],
   "source": [
    "# Intro rápida: se non o tes instalado, podes precisar: pip install numpy\n",
    "\n",
    "\n",
    "try:\n",
    "    import numpy as np  # Intentamos importar o módulo NumPy\n",
    "    \n",
    "    # Creamos un array NumPy a partir dunha lista\n",
    "    a = np.array([1, 2, 3])\n",
    "    \n",
    "    # Amosamos o array, o tipo de datos (dtype) e a súa forma (shape)\n",
    "    print(a, a.dtype, a.shape)   # [1 2 3] int64 (3,)\n",
    "    \n",
    "    # Operación vectorizada: suma 10 a cada elemento\n",
    "    print(\"suma:\", a + 10)       # [11 12 13]\n",
    "\n",
    "# Se ocorre algún erro (por exemplo, se NumPy non está instalado)\n",
    "# captúrase a excepción e imprímese unha mensaxe informativa\n",
    "except Exception as e:\n",
    "    print(\"NumPy non dispoñible:\", e)\n"
   ]
  },
  {
   "cell_type": "markdown",
   "id": "abc23099",
   "metadata": {},
   "source": [
    "### scipy (ciencia e enxeñaría) — vista rápida"
   ]
  },
  {
   "cell_type": "code",
   "execution_count": null,
   "id": "28aa3dd0",
   "metadata": {},
   "outputs": [],
   "source": [
    "# Exemplo conceptual (pode requirir instalación previa)\n",
    "try:\n",
    "    # Importamos do módulo scipy.stats distribucións estatísticas\n",
    "    from scipy import stats\n",
    "    \n",
    "    # stats.norm representa a distribución normal estándar N(0,1)\n",
    "    # Chamamos a .mean() para calcular a súa media teórica\n",
    "    print(\"media dunha normal(0,1):\", stats.norm.mean())\n",
    "\n",
    "# Se SciPy non está instalado ou ocorre outro erro, captúrase a excepción\n",
    "except Exception as e:\n",
    "    print(\"SciPy non dispoñible:\", e)\n"
   ]
  },
  {
   "cell_type": "markdown",
   "id": "ee762da9",
   "metadata": {},
   "source": [
    "### pandas (análise de datos) — vista rápida"
   ]
  },
  {
   "cell_type": "code",
   "execution_count": 10,
   "id": "2f40f3ef",
   "metadata": {},
   "outputs": [
    {
     "name": "stdout",
     "output_type": "stream",
     "text": [
      "    nome  idade\n",
      "0    Ana     20\n",
      "1  Brais     30\n"
     ]
    }
   ],
   "source": [
    "try:\n",
    "    import pandas as pd   # Importamos a libraría pandas (traballo con datos en táboas)\n",
    "\n",
    "    # Creamos un DataFrame a partir dun diccionario de listas\n",
    "    df = pd.DataFrame({\n",
    "        \"nome\": [\"Ana\", \"Brais\"],   # Columna 'nome'\n",
    "        \"idade\": [20, 30]           # Columna 'idade'\n",
    "    })\n",
    "\n",
    "    # Amosamos o DataFrame\n",
    "    print(df)\n",
    "\n",
    "# Se pandas non está instalado ou hai outro erro, captúrase a excepción\n",
    "except Exception as e:\n",
    "    print(\"pandas non dispoñible:\", e)\n"
   ]
  },
  {
   "cell_type": "markdown",
   "id": "21a5166b",
   "metadata": {},
   "source": [
    "### django (desenvolvemento web) — vista rápida"
   ]
  },
  {
   "cell_type": "code",
   "execution_count": null,
   "id": "7c0b4e48",
   "metadata": {},
   "outputs": [],
   "source": [
    "# Mostramos só a consulta de versión, sen crear proxecto\n",
    "try:\n",
    "    import django   # Importamos o framework Django\n",
    "\n",
    "    # Obtemos a versión instalada de Django coa función get_version()\n",
    "    print(\"Django versión:\", django.get_version())\n",
    "\n",
    "# Se Django non está instalado ou ocorre outro erro, captúrase a excepción\n",
    "except Exception as e:\n",
    "    print(\"Django non dispoñible:\", e)\n"
   ]
  },
  {
   "cell_type": "markdown",
   "id": "22b3e328",
   "metadata": {},
   "source": [
    "### matplotlib (visualización) — vista rápida"
   ]
  },
  {
   "cell_type": "code",
   "execution_count": 12,
   "id": "2a984d55",
   "metadata": {},
   "outputs": [
    {
     "data": {
      "image/png": "[encoded data removed]",
      "text/plain": [
       "<Figure size 640x480 with 1 Axes>"
      ]
     },
     "metadata": {},
     "output_type": "display_data"
    },
    {
     "name": "stdout",
     "output_type": "stream",
     "text": [
      "Gráfica creada\n"
     ]
    }
   ],
   "source": [
    "# Exemplo mínimo (pode abrir unha figura)\n",
    "try:\n",
    "    import matplotlib.pyplot as plt   # Importamos a libraría principal para gráficos\n",
    "\n",
    "    # Datos de exemplo\n",
    "    xs = [0, 1, 2, 3]   # valores no eixo X\n",
    "    ys = [0, 1, 4, 9]   # valores no eixo Y (n^2)\n",
    "\n",
    "    # Creamos unha gráfica de liñas simple\n",
    "    plt.plot(xs, ys)\n",
    "\n",
    "    # Engadimos título e etiquetas dos eixos\n",
    "    plt.title(\"Gráfica sinxela\")\n",
    "    plt.xlabel(\"x\")\n",
    "    plt.ylabel(\"y\")\n",
    "\n",
    "    plt.show()  # Mostra a gráfica nunha ventá; comentar se non hai contorno gráfico\n",
    "\n",
    "    print(\"Gráfica creada\")\n",
    "\n",
    "# Se matplotlib non está instalado ou ocorre outro erro\n",
    "except Exception as e:\n",
    "    print(\"matplotlib non dispoñible:\", e)\n"
   ]
  },
  {
   "cell_type": "markdown",
   "id": "3c81562c",
   "metadata": {},
   "source": [
    "## 11. NumPy en profundidade"
   ]
  },
  {
   "cell_type": "markdown",
   "id": "5d8d9e4d",
   "metadata": {},
   "source": [
    "**Obxectivo:** comprender os *ndarrays*, creación, selección, operacións vectorizadas, *broadcasting*, funcións útiles e álxebra lineal.\n",
    "\n",
    "> Se non tes NumPy instalado, executa `pip install numpy` nun terminal do teu contorno."
   ]
  },
  {
   "cell_type": "markdown",
   "id": "6e22c153",
   "metadata": {},
   "source": [
    "### Creación de arrays"
   ]
  },
  {
   "cell_type": "code",
   "execution_count": 1,
   "id": "4ac21499",
   "metadata": {},
   "outputs": [
    {
     "name": "stdout",
     "output_type": "stream",
     "text": [
      "a: [1 2 3] (3,)\n",
      "b:\n",
      " [[1 2 3]\n",
      " [4 5 6]]\n",
      "zeros:\n",
      " [[0. 0. 0.]\n",
      " [0. 0. 0.]]\n",
      "ones: [1. 1. 1. 1. 1.]\n",
      "arange: [0 2 4 6 8]\n",
      "lin: [0.   0.25 0.5  0.75 1.  ]\n"
     ]
    }
   ],
   "source": [
    "import numpy as np   # Importamos NumPy, biblioteca para cálculo numérico con arrays\n",
    "\n",
    "# Array unidimensional (vector) con tres elementos\n",
    "a = np.array([1, 2, 3])\n",
    "\n",
    "# Array bidimensional (matriz 2x3)\n",
    "b = np.array([[1, 2, 3],\n",
    "              [4, 5, 6]])\n",
    "\n",
    "# Matriz de ceros de tamaño 2x3\n",
    "zeros = np.zeros((2, 3))\n",
    "\n",
    "# Vector de 5 elementos, todos con valor 1\n",
    "ones = np.ones(5)\n",
    "\n",
    "# Vector con valores desde 0 ata <10, con paso de 2 → [0, 2, 4, 6, 8]\n",
    "arange = np.arange(0, 10, 2)\n",
    "\n",
    "# 5 valores equiespaciados entre 0 e 1 → [0. , 0.25, 0.5 , 0.75, 1. ]\n",
    "lin = np.linspace(0, 1, 5)\n",
    "\n",
    "# Mostramos os resultados\n",
    "print(\"a:\", a, a.shape)    # O array a e a súa forma (3,) → vector de 3 elementos\n",
    "print(\"b:\\n\", b)           # A matriz b, dúas filas e tres columnas\n",
    "print(\"zeros:\\n\", zeros)   # Matriz de ceros\n",
    "print(\"ones:\", ones)       # Vector de uns\n",
    "print(\"arange:\", arange)   # Secuencia xerada con arange\n",
    "print(\"lin:\", lin)         # Valores xerados con linspace"
   ]
  },
  {
   "cell_type": "markdown",
   "id": "3d44d14f",
   "metadata": {},
   "source": [
    "### Tipos, forma e *reshape*"
   ]
  },
  {
   "cell_type": "code",
   "execution_count": 2,
   "id": "df04aa16",
   "metadata": {},
   "outputs": [
    {
     "name": "stdout",
     "output_type": "stream",
     "text": [
      "int64 int64\n",
      "c: [ 0  1  2  3  4  5  6  7  8  9 10 11] shape: (12,)\n",
      "reshape 3x4:\n",
      " [[ 0  1  2  3]\n",
      " [ 4  5  6  7]\n",
      " [ 8  9 10 11]]\n"
     ]
    }
   ],
   "source": [
    "# Mostra o tipo de datos (dtype) de cada array.\n",
    "# En NumPy, todos os elementos dun array teñen o mesmo tipo.\n",
    "print(a.dtype, b.dtype)\n",
    "\n",
    "# Creamos un array dende 0 ata 11 (12 elementos en total).\n",
    "c = np.arange(12)\n",
    "\n",
    "# Amosamos o array 'c' e a súa forma (shape).\n",
    "# A forma (12,) significa que é un vector unidimensional de 12 elementos.\n",
    "print(\"c:\", c, \"shape:\", c.shape)\n",
    "\n",
    "# Cambiamos a forma de 'c' a unha matriz 3x4.\n",
    "# reshape reorganiza os datos sen modificalos.\n",
    "print(\"reshape 3x4:\\n\", c.reshape(3, 4))\n"
   ]
  },
  {
   "cell_type": "markdown",
   "id": "12601099",
   "metadata": {},
   "source": [
    "### Indexación e *slicing*"
   ]
  },
  {
   "cell_type": "code",
   "execution_count": 3,
   "id": "d46fa715",
   "metadata": {},
   "outputs": [
    {
     "name": "stdout",
     "output_type": "stream",
     "text": [
      "[[1 2 3]\n",
      " [4 5 6]\n",
      " [7 8 9]]\n",
      "elemento (0,1): 2\n",
      "fila 1: [4 5 6]\n",
      "última: [7 8 9]\n",
      "columna 2: [3 6 9]\n",
      "submatriz 0:2, 1:3:\n",
      " [[2 3]\n",
      " [5 6]]\n"
     ]
    }
   ],
   "source": [
    "# Creamos un array cos números do 1 ao 9\n",
    "# e dámolle forma de matriz 3x3\n",
    "M = np.arange(1, 10).reshape(3, 3)\n",
    "\n",
    "# Amosamos a matriz completa\n",
    "print(M)\n",
    "\n",
    "# Accedemos ao elemento da fila 0, columna 1 (lembrar que comeza en 0)\n",
    "print(\"elemento (0,1):\", M[0, 1])\n",
    "\n",
    "# Extraemos a fila 1 completa\n",
    "print(\"fila 1:\", M[1, :])\n",
    "\n",
    "# Extraemos a última fila\n",
    "print (\"última:\", M[-1,:])\n",
    "\n",
    "# Extraemos a columna 2 completa\n",
    "print(\"columna 2:\", M[:, 2])\n",
    "\n",
    "# Extraemos unha submatriz (filas 0 ata 1 e columnas 1 ata 2)\n",
    "# O intervalo en Python é exclusivo no final, por iso 0:2 colle filas 0 e 1\n",
    "# e 1:3 colle columnas 1 e 2\n",
    "print(\"submatriz 0:2, 1:3:\\n\", M[0:2, 1:3])\n"
   ]
  },
  {
   "cell_type": "markdown",
   "id": "bd10e029",
   "metadata": {},
   "source": [
    "### Operacións vectorizadas e *broadcasting*"
   ]
  },
  {
   "cell_type": "code",
   "execution_count": null,
   "id": "1f3d3f35",
   "metadata": {},
   "outputs": [],
   "source": [
    "import numpy as np\n",
    "\n",
    "# Creamos dous vectores unidimensionais\n",
    "x = np.array([1, 2, 3])\n",
    "y = np.array([10, 20, 30])\n",
    "\n",
    "# Suma elemento a elemento\n",
    "print(\"suma:\", x + y)   # [11 22 33]\n",
    "\n",
    "# Produto elemento a elemento (non é produto matricial!)\n",
    "print(\"produto:\", x * y)  # [10 40 90]\n",
    "\n",
    "# Operación entre vector e escalar (broadcasting do escalar)\n",
    "print(\"scalar + vector:\", x + 100)  # [101 102 103]\n",
    "\n",
    "# Matriz 3x3 de uns\n",
    "M = np.ones((3, 3))\n",
    "\n",
    "# Vector de tres elementos\n",
    "v = np.array([1, 2, 3])\n",
    "\n",
    "# Broadcasting: o vector v expándese para poder sumarse a cada fila de M\n",
    "print(\"broadcasting M+v:\\n\", M + v)\n"
   ]
  },
  {
   "cell_type": "markdown",
   "id": "9cf43bde",
   "metadata": {},
   "source": [
    "### Estatística e funcións comúns"
   ]
  },
  {
   "cell_type": "code",
   "execution_count": null,
   "id": "94003eea",
   "metadata": {},
   "outputs": [],
   "source": [
    "import numpy as np\n",
    "\n",
    "# Xeramos unha matriz 3x4 con distribución normal N(0,1)\n",
    "# Usamos o novo xerador \"default_rng\" con semente fixa (42) → reproducible\n",
    "# loc = media da distribución, scale = desvío típico\n",
    "r = np.random.default_rng(42).normal(loc=0, scale=1, size=(3, 4))\n",
    "\n",
    "# Amosamos a matriz xerada\n",
    "print(r)\n",
    "\n",
    "# Calculamos estatísticos globais\n",
    "print(\"media:\", r.mean(), \"desvío:\", r.std())\n",
    "\n",
    "# Máximos por columnas (axis=0 percorre en vertical)\n",
    "print(\"máx por columnas:\", r.max(axis=0))\n",
    "\n",
    "# Mínimos por filas (axis=1 percorre en horizontal)\n",
    "print(\"mín por filas:\", r.min(axis=1))\n"
   ]
  },
  {
   "cell_type": "markdown",
   "id": "799d47a3",
   "metadata": {},
   "source": [
    "### Álxebra lineal (np.linalg)"
   ]
  },
  {
   "cell_type": "code",
   "execution_count": null,
   "id": "c0bd40fc",
   "metadata": {},
   "outputs": [],
   "source": [
    "import numpy as np\n",
    "\n",
    "# Definimos unha matriz 2x2\n",
    "A = np.array([[3, 1],\n",
    "              [2, 4]])\n",
    "\n",
    "# Vector columna do sistema\n",
    "b = np.array([5, 6])\n",
    "\n",
    "# Resolver o sistema de ecuacións lineais A·x = b\n",
    "sol = np.linalg.solve(A, b)\n",
    "\n",
    "# Calculamos autovalores e autovectores da matriz A\n",
    "vals, vecs = np.linalg.eig(A)\n",
    "\n",
    "# Amosamos resultados\n",
    "print(\"solución A x = b:\", sol)\n",
    "print(\"autovalores:\", vals)\n",
    "print(\"autovectores:\\n\", vecs)\n"
   ]
  },
  {
   "cell_type": "markdown",
   "id": "809ee6c9",
   "metadata": {},
   "source": [
    "### Operacións con ficheiros (.npy, .csv)"
   ]
  },
  {
   "cell_type": "code",
   "execution_count": null,
   "id": "5b432459",
   "metadata": {},
   "outputs": [],
   "source": [
    "arr = np.arange(5)\n",
    "np.save(\"exemplo.npy\", arr)\n",
    "cargado = np.load(\"exemplo.npy\")\n",
    "print(\"cargado:\", cargado)\n",
    "\n",
    "# CSV (usando numpy)\n",
    "np.savetxt(\"exemplo.csv\", np.array([[1,2,3],[4,5,6]]), delimiter=\",\", fmt=\"%d\")\n",
    "csv = np.loadtxt(\"exemplo.csv\", delimiter=\",\", dtype=int)\n",
    "print(csv)"
   ]
  },
  {
   "cell_type": "markdown",
   "id": "b1532dcc",
   "metadata": {},
   "source": [
    "## 12. Referencias\n",
    "\r\n",
    "* [The Python Tutorial](https://docs.python.org/3/tutorial/) – introdución oficial paso a paso.\r\n",
    "* [Python Language Reference](https://docs.python.org/3/reference/) – sintaxe e semántica formais.\r\n",
    "* [Python Standard Library](https://docs.python.org/3/library/) – panorámica da libraría estándar.\r\n",
    "* [PEP 8 – Style Guide for Python Code](https://peps.python.org/pep-0008/) – guía de estilo recomendada.\r\n",
    "* [PEP 634 – Structural Pattern Matching](https://peps.python.org/pep-0634/) – especificación de `match`.\r\n",
    "* [NumPy User Guide](https://numpy.org/doc/stable/user/) – arrays, broadcasting, álxebra, E/S.\r\n",
    "* [pandas User Guide](https://pandas.pydata.org/docs/user_guide/) – estruturas e operacións de datos.\r\n",
    "* [Matplotlib Tutorials](https://matplotlib.org/stable/tutorials/) – visualización básica e intermedia.\r\n",
    "* [Django Documentation](https://docs.djangoproject.com/en/stable/) – referencia e titoriais do framework web.\r\n"
   ]
  },
  {
   "cell_type": "code",
   "execution_count": null,
   "id": "ccc5c35d-9f52-43d6-b268-61c18497b972",
   "metadata": {},
   "outputs": [],
   "source": []
  }
 ],
 "metadata": {
  "kernelspec": {
   "display_name": "Python 3 (ipykernel)",
   "language": "python",
   "name": "python3"
  },
  "language_info": {
   "codemirror_mode": {
    "name": "ipython",
    "version": 3
   },
   "file_extension": ".py",
   "mimetype": "text/x-python",
   "name": "python",
   "nbconvert_exporter": "python",
   "pygments_lexer": "ipython3",
   "version": "3.11.6"
  }
 },
 "nbformat": 4,
 "nbformat_minor": 5
}
