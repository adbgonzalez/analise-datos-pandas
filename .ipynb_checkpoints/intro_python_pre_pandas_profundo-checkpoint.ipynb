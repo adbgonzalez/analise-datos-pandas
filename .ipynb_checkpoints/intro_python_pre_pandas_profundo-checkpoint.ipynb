{
 "cells": [
  {
   "cell_type": "markdown",
   "id": "3200b219",
   "metadata": {},
   "source": [
    "# introdución a python (previo a pandas)\n",
    "\n",
    "este caderno contén **explicacións teóricas profundas**, **sintaxe básica** e **exemplos executables** en celas pequenas e ben estruturadas. está pensado para dotar o alumnado das bases necesarias **antes de pandas**. non se inclúen contornos, markdown nin visualización (que se tratarán noutros módulos)."
   ]
  },
  {
   "cell_type": "markdown",
   "id": "656ce7a1",
   "metadata": {},
   "source": [
    "---\n",
    "## índice\n",
    "1. sintaxe básica e tipos primitivos  \n",
    "2. cadeas de texto  \n",
    "3. estruturas de datos: list, tuple, set, dict  \n",
    "4. control de fluxo  \n",
    "5. comprensións e utilidades funcionais  \n",
    "6. funcións e ámbito (parámetros, docstrings, *args/**kwargs, closures)  \n",
    "7. erros e excepcións (try/except/else/finally, raise, custom)  \n",
    "8. biblioteca estándar (math, statistics, random)  \n",
    "9. ficheiros e rutas (pathlib, open, csv/json con stdlib)  \n",
    "10. datas e horas (datetime, timezone)  \n",
    "11. expresións regulares (re)  \n",
    "12. numpy imprescindible para pandas  \n",
    "13. boas prácticas e estilo"
   ]
  },
  {
   "cell_type": "markdown",
   "id": "36d8dde3",
   "metadata": {},
   "source": [
    "## 1) sintaxe básica e tipos primitivos\n",
    "\n",
    "**definicións**\n",
    "- **tipo**: categoría de dato que determina representación e operacións dispoñibles.\n",
    "- **primitivos en python**: `int`, `float`, `bool`, `NoneType`.\n",
    "- **expresión**: combinación de valores/variables/operadores que produce un resultado.\n",
    "- **sentenza**: instrución que o intérprete executa (p. ex., `if`, `for`, definición de función).\n",
    "\n",
    "**ideas clave**\n",
    "- `bool` é un subtipo de `int` (`True == 1`, `False == 0`), máis non o uses para aritmética salvo que teña sentido.\n",
    "- `/` → división real; `//` → división enteira por **chan** (floor), coidado con negativos.\n",
    "- `is` compara **identidade** (mesmo obxecto); `==` compara **igualdade de valor**.\n",
    "- **truthiness**: moitos valores teñen verdade/false implícito (`0`, `''`, `[]`, `None` → *False*)."
   ]
  },
  {
   "cell_type": "code",
   "execution_count": null,
   "id": "d880b1aa",
   "metadata": {},
   "outputs": [],
   "source": [
    "# números e operacións\n",
    "a, b = 7, 3\n",
    "print('a + b =', a + b)\n",
    "print('a / b =', a / b)     # división real\n",
    "print('a // b =', a // b)   # división enteira (chan)\n",
    "print('a % b =', a % b)     # módulo (resto)\n",
    "print('(-7) // 3 =', -7 // 3)  # cuidado: floor division -> -3\n",
    "print('(-7) % 3 =', -7 % 3)    # resto sempre co signo do divisor -> 2"
   ]
  },
  {
   "cell_type": "code",
   "execution_count": null,
   "id": "85b06109",
   "metadata": {},
   "outputs": [],
   "source": [
    "# bool como subtipo de int\n",
    "print(True + True, False + 10, int(True), int(False))"
   ]
  },
  {
   "cell_type": "code",
   "execution_count": null,
   "id": "6d7a5222",
   "metadata": {},
   "outputs": [],
   "source": [
    "# igualdade vs identidade\n",
    "x = 256\n",
    "y = 256\n",
    "print('x == y?', x == y, '| x is y?', x is y)\n",
    "s1 = ''.join(['py', 'thon'])\n",
    "s2 = 'python'\n",
    "print('s1 == s2?', s1 == s2, '| s1 is s2?', s1 is s2)"
   ]
  },
  {
   "cell_type": "code",
   "execution_count": null,
   "id": "17cf1a66",
   "metadata": {},
   "outputs": [],
   "source": [
    "# truthiness e curtocircuito\n",
    "items = []\n",
    "if not items:\n",
    "    print('lista baleira é falsey')\n",
    "# curtocircuito: a segunda parte non se avalía se a primeira xa decide\n",
    "def caro():\n",
    "    print('función chamada'); return True\n",
    "print('False and caro() ->', False and caro())  # non chama caro()"
   ]
  },
  {
   "cell_type": "markdown",
   "id": "c9304188",
   "metadata": {},
   "source": [
    "## 2) cadeas de texto (strings)\n",
    "\n",
    "**teoría**\n",
    "- **inmutables**: toda “modificación” devolve unha nova cadea.\n",
    "- **índices** base 0; *slicing* `s[inicio:fin:paso]` non inclúe `fin`.\n",
    "- principais **métodos**: `strip`, `lower/upper`, `title`, `replace`, `split/join`, `startswith/endswith`, `find`.\n",
    "- **f-strings**: interpolación clara, especificadores como `:.2f` para formato numérico."
   ]
  },
  {
   "cell_type": "code",
   "execution_count": null,
   "id": "215aa1e8",
   "metadata": {},
   "outputs": [],
   "source": [
    "s = '  datos LIMPOS  '\n",
    "print(s.strip().lower())        # eliminar espazos e pasar a minúsculas\n",
    "print('abcde'[1:4], 'abcde'[::-1])  # slicing: 'bcd' e inversión"
   ]
  },
  {
   "cell_type": "code",
   "execution_count": null,
   "id": "ae73bf97",
   "metadata": {},
   "outputs": [],
   "source": [
    "# f-strings e formato\n",
    "pi = 3.14159265\n",
    "print(f'pi ≈ {pi:.3f}')\n",
    "nome, nota = 'ana', 8.75\n",
    "print(f'alumna: {nome!r}, nota: {nota:.1f}')  # !r -> repr()"
   ]
  },
  {
   "cell_type": "code",
   "execution_count": null,
   "id": "89d03543",
   "metadata": {},
   "outputs": [],
   "source": [
    "# split/join e substitucións\n",
    "texto = 'maza, pera, uva'\n",
    "tokens = [t.strip() for t in texto.split(',')]\n",
    "res = ' | '.join(tokens)\n",
    "print(tokens, '→', res)\n",
    "print('código-abc-123'.replace('-', ':'))"
   ]
  },
  {
   "cell_type": "markdown",
   "id": "38178b27",
   "metadata": {},
   "source": [
    "## 3) estruturas de datos: list, tuple, set, dict\n",
    "\n",
    "**list**\n",
    "- ordenada, **mutable**, admite duplicados. métodos: `append`, `extend`, `insert`, `pop`, `remove`, `sort`, `reverse`.\n",
    "- copia **superficial**: `lst.copy()` ou `lst[:]`. coidado con listas anidadas.\n",
    "\n",
    "**tuple**\n",
    "- ordenada, **inmutable**. útil para **desempaquetado** e como clave de `dict`.\n",
    "\n",
    "**set**\n",
    "- colección **sen duplicados**, non ordenada. operacións: unión `|`, intersección `&`, diferenza `-`, simétrica `^`.\n",
    "\n",
    "**dict**\n",
    "- mapeo clave→valor, mantén orde de inserción (desde 3.7). métodos: `get`, `setdefault`, `update`, `pop`, operador unión `|`."
   ]
  },
  {
   "cell_type": "code",
   "execution_count": null,
   "id": "c9b0a1e0",
   "metadata": {},
   "outputs": [],
   "source": [
    "# list: mutabilidade e copia\n",
    "lst = [1, 2, 2, 3]\n",
    "alias = lst             # referencia ao mesmo obxecto\n",
    "copia = lst[:]          # copia superficial\n",
    "lst.append(99)\n",
    "print('lst:', lst, '| alias:', alias, '| copia:', copia)"
   ]
  },
  {
   "cell_type": "code",
   "execution_count": null,
   "id": "94714921",
   "metadata": {},
   "outputs": [],
   "source": [
    "# tuple e desempaquetado\n",
    "p = (10, 20)\n",
    "x, y = p\n",
    "print('x=', x, 'y=', y)\n",
    "a, *medio, b = [1,2,3,4,5]\n",
    "print('a=', a, 'medio=', medio, 'b=', b)"
   ]
  },
  {
   "cell_type": "code",
   "execution_count": null,
   "id": "9d3257e7",
   "metadata": {},
   "outputs": [],
   "source": [
    "# set: eliminar duplicados e operacións conxunto\n",
    "s1 = {1,2,3,3}\n",
    "s2 = {3,4}\n",
    "print('s1=', s1, 'unión=', s1|s2, 'intersección=', s1&s2, 'dif=', s1-s2)"
   ]
  },
  {
   "cell_type": "code",
   "execution_count": null,
   "id": "75cf2698",
   "metadata": {},
   "outputs": [],
   "source": [
    "# dict: operacións típicas\n",
    "d = {'ana': 9.0, 'beto': 7.5}\n",
    "print('get existente:', d.get('ana'), 'get inexistente:', d.get('carmen', 'n/d'))\n",
    "d.setdefault('beto', 0.0)\n",
    "d.setdefault('carmen', 8.0)\n",
    "d2 = {'beto': 8.0, 'dina': 6.5}\n",
    "fusion = d | d2  # d2 sobrescribe claves comúns\n",
    "print('fusion:', fusion)"
   ]
  },
  {
   "cell_type": "markdown",
   "id": "3e5149eb",
   "metadata": {},
   "source": [
    "## 4) control de fluxo\n",
    "\n",
    "**condicións e bucles**\n",
    "- `if/elif/else`, operadores lóxicos `and/or/not` (curtocircuito).\n",
    "- `for` sobre iterables; `while` ata condición.\n",
    "- `break` (sair do bucle), `continue` (saltar iteración).\n",
    "- `for-else` e `while-else`: o `else` execútase se **non** se rompe con `break`.\n",
    "\n",
    "**utilidades**\n",
    "- `range(start, stop, step)`, `enumerate(iter, start=1)`, `zip(a,b,...)`.\n",
    "- *pattern matching* simple (Python 3.10+): `match/case` para ramificacións claras."
   ]
  },
  {
   "cell_type": "code",
   "execution_count": null,
   "id": "11d875aa",
   "metadata": {},
   "outputs": [],
   "source": [
    "# for-else: atopar un elemento; se non aparece, else\n",
    "nums = [2, 4, 6, 8]\n",
    "objetivo = 5\n",
    "for n in nums:\n",
    "    if n == objetivo:\n",
    "        print('atopado')\n",
    "        break\n",
    "else:\n",
    "    print('non atopado')"
   ]
  },
  {
   "cell_type": "code",
   "execution_count": null,
   "id": "8419f295",
   "metadata": {},
   "outputs": [],
   "source": [
    "# match-case (exemplo simple)\n",
    "def clasificar_http(codigo: int) -> str:\n",
    "    match codigo:\n",
    "        case 200 | 201:\n",
    "            return 'ok'\n",
    "        case 400 | 404:\n",
    "            return 'erro cliente'\n",
    "        case 500:\n",
    "            return 'erro servidor'\n",
    "        case _:\n",
    "            return 'descoñecido'\n",
    "\n",
    "print(clasificar_http(404))"
   ]
  },
  {
   "cell_type": "markdown",
   "id": "db512c8b",
   "metadata": {},
   "source": [
    "## 5) comprensións e utilidades funcionais\n",
    "\n",
    "**comprensións**\n",
    "- lista: `[expr for x in seq if cond]`\n",
    "- dicionario: `{k(v): expr for ...}`\n",
    "- con condición no **valor**: `[expr_if_true if cond else expr_if_false for x in seq]`\n",
    "\n",
    "**outros**\n",
    "- `any`/`all`: comprobacións de predicados.\n",
    "- `sorted(iterable, key=..., reverse=...)`.\n",
    "- **xeneradores**: `(expr for x in seq)` consome baixo demanda."
   ]
  },
  {
   "cell_type": "code",
   "execution_count": null,
   "id": "7abb1588",
   "metadata": {},
   "outputs": [],
   "source": [
    "# condición no valor\n",
    "nums = [0,1,2,3,4]\n",
    "paridade = ['par' if n%2==0 else 'impar' for n in nums]\n",
    "print(paridade)"
   ]
  },
  {
   "cell_type": "code",
   "execution_count": null,
   "id": "9912be46",
   "metadata": {},
   "outputs": [],
   "source": [
    "# dict comprehension con transformación\n",
    "texto = 'a a a b b c'\n",
    "conta = {pal: texto.split().count(pal) for pal in set(texto.split())}\n",
    "print(conta)"
   ]
  },
  {
   "cell_type": "code",
   "execution_count": null,
   "id": "b6919b26",
   "metadata": {},
   "outputs": [],
   "source": [
    "# any/all e xeneradores\n",
    "correos = ['ana@ex.com', 'beto@ex.com', 'mal_formato']\n",
    "def parece_email(s): return '@' in s and '.' in s.split('@')[-1]\n",
    "print('todos válidos?', all(parece_email(e) for e in correos))"
   ]
  },
  {
   "cell_type": "markdown",
   "id": "e774a85a",
   "metadata": {},
   "source": [
    "## 6) funcións e ámbito\n",
    "\n",
    "**parámetros en python 3**\n",
    "- posicionais, nomeados e **keyword-only** (despois de `*`).\n",
    "- **positional-only** (antes de `/`) cando non queres aceptar nomes.\n",
    "- **valores por defecto**: evita mutables como `[]`/`{}` (trampa clásica).\n",
    "\n",
    "**docstrings e anotacións**\n",
    "- docstrings describen a función; anotacións (`-> tipo`) melloran claridade.\n",
    "- `help(func)` amosa a docstring.\n",
    "\n",
    "**ámbito**\n",
    "- regra **LEGB** (local, enclosing, global, builtins). `nonlocal` para encerrar, `global` para global."
   ]
  },
  {
   "cell_type": "code",
   "execution_count": null,
   "id": "57a28d00",
   "metadata": {},
   "outputs": [],
   "source": [
    "def add(a, b, /, *, round_to=None):\n",
    "    \"\"\"suma dous números.\n",
    "    Args:\n",
    "        a (float), b (float): sumandos (só posicionais)\n",
    "        round_to (int|None): decimais para redondeo (só por nome)\n",
    "    Returns:\n",
    "        float\n",
    "    \"\"\"\n",
    "    s = a + b\n",
    "    return round(s, round_to) if isinstance(round_to, int) else s\n",
    "\n",
    "print(add(1.234, 2.345, round_to=2))"
   ]
  },
  {
   "cell_type": "code",
   "execution_count": null,
   "id": "a912c739",
   "metadata": {},
   "outputs": [],
   "source": [
    "# mutable default pitfall e solución\n",
    "def append_bad(x, acc=[]):\n",
    "    acc.append(x); return acc\n",
    "\n",
    "print(append_bad(1))\n",
    "print(append_bad(2))  # reutiliza a mesma lista!\n",
    "\n",
    "def append_good(x, acc=None):\n",
    "    if acc is None:\n",
    "        acc = []\n",
    "    acc.append(x); return acc\n",
    "\n",
    "print(append_good(1))\n",
    "print(append_good(2))"
   ]
  },
  {
   "cell_type": "code",
   "execution_count": null,
   "id": "222a1d48",
   "metadata": {},
   "outputs": [],
   "source": [
    "# closures e nonlocal\n",
    "def contador():\n",
    "    n = 0\n",
    "    def inc():\n",
    "        nonlocal n\n",
    "        n += 1\n",
    "        return n\n",
    "    return inc\n",
    "\n",
    "c = contador()\n",
    "print(c(), c(), c())  # 1, 2, 3"
   ]
  },
  {
   "cell_type": "markdown",
   "id": "1e23666a",
   "metadata": {},
   "source": [
    "## 7) erros e excepcións\n",
    "\n",
    "**modelo**\n",
    "- `try` bloque sospeitoso → `except` manexa → `else` execútase se non houbo erro → `finally` sempre.\n",
    "- **propagación**: se non capturas, a excepción sobe pola pila.\n",
    "\n",
    "**boas prácticas**\n",
    "- captura **específica** (evitar `except Exception:` sen necesidade).\n",
    "- inclúe **mensaxes claras** ao facer `raise`.\n",
    "- podes definir **excepcións propias** herdando de `Exception`."
   ]
  },
  {
   "cell_type": "code",
   "execution_count": null,
   "id": "07d13733",
   "metadata": {},
   "outputs": [],
   "source": [
    "class NotaInvalidaError(Exception):\n",
    "    pass\n",
    "\n",
    "def media_segura(notas):\n",
    "    if not notas:\n",
    "        raise ValueError('lista baleira')\n",
    "    if any(not (0 <= n <= 10) for n in notas):\n",
    "        raise NotaInvalidaError('notas deben estar entre 0 e 10')\n",
    "    return sum(notas)/len(notas)\n",
    "\n",
    "try:\n",
    "    print(media_segura([8, 9, 11]))\n",
    "except NotaInvalidaError as e:\n",
    "    print('erro dominio:', e)"
   ]
  },
  {
   "cell_type": "code",
   "execution_count": null,
   "id": "0ea845e1",
   "metadata": {},
   "outputs": [],
   "source": [
    "# try/except/else/finally\n",
    "def to_int(s):\n",
    "    try:\n",
    "        x = int(s)\n",
    "    except ValueError as e:\n",
    "        print('erro:', e); return None\n",
    "    else:\n",
    "        return x\n",
    "    finally:\n",
    "        pass\n",
    "\n",
    "print(to_int('42'), to_int('4x'))"
   ]
  },
  {
   "cell_type": "markdown",
   "id": "65eefbf9",
   "metadata": {},
   "source": [
    "## 8) biblioteca estándar: math, statistics, random (selección)\n",
    "\n",
    "- `math`: funcións matemáticas rápidas (C).\n",
    "- `statistics`: estatística descritiva simple.\n",
    "- `random`: xerador pseudoaleatorio (establece `seed` para reproducibilidade)."
   ]
  },
  {
   "cell_type": "code",
   "execution_count": null,
   "id": "49bf97ce",
   "metadata": {},
   "outputs": [],
   "source": [
    "import math, statistics as stats, random\n",
    "random.seed(123)\n",
    "val = [2.0, 3.5, 4.0, 4.5]\n",
    "print('sqrt(2)=', round(math.sqrt(2),4))\n",
    "print('media=', stats.mean(val), 'var poboacional=', round(stats.pvariance(val),4))\n",
    "print('aleatorio [1..6]:', random.randint(1,6))"
   ]
  },
  {
   "cell_type": "markdown",
   "id": "eec8a514",
   "metadata": {},
   "source": [
    "## 9) ficheiros e rutas (pathlib, open, csv/json)\n",
    "\n",
    "**teoría**\n",
    "- `pathlib.Path` proporciona rutas independentes de SO e utilidades (`exists`, `glob`, `read_text`, `write_text`).\n",
    "- apertura de ficheiros con `with open(...)` garante peche (context manager).\n",
    "- **codificación**: preferible `utf-8`.\n",
    "- **CSV/JSON** con stdlib: non necesitamos pandas para operacións básicas."
   ]
  },
  {
   "cell_type": "code",
   "execution_count": null,
   "id": "d6ed453d",
   "metadata": {},
   "outputs": [],
   "source": [
    "from pathlib import Path\n",
    "base = Path('data_demo').resolve()\n",
    "base.mkdir(exist_ok=True)\n",
    "print('directorio:', base, 'existe?', base.exists())"
   ]
  },
  {
   "cell_type": "code",
   "execution_count": null,
   "id": "06276c8d",
   "metadata": {},
   "outputs": [],
   "source": [
    "# texto\n",
    "p = base / 'exemplo.txt'\n",
    "p.write_text('ola\\nsegundo liña', encoding='utf-8')\n",
    "print(p.read_text(encoding='utf-8'))"
   ]
  },
  {
   "cell_type": "code",
   "execution_count": null,
   "id": "cc1df152",
   "metadata": {},
   "outputs": [],
   "source": [
    "# JSON\n",
    "import json\n",
    "jpath = base / 'rexistro.json'\n",
    "obj = {'id': 1, 'nome': 'ana', 'tags': ['a','b']}\n",
    "jpath.write_text(json.dumps(obj, ensure_ascii=False, indent=2), encoding='utf-8')\n",
    "print(json.loads(jpath.read_text(encoding='utf-8')))"
   ]
  },
  {
   "cell_type": "code",
   "execution_count": null,
   "id": "fbe77519",
   "metadata": {},
   "outputs": [],
   "source": [
    "# CSV\n",
    "import csv\n",
    "cpath = base / 'táboa.csv'\n",
    "rows = [{'id':1,'nome':'ana'},{'id':2,'nome':'beto'}]\n",
    "with open(cpath, 'w', newline='', encoding='utf-8') as f:\n",
    "    w = csv.DictWriter(f, fieldnames=['id','nome'])\n",
    "    w.writeheader(); w.writerows(rows)\n",
    "print(cpath.read_text(encoding='utf-8'))"
   ]
  },
  {
   "cell_type": "markdown",
   "id": "1cf6d60d",
   "metadata": {},
   "source": [
    "## 10) datas e horas (datetime, timezone)\n",
    "\n",
    "**conceptos**\n",
    "- **naive** vs **aware**: obxectos `datetime` con/sen información de zona horaria.\n",
    "- conversión de zonas con `astimezone` (usa `zoneinfo`).\n",
    "- formatos: `strptime` (parsear) e `strftime` (formatear).\n",
    "\n",
    "**coidados**\n",
    "- DST (cambios horario de verán) poden producir horas inexistentes ou duplicadas."
   ]
  },
  {
   "cell_type": "code",
   "execution_count": null,
   "id": "d058a852",
   "metadata": {},
   "outputs": [],
   "source": [
    "from datetime import datetime, timedelta\n",
    "from zoneinfo import ZoneInfo\n",
    "\n",
    "utc = datetime(2025, 9, 24, 12, 0, tzinfo=ZoneInfo('UTC'))\n",
    "mad = utc.astimezone(ZoneInfo('Europe/Madrid'))\n",
    "print('UTC:', utc.isoformat())\n",
    "print('Madrid:', mad.strftime('%Y-%m-%d %H:%M %Z'))\n",
    "\n",
    "dt = datetime.strptime('2025-09-24 14:30', '%Y-%m-%d %H:%M')\n",
    "print('parseado:', dt, '| +90min →', dt + timedelta(minutes=90))"
   ]
  },
  {
   "cell_type": "markdown",
   "id": "ac121cf5",
   "metadata": {},
   "source": [
    "## 11) expresións regulares (re)\n",
    "\n",
    "**teoría mínima**\n",
    "- patróns: `\\d` díxito, `\\w` alfanum, `\\s` espazo; `+`, `*`, `?` repeticións; `[]` clases; `()` grupos; `^`/`$` ancoras.\n",
    "- `re.compile` para reutilizar con mellor rendemento.\n",
    "- substitución con `re.sub` empregando **backreferences** (`\\1`, `\\g<nome>`)."
   ]
  },
  {
   "cell_type": "code",
   "execution_count": null,
   "id": "3b29c2fb",
   "metadata": {},
   "outputs": [],
   "source": [
    "import re\n",
    "texto = 'pedido #A-2025-009 entregado a carmen, tlf: +34 600 123 456.'\n",
    "pat = re.compile(r'#(?P<codigo>[A-Z]-\\d{4}-\\d{3})')\n",
    "m = pat.search(texto)\n",
    "print('codigo:', m.group('codigo') if m else None)\n",
    "\n",
    "# normalizar espazos e anonimizar teléfono\n",
    "normal = re.sub(r'\\s+', ' ', texto).strip()\n",
    "anon = re.sub(r'(\\+?\\d[\\d\\s]{7,})', '[TEL]', normal)\n",
    "print(normal)\n",
    "print(anon)"
   ]
  },
  {
   "cell_type": "markdown",
   "id": "9fbed23f",
   "metadata": {},
   "source": [
    "## 12) numpy imprescindible para pandas\n",
    "\n",
    "**conceptos**\n",
    "- `ndarray` con `shape`, `ndim`, `dtype` (homoxeneidade).\n",
    "- **vectorización**: operacións sobre arrays enteiros (moito máis rápido que bucles en Python).\n",
    "- **broadcasting**: estirar dimensións compatibles (regras: ou iguais ou 1).\n",
    "- **indexación**: slicing, máscaras booleanas, *fancy indexing*.\n",
    "- **agregación por eixes**: `sum/mean/std` con `axis`.\n",
    "- **NaN** e familia `np.nan*` (ignoran nulos)."
   ]
  },
  {
   "cell_type": "code",
   "execution_count": null,
   "id": "5e788139",
   "metadata": {},
   "outputs": [],
   "source": [
    "import numpy as np\n",
    "np.random.seed(42)\n",
    "\n",
    "A = np.arange(12).reshape(3,4)\n",
    "B = np.linspace(0,1,4)  # shape (4,)\n",
    "print('A\\n', A)\n",
    "print('B\\n', B)\n",
    "print('A + B (broadcasting, suma por columnas)\\n', A + B)"
   ]
  },
  {
   "cell_type": "code",
   "execution_count": null,
   "id": "fab73aa2",
   "metadata": {},
   "outputs": [],
   "source": [
    "# máscaras booleanas e fancy indexing\n",
    "mask = A % 2 == 0\n",
    "print('pares:', A[mask])\n",
    "filas = A[[0,2]]   # selecciona filas 0 e 2\n",
    "cols = A[:, [1,3]] # selecciona columnas 1 e 3\n",
    "print('filas 0 e 2:\\n', filas)\n",
    "print('columnas 1 e 3:\\n', cols)"
   ]
  },
  {
   "cell_type": "code",
   "execution_count": null,
   "id": "2c3dde33",
   "metadata": {},
   "outputs": [],
   "source": [
    "# agregación por eixes e tratamento de NaN\n",
    "X = A.astype(float)\n",
    "X[0,1] = np.nan\n",
    "print('media por columna con NaN ignorado:', np.nanmean(X, axis=0))"
   ]
  },
  {
   "cell_type": "markdown",
   "id": "6918f888",
   "metadata": {},
   "source": [
    "## 13) boas prácticas e estilo\n",
    "\n",
    "- **pep8**: nomes en minúsculas con guión baixo, liñas ≤ 79 chars, espazos arredor de operadores, indentación con 4 espazos.\n",
    "- **claridade sobre maxia**: nomes descritivos, funcións pequenas, comentarios só onde engaden valor.\n",
    "- **EAFP** (*easier to ask forgiveness than permission*): intenta e captura excepcións vs comprobar todo previamente.\n",
    "- **reproducibilidade**: fixa sementes aleatorias e anota versións.\n",
    "- **tests lixeiros**: `assert` para invariantes sinxelas."
   ]
  },
  {
   "cell_type": "code",
   "execution_count": null,
   "id": "68b79f98",
   "metadata": {},
   "outputs": [],
   "source": [
    "def normaliza_texto(s: str, *, lower=True, strip=True) -> str:\n",
    "    \"\"\"normaliza cadeas de texto: recorta e cambia a minúsculas por defecto.\"\"\"\n",
    "    if s is None:\n",
    "        return ''\n",
    "    if strip: s = s.strip()\n",
    "    if lower: s = s.lower()\n",
    "    return s\n",
    "\n",
    "assert normaliza_texto(' Ola ') == 'ola'\n",
    "assert normaliza_texto(' Ola ', lower=False) == 'Ola'\n",
    "print('ok: tests básicos pasados')"
   ]
  }
 ],
 "metadata": {
  "kernelspec": {
   "display_name": "Python 3 (ipykernel)",
   "language": "python",
   "name": "python3"
  },
  "language_info": {
   "codemirror_mode": {
    "name": "ipython",
    "version": 3
   },
   "file_extension": ".py",
   "mimetype": "text/x-python",
   "name": "python",
   "nbconvert_exporter": "python",
   "pygments_lexer": "ipython3",
   "version": "3.11.6"
  }
 },
 "nbformat": 4,
 "nbformat_minor": 5
}
