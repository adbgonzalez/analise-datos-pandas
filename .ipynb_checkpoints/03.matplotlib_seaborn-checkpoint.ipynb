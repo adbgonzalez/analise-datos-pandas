{
 "cells": [
  {
   "cell_type": "markdown",
   "id": "c4de4739",
   "metadata": {},
   "source": [
    "# Matplotlib e Seaborn — Guía en Profundidade\n",
    "\n",
    "Este caderno amplía a explicación con **sintaxe paso a paso**, opcións habituais e **exemplos detallados** para cada tipo de gráfico. Os datos son **sintéticos** para facilitar a execución sen conexión.\n",
    "\n",
    "> Requisitos: `pip install matplotlib seaborn pandas numpy`\n"
   ]
  },
  {
   "cell_type": "markdown",
   "id": "e108a793",
   "metadata": {},
   "source": [
    "## Índice\n",
    "1. [Datasets sintéticos e utilidades](#datasets)\n",
    "2. [Matplotlib: conceptos e sintaxe base](#mpl-base)\n",
    "3. [Matplotlib: personalización (liñas, marcadores, cores, lendas, anotacións)](#mpl-personal)\n",
    "4. [Matplotlib: eixes, ticks, formatters, escalas e spines](#mpl-eixes)\n",
    "5. [Matplotlib: tipos de gráfico con opcións](#mpl-tipos)\n",
    "6. [Matplotlib: layouts e composición (subplots, GridSpec, twin axes, secondary)](#mpl-layout)\n",
    "7. [Seaborn: temas, paletas e API de alto nivel](#sns-base)\n",
    "8. [Seaborn: relacións, distribucións, categóricos e faceting](#sns-graficos)\n",
    "9. [Seaborn + Matplotlib: integración e afinado fino](#sns-mpl)\n",
    "10. [Exportación, formatos e boas prácticas](#export)\n",
    "11. [Referencias e notas de datasets](#refs)\n"
   ]
  },
  {
   "cell_type": "markdown",
   "id": "c342544d",
   "metadata": {},
   "source": [
    "## 1. Datasets sintéticos e utilidades  {#datasets}\n",
    "Xeramos tres conxuntos:\n",
    "- `df_vendas`: vendas mensuais por categoría (timeseries, trend + estacionalidade + ruido).\n",
    "- `df_iris_like`: inspirado no **Iris** (Fisher, 1936): 3 especies, 4 medidas.\n",
    "- `df_tips_like`: inspirado en **tips** (propinas) de Seaborn.\n",
    "Engadimos algunhas funcións auxiliares (ex. para formato)."
   ]
  },
  {
   "cell_type": "code",
   "execution_count": null,
   "id": "1afe9f5c",
   "metadata": {},
   "outputs": [],
   "source": [
    "import numpy as np\n",
    "import pandas as pd\n",
    "from datetime import datetime\n",
    "\n",
    "rng = np.random.default_rng(7)\n",
    "\n",
    "# Vendas mensuais\n",
    "meses = pd.date_range('2024-01-01', '2024-12-31', freq='MS')\n",
    "cats = ['Electrónica', 'Ropa', 'Alimentos']\n",
    "base = {'Electrónica': 22000, 'Ropa': 13000, 'Alimentos': 16000}\n",
    "reg = []\n",
    "for cat in cats:\n",
    "    b = base[cat]\n",
    "    for i, m in enumerate(meses):\n",
    "        seasonal = 1 + 0.15*np.sin(2*np.pi*(i/12))\n",
    "        trend = 1 + 0.02*i\n",
    "        noise = rng.normal(0, 1200)\n",
    "        v = max(0, b*seasonal*trend + noise)\n",
    "        reg.append((m, cat, round(v,2)))\n",
    "df_vendas = pd.DataFrame(reg, columns=['mes','categoria','vendas'])\n",
    "\n",
    "# Iris-like\n",
    "clases = ['setosa','versicolor','virginica']\n",
    "params = {\n",
    "    'setosa':     {'mean':[5.0,3.4,1.5,0.2], 'std':[0.35,0.30,0.20,0.10]},\n",
    "    'versicolor': {'mean':[5.9,2.8,4.3,1.3], 'std':[0.45,0.30,0.40,0.20]},\n",
    "    'virginica':  {'mean':[6.5,3.0,5.5,2.0], 'std':[0.55,0.35,0.45,0.25]},\n",
    "}\n",
    "obs = []\n",
    "for c in clases:\n",
    "    mu = np.array(params[c]['mean']); sd = np.array(params[c]['std'])\n",
    "    X = rng.normal(mu, sd, size=(50,4))\n",
    "    for row in X:\n",
    "        obs.append((*row, c))\n",
    "df_iris_like = pd.DataFrame(obs, columns=['sepal_length','sepal_width','petal_length','petal_width','species'])\n",
    "\n",
    "# Tips-like\n",
    "n = 240\n",
    "total_bill = rng.uniform(10, 60, size=n)\n",
    "pct = rng.normal(0.16, 0.05, size=n).clip(0.05, 0.35)\n",
    "tip = total_bill*pct + rng.normal(0, 0.5, size=n)\n",
    "smoker = rng.choice(['Si','Non'], size=n, p=[0.35,0.65])\n",
    "day = rng.choice(['Xov','Ven','Sáb','Dom'], size=n, p=[0.2,0.25,0.3,0.25])\n",
    "time = rng.choice(['Xantar','Cea'], size=n, p=[0.45,0.55])\n",
    "size = rng.integers(1,7,size=n)\n",
    "sex = rng.choice(['Home','Muller'], size=n, p=[0.55,0.45])\n",
    "df_tips_like = pd.DataFrame({\n",
    "    'total_bill': total_bill.round(2),\n",
    "    'tip': tip.round(2),\n",
    "    'smoker': smoker,\n",
    "    'day': day,\n",
    "    'time': time,\n",
    "    'size': size,\n",
    "    'sex': sex\n",
    "})\n",
    "\n",
    "df_vendas.head(), df_iris_like.head(), df_tips_like.head()\n"
   ]
  },
  {
   "cell_type": "markdown",
   "id": "af6af41d",
   "metadata": {},
   "source": [
    "## 2. Matplotlib: conceptos e sintaxe base  {#mpl-base}\n",
    "**Dúas APIs**:\n",
    "- `matplotlib.pyplot` (*stateful*): rápido en demos/probas.\n",
    "- **API OO** (orientada a obxectos): `fig, ax = plt.subplots()` e logo `ax.plot(...)`. **Recomendada** en proxectos.\n",
    "\n",
    "**Elementos chave**:\n",
    "- `Figure` (lenzo) e un ou varios `Axes` (área de debuxo). \n",
    "- Métodos de `Axes`: `plot`, `scatter`, `bar`, `hist`, `imshow`, `set_title`, `set_xlabel`…"
   ]
  },
  {
   "cell_type": "code",
   "execution_count": null,
   "id": "4fc2a1c3",
   "metadata": {},
   "outputs": [],
   "source": [
    "import matplotlib.pyplot as plt\n",
    "%matplotlib inline\n",
    "\n",
    "# Pyplot rápido\n",
    "plt.figure(figsize=(5,3))\n",
    "plt.plot([0,1,2,3], [0,1,4,9], marker='o')\n",
    "plt.title('Pyplot rápido')\n",
    "plt.xlabel('x'); plt.ylabel('y')\n",
    "plt.tight_layout(); plt.show()\n",
    "\n",
    "# API OO\n",
    "fig, ax = plt.subplots(figsize=(5,3))\n",
    "ax.plot([0,1,2,3], [0,1,4,9], marker='o')\n",
    "ax.set(title='API OO básica', xlabel='x', ylabel='y')\n",
    "fig.tight_layout(); plt.show()\n"
   ]
  },
  {
   "cell_type": "markdown",
   "id": "670e18ac",
   "metadata": {},
   "source": [
    "**Subplots básicos**: `plt.subplots(nrows, ncols, figsize, sharex, sharey)` devolve `(fig, axs)`."
   ]
  },
  {
   "cell_type": "code",
   "execution_count": null,
   "id": "dc8231a8",
   "metadata": {},
   "outputs": [],
   "source": [
    "fig, axs = plt.subplots(1, 2, figsize=(8,3), sharey=True)\n",
    "subE = df_vendas[df_vendas['categoria']=='Electrónica']\n",
    "subA = df_vendas[df_vendas['categoria']=='Alimentos']\n",
    "axs[0].plot(subE['mes'], subE['vendas']); axs[0].set_title('Electrónica')\n",
    "axs[1].plot(subA['mes'], subA['vendas']); axs[1].set_title('Alimentos')\n",
    "for ax in axs:\n",
    "    ax.set(xlabel='Mes', ylabel='€')\n",
    "fig.suptitle('Subplots con sharey=True')\n",
    "fig.tight_layout(); plt.show()\n"
   ]
  },
  {
   "cell_type": "markdown",
   "id": "a97a6608",
   "metadata": {},
   "source": [
    "## 3. Matplotlib: personalización (liñas, marcadores, cores, lendas, anotacións)  {#mpl-personal}\n",
    "**Liñas e marcadores** — parámetros frecuentes en `plot`:\n",
    "- `linestyle`: '-', '--', '-.', ':'\n",
    "- `linewidth` (ou `lw`), `marker`: 'o', 's', '^', 'x', ...\n",
    "- `markersize` (ou `ms`), `markeredgecolor`, `markerfacecolor`\n",
    "- `alpha` (transparencia), `zorder`\n",
    "- `label` (para a lenda)"
   ]
  },
  {
   "cell_type": "code",
   "execution_count": null,
   "id": "f442cb97",
   "metadata": {},
   "outputs": [],
   "source": [
    "x = np.linspace(0, 2*np.pi, 60)\n",
    "y1 = np.sin(x); y2 = np.cos(x)\n",
    "fig, ax = plt.subplots(figsize=(6,3))\n",
    "ax.plot(x, y1, label='sen', linestyle='-', linewidth=2, marker='o', markersize=4, alpha=0.8)\n",
    "ax.plot(x, y2, label='cos', linestyle='--', linewidth=2, marker='s', markersize=4, alpha=0.8)\n",
    "ax.set_title('Opcións de liña e marcador')\n",
    "ax.legend(); ax.grid(True, linestyle=':')\n",
    "fig.tight_layout(); plt.show()\n"
   ]
  },
  {
   "cell_type": "markdown",
   "id": "76d1cceb",
   "metadata": {},
   "source": [
    "**Lendas (`legend`)**:\n",
    "- Posición: `loc` ('best', 'upper right', 'lower left'...)\n",
    "- Columnas: `ncol`\n",
    "- Caixa: `frameon`, `bbox_to_anchor` para ancoraxe externa."
   ]
  },
  {
   "cell_type": "code",
   "execution_count": null,
   "id": "accaeffc",
   "metadata": {},
   "outputs": [],
   "source": [
    "fig, ax = plt.subplots(figsize=(6,3))\n",
    "for cat in ['Electrónica','Ropa','Alimentos']:\n",
    "    sub = df_vendas[df_vendas['categoria']==cat]\n",
    "    ax.plot(sub['mes'], sub['vendas'], label=cat)\n",
    "ax.legend(loc='upper left', ncol=3, frameon=True, bbox_to_anchor=(0,1.15))\n",
    "ax.set_title('Lenda con ncol e bbox_to_anchor'); fig.autofmt_xdate()\n",
    "fig.tight_layout(); plt.show()\n"
   ]
  },
  {
   "cell_type": "markdown",
   "id": "e78efec8",
   "metadata": {},
   "source": [
    "**Anotacións (`annotate`)**:\n",
    "- Sintaxe principal: `ax.annotate(texto, xy=(x,y), xytext=(x_text,y_text), arrowprops={...})`\n",
    "- `arrowprops`: `arrowstyle`, `connectionstyle`…"
   ]
  },
  {
   "cell_type": "code",
   "execution_count": null,
   "id": "501e2a59",
   "metadata": {},
   "outputs": [],
   "source": [
    "fig, ax = plt.subplots(figsize=(6,3))\n",
    "sub = df_vendas[df_vendas['categoria']=='Electrónica']\n",
    "ax.plot(sub['mes'], sub['vendas'])\n",
    "imax = sub['vendas'].idxmax(); fila = sub.loc[imax]\n",
    "ax.annotate('Máximo', xy=(fila['mes'], fila['vendas']), xytext=(fila['mes'], fila['vendas']*1.15),\n",
    "            arrowprops=dict(arrowstyle='->', connectionstyle='arc3,rad=-0.2'))\n",
    "ax.set_title('Exemplo de annotate'); fig.autofmt_xdate()\n",
    "fig.tight_layout(); plt.show()\n"
   ]
  },
  {
   "cell_type": "markdown",
   "id": "441018b0",
   "metadata": {},
   "source": [
    "**Cores e colormaps**:\n",
    "- Ciclo de cores por defecto (rcParams) ou paletas con `plt.cm.<nome>`.\n",
    "- En `scatter`, `c` e `cmap` permiten codificar magnitudes (engade `colorbar`)."
   ]
  },
  {
   "cell_type": "code",
   "execution_count": null,
   "id": "e03bf251",
   "metadata": {},
   "outputs": [],
   "source": [
    "val = df_iris_like['petal_length'].values\n",
    "fig, ax = plt.subplots(figsize=(6,3))\n",
    "sc = ax.scatter(df_iris_like['sepal_length'], df_iris_like['sepal_width'], c=val, cmap='viridis', s=40)\n",
    "cb = fig.colorbar(sc, ax=ax); cb.set_label('petal_length')\n",
    "ax.set_title('Scatter con cmap + colorbar')\n",
    "fig.tight_layout(); plt.show()\n"
   ]
  },
  {
   "cell_type": "markdown",
   "id": "17731172",
   "metadata": {},
   "source": [
    "## 4. Matplotlib: eixes, ticks, formatters, escalas e spines  {#mpl-eixes}\n",
    "**Límites/escala**: `set_xlim`, `set_ylim`, `set_xscale('log')`.\n",
    "**Ticks**: `set_xticks`, `set_xticklabels`, `tick_params` (tamaño, rotación, etc.).\n",
    "**Formatters/Locators**: `matplotlib.ticker` (ex. `StrMethodFormatter`, `MultipleLocator`).\n",
    "**Spines**: bordes do eixe; pódense ocultar/axustar."
   ]
  },
  {
   "cell_type": "code",
   "execution_count": null,
   "id": "8ca1e603",
   "metadata": {},
   "outputs": [],
   "source": [
    "import matplotlib.ticker as mticker\n",
    "x = np.linspace(0.1, 10, 100)\n",
    "y = x**2\n",
    "fig, ax = plt.subplots(figsize=(6,3))\n",
    "ax.plot(x, y)\n",
    "ax.set_xscale('log'); ax.set_yscale('log')\n",
    "ax.xaxis.set_major_locator(mticker.LogLocator(base=10))\n",
    "ax.xaxis.set_minor_locator(mticker.LogLocator(base=10, subs=[1,2,5]))\n",
    "ax.yaxis.set_major_formatter(mticker.StrMethodFormatter('{x:g}'))\n",
    "for spine in ['top','right']:\n",
    "    ax.spines[spine].set_visible(False)\n",
    "ax.set_title('Escalas log, locators & spines')\n",
    "fig.tight_layout(); plt.show()\n"
   ]
  },
  {
   "cell_type": "markdown",
   "id": "ccdc52ea",
   "metadata": {},
   "source": [
    "## 5. Matplotlib: tipos de gráfico con opcións  {#mpl-tipos}\n",
    "### 5.1. Liña (`plot`) — opcións: estilo, grosor, marcadores, `fill_between`, `step`"
   ]
  },
  {
   "cell_type": "code",
   "execution_count": null,
   "id": "a2d686ee",
   "metadata": {},
   "outputs": [],
   "source": [
    "x = np.arange(len(meses))\n",
    "y = df_vendas[df_vendas['categoria']=='Ropa']['vendas'].values\n",
    "fig, axs = plt.subplots(1,3, figsize=(12,3))\n",
    "axs[0].plot(meses, y, linestyle='-', marker='o'); axs[0].set_title('plot estándar')\n",
    "axs[1].fill_between(meses, y*0.9, y*1.1, alpha=0.3); axs[1].set_title('fill_between (intervalo)')\n",
    "axs[2].step(meses, y, where='mid'); axs[2].set_title('step (escalón)')\n",
    "for ax in axs: ax.set(xlabel='Mes', ylabel='€')\n",
    "fig.tight_layout(); plt.show()\n"
   ]
  },
  {
   "cell_type": "markdown",
   "id": "6e6bb739",
   "metadata": {},
   "source": [
    "### 5.2. Dispersión (`scatter`) — tamaño, cor, mapa de cores, alfa, xerrores/yerrores"
   ]
  },
  {
   "cell_type": "code",
   "execution_count": null,
   "id": "37074c40",
   "metadata": {},
   "outputs": [],
   "source": [
    "np.random.seed(0)\n",
    "x = df_iris_like['sepal_length']\n",
    "y = df_iris_like['petal_length']\n",
    "sizes = 20 + 80*(df_iris_like['sepal_width']-df_iris_like['sepal_width'].min())/(\n",
    "                 df_iris_like['sepal_width'].max()-df_iris_like['sepal_width'].min())\n",
    "fig, ax = plt.subplots(figsize=(6,3))\n",
    "sc = ax.scatter(x, y, s=sizes, c=df_iris_like['petal_width'], cmap='plasma', alpha=0.8, edgecolors='none')\n",
    "fig.colorbar(sc, ax=ax, label='petal_width')\n",
    "ax.set_title('Scatter con tamaño e cor codificados'); ax.set(xlabel='sepal_length', ylabel='petal_length')\n",
    "fig.tight_layout(); plt.show()\n"
   ]
  },
  {
   "cell_type": "markdown",
   "id": "76589c6a",
   "metadata": {},
   "source": [
    "### 5.3. Barras (`bar`, `barh`) — ancho, separación, apiladas, con erro"
   ]
  },
  {
   "cell_type": "code",
   "execution_count": null,
   "id": "4f9c5edf",
   "metadata": {},
   "outputs": [],
   "source": [
    "media = df_vendas.groupby('categoria')['vendas'].mean()\n",
    "std = df_vendas.groupby('categoria')['vendas'].std()\n",
    "fig, axs = plt.subplots(1,3, figsize=(12,3))\n",
    "# Simples con barras de erro\n",
    "axs[0].bar(media.index, media.values, yerr=std.values, capsize=4)\n",
    "axs[0].set_title('bar con erro')\n",
    "# Apiladas manuais\n",
    "pivot = df_vendas.pivot(index='mes', columns='categoria', values='vendas')\n",
    "axs[1].bar(pivot.index, pivot['Electrónica'], label='Electrónica')\n",
    "axs[1].bar(pivot.index, pivot['Ropa'], bottom=pivot['Electrónica'], label='Ropa')\n",
    "axs[1].set_title('apiladas (manual)'); axs[1].legend()\n",
    "# Horizontais\n",
    "axs[2].barh(media.index, media.values)\n",
    "axs[2].set_title('barh (horizontal)')\n",
    "fig.autofmt_xdate(); fig.tight_layout(); plt.show()\n"
   ]
  },
  {
   "cell_type": "markdown",
   "id": "634d4d6d",
   "metadata": {},
   "source": [
    "### 5.4. Histogramas (`hist`) — `bins`, `range`, `density`, `stacked`, orientación"
   ]
  },
  {
   "cell_type": "code",
   "execution_count": null,
   "id": "98efba3a",
   "metadata": {},
   "outputs": [],
   "source": [
    "fig, axs = plt.subplots(1,3, figsize=(12,3))\n",
    "axs[0].hist(df_tips_like['total_bill'], bins=15, density=False)\n",
    "axs[0].set_title('hist bins=15')\n",
    "axs[1].hist([df_tips_like[df_tips_like['day']==d]['tip'] for d in ['Xov','Ven','Sáb','Dom']],\n",
    "            bins=12, stacked=True, label=['Xov','Ven','Sáb','Dom'])\n",
    "axs[1].legend(); axs[1].set_title('stacked por día')\n",
    "axs[2].hist(df_tips_like['total_bill'], bins=20, orientation='horizontal', density=True)\n",
    "axs[2].set_title('orientation=\"horizontal\", density=True')\n",
    "fig.tight_layout(); plt.show()\n"
   ]
  },
  {
   "cell_type": "markdown",
   "id": "8d51d134",
   "metadata": {},
   "source": [
    "### 5.5. Boxplot/Violin/ECDF básicos con Matplotlib puro"
   ]
  },
  {
   "cell_type": "code",
   "execution_count": null,
   "id": "78932f5d",
   "metadata": {},
   "outputs": [],
   "source": [
    "fig, axs = plt.subplots(1,3, figsize=(12,3))\n",
    "grupos = [df_tips_like[df_tips_like['day']==d]['tip'] for d in ['Xov','Ven','Sáb','Dom']]\n",
    "axs[0].boxplot(grupos, labels=['Xov','Ven','Sáb','Dom']); axs[0].set_title('boxplot')\n",
    "# Violin básico vía Matplotlib\n",
    "axs[1].violinplot(grupos, showmeans=True, showextrema=True)\n",
    "axs[1].set_xticks(range(1,5)); axs[1].set_xticklabels(['Xov','Ven','Sáb','Dom']); axs[1].set_title('violin')\n",
    "# ECDF manual\n",
    "arr = np.sort(df_tips_like['tip'].values)\n",
    "ecdf_y = np.arange(1, len(arr)+1)/len(arr)\n",
    "axs[2].plot(arr, ecdf_y)\n",
    "axs[2].set_title('ECDF manual'); axs[2].set_xlabel('tip'); axs[2].set_ylabel('F(x)')\n",
    "fig.tight_layout(); plt.show()\n"
   ]
  },
  {
   "cell_type": "markdown",
   "id": "f6418bdd",
   "metadata": {},
   "source": [
    "### 5.6. Imágenes/matrices (`imshow`) e mapas de calor con `pcolor`/`imshow`"
   ]
  },
  {
   "cell_type": "code",
   "execution_count": null,
   "id": "466862de",
   "metadata": {},
   "outputs": [],
   "source": [
    "corr = df_iris_like.drop(columns=['species']).corr(numeric_only=True)\n",
    "fig, axs = plt.subplots(1,2, figsize=(10,3))\n",
    "im = axs[0].imshow(corr, cmap='coolwarm', vmin=-1, vmax=1)\n",
    "axs[0].set_title('imshow correlación'); fig.colorbar(im, ax=axs[0])\n",
    "X = np.random.RandomState(0).rand(10, 10)\n",
    "c = axs[1].pcolor(X, cmap='magma'); axs[1].set_title('pcolor'); fig.colorbar(c, ax=axs[1])\n",
    "fig.tight_layout(); plt.show()\n"
   ]
  },
  {
   "cell_type": "markdown",
   "id": "5666e7c7",
   "metadata": {},
   "source": [
    "## 6. Matplotlib: layouts e composición  {#mpl-layout}\n",
    "**Layout**:\n",
    "- `tight_layout()` e `constrained_layout=True` en `plt.subplots`.\n",
    "- `GridSpec` para disposicións complexas.\n",
    "**Dous eixes**: `twinx()`/`twiny()` e **secondary axis** con transformacións."
   ]
  },
  {
   "cell_type": "code",
   "execution_count": null,
   "id": "51f2dedf",
   "metadata": {},
   "outputs": [],
   "source": [
    "from matplotlib.gridspec import GridSpec\n",
    "\n",
    "fig = plt.figure(figsize=(8,4))\n",
    "gs = GridSpec(2, 3, figure=fig)\n",
    "ax1 = fig.add_subplot(gs[:,0])\n",
    "ax2 = fig.add_subplot(gs[0,1:])\n",
    "ax3 = fig.add_subplot(gs[1,1:])\n",
    "\n",
    "ax1.plot(df_vendas[df_vendas['categoria']=='Ropa']['mes'],\n",
    "         df_vendas[df_vendas['categoria']=='Ropa']['vendas'])\n",
    "ax1.set_title('Panel grande')\n",
    "\n",
    "x = np.arange(1,11)\n",
    "ax2.bar(x, x**2); ax2.set_title('Arriba dereita')\n",
    "ax3.plot(x, np.log(x)); ax3.set_title('Abaixo dereita')\n",
    "fig.tight_layout(); plt.show()\n"
   ]
  },
  {
   "cell_type": "code",
   "execution_count": null,
   "id": "ad32ca1f",
   "metadata": {},
   "outputs": [],
   "source": [
    "# twin axes + secondary axis\n",
    "fig, ax = plt.subplots(figsize=(6,3))\n",
    "x = np.linspace(0, 2*np.pi, 200)\n",
    "y = np.sin(x)\n",
    "ax.plot(x, y, label='sen(x)'); ax.set_xlabel('rad'); ax.set_ylabel('amplitude')\n",
    "ax2 = ax.twinx(); ax2.plot(x, np.cos(x), color='tab:orange', label='cos(x)')\n",
    "ax2.set_ylabel('amplitude (cos)')\n",
    "\n",
    "# Secondary axis: rad -> graos\n",
    "def rad2deg(r): return r*180/np.pi\n",
    "def deg2rad(d): return d*np.pi/180\n",
    "secax = ax.secondary_xaxis('top', functions=(rad2deg, deg2rad))\n",
    "secax.set_xlabel('graos')\n",
    "fig.tight_layout(); plt.show()\n"
   ]
  },
  {
   "cell_type": "markdown",
   "id": "53b1ce28",
   "metadata": {},
   "source": [
    "## 7. Seaborn: temas, paletas e API de alto nivel  {#sns-base}\n",
    "**Filosofía**: gráficos estatísticos de alto nivel sobre Matplotlib, integración con pandas, *faceting* sinxelo.\n",
    "**Temas e contextos**: `sns.set_theme(style=..., context=..., palette=...)`."
   ]
  },
  {
   "cell_type": "code",
   "execution_count": null,
   "id": "88500267",
   "metadata": {},
   "outputs": [],
   "source": [
    "try:\n",
    "    import seaborn as sns\n",
    "    print('Seaborn:', sns.__version__)\n",
    "    sns.set_theme(style='whitegrid', context='notebook')\n",
    "    # Paletas\n",
    "    pal = sns.color_palette('deep')\n",
    "    print('Exemplo de paleta deep:', pal[:5])\n",
    "except Exception as e:\n",
    "    print('Seaborn non dispoñible:', e)\n"
   ]
  },
  {
   "cell_type": "markdown",
   "id": "59fdd3f8",
   "metadata": {},
   "source": [
    "## 8. Seaborn: relacións, distribucións, categóricos e faceting  {#sns-graficos}\n",
    "### 8.1. Relacionais: `scatterplot`, `lineplot`, `relplot` (a nivel de figura)\n",
    "Parámetros: `hue`, `style`, `size`, `col`, `row` (en `relplot`)."
   ]
  },
  {
   "cell_type": "code",
   "execution_count": null,
   "id": "2952190a",
   "metadata": {},
   "outputs": [],
   "source": [
    "try:\n",
    "    import seaborn as sns\n",
    "    fig, axs = plt.subplots(1,2, figsize=(10,3))\n",
    "    sns.scatterplot(data=df_iris_like, x='sepal_length', y='sepal_width', hue='species', style='species', ax=axs[0])\n",
    "    axs[0].set_title('scatterplot con hue+style')\n",
    "    sns.lineplot(data=df_vendas, x='mes', y='vendas', hue='categoria', ax=axs[1])\n",
    "    axs[1].set_title('lineplot por categoría'); fig.autofmt_xdate()\n",
    "    plt.tight_layout(); plt.show()\n",
    "\n",
    "    g = sns.relplot(data=df_tips_like, x='total_bill', y='tip', hue='smoker', col='day', col_wrap=2)\n",
    "    g.fig.suptitle('relplot: faceting por day'); plt.tight_layout()\n",
    "except Exception as e:\n",
    "    print('Seaborn non dispoñible:', e)\n"
   ]
  },
  {
   "cell_type": "markdown",
   "id": "b9c17a39",
   "metadata": {},
   "source": [
    "### 8.2. Regresión e relacións avanzadas: `regplot`, `lmplot`"
   ]
  },
  {
   "cell_type": "code",
   "execution_count": null,
   "id": "87fd2b92",
   "metadata": {},
   "outputs": [],
   "source": [
    "try:\n",
    "    import seaborn as sns\n",
    "    fig, ax = plt.subplots(figsize=(5,3))\n",
    "    sns.regplot(data=df_tips_like, x='total_bill', y='tip', ax=ax, scatter_kws={'alpha':0.6})\n",
    "    ax.set_title('regplot con axuste lineal'); plt.tight_layout(); plt.show()\n",
    "\n",
    "    g = sns.lmplot(data=df_tips_like, x='total_bill', y='tip', col='smoker', hue='sex')\n",
    "    g.fig.suptitle('lmplot por smoker, hue=sex'); plt.tight_layout()\n",
    "except Exception as e:\n",
    "    print('Seaborn non dispoñible:', e)\n"
   ]
  },
  {
   "cell_type": "markdown",
   "id": "07520874",
   "metadata": {},
   "source": [
    "### 8.3. Distribucións: `histplot`, `kdeplot`, `ecdfplot`, `displot`"
   ]
  },
  {
   "cell_type": "code",
   "execution_count": null,
   "id": "c3b77fcf",
   "metadata": {},
   "outputs": [],
   "source": [
    "try:\n",
    "    import seaborn as sns\n",
    "    fig, axs = plt.subplots(1,3, figsize=(12,3))\n",
    "    sns.histplot(df_tips_like, x='total_bill', bins=20, ax=axs[0])\n",
    "    axs[0].set_title('histplot')\n",
    "    sns.kdeplot(df_tips_like, x='total_bill', fill=True, ax=axs[1])\n",
    "    axs[1].set_title('kdeplot')\n",
    "    sns.ecdfplot(df_tips_like, x='total_bill', ax=axs[2])\n",
    "    axs[2].set_title('ecdfplot')\n",
    "    plt.tight_layout(); plt.show()\n",
    "\n",
    "    g = sns.displot(df_tips_like, x='tip', col='day', hue='smoker', kind='kde', fill=True, col_wrap=2)\n",
    "    g.fig.suptitle('displot kde con hue, por day'); plt.tight_layout()\n",
    "except Exception as e:\n",
    "    print('Seaborn non dispoñible:', e)\n"
   ]
  },
  {
   "cell_type": "markdown",
   "id": "a0ba9a13",
   "metadata": {},
   "source": [
    "### 8.4. Categóricos: `barplot`, `countplot`, `boxplot`, `violinplot`, `pointplot`"
   ]
  },
  {
   "cell_type": "code",
   "execution_count": null,
   "id": "ca322eb8",
   "metadata": {},
   "outputs": [],
   "source": [
    "try:\n",
    "    import seaborn as sns\n",
    "    fig, axs = plt.subplots(1,4, figsize=(14,3))\n",
    "    sns.barplot(data=df_tips_like, x='day', y='tip', estimator=np.mean, ax=axs[0])\n",
    "    axs[0].set_title('barplot: media tip por día')\n",
    "    sns.countplot(data=df_tips_like, x='day', ax=axs[1])\n",
    "    axs[1].set_title('countplot: frecuencias por día')\n",
    "    sns.boxplot(data=df_tips_like, x='day', y='total_bill', ax=axs[2])\n",
    "    axs[2].set_title('boxplot total_bill/day')\n",
    "    sns.pointplot(data=df_tips_like, x='day', y='tip', hue='smoker', ax=axs[3])\n",
    "    axs[3].set_title('pointplot con hue')\n",
    "    plt.tight_layout(); plt.show()\n",
    "except Exception as e:\n",
    "    print('Seaborn non dispoñible:', e)\n"
   ]
  },
  {
   "cell_type": "markdown",
   "id": "b6ab36b4",
   "metadata": {},
   "source": [
    "### 8.5. Matrices e agrupación: `heatmap`, `clustermap`, `pairplot`, `jointplot`, `FacetGrid`"
   ]
  },
  {
   "cell_type": "code",
   "execution_count": null,
   "id": "c14595c4",
   "metadata": {},
   "outputs": [],
   "source": [
    "try:\n",
    "    import seaborn as sns\n",
    "    corr = df_iris_like.drop(columns=['species']).corr(numeric_only=True)\n",
    "    fig, ax = plt.subplots(figsize=(5,4))\n",
    "    sns.heatmap(corr, annot=True, fmt='.2f', cmap='coolwarm', ax=ax)\n",
    "    ax.set_title('heatmap correlación'); plt.tight_layout(); plt.show()\n",
    "\n",
    "    g = sns.pairplot(df_iris_like, hue='species', diag_kind='hist')\n",
    "    g.fig.suptitle('pairplot iris-like'); plt.tight_layout()\n",
    "\n",
    "    g2 = sns.jointplot(data=df_iris_like, x='sepal_length', y='petal_length', kind='hex')\n",
    "    g2.fig.suptitle('jointplot hex'); plt.tight_layout()\n",
    "\n",
    "    # FacetGrid manual\n",
    "    g3 = sns.FacetGrid(df_tips_like, col='day', col_wrap=2)\n",
    "    g3.map_dataframe(sns.scatterplot, x='total_bill', y='tip')\n",
    "    g3.fig.suptitle('FacetGrid: scatter total_bill vs tip por día'); plt.tight_layout()\n",
    "except Exception as e:\n",
    "    print('Seaborn non dispoñible:', e)\n"
   ]
  },
  {
   "cell_type": "markdown",
   "id": "e6677745",
   "metadata": {},
   "source": [
    "## 9. Seaborn + Matplotlib: integración e afinado fino  {#sns-mpl}\n",
    "Seaborn devolve `Axes`/`Figure` de Matplotlib, polo que podes usar `ax.set(...)`, `ax.grid(...)`, `ax.legend(...)`, etc."
   ]
  },
  {
   "cell_type": "code",
   "execution_count": null,
   "id": "c002eb8e",
   "metadata": {},
   "outputs": [],
   "source": [
    "try:\n",
    "    import seaborn as sns\n",
    "    fig, ax = plt.subplots(figsize=(6,3))\n",
    "    sns.scatterplot(data=df_tips_like, x='total_bill', y='tip', hue='time', style='smoker', ax=ax)\n",
    "    ax.set_title('Seaborn + ax.set(...)'); ax.grid(True, linestyle=':')\n",
    "    ax.legend(title='Tempo / Fumador', loc='lower right')\n",
    "    fig.tight_layout(); plt.show()\n",
    "except Exception as e:\n",
    "    print('Seaborn non dispoñible:', e)\n"
   ]
  },
  {
   "cell_type": "markdown",
   "id": "5eca7a22",
   "metadata": {},
   "source": [
    "## 10. Exportación, formatos e boas prácticas  {#export}\n",
    "**Exportar**: `plt.savefig('fig.png', dpi=300, bbox_inches='tight')`. Tamén `svg`/`pdf` para vectorial.\n",
    "\n",
    "**Boas prácticas** (resumo):\n",
    "- API OO para reproducibilidade e composición.\n",
    "- Etiquetas claras e unidades; `formatter` para números e datas.\n",
    "- Mantén coherencia de escalas en comparacións.\n",
    "- Evita saturación de cores; usa paletas accesibles.\n",
    "- Documenta a figura (título curto; pé/anotación se procede)."
   ]
  },
  {
   "cell_type": "code",
   "execution_count": null,
   "id": "e829d1e9",
   "metadata": {},
   "outputs": [],
   "source": [
    "fig, ax = plt.subplots(figsize=(5,3))\n",
    "ax.plot(df_vendas[df_vendas['categoria']=='Ropa']['mes'],\n",
    "        df_vendas[df_vendas['categoria']=='Ropa']['vendas'])\n",
    "ax.set(title='Exemplo export', xlabel='Mes', ylabel='€')\n",
    "fig.tight_layout()\n",
    "fig.savefig('exemplo_export_detallado.png', dpi=300, bbox_inches='tight')\n",
    "fig.savefig('exemplo_export_detallado.svg', bbox_inches='tight')\n",
    "print('Gardadas: exemplo_export_detallado.png, exemplo_export_detallado.svg')\n"
   ]
  },
  {
   "cell_type": "markdown",
   "id": "19a1b0d7",
   "metadata": {},
   "source": [
    "## 11. Referencias e notas de datasets  {#refs}\n",
    "**Documentación oficial**\n",
    "- Matplotlib: https://matplotlib.org/stable/\n",
    "- Seaborn: https://seaborn.pydata.org/\n",
    "\n",
    "**Datasets (orixe conceptual)**\n",
    "- *Iris* — Fisher, R. A. (1936). \"The use of multiple measurements in taxonomic problems\". (\n",
    "  No caderno empregarase un **dataset sintético inspirado** no Iris orixinal; non se inclúen datos reais.)\n",
    "- *Tips* — Dataset de exemplo popularizado por Seaborn para demostracións de gráficos categóricos (\n",
    "  aquí emprégase unha **simulación sintética** semellante).\n",
    "\n",
    "**Nota**: a variabilidade dos gráficos depende da semente aleatoria (`rng = default_rng(...)`).\n"
   ]
  }
 ],
 "metadata": {},
 "nbformat": 4,
 "nbformat_minor": 5
}
