{
 "cells": [
  {
   "cell_type": "markdown",
   "id": "a4191640-c0da-4b98-acd8-8895065994d9",
   "metadata": {},
   "source": [
    "# Exercicios básicos de pandas: creación, visualización, selección e filtrado\n",
    "\n",
    "Neste caderno atoparás exercicios prácticos organizados en catro seccións:\n",
    "- **Creación de Series e DataFrames**\n",
    "- **Visualización de datos**\n",
    "- **Selección de datos**\n",
    "- **Filtrado de datos**\n",
    "\n",
    "Cada exercicio vai seguido dunha cela de código baleira para que escribas a túa solución.\n",
    "## Importacións necesarias"
   ]
  },
  {
   "cell_type": "code",
   "execution_count": 1,
   "id": "312d4254-1ccb-4d69-a5b0-233888214cc0",
   "metadata": {},
   "outputs": [],
   "source": [
    "import numpy as np\n",
    "import pandas as pd\n",
    "from IPython.display import display\n"
   ]
  },
  {
   "cell_type": "markdown",
   "id": "d61447db-0495-4765-a4fe-025a4102e4c2",
   "metadata": {},
   "source": [
    "## Modificación de valores dun DataFrame"
   ]
  },
  {
   "cell_type": "markdown",
   "id": "0dcec62a-4493-448b-b812-e42ae93ce3ea",
   "metadata": {},
   "source": [
    "**Exercicio 1.** Crea un `DataFrame` a partir do ficheiro `penguins.csv` situado no directorio `~/work/data`n. Engade unha columna chamada `tipo` co valor `pingüino`"
   ]
  },
  {
   "cell_type": "code",
   "execution_count": null,
   "id": "4f2bdfdf-d7c9-481f-b0d2-9c6f981bb611",
   "metadata": {},
   "outputs": [
    {
     "data": {
      "text/html": [
       "<div>\n",
       "<style scoped>\n",
       "    .dataframe tbody tr th:only-of-type {\n",
       "        vertical-align: middle;\n",
       "    }\n",
       "\n",
       "    .dataframe tbody tr th {\n",
       "        vertical-align: top;\n",
       "    }\n",
       "\n",
       "    .dataframe thead th {\n",
       "        text-align: right;\n",
       "    }\n",
       "</style>\n",
       "<table border=\"1\" class=\"dataframe\">\n",
       "  <thead>\n",
       "    <tr style=\"text-align: right;\">\n",
       "      <th></th>\n",
       "      <th>species</th>\n",
       "      <th>island</th>\n",
       "      <th>bill_length_mm</th>\n",
       "      <th>bill_depth_mm</th>\n",
       "      <th>flipper_length_mm</th>\n",
       "      <th>body_mass_g</th>\n",
       "      <th>sex</th>\n",
       "    </tr>\n",
       "  </thead>\n",
       "  <tbody>\n",
       "    <tr>\n",
       "      <th>0</th>\n",
       "      <td>Adelie</td>\n",
       "      <td>Torgersen</td>\n",
       "      <td>39.1</td>\n",
       "      <td>18.7</td>\n",
       "      <td>181.0</td>\n",
       "      <td>3750.0</td>\n",
       "      <td>MALE</td>\n",
       "    </tr>\n",
       "    <tr>\n",
       "      <th>1</th>\n",
       "      <td>Adelie</td>\n",
       "      <td>Torgersen</td>\n",
       "      <td>39.5</td>\n",
       "      <td>17.4</td>\n",
       "      <td>186.0</td>\n",
       "      <td>3800.0</td>\n",
       "      <td>FEMALE</td>\n",
       "    </tr>\n",
       "    <tr>\n",
       "      <th>2</th>\n",
       "      <td>Adelie</td>\n",
       "      <td>Torgersen</td>\n",
       "      <td>40.3</td>\n",
       "      <td>18.0</td>\n",
       "      <td>195.0</td>\n",
       "      <td>3250.0</td>\n",
       "      <td>FEMALE</td>\n",
       "    </tr>\n",
       "    <tr>\n",
       "      <th>3</th>\n",
       "      <td>Adelie</td>\n",
       "      <td>Torgersen</td>\n",
       "      <td>NaN</td>\n",
       "      <td>NaN</td>\n",
       "      <td>NaN</td>\n",
       "      <td>NaN</td>\n",
       "      <td>NaN</td>\n",
       "    </tr>\n",
       "    <tr>\n",
       "      <th>4</th>\n",
       "      <td>Adelie</td>\n",
       "      <td>Torgersen</td>\n",
       "      <td>36.7</td>\n",
       "      <td>19.3</td>\n",
       "      <td>193.0</td>\n",
       "      <td>3450.0</td>\n",
       "      <td>FEMALE</td>\n",
       "    </tr>\n",
       "    <tr>\n",
       "      <th>...</th>\n",
       "      <td>...</td>\n",
       "      <td>...</td>\n",
       "      <td>...</td>\n",
       "      <td>...</td>\n",
       "      <td>...</td>\n",
       "      <td>...</td>\n",
       "      <td>...</td>\n",
       "    </tr>\n",
       "    <tr>\n",
       "      <th>339</th>\n",
       "      <td>Gentoo</td>\n",
       "      <td>Biscoe</td>\n",
       "      <td>NaN</td>\n",
       "      <td>NaN</td>\n",
       "      <td>NaN</td>\n",
       "      <td>NaN</td>\n",
       "      <td>NaN</td>\n",
       "    </tr>\n",
       "    <tr>\n",
       "      <th>340</th>\n",
       "      <td>Gentoo</td>\n",
       "      <td>Biscoe</td>\n",
       "      <td>46.8</td>\n",
       "      <td>14.3</td>\n",
       "      <td>215.0</td>\n",
       "      <td>4850.0</td>\n",
       "      <td>FEMALE</td>\n",
       "    </tr>\n",
       "    <tr>\n",
       "      <th>341</th>\n",
       "      <td>Gentoo</td>\n",
       "      <td>Biscoe</td>\n",
       "      <td>50.4</td>\n",
       "      <td>15.7</td>\n",
       "      <td>222.0</td>\n",
       "      <td>5750.0</td>\n",
       "      <td>MALE</td>\n",
       "    </tr>\n",
       "    <tr>\n",
       "      <th>342</th>\n",
       "      <td>Gentoo</td>\n",
       "      <td>Biscoe</td>\n",
       "      <td>45.2</td>\n",
       "      <td>14.8</td>\n",
       "      <td>212.0</td>\n",
       "      <td>5200.0</td>\n",
       "      <td>FEMALE</td>\n",
       "    </tr>\n",
       "    <tr>\n",
       "      <th>343</th>\n",
       "      <td>Gentoo</td>\n",
       "      <td>Biscoe</td>\n",
       "      <td>49.9</td>\n",
       "      <td>16.1</td>\n",
       "      <td>213.0</td>\n",
       "      <td>5400.0</td>\n",
       "      <td>MALE</td>\n",
       "    </tr>\n",
       "  </tbody>\n",
       "</table>\n",
       "<p>344 rows × 7 columns</p>\n",
       "</div>"
      ],
      "text/plain": [
       "    species     island  bill_length_mm  bill_depth_mm  flipper_length_mm  \\\n",
       "0    Adelie  Torgersen            39.1           18.7              181.0   \n",
       "1    Adelie  Torgersen            39.5           17.4              186.0   \n",
       "2    Adelie  Torgersen            40.3           18.0              195.0   \n",
       "3    Adelie  Torgersen             NaN            NaN                NaN   \n",
       "4    Adelie  Torgersen            36.7           19.3              193.0   \n",
       "..      ...        ...             ...            ...                ...   \n",
       "339  Gentoo     Biscoe             NaN            NaN                NaN   \n",
       "340  Gentoo     Biscoe            46.8           14.3              215.0   \n",
       "341  Gentoo     Biscoe            50.4           15.7              222.0   \n",
       "342  Gentoo     Biscoe            45.2           14.8              212.0   \n",
       "343  Gentoo     Biscoe            49.9           16.1              213.0   \n",
       "\n",
       "     body_mass_g     sex  \n",
       "0         3750.0    MALE  \n",
       "1         3800.0  FEMALE  \n",
       "2         3250.0  FEMALE  \n",
       "3            NaN     NaN  \n",
       "4         3450.0  FEMALE  \n",
       "..           ...     ...  \n",
       "339          NaN     NaN  \n",
       "340       4850.0  FEMALE  \n",
       "341       5750.0    MALE  \n",
       "342       5200.0  FEMALE  \n",
       "343       5400.0    MALE  \n",
       "\n",
       "[344 rows x 7 columns]"
      ]
     },
     "metadata": {},
     "output_type": "display_data"
    },
    {
     "data": {
      "text/html": [
       "<div>\n",
       "<style scoped>\n",
       "    .dataframe tbody tr th:only-of-type {\n",
       "        vertical-align: middle;\n",
       "    }\n",
       "\n",
       "    .dataframe tbody tr th {\n",
       "        vertical-align: top;\n",
       "    }\n",
       "\n",
       "    .dataframe thead th {\n",
       "        text-align: right;\n",
       "    }\n",
       "</style>\n",
       "<table border=\"1\" class=\"dataframe\">\n",
       "  <thead>\n",
       "    <tr style=\"text-align: right;\">\n",
       "      <th></th>\n",
       "      <th>species</th>\n",
       "      <th>island</th>\n",
       "      <th>bill_length_mm</th>\n",
       "      <th>bill_depth_mm</th>\n",
       "      <th>flipper_length_mm</th>\n",
       "      <th>body_mass_g</th>\n",
       "      <th>sex</th>\n",
       "      <th>tipo</th>\n",
       "    </tr>\n",
       "  </thead>\n",
       "  <tbody>\n",
       "    <tr>\n",
       "      <th>0</th>\n",
       "      <td>Adelie</td>\n",
       "      <td>Torgersen</td>\n",
       "      <td>39.1</td>\n",
       "      <td>18.7</td>\n",
       "      <td>181.0</td>\n",
       "      <td>3750.0</td>\n",
       "      <td>MALE</td>\n",
       "      <td>pinguino</td>\n",
       "    </tr>\n",
       "    <tr>\n",
       "      <th>1</th>\n",
       "      <td>Adelie</td>\n",
       "      <td>Torgersen</td>\n",
       "      <td>39.5</td>\n",
       "      <td>17.4</td>\n",
       "      <td>186.0</td>\n",
       "      <td>3800.0</td>\n",
       "      <td>FEMALE</td>\n",
       "      <td>pinguino</td>\n",
       "    </tr>\n",
       "    <tr>\n",
       "      <th>2</th>\n",
       "      <td>Adelie</td>\n",
       "      <td>Torgersen</td>\n",
       "      <td>40.3</td>\n",
       "      <td>18.0</td>\n",
       "      <td>195.0</td>\n",
       "      <td>3250.0</td>\n",
       "      <td>FEMALE</td>\n",
       "      <td>pinguino</td>\n",
       "    </tr>\n",
       "    <tr>\n",
       "      <th>3</th>\n",
       "      <td>Adelie</td>\n",
       "      <td>Torgersen</td>\n",
       "      <td>NaN</td>\n",
       "      <td>NaN</td>\n",
       "      <td>NaN</td>\n",
       "      <td>NaN</td>\n",
       "      <td>NaN</td>\n",
       "      <td>pinguino</td>\n",
       "    </tr>\n",
       "    <tr>\n",
       "      <th>4</th>\n",
       "      <td>Adelie</td>\n",
       "      <td>Torgersen</td>\n",
       "      <td>36.7</td>\n",
       "      <td>19.3</td>\n",
       "      <td>193.0</td>\n",
       "      <td>3450.0</td>\n",
       "      <td>FEMALE</td>\n",
       "      <td>pinguino</td>\n",
       "    </tr>\n",
       "    <tr>\n",
       "      <th>...</th>\n",
       "      <td>...</td>\n",
       "      <td>...</td>\n",
       "      <td>...</td>\n",
       "      <td>...</td>\n",
       "      <td>...</td>\n",
       "      <td>...</td>\n",
       "      <td>...</td>\n",
       "      <td>...</td>\n",
       "    </tr>\n",
       "    <tr>\n",
       "      <th>339</th>\n",
       "      <td>Gentoo</td>\n",
       "      <td>Biscoe</td>\n",
       "      <td>NaN</td>\n",
       "      <td>NaN</td>\n",
       "      <td>NaN</td>\n",
       "      <td>NaN</td>\n",
       "      <td>NaN</td>\n",
       "      <td>pinguino</td>\n",
       "    </tr>\n",
       "    <tr>\n",
       "      <th>340</th>\n",
       "      <td>Gentoo</td>\n",
       "      <td>Biscoe</td>\n",
       "      <td>46.8</td>\n",
       "      <td>14.3</td>\n",
       "      <td>215.0</td>\n",
       "      <td>4850.0</td>\n",
       "      <td>FEMALE</td>\n",
       "      <td>pinguino</td>\n",
       "    </tr>\n",
       "    <tr>\n",
       "      <th>341</th>\n",
       "      <td>Gentoo</td>\n",
       "      <td>Biscoe</td>\n",
       "      <td>50.4</td>\n",
       "      <td>15.7</td>\n",
       "      <td>222.0</td>\n",
       "      <td>5750.0</td>\n",
       "      <td>MALE</td>\n",
       "      <td>pinguino</td>\n",
       "    </tr>\n",
       "    <tr>\n",
       "      <th>342</th>\n",
       "      <td>Gentoo</td>\n",
       "      <td>Biscoe</td>\n",
       "      <td>45.2</td>\n",
       "      <td>14.8</td>\n",
       "      <td>212.0</td>\n",
       "      <td>5200.0</td>\n",
       "      <td>FEMALE</td>\n",
       "      <td>pinguino</td>\n",
       "    </tr>\n",
       "    <tr>\n",
       "      <th>343</th>\n",
       "      <td>Gentoo</td>\n",
       "      <td>Biscoe</td>\n",
       "      <td>49.9</td>\n",
       "      <td>16.1</td>\n",
       "      <td>213.0</td>\n",
       "      <td>5400.0</td>\n",
       "      <td>MALE</td>\n",
       "      <td>pinguino</td>\n",
       "    </tr>\n",
       "  </tbody>\n",
       "</table>\n",
       "<p>344 rows × 8 columns</p>\n",
       "</div>"
      ],
      "text/plain": [
       "    species     island  bill_length_mm  bill_depth_mm  flipper_length_mm  \\\n",
       "0    Adelie  Torgersen            39.1           18.7              181.0   \n",
       "1    Adelie  Torgersen            39.5           17.4              186.0   \n",
       "2    Adelie  Torgersen            40.3           18.0              195.0   \n",
       "3    Adelie  Torgersen             NaN            NaN                NaN   \n",
       "4    Adelie  Torgersen            36.7           19.3              193.0   \n",
       "..      ...        ...             ...            ...                ...   \n",
       "339  Gentoo     Biscoe             NaN            NaN                NaN   \n",
       "340  Gentoo     Biscoe            46.8           14.3              215.0   \n",
       "341  Gentoo     Biscoe            50.4           15.7              222.0   \n",
       "342  Gentoo     Biscoe            45.2           14.8              212.0   \n",
       "343  Gentoo     Biscoe            49.9           16.1              213.0   \n",
       "\n",
       "     body_mass_g     sex      tipo  \n",
       "0         3750.0    MALE  pinguino  \n",
       "1         3800.0  FEMALE  pinguino  \n",
       "2         3250.0  FEMALE  pinguino  \n",
       "3            NaN     NaN  pinguino  \n",
       "4         3450.0  FEMALE  pinguino  \n",
       "..           ...     ...       ...  \n",
       "339          NaN     NaN  pinguino  \n",
       "340       4850.0  FEMALE  pinguino  \n",
       "341       5750.0    MALE  pinguino  \n",
       "342       5200.0  FEMALE  pinguino  \n",
       "343       5400.0    MALE  pinguino  \n",
       "\n",
       "[344 rows x 8 columns]"
      ]
     },
     "metadata": {},
     "output_type": "display_data"
    }
   ],
   "source": [
    "# Solución aquí"
   ]
  },
  {
   "cell_type": "markdown",
   "id": "0a3cf0f2-de9a-4e81-9463-c9a167e7a636",
   "metadata": {},
   "source": [
    "**Exercicio 2.** Crea unha nova columna chamada `tamaño` co valor `\"pequeno\"` se o valor de `body_mass_g`é inferior a `4000` é `\"grande\"` en caso contrario"
   ]
  },
  {
   "cell_type": "code",
   "execution_count": null,
   "id": "5574a707-3646-433c-8f6e-e1d099b8c6a7",
   "metadata": {},
   "outputs": [],
   "source": [
    "# Solución aquí"
   ]
  },
  {
   "cell_type": "markdown",
   "id": "a238cf59-a61f-4057-9276-e712767aa7a0",
   "metadata": {},
   "source": [
    "**Exercicio 3.** Crea unha nova columna chamada `bill_length_in` que conterá o valor de `bill_length_mm` pasado a pulgadas, é dicir, dividindo entre `25,4`"
   ]
  },
  {
   "cell_type": "code",
   "execution_count": null,
   "id": "13b7b4fe-76fb-4dbe-b644-80043f88cecc",
   "metadata": {},
   "outputs": [],
   "source": [
    "# Solución aquí"
   ]
  },
  {
   "cell_type": "markdown",
   "id": "ad4b5c7e-a219-480a-a98a-cc9eaaa62403",
   "metadata": {},
   "source": [
    "## Tratamento de valores ausentes"
   ]
  },
  {
   "cell_type": "markdown",
   "id": "ff5999a0-73de-4af3-bf25-bb44d52819d3",
   "metadata": {},
   "source": [
    "**Exercicio 1.** Crea un `DataFrame` chamado `df_penguins2` a parti de `df_penguins`  que elimine todas as filas con valor `NaN`."
   ]
  },
  {
   "cell_type": "code",
   "execution_count": null,
   "id": "641bcddf-7db1-44f2-96c6-967d0777da8d",
   "metadata": {},
   "outputs": [],
   "source": [
    "# Solución aquí"
   ]
  },
  {
   "cell_type": "markdown",
   "id": "e1665c7d-26e3-40c8-95d7-45cc14381f85",
   "metadata": {},
   "source": [
    "**Exercicio 2.** Crea un `DataFrame` chamado `df_penguins3` a parti de `df_penguins`  quque substitúa cada valor `NaN` polo inmediatamente superior."
   ]
  },
  {
   "cell_type": "code",
   "execution_count": null,
   "id": "ad0cfb71-cc23-4716-9f0f-4d149c0c35f6",
   "metadata": {},
   "outputs": [],
   "source": [
    "# Solución aquí"
   ]
  },
  {
   "cell_type": "markdown",
   "id": "387ed781-1058-4fce-8b05-35c9a41cb7c7",
   "metadata": {},
   "source": [
    "**Exercicio 3.** Amosa un novo `DataFrame` que amose o valor `True` para as celas con valor `NaN` en `df3` e `False` en caso contrario"
   ]
  },
  {
   "cell_type": "code",
   "execution_count": null,
   "id": "75561eef-31f6-47b8-b027-81a20cf5eb3b",
   "metadata": {},
   "outputs": [],
   "source": [
    "# Solución aquí"
   ]
  },
  {
   "cell_type": "markdown",
   "id": "ab35d4c9-aaaa-4b0b-b435-0f38ceca0c4a",
   "metadata": {},
   "source": [
    "**Exercicio 4.** Amosa as filas de `df_penguins` que teñen valor nula na columna `bill_depth_mm`"
   ]
  },
  {
   "cell_type": "code",
   "execution_count": null,
   "id": "8897808c-abca-41b9-9bba-492bcf858158",
   "metadata": {},
   "outputs": [],
   "source": [
    "# Solución aquí"
   ]
  },
  {
   "cell_type": "markdown",
   "id": "a199cb4f-34ee-44f9-baa7-36cc4229466f",
   "metadata": {},
   "source": [
    "**Exercicio 5.** Conta cantos valores nulos hai na columna `bill_depth_mm` de `df_penguins`"
   ]
  },
  {
   "cell_type": "code",
   "execution_count": null,
   "id": "a6b50777-2fa1-4516-af1a-e4f2fae2822b",
   "metadata": {},
   "outputs": [],
   "source": [
    "# Solución aquí"
   ]
  },
  {
   "cell_type": "markdown",
   "id": "12fa197e-cd46-4e7d-b2aa-de50eae1f43f",
   "metadata": {},
   "source": [
    "## Operacións estatísticas e agregacións"
   ]
  },
  {
   "cell_type": "markdown",
   "id": "828a3eca-e1f6-4ab6-af3f-60d8942fa312",
   "metadata": {},
   "source": [
    "**Exercicio 1.** Amosa os principais valores estadísticos para o `DataFrame` `df_penguins`."
   ]
  },
  {
   "cell_type": "code",
   "execution_count": null,
   "id": "3a458cc3-6f93-4a0b-b488-39538fe72ed1",
   "metadata": {},
   "outputs": [],
   "source": [
    "# Solución aquí"
   ]
  },
  {
   "cell_type": "markdown",
   "id": "f9057622-df14-490c-ad57-acde482160da",
   "metadata": {},
   "source": [
    "**Exercicio 2.** Amosa só a media para as columnas numéricas do `DataFrame` `df_penguins`."
   ]
  },
  {
   "cell_type": "code",
   "execution_count": null,
   "id": "1e6c06c4-a16a-48ff-94c0-015407fe7cc2",
   "metadata": {},
   "outputs": [],
   "source": [
    "# Solución aquí"
   ]
  },
  {
   "cell_type": "markdown",
   "id": "c0198e34-e421-4388-a41a-e531b20bca2e",
   "metadata": {},
   "source": [
    "**Exercicio 3.** Amosa cantos exemplares hai de cada especie (`species`). "
   ]
  },
  {
   "cell_type": "code",
   "execution_count": null,
   "id": "79010db5-5bce-40bc-b505-f5dcc7bca3b5",
   "metadata": {
    "jupyter": {
     "source_hidden": true
    }
   },
   "outputs": [],
   "source": [
    "# Solución aquí"
   ]
  },
  {
   "cell_type": "markdown",
   "id": "609d058e-f673-4a6b-b0a7-be291e65261d",
   "metadata": {},
   "source": [
    " **Exercicio 4.** Modifica `df_penguins` para que a columna `sex` teña os valores en minúsculas."
   ]
  },
  {
   "cell_type": "code",
   "execution_count": null,
   "id": "cb9f1e8a-6901-4d99-85d1-61cd86e95fd0",
   "metadata": {},
   "outputs": [],
   "source": [
    "# Solución aquí"
   ]
  },
  {
   "cell_type": "markdown",
   "id": "2f166a6f-1377-4d0f-9946-59f5e8c40f53",
   "metadata": {},
   "source": [
    " **Exercicio 5.** Calcula peso medio (`body_mass_g`) para cada especie (`species`)"
   ]
  },
  {
   "cell_type": "code",
   "execution_count": null,
   "id": "fd7d73ae-5996-4b71-ae36-1103ea18660c",
   "metadata": {},
   "outputs": [],
   "source": [
    "# Solución aquí"
   ]
  },
  {
   "cell_type": "markdown",
   "id": "3ed1de0b-00c8-4de9-a1e4-5092cae7e070",
   "metadata": {},
   "source": [
    " **Exercicio 6.** Calcula a media e a desviación estándar sobre o peso (`body_mass_g`) agrupando por especie (`species`). Recomendación: emprega a función `agg`."
   ]
  },
  {
   "cell_type": "code",
   "execution_count": null,
   "id": "231ec63e-cf59-4423-99c5-a51046f64ead",
   "metadata": {},
   "outputs": [],
   "source": [
    "# Solución aquí"
   ]
  },
  {
   "cell_type": "markdown",
   "id": "f17fa828-b99e-4e85-8b8e-286abf340171",
   "metadata": {},
   "source": [
    " **Exercicio 7.** As principais medidas estatísticas para todas as columnas agrupando por especie (`species`). "
   ]
  },
  {
   "cell_type": "code",
   "execution_count": null,
   "id": "712faacd-a041-4a14-8f82-1fdedcf20b00",
   "metadata": {},
   "outputs": [],
   "source": [
    "# Solución aquí"
   ]
  },
  {
   "cell_type": "markdown",
   "id": "c1cc15c8-6650-4b0e-a730-936cfd40682c",
   "metadata": {},
   "source": [
    " **Exercicio 8.** Agrupando por illa (`island`), calcula:\n",
    " - O número de pingüinos.\n",
    " - O peso medio.\n",
    " - A porcentaxe de individuos de cada especie"
   ]
  },
  {
   "cell_type": "code",
   "execution_count": null,
   "id": "c385609d-2012-45e4-9ddb-eea6d4abf0d2",
   "metadata": {},
   "outputs": [],
   "source": [
    "# Solución aquí"
   ]
  },
  {
   "cell_type": "markdown",
   "id": "516f0ec1-04e4-49c7-875f-7b6b020f44c4",
   "metadata": {},
   "source": [
    " **Exercicio 9.** Agrupa por especie e calcula a correlación entre `bill_length_mm` e `body_mass_g`"
   ]
  },
  {
   "cell_type": "code",
   "execution_count": null,
   "id": "3abd963e-ab1b-4278-9f51-77547ac5f335",
   "metadata": {},
   "outputs": [],
   "source": [
    "# Solución aquí"
   ]
  },
  {
   "cell_type": "markdown",
   "id": "d073f84b-ca35-4352-8f22-79a8e8c69ce7",
   "metadata": {},
   "source": [
    "## Combinación de datos de varias táboas"
   ]
  },
  {
   "cell_type": "markdown",
   "id": "1dfa999c-f916-4198-a1f2-00845d75bcc1",
   "metadata": {},
   "source": [
    " **Exercicio 1.** Crea o seguinte `DataFrame`:\n",
    " ```python\n",
    "islas_info = pd.DataFrame({\n",
    "    \"island\": [\"Biscoe\", \"Dream\", \"Torgersen\"],\n",
    "    \"area_km2\": [60, 100, 1],\n",
    "    \"habitat\": [\"rochosas\", \"neve e xeo\", \"costa pequena\"]\n",
    "})\n",
    "Úneo a `penguins_df` empregando a columna `island`.\n",
    "\n",
    "```"
   ]
  },
  {
   "cell_type": "code",
   "execution_count": null,
   "id": "fa6cf7ae-e9df-445e-bade-6267630537e9",
   "metadata": {},
   "outputs": [],
   "source": [
    "# Solución aquí"
   ]
  },
  {
   "cell_type": "markdown",
   "id": "32f9b18a-56d5-45a8-9373-16221df3a17e",
   "metadata": {},
   "source": [
    " **Exercicio 2.** Crea o seguinte `DataFrame`:\n",
    " ```python\n",
    "especies_info = pd.DataFrame({\n",
    "    \"species\": [\"Adelie\", \"Gentoo\", \"Chinstrap\"],\n",
    "    \"alimentacion\": [\"peixe\", \"krill\", \"mixta\"],\n",
    "    \"estado_conservacion\": [\"Preocupación menor\", \"Preocupación menor\", \"Vulnerable\"]\n",
    "})\n",
    "```\n",
    "\n",
    "Fai un `merge` para engadir a columna de estado de conservación e despois calcula o peso medio segundo dita variable.\n"
   ]
  },
  {
   "cell_type": "code",
   "execution_count": null,
   "id": "1c734dcf-d5e0-47fc-a54c-868aebead7e0",
   "metadata": {},
   "outputs": [],
   "source": [
    "# Solución aquí"
   ]
  },
  {
   "cell_type": "markdown",
   "id": "3d4a6c49",
   "metadata": {},
   "source": [
    "**Exercicio 3**. Crea o seguinte `DataFrame`:\n",
    "```python\n",
    "novas = pd.DataFrame([\n",
    "    {\n",
    "        \"species\": \"Adelie\",\n",
    "        \"island\": \"Dream\",\n",
    "        \"bill_length_mm\": 40.1,\n",
    "        \"bill_depth_mm\": 18.5,\n",
    "        \"flipper_length_mm\": 195.0,\n",
    "        \"body_mass_g\": 3650.0,\n",
    "        \"sex\": \"male\",\n",
    "        \"year\": 2008,   # se a túa versión non ten 'year', quítao desta dict\n",
    "    },\n",
    "    {\n",
    "        \"species\": \"Gentoo\",\n",
    "        \"island\": \"Biscoe\",\n",
    "        \"bill_length_mm\": 48.3,\n",
    "        \"bill_depth_mm\": 14.9,\n",
    "        \"flipper_length_mm\": 220.0,\n",
    "        \"body_mass_g\": 5100.0,\n",
    "        \"sex\": \"female\",\n",
    "        \"year\": 2008,\n",
    "    },\n",
    "])\n",
    "```\n",
    "\n",
    "Concátenao a `penguins_df` e amosa o resultado"
   ]
  },
  {
   "cell_type": "code",
   "execution_count": null,
   "id": "94e9d78e",
   "metadata": {},
   "outputs": [],
   "source": [
    "# Solución aquí"
   ]
  },
  {
   "cell_type": "markdown",
   "id": "1cc44d81",
   "metadata": {},
   "source": [
    "## Reestruturación de DataFrames"
   ]
  },
  {
   "cell_type": "markdown",
   "id": "3234cbf8",
   "metadata": {},
   "source": [
    "**Exercicio 1**. Pasa as columnas `bill_length_mm`, `bill_depth_mm`, `flipper_length_mm` e `body_mass_g` de `df_penguins` a formato longo almacenándoo como un novo `DataFrame` chamado `penguins_long`."
   ]
  },
  {
   "cell_type": "code",
   "execution_count": null,
   "id": "cbd8cc9c",
   "metadata": {},
   "outputs": [],
   "source": [
    "# Solución aquí"
   ]
  },
  {
   "cell_type": "markdown",
   "id": "16365cd3",
   "metadata": {},
   "source": [
    "**Exercicio 2**. Partindo do `long` do exercicio anterior, obtén os 3 rexistros con maior valor por cada species e medida. (`groupby`, `head`, etc.)."
   ]
  },
  {
   "cell_type": "code",
   "execution_count": null,
   "id": "b94bad85",
   "metadata": {},
   "outputs": [],
   "source": [
    "# Solución aquí"
   ]
  },
  {
   "cell_type": "markdown",
   "id": "76a4b996",
   "metadata": {},
   "source": [
    "**Exercicio 3**. Agrupa por `island` e `sex` e conta empregando `size()`.A partir do resultado, crea un `DataFrame` en formato ancho (`unstack`) chamado `wide`. A partir de `wide` crea outro `DataFrame` en formato longo chamado `long`. "
   ]
  },
  {
   "cell_type": "code",
   "execution_count": null,
   "id": "e4039647",
   "metadata": {},
   "outputs": [],
   "source": [
    "# Solución aquí"
   ]
  },
  {
   "cell_type": "markdown",
   "id": "bd26b7db",
   "metadata": {},
   "source": [
    "**Exercicio 4**. Agupando por `species` e `sex`, calcula a media para `body_mass_g` *desapilada*. Despois, apílaa e amosa as dúas versións."
   ]
  },
  {
   "cell_type": "code",
   "execution_count": null,
   "id": "8018b2ae",
   "metadata": {},
   "outputs": [],
   "source": [
    "# Solución aquí\n"
   ]
  },
  {
   "cell_type": "markdown",
   "id": "e5bdfe14",
   "metadata": {},
   "source": [
    "**Exercicio 5**. A partir de `penguins_long` crea un novo `DataFrame` en formato *ancho* denominado `resultado`. Emprega `species`como índice, obtén as columnas de `sex`, os valores de `valor` e agrega por media."
   ]
  },
  {
   "cell_type": "code",
   "execution_count": null,
   "id": "067bad46",
   "metadata": {},
   "outputs": [],
   "source": [
    "# Solución aquí"
   ]
  },
  {
   "cell_type": "code",
   "execution_count": null,
   "id": "00512e06",
   "metadata": {},
   "outputs": [],
   "source": [
    "# Solución aquí\n"
   ]
  },
  {
   "cell_type": "markdown",
   "id": "90033068",
   "metadata": {},
   "source": [
    "## Series temporais e datos categóricos"
   ]
  },
  {
   "cell_type": "markdown",
   "id": "349b986f",
   "metadata": {},
   "source": [
    "**Exercicio 1**. A partir do `DataFrame` `df_penguins` engade unha columna `date` da seguinte maneira:\n",
    "```python\n",
    "base = {\"Biscoe\": \"2007-01-01\", \"Dream\": \"2008-01-01\", \"Torgersen\": \"2009-01-01\"}\n",
    "\n",
    "penguins_date = df_penguins.copy()\n",
    "penguins_date[\"date\"] = pd.to_datetime(penguins_date[\"island\"].map(base)) + \\\n",
    "               pd.to_timedelta(penguins_date.groupby(\"island\").cumcount(), unit=\"D\")\n",
    "```\n",
    "Calcula a media mensaul para `body_mass_g`"
   ]
  },
  {
   "cell_type": "code",
   "execution_count": null,
   "id": "efa4607b",
   "metadata": {},
   "outputs": [],
   "source": [
    "# Solución aquí"
   ]
  },
  {
   "cell_type": "markdown",
   "id": "a94c50a8",
   "metadata": {},
   "source": [
    "**Exercicio 2**. Crea una copia de `df_penguins` chamada `penguins_c` e fai as seguintes operacións:\n",
    "- Define a orde das especies ( `[\"Adelie\", \"Chinstrap\", \"Gento\"]`. \n",
    "- Converte `species` nun **campo categórico ordeado**. \n",
    "- Converte `sex` nun **campo categórico sen orde**. \n",
    "- Ordena primeiro por `species` e despois por `island`. Amosa as 5 primeiras filas.\n",
    "- Amosa o resultado"
   ]
  },
  {
   "cell_type": "code",
   "execution_count": null,
   "id": "96d5d4dc",
   "metadata": {},
   "outputs": [
    {
     "data": {
      "text/html": [
       "<div>\n",
       "<style scoped>\n",
       "    .dataframe tbody tr th:only-of-type {\n",
       "        vertical-align: middle;\n",
       "    }\n",
       "\n",
       "    .dataframe tbody tr th {\n",
       "        vertical-align: top;\n",
       "    }\n",
       "\n",
       "    .dataframe thead th {\n",
       "        text-align: right;\n",
       "    }\n",
       "</style>\n",
       "<table border=\"1\" class=\"dataframe\">\n",
       "  <thead>\n",
       "    <tr style=\"text-align: right;\">\n",
       "      <th></th>\n",
       "      <th>species</th>\n",
       "      <th>island</th>\n",
       "      <th>bill_length_mm</th>\n",
       "      <th>bill_depth_mm</th>\n",
       "      <th>flipper_length_mm</th>\n",
       "      <th>body_mass_g</th>\n",
       "      <th>sex</th>\n",
       "      <th>tipo</th>\n",
       "    </tr>\n",
       "  </thead>\n",
       "  <tbody>\n",
       "    <tr>\n",
       "      <th>20</th>\n",
       "      <td>Adelie</td>\n",
       "      <td>Biscoe</td>\n",
       "      <td>37.8</td>\n",
       "      <td>18.3</td>\n",
       "      <td>174.0</td>\n",
       "      <td>3400.0</td>\n",
       "      <td>FEMALE</td>\n",
       "      <td>pinguino</td>\n",
       "    </tr>\n",
       "    <tr>\n",
       "      <th>21</th>\n",
       "      <td>Adelie</td>\n",
       "      <td>Biscoe</td>\n",
       "      <td>37.7</td>\n",
       "      <td>18.7</td>\n",
       "      <td>180.0</td>\n",
       "      <td>3600.0</td>\n",
       "      <td>MALE</td>\n",
       "      <td>pinguino</td>\n",
       "    </tr>\n",
       "    <tr>\n",
       "      <th>22</th>\n",
       "      <td>Adelie</td>\n",
       "      <td>Biscoe</td>\n",
       "      <td>35.9</td>\n",
       "      <td>19.2</td>\n",
       "      <td>189.0</td>\n",
       "      <td>3800.0</td>\n",
       "      <td>FEMALE</td>\n",
       "      <td>pinguino</td>\n",
       "    </tr>\n",
       "    <tr>\n",
       "      <th>23</th>\n",
       "      <td>Adelie</td>\n",
       "      <td>Biscoe</td>\n",
       "      <td>38.2</td>\n",
       "      <td>18.1</td>\n",
       "      <td>185.0</td>\n",
       "      <td>3950.0</td>\n",
       "      <td>MALE</td>\n",
       "      <td>pinguino</td>\n",
       "    </tr>\n",
       "    <tr>\n",
       "      <th>24</th>\n",
       "      <td>Adelie</td>\n",
       "      <td>Biscoe</td>\n",
       "      <td>38.8</td>\n",
       "      <td>17.2</td>\n",
       "      <td>180.0</td>\n",
       "      <td>3800.0</td>\n",
       "      <td>MALE</td>\n",
       "      <td>pinguino</td>\n",
       "    </tr>\n",
       "  </tbody>\n",
       "</table>\n",
       "</div>"
      ],
      "text/plain": [
       "   species  island  bill_length_mm  bill_depth_mm  flipper_length_mm  \\\n",
       "20  Adelie  Biscoe            37.8           18.3              174.0   \n",
       "21  Adelie  Biscoe            37.7           18.7              180.0   \n",
       "22  Adelie  Biscoe            35.9           19.2              189.0   \n",
       "23  Adelie  Biscoe            38.2           18.1              185.0   \n",
       "24  Adelie  Biscoe            38.8           17.2              180.0   \n",
       "\n",
       "    body_mass_g     sex      tipo  \n",
       "20       3400.0  FEMALE  pinguino  \n",
       "21       3600.0    MALE  pinguino  \n",
       "22       3800.0  FEMALE  pinguino  \n",
       "23       3950.0    MALE  pinguino  \n",
       "24       3800.0    MALE  pinguino  "
      ]
     },
     "execution_count": 6,
     "metadata": {},
     "output_type": "execute_result"
    }
   ],
   "source": [
    "# Solución aquí"
   ]
  },
  {
   "cell_type": "markdown",
   "id": "02abeb21",
   "metadata": {},
   "source": [
    "**Exercicio 3**. Almacena o ´DataFrame´ ´penguins_c´ do exercicio anterior en formato **parquet** no ficheiro `../data/penguins_cat.parquet`. Despois le dito arquivo a un `DataFrame` `novo` e amosa o seu contido."
   ]
  },
  {
   "cell_type": "code",
   "execution_count": null,
   "id": "f1dc753e",
   "metadata": {},
   "outputs": [
    {
     "name": "stdout",
     "output_type": "stream",
     "text": [
      "species              category\n",
      "island                 object\n",
      "bill_length_mm        float64\n",
      "bill_depth_mm         float64\n",
      "flipper_length_mm     float64\n",
      "body_mass_g           float64\n",
      "sex                  category\n",
      "tipo                   object\n",
      "dtype: object\n"
     ]
    },
    {
     "data": {
      "text/html": [
       "<div>\n",
       "<style scoped>\n",
       "    .dataframe tbody tr th:only-of-type {\n",
       "        vertical-align: middle;\n",
       "    }\n",
       "\n",
       "    .dataframe tbody tr th {\n",
       "        vertical-align: top;\n",
       "    }\n",
       "\n",
       "    .dataframe thead th {\n",
       "        text-align: right;\n",
       "    }\n",
       "</style>\n",
       "<table border=\"1\" class=\"dataframe\">\n",
       "  <thead>\n",
       "    <tr style=\"text-align: right;\">\n",
       "      <th></th>\n",
       "      <th>species</th>\n",
       "      <th>island</th>\n",
       "      <th>bill_length_mm</th>\n",
       "      <th>bill_depth_mm</th>\n",
       "      <th>flipper_length_mm</th>\n",
       "      <th>body_mass_g</th>\n",
       "      <th>sex</th>\n",
       "      <th>tipo</th>\n",
       "    </tr>\n",
       "  </thead>\n",
       "  <tbody>\n",
       "    <tr>\n",
       "      <th>0</th>\n",
       "      <td>Adelie</td>\n",
       "      <td>Torgersen</td>\n",
       "      <td>39.1</td>\n",
       "      <td>18.7</td>\n",
       "      <td>181.0</td>\n",
       "      <td>3750.0</td>\n",
       "      <td>MALE</td>\n",
       "      <td>pinguino</td>\n",
       "    </tr>\n",
       "    <tr>\n",
       "      <th>1</th>\n",
       "      <td>Adelie</td>\n",
       "      <td>Torgersen</td>\n",
       "      <td>39.5</td>\n",
       "      <td>17.4</td>\n",
       "      <td>186.0</td>\n",
       "      <td>3800.0</td>\n",
       "      <td>FEMALE</td>\n",
       "      <td>pinguino</td>\n",
       "    </tr>\n",
       "    <tr>\n",
       "      <th>2</th>\n",
       "      <td>Adelie</td>\n",
       "      <td>Torgersen</td>\n",
       "      <td>40.3</td>\n",
       "      <td>18.0</td>\n",
       "      <td>195.0</td>\n",
       "      <td>3250.0</td>\n",
       "      <td>FEMALE</td>\n",
       "      <td>pinguino</td>\n",
       "    </tr>\n",
       "    <tr>\n",
       "      <th>3</th>\n",
       "      <td>Adelie</td>\n",
       "      <td>Torgersen</td>\n",
       "      <td>NaN</td>\n",
       "      <td>NaN</td>\n",
       "      <td>NaN</td>\n",
       "      <td>NaN</td>\n",
       "      <td>NaN</td>\n",
       "      <td>pinguino</td>\n",
       "    </tr>\n",
       "    <tr>\n",
       "      <th>4</th>\n",
       "      <td>Adelie</td>\n",
       "      <td>Torgersen</td>\n",
       "      <td>36.7</td>\n",
       "      <td>19.3</td>\n",
       "      <td>193.0</td>\n",
       "      <td>3450.0</td>\n",
       "      <td>FEMALE</td>\n",
       "      <td>pinguino</td>\n",
       "    </tr>\n",
       "    <tr>\n",
       "      <th>...</th>\n",
       "      <td>...</td>\n",
       "      <td>...</td>\n",
       "      <td>...</td>\n",
       "      <td>...</td>\n",
       "      <td>...</td>\n",
       "      <td>...</td>\n",
       "      <td>...</td>\n",
       "      <td>...</td>\n",
       "    </tr>\n",
       "    <tr>\n",
       "      <th>339</th>\n",
       "      <td>Gentoo</td>\n",
       "      <td>Biscoe</td>\n",
       "      <td>NaN</td>\n",
       "      <td>NaN</td>\n",
       "      <td>NaN</td>\n",
       "      <td>NaN</td>\n",
       "      <td>NaN</td>\n",
       "      <td>pinguino</td>\n",
       "    </tr>\n",
       "    <tr>\n",
       "      <th>340</th>\n",
       "      <td>Gentoo</td>\n",
       "      <td>Biscoe</td>\n",
       "      <td>46.8</td>\n",
       "      <td>14.3</td>\n",
       "      <td>215.0</td>\n",
       "      <td>4850.0</td>\n",
       "      <td>FEMALE</td>\n",
       "      <td>pinguino</td>\n",
       "    </tr>\n",
       "    <tr>\n",
       "      <th>341</th>\n",
       "      <td>Gentoo</td>\n",
       "      <td>Biscoe</td>\n",
       "      <td>50.4</td>\n",
       "      <td>15.7</td>\n",
       "      <td>222.0</td>\n",
       "      <td>5750.0</td>\n",
       "      <td>MALE</td>\n",
       "      <td>pinguino</td>\n",
       "    </tr>\n",
       "    <tr>\n",
       "      <th>342</th>\n",
       "      <td>Gentoo</td>\n",
       "      <td>Biscoe</td>\n",
       "      <td>45.2</td>\n",
       "      <td>14.8</td>\n",
       "      <td>212.0</td>\n",
       "      <td>5200.0</td>\n",
       "      <td>FEMALE</td>\n",
       "      <td>pinguino</td>\n",
       "    </tr>\n",
       "    <tr>\n",
       "      <th>343</th>\n",
       "      <td>Gentoo</td>\n",
       "      <td>Biscoe</td>\n",
       "      <td>49.9</td>\n",
       "      <td>16.1</td>\n",
       "      <td>213.0</td>\n",
       "      <td>5400.0</td>\n",
       "      <td>MALE</td>\n",
       "      <td>pinguino</td>\n",
       "    </tr>\n",
       "  </tbody>\n",
       "</table>\n",
       "<p>344 rows × 8 columns</p>\n",
       "</div>"
      ],
      "text/plain": [
       "    species     island  bill_length_mm  bill_depth_mm  flipper_length_mm  \\\n",
       "0    Adelie  Torgersen            39.1           18.7              181.0   \n",
       "1    Adelie  Torgersen            39.5           17.4              186.0   \n",
       "2    Adelie  Torgersen            40.3           18.0              195.0   \n",
       "3    Adelie  Torgersen             NaN            NaN                NaN   \n",
       "4    Adelie  Torgersen            36.7           19.3              193.0   \n",
       "..      ...        ...             ...            ...                ...   \n",
       "339  Gentoo     Biscoe             NaN            NaN                NaN   \n",
       "340  Gentoo     Biscoe            46.8           14.3              215.0   \n",
       "341  Gentoo     Biscoe            50.4           15.7              222.0   \n",
       "342  Gentoo     Biscoe            45.2           14.8              212.0   \n",
       "343  Gentoo     Biscoe            49.9           16.1              213.0   \n",
       "\n",
       "     body_mass_g     sex      tipo  \n",
       "0         3750.0    MALE  pinguino  \n",
       "1         3800.0  FEMALE  pinguino  \n",
       "2         3250.0  FEMALE  pinguino  \n",
       "3            NaN     NaN  pinguino  \n",
       "4         3450.0  FEMALE  pinguino  \n",
       "..           ...     ...       ...  \n",
       "339          NaN     NaN  pinguino  \n",
       "340       4850.0  FEMALE  pinguino  \n",
       "341       5750.0    MALE  pinguino  \n",
       "342       5200.0  FEMALE  pinguino  \n",
       "343       5400.0    MALE  pinguino  \n",
       "\n",
       "[344 rows x 8 columns]"
      ]
     },
     "execution_count": 10,
     "metadata": {},
     "output_type": "execute_result"
    }
   ],
   "source": [
    "# Solución aquí\n"
   ]
  }
 ],
 "metadata": {
  "kernelspec": {
   "display_name": "Python 3",
   "language": "python",
   "name": "python3"
  },
  "language_info": {
   "codemirror_mode": {
    "name": "ipython",
    "version": 3
   },
   "file_extension": ".py",
   "mimetype": "text/x-python",
   "name": "python",
   "nbconvert_exporter": "python",
   "pygments_lexer": "ipython3",
   "version": "3.12.0"
  }
 },
 "nbformat": 4,
 "nbformat_minor": 5
}
