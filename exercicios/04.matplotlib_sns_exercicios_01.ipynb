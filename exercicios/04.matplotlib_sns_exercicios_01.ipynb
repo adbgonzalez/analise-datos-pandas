{
 "cells": [
  {
   "cell_type": "markdown",
   "id": "4ba97f4c",
   "metadata": {},
   "source": [
    "# Exercicios matplotlib/seaborn"
   ]
  },
  {
   "cell_type": "markdown",
   "id": "11b76c33",
   "metadata": {},
   "source": [
    "Antes de comenzar facemos as importacións necesarias:"
   ]
  },
  {
   "cell_type": "code",
   "execution_count": null,
   "id": "ac8d352b",
   "metadata": {},
   "outputs": [],
   "source": [
    "import pandas as pd\n",
    "import numpy as np\n",
    "import matplotlib.pyplot as plt\n",
    "import seaborn as sns"
   ]
  },
  {
   "cell_type": "markdown",
   "id": "6067ebab",
   "metadata": {},
   "source": [
    "Imos traballar co dataset **penguins**. O primeiro paso é crear un **DataFrame** a partir do mesmo:"
   ]
  },
  {
   "cell_type": "code",
   "execution_count": null,
   "id": "6ee246cc",
   "metadata": {},
   "outputs": [],
   "source": [
    "df_penguins = pd.read_csv(\"../data/penguins.csv\")\n",
    "display(df_penguins)\n",
    "df_penguins[\"tipo\"]=\"pinguino\"\n",
    "display(df_penguins)"
   ]
  },
  {
   "cell_type": "markdown",
   "id": "f1cc3c24",
   "metadata": {},
   "source": [
    "**Nota**: Os parámetros non especificados, por exemplo `figsize` poden configurarse ao gusto.\n",
    "\n",
    "**Exercicio 1**. Crea un gráfico de liñas que relacione a lonxitude do peteiro (`bill_length_mm`) coa profundidade (`bill_depth_mm`) para a especie (`species`) *'Adelie`*. Ordena por lonxitude do peteiro e establece título para as gráficas e os dous eixos."
   ]
  },
  {
   "cell_type": "code",
   "execution_count": null,
   "id": "80e62f60",
   "metadata": {},
   "outputs": [],
   "source": [
    "# Solución aquí"
   ]
  },
  {
   "cell_type": "markdown",
   "id": "a5b13cbe",
   "metadata": {},
   "source": [
    "**Exercicio 2**. Representa a relación entre a lonxitude do peteiro (*bill_length_mm*) e a profundidade do peteiro (*bill_depth_mm*). "
   ]
  },
  {
   "cell_type": "code",
   "execution_count": null,
   "id": "76cc7fbd",
   "metadata": {},
   "outputs": [],
   "source": [
    "# Solución aquí"
   ]
  },
  {
   "cell_type": "markdown",
   "id": "d817f364",
   "metadata": {},
   "source": [
    "**Exercicio 3**. Modifica o exerciio anterior empregando **seaborn** e engadindo `hue='species` para diferenciar especies por cor."
   ]
  },
  {
   "cell_type": "code",
   "execution_count": null,
   "id": "e8084ba1",
   "metadata": {},
   "outputs": [],
   "source": [
    "# Solución aquí"
   ]
  },
  {
   "cell_type": "markdown",
   "id": "14b56392",
   "metadata": {},
   "source": [
    "**Exercicio 4**. Calcula o **peso medio** (*body_mass_g*) por especie e represéntao nun gráfico de barras."
   ]
  },
  {
   "cell_type": "code",
   "execution_count": null,
   "id": "42a9cbce",
   "metadata": {},
   "outputs": [],
   "source": [
    "# Solución aquí\n"
   ]
  },
  {
   "cell_type": "markdown",
   "id": "228b577b",
   "metadata": {},
   "source": [
    "**Exercicio 5**. Debuxa unha figura con dous gráficos:\n",
    "- un *histograma* da lonxitude das ás (*flipper_length_mm*) para todas as especies.\n",
    "- un *histograma* da lonxitude das ás (*flipper_length_mm*) para todas as especies separando por especies."
   ]
  },
  {
   "cell_type": "code",
   "execution_count": null,
   "id": "5bd7596c",
   "metadata": {},
   "outputs": [],
   "source": [
    "# Solución aquí"
   ]
  },
  {
   "cell_type": "markdown",
   "id": "5a8981e2",
   "metadata": {},
   "source": [
    "**Exericio 6**. Compara a distribución do peso corporal (*body_mass_g*) por sexo dentro de cada especie usando **boxplots** e **violinplots**. Crea unha figura con dous gráficos."
   ]
  },
  {
   "cell_type": "code",
   "execution_count": null,
   "id": "c5c5c3b0",
   "metadata": {},
   "outputs": [],
   "source": [
    "# Solución aquí"
   ]
  },
  {
   "cell_type": "markdown",
   "id": "caa20f51",
   "metadata": {},
   "source": [
    "**Exercicio 7**. Empregando **Seaborn** crea un pairplot coas variables numéricas e colorea segundo a especie. O tipo ten que ser `kde`, agás na diagnoal que será de tipo `hist`."
   ]
  },
  {
   "cell_type": "code",
   "execution_count": null,
   "id": "3eaf2b51",
   "metadata": {},
   "outputs": [],
   "source": [
    "# Solución aquí"
   ]
  },
  {
   "cell_type": "markdown",
   "id": "816e8948",
   "metadata": {},
   "source": [
    "**Exercicio 8**. Debuxa unha función ECDF **empregando só matplotlib** para a lonxitude do peteiro (bill_length_mm)."
   ]
  },
  {
   "cell_type": "code",
   "execution_count": null,
   "id": "8f4c5490",
   "metadata": {},
   "outputs": [],
   "source": [
    "# Solución aquí"
   ]
  },
  {
   "cell_type": "markdown",
   "id": "df35ff49",
   "metadata": {},
   "source": [
    "**Exercicio 9**. Debuxa unha función ECDF para a lonxitude do peteiro (bill_length_mm)."
   ]
  },
  {
   "cell_type": "code",
   "execution_count": null,
   "id": "af516f57",
   "metadata": {},
   "outputs": [],
   "source": [
    "# Solución aquí"
   ]
  },
  {
   "cell_type": "markdown",
   "id": "bca81ab5",
   "metadata": {},
   "source": [
    "**Exercicio 10**. Crea unha grella con tres gráficos nunha fila:\n",
    "- A primeira será un **histograma** sobre o peso (`body_mass_g`) agrupando en bloques de 20.\n",
    "- A segunda será un **kdeplot** sobre o peso (`body_mass_g`).\n",
    "- A terceira será un **ecdfplot** tamén sobre o peso."
   ]
  },
  {
   "cell_type": "code",
   "execution_count": null,
   "id": "b41c01e3",
   "metadata": {},
   "outputs": [],
   "source": [
    "## Solución aquí"
   ]
  },
  {
   "cell_type": "markdown",
   "id": "7d6cfc68",
   "metadata": {},
   "source": [
    "**Exercicio 11**. Crea unha unha distribución sobre `body_mass_g` seguindo as seguintes instrucións:\n",
    "- Agrupa en columnas por illa (`island`).\n",
    "- Agrupa por cores segundo a especie (`species`).\n",
    "- O tipo de gráfico será *kde*. \n",
    "- Os tres `subplots` estarán na mesma fila."
   ]
  },
  {
   "cell_type": "code",
   "execution_count": null,
   "id": "7735b223",
   "metadata": {},
   "outputs": [],
   "source": [
    "# Solución aquí"
   ]
  },
  {
   "cell_type": "markdown",
   "id": "450e6649",
   "metadata": {},
   "source": [
    "**Exercicio 12**. Crea un **heatmap** que amose as correlacións entre as variables numéricas. Emprega a función `select_dtypes` para quedarte só coas de tipo `'number'` e calcula a *correlación* con `cor()`."
   ]
  },
  {
   "cell_type": "code",
   "execution_count": null,
   "id": "cd93f320",
   "metadata": {},
   "outputs": [],
   "source": [
    "# Solución aquí"
   ]
  },
  {
   "cell_type": "code",
   "execution_count": null,
   "id": "2e853bb2",
   "metadata": {},
   "outputs": [],
   "source": []
  }
 ],
 "metadata": {
  "kernelspec": {
   "display_name": "Python 3",
   "language": "python",
   "name": "python3"
  },
  "language_info": {
   "codemirror_mode": {
    "name": "ipython",
    "version": 3
   },
   "file_extension": ".py",
   "mimetype": "text/x-python",
   "name": "python",
   "nbconvert_exporter": "python",
   "pygments_lexer": "ipython3",
   "version": "3.12.0"
  }
 },
 "nbformat": 4,
 "nbformat_minor": 5
}
