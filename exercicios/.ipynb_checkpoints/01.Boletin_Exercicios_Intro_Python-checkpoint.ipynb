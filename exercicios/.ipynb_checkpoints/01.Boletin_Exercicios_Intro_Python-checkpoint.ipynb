{
 "cells": [
  {
   "cell_type": "markdown",
   "id": "e6ac3bc8",
   "metadata": {},
   "source": [
    "# Boletín: 10 exercicios de Introdución a Python \n",
    "Este boletín acompaña o caderno de **00.python_intro.ipynb**.\n",
    "Cada exercicio inclúe un **enunciado** e logo unha **cela baleira** para a túa resolución.\n"
   ]
  },
  {
   "cell_type": "markdown",
   "id": "dcb8fdbd",
   "metadata": {},
   "source": [
    "## 1) Sintaxe básica: indentación, variables e comentarios\n",
    "**Obxectivo:** practicar indentación e estrutura básica de bloques.\n",
    "\n",
    "**Tarefas:**\n",
    "- A. Crea unha variable `nota` e asigna un número entre 0 e 10.\n",
    "- B. Usa `if/elif/else` para imprimir unha mensaxe segundo a cualificación (suspenso/aprobado/notable/sobresaínte).\n",
    "- C. Engade **un comentario de liña** explicando que fai o bloque condicional."
   ]
  },
  {
   "cell_type": "code",
   "execution_count": null,
   "id": "4e28fcde",
   "metadata": {},
   "outputs": [
    {
     "name": "stdout",
     "output_type": "stream",
     "text": [
      "suspenso\n"
     ]
    }
   ],
   "source": [
    "# Escribe aquí a túa solución para o Exercicio 1\n",
    "\n"
   ]
  },
  {
   "cell_type": "markdown",
   "id": "dd940a12",
   "metadata": {},
   "source": [
    "## 2) Tipos simples e operadores (+ casting)\n",
    "**Obxectivo:** traballar con `int`, `float`, `str`, `bool`, conversións e operadores.\n",
    "\n",
    "**Tarefas:**\n",
    "- A. Define `ancho` e `alto` dun rectángulo (enteiro ou real) e calcula **área** e **perímetro**.\n",
    "- B. Mostra o resultado cunha *f-string* con 2 decimais.\n",
    "- C. Comproba se é maior a área que o perímetro e amosa o valor booleano.\n",
    "- D. Fai 2 exemplos de *casting* (p.ex. `int('7')`, `float('3.5')`).\n"
   ]
  },
  {
   "cell_type": "code",
   "execution_count": 36,
   "id": "7013decc",
   "metadata": {},
   "outputs": [
    {
     "name": "stdout",
     "output_type": "stream",
     "text": [
      "A área é 12.00 e o perímetro é 14.00 \n",
      "O resultado da comparación é False\n",
      "7\n",
      "3.5\n"
     ]
    }
   ],
   "source": [
    "# Exercicio 2: solución aquí\n",
    "\n"
   ]
  },
  {
   "cell_type": "markdown",
   "id": "2b1c76fc",
   "metadata": {},
   "source": [
    "## 3) Strings: slicing, métodos e formato\n",
    "**Obxectivo:** manipular cadeas de texto.\n",
    "\n",
    "**Tarefas:**\n",
    "- A. Toma `nome_completo = 'ana maria perez'` e convérteo a `Ana Maria Perez` (podes dividir por espazos e capitalizar cada parte).\n",
    "- B. Xera as iniciais no formato `A.M.P.`\n"
   ]
  },
  {
   "cell_type": "code",
   "execution_count": 11,
   "id": "4983ee88",
   "metadata": {},
   "outputs": [
    {
     "name": "stdout",
     "output_type": "stream",
     "text": [
      "Ana Maria\n",
      "A.M.P.\n"
     ]
    }
   ],
   "source": [
    "# Exercicio 3: solución aquí\n"
   ]
  },
  {
   "cell_type": "markdown",
   "id": "85530963",
   "metadata": {},
   "source": [
    "## 4) Estruturas complexas: listas, tuplas, sets, dicts e array\n",
    "**Obxectivo:** practicar operacións frecuentes con coleccións.\n",
    "\n",
    "**Tarefas:**\n",
    "- A. Dende `nomes = ['Ana','Ana','Brais','Lucia','Brais']`, crea un `set` para deduplicar.\n",
    "- B. Crea `idades = {'Ana':20, 'Brais':30}`; engade outra persoa, actualiza unha idade e elimina outra **sen erro** se non existe.\n",
    "- C. Xera `idades_meses` por comprensión, multiplicando cada idade * 12.\n",
    "- D. Usa `array('i', ...)` para gardar 5 enteiros e transforma a lista con `.tolist()`.\n"
   ]
  },
  {
   "cell_type": "code",
   "execution_count": 45,
   "id": "5951531c",
   "metadata": {},
   "outputs": [
    {
     "name": "stdout",
     "output_type": "stream",
     "text": [
      "Ana\n",
      "Ana\n",
      "Brais\n",
      "Lucia\n",
      "Brais\n",
      "{'Brais', 'Lucia', 'Ana'}\n",
      "{'Ana': 20, 'Brais': 31, 'Adri': 41}\n",
      "{'Ana': 20, 'Brais': 31}\n",
      "{'Ana': 240, 'Brais': 372}\n",
      "[1, 2, 3, 4, 5]\n"
     ]
    }
   ],
   "source": [
    "# Exercicio 4: solución aquí\n",
    "\n"
   ]
  },
  {
   "cell_type": "markdown",
   "id": "82e6d3ed",
   "metadata": {},
   "source": [
    "## 5) Control de fluxo: if/elif/else, match, while, for\n",
    "**Obxectivo:** dominar condicións e bucles.\n",
    "\n",
    "**Tarefas (podes facelas en funcións ou directamente):**\n",
    "- A. Crea unha variable idade e asígnalle un valor. Escribe un bloque if/else que comprobe se é menor que 18, imprimindo \"Non podes beber alcol\" se é o caso ou \"Adiante, pero con moderación\" en caso contrario.\n",
    "- B. Usa **`match`** para interpretar un comando tipo `('op','a','b')`, onde `op` pode ser `'sumar'`, `'restar'`, `'mul'`, `'div'` (xestiona división por cero).\n",
    "- C. Escribe un **`while`** que lea cadeas con números ata que chegue `'fin'` (podes simular cunha lista) e devolva a suma total.\n",
    "- D. Fai un **`for`** con *list comprehension* para obter todos os múltiplos de 3 entre 0 e 30.\n"
   ]
  },
  {
   "cell_type": "code",
   "execution_count": 9,
   "id": "55a21661",
   "metadata": {},
   "outputs": [
    {
     "name": "stdout",
     "output_type": "stream",
     "text": [
      "Non podes beber alcol\n",
      "9\n",
      "[0, 3, 6, 9, 12, 15, 18, 21, 24, 27, 30]\n"
     ]
    }
   ],
   "source": [
    "# Exercicio 5: solución aquí\n",
    "\n"
   ]
  },
  {
   "cell_type": "markdown",
   "id": "181f7cb8",
   "metadata": {},
   "source": [
    "## 6) Funcións: parámetros, lambda, decoradores e range\n",
    "**Obxectivo:** definir e compoñer funcións.\n",
    "\n",
    "**Tarefas:**\n",
    "- A. Implementa `media(*nums, arredondar=None)`; se `arredondar` é un enteiro, redondea o resultado a ese número de decimais.\n",
    "- B. Crea un **decorador** `log` que imprima o nome da función e os argumentos antes de executala; proba con unha función simple.\n",
    "- C. Ordena unha lista de palabras pola súa lonxitude con `sorted(..., key=lambda s: len(s))`.\n",
    "- D. Xera unha lista cos múltiplos de 3 entre 0 e 30 usando `range`.\n"
   ]
  },
  {
   "cell_type": "code",
   "execution_count": 54,
   "id": "67a8f115",
   "metadata": {},
   "outputs": [
    {
     "name": "stdout",
     "output_type": "stream",
     "text": [
      "media: 1.5\n",
      "[LOG] chamando a saludar con ('adri',) {}\n",
      "hola, adri\n",
      "['de', 'hola', 'cabeza', 'membrillo']\n",
      "[0, 3, 6, 9, 12, 15, 18, 21, 24, 27, 30]\n"
     ]
    }
   ],
   "source": [
    "# Exercicio 6: solución aquí\n",
    "\n"
   ]
  },
  {
   "cell_type": "markdown",
   "id": "d7a55207",
   "metadata": {},
   "source": [
    "## 7) Entrada e saída de usuario: `print` e `input`\n",
    "**Obxectivo:** practicar I/O básica.\n",
    "\n",
    "**Tarefas:**\n",
    "- A. Escribe un pequeno diálogo que pregunte polo **nome** e pola **idade**, e despois imprima `Ola, <nome>! Tes <idade> anos.`\n",
    "- B. Emprega parámetro(s) de `print` como `sep` e/ou `end` nalgún caso.\n",
    "  \n",
    "*(Se traballas nun notebook, lembra que `input()` detén a execución ata introducir datos)*\n"
   ]
  },
  {
   "cell_type": "code",
   "execution_count": 29,
   "id": "e55170fc",
   "metadata": {},
   "outputs": [
    {
     "name": "stdout",
     "output_type": "stream",
     "text": [
      "Cal é o teu nome?\n"
     ]
    },
    {
     "name": "stdout",
     "output_type": "stream",
     "text": [
      " adri\n"
     ]
    },
    {
     "name": "stdout",
     "output_type": "stream",
     "text": [
      "Cal é a túa idade?\n"
     ]
    },
    {
     "name": "stdout",
     "output_type": "stream",
     "text": [
      " 41\n"
     ]
    },
    {
     "name": "stdout",
     "output_type": "stream",
     "text": [
      "Ola, adri, tes 41 anos\n",
      "A->B->C\n",
      "\n"
     ]
    }
   ],
   "source": [
    "# Exercicio 7: solución aquí\n",
    "\n"
   ]
  },
  {
   "cell_type": "markdown",
   "id": "7dfee7cc",
   "metadata": {},
   "source": [
    "## 8) Orientación a obxectos: clases, herdanza, polimorfismo\n",
    "**Obxectivo:** crear clases e empregar herdanza básica.\n",
    "\n",
    "**Tarefas:**\n",
    "- A. Define `animal(nome)` cun método `falar()` e representación amigable (ex. con `__str__`).\n",
    "- B. Define as subclases `can` e `gato` que erdan de `animal`.\n",
    "  - Sobreescriben o método `falar()` para imprimir o son típico de cada animal (*\"guau\"* e *\"miau\"*.\n",
    "- C. Clase `caixa` con encapsulamento.\n",
    "  - Atributo interno _items (enteiro) inicializable no constructor.\n",
    "  - Propiedade de só lectura items para consultar a cantidade actual.\n",
    "  - Métodos:\n",
    "    - `engadir(n=1)`: incrementa `_items`; **erro** se `n<=0`\n",
    "    - `retirar(n=1)`: decremeta `_items`; **erro** se `n<=0` ou se supera os elementos dispoñibles.\n",
    "- D. Uso de ambas clases:\n",
    "  - Crea unha lista con `Animal(\"Bicho\")`, `Can(\"Luna\")` e `Gato(\"Sasuke\")`.\n",
    "  - Recorre a lista e imprime o resultado de `falar()` de cada un (debe chamarse á versión adecuada segundo o tipo).\n",
    "  - Crea unha `Caixa` con valor inicial 2; imprime `items`, chama a `engadir()` e logo a `retirar(2)`. Finalmente, imprime de novo `items`."
   ]
  },
  {
   "cell_type": "code",
   "execution_count": 2,
   "id": "b9278a44",
   "metadata": {},
   "outputs": [
    {
     "name": "stdout",
     "output_type": "stream",
     "text": [
      "Bicho: ...\n",
      "Luna: guau\n",
      "Sasuke: miau\n",
      "items: 2\n",
      "items: 1\n"
     ]
    }
   ],
   "source": [
    "# Exercicio 8: solución aquí\n",
    "\n",
    "\n",
    "\n",
    "    "
   ]
  },
  {
   "cell_type": "markdown",
   "id": "7139c46f",
   "metadata": {},
   "source": [
    "## 9) Módulos de Python: datetime, math, json, re\n",
    "**Obxectivo:** usar a libraría estándar.\n",
    "\n",
    "**Tarefas:**\n",
    "- A. `datetime`: imprime a data/hora actual en formato `YYYY-MM-DD HH:MM`.\n",
    "- B. `math`: calcula √2 con 5 decimais.\n",
    "- C. `json`: serializa un dicionario sinxelo a cadea e recupérao a obxecto Python.\n",
    "- D. `re`: valida de forma sinxela un código postal (5 díxitos).\n"
   ]
  },
  {
   "cell_type": "code",
   "execution_count": 8,
   "id": "d21d0f37",
   "metadata": {},
   "outputs": [
    {
     "name": "stdout",
     "output_type": "stream",
     "text": [
      "2025-09-29 06:48\n",
      "1.41421\n",
      "{\"nome\": \"Ana\", \"idade\": 20}\n",
      "{'nome': 'Ana', 'idade': 20}\n",
      "Código correcto\n"
     ]
    }
   ],
   "source": [
    "# Exercicio 9: solución aquí\n",
    "\n"
   ]
  },
  {
   "cell_type": "markdown",
   "id": "2e84c719",
   "metadata": {},
   "source": [
    "## 10) NumPy: creación, indexación, broadcasting, estatística e álxebra\n",
    "**Obxectivo:** practicar vectores e matrices con NumPy.\n",
    "\n",
    "**Tarefas:**\n",
    "- A. Crea `a = np.arange(12).reshape(3,4)` e extrae: elemento (1,2), primeira fila, última columna e a submatriz `[0:2, 1:4]`.\n",
    "- B. Define `v = np.array([1,0,1,0])` e suma a `a` mediante **broadcasting**.\n",
    "- C. Xera unha matriz aleatoria `r` (3x4) con semente fixa, calcula media total, desviación, máximos por columna e mínimos por fila.\n",
    "- D. Resolve o sistema `A x = b` con `np.linalg.solve` para `A=[[3,1],[2,4]]` e `b=[5,6]`.\n"
   ]
  },
  {
   "cell_type": "code",
   "execution_count": 55,
   "id": "1da3ff00-3a6e-4626-8d80-838f2c0cdcfc",
   "metadata": {},
   "outputs": [
    {
     "name": "stdout",
     "output_type": "stream",
     "text": [
      "[[ 0  1  2  3]\n",
      " [ 4  5  6  7]\n",
      " [ 8  9 10 11]]\n",
      "elemento(1,2): 6\n",
      "primeira fila: [0 1 2 3]\n",
      "última columna: [ 3  7 11]\n",
      "submatriz:[[1 2 3]\n",
      " [5 6 7]]\n",
      "Broadcasting a+v:[[ 1  1  3  3]\n",
      " [ 5  5  7  7]\n",
      " [ 9  9 11 11]]\n",
      "[[0.98901151 0.54954473 0.2814473  0.07728957]\n",
      " [0.4444695  0.47280797 0.048522   0.16332445]\n",
      " [0.11595071 0.62739168 0.85618205 0.65010242]]\n",
      "Media: 0.4396703239235092\n",
      "Desviación: 0.29699677816121334\n",
      "máx por filas:[0.98901151 0.47280797 0.85618205]\n",
      "mín por columnas:[0.11595071 0.47280797 0.048522   0.07728957]\n",
      "Solución: [1.4 0.8]\n"
     ]
    }
   ],
   "source": [
    "import numpy as np\n",
    "# Exercicio 10: solución aquí\n"
   ]
  },
  {
   "cell_type": "code",
   "execution_count": null,
   "id": "f7e8e14a-7ce4-49ff-bef1-feefaf991734",
   "metadata": {},
   "outputs": [],
   "source": []
  }
 ],
 "metadata": {
  "kernelspec": {
   "display_name": "Python 3",
   "language": "python",
   "name": "python3"
  },
  "language_info": {
   "codemirror_mode": {
    "name": "ipython",
    "version": 3
   },
   "file_extension": ".py",
   "mimetype": "text/x-python",
   "name": "python",
   "nbconvert_exporter": "python",
   "pygments_lexer": "ipython3",
   "version": "3.12.0"
  }
 },
 "nbformat": 4,
 "nbformat_minor": 5
}
