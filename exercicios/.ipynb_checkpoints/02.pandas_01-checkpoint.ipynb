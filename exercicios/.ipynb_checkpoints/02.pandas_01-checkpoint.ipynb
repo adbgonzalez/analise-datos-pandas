{
 "cells": [
  {
   "cell_type": "markdown",
   "id": "4342cc22",
   "metadata": {},
   "source": [
    "# Exercicios básicos de pandas: creación, visualización, selección e filtrado\n",
    "\n",
    "Neste caderno atoparás exercicios prácticos organizados en catro seccións:\n",
    "- **Creación de Series e DataFrames**\n",
    "- **Visualización de datos**\n",
    "- **Selección de datos**\n",
    "- **Filtrado de datos**\n",
    "\n",
    "Cada exercicio vai seguido dunha cela de código baleira para que escribas a túa solución.\n",
    "## Importacións necesarias"
   ]
  },
  {
   "cell_type": "code",
   "execution_count": null,
   "id": "ebdfd6d0-6ad5-4e3e-ba0b-61fe2d7c42b2",
   "metadata": {},
   "outputs": [],
   "source": [
    "# TODO"
   ]
  },
  {
   "cell_type": "markdown",
   "id": "fbbffb8b",
   "metadata": {},
   "source": [
    "## Creación de Series e DataFrames"
   ]
  },
  {
   "cell_type": "markdown",
   "id": "5a2371ff",
   "metadata": {},
   "source": [
    "**Exercicio 1.** Crea unha `pd.Series` cos valores `[100, 200, 300]` e índices `['x','y','z']`."
   ]
  },
  {
   "cell_type": "code",
   "execution_count": null,
   "id": "d3ec3a16",
   "metadata": {},
   "outputs": [],
   "source": [
    "# TODO: escribe aquí a túa solución\n"
   ]
  },
  {
   "cell_type": "markdown",
   "id": "7af15cbf",
   "metadata": {},
   "source": [
    "**Exercicio 2.** Crea un `DataFrame` a partir dun diccionario con columnas `produto` e `prezo`."
   ]
  },
  {
   "cell_type": "code",
   "execution_count": null,
   "id": "642a9ede",
   "metadata": {},
   "outputs": [],
   "source": [
    "# TODO: escribe aquí a túa solución\n"
   ]
  },
  {
   "cell_type": "markdown",
   "id": "9808da33",
   "metadata": {},
   "source": [
    "**Exercicio 3.** Crea un `DataFrame` a partir dunha lista de listas con 3 filas e 2 columnas."
   ]
  },
  {
   "cell_type": "code",
   "execution_count": null,
   "id": "e7937c43",
   "metadata": {},
   "outputs": [],
   "source": [
    "# TODO: escribe aquí a túa solución\n",
    "\n"
   ]
  },
  {
   "cell_type": "markdown",
   "id": "56572b1b",
   "metadata": {},
   "source": [
    "**Exercicio 4.** Crea `DataFrame` chamado **df_penguins** a partir do arquivo `penguins.csv`, situado en `~/work/data`."
   ]
  },
  {
   "cell_type": "code",
   "execution_count": null,
   "id": "e2cb3d6a",
   "metadata": {},
   "outputs": [],
   "source": [
    "# TODO: escribe aquí a túa solución\n"
   ]
  },
  {
   "cell_type": "markdown",
   "id": "4ec9f49c",
   "metadata": {},
   "source": [
    "## Visualización de datos"
   ]
  },
  {
   "cell_type": "markdown",
   "id": "2521db71",
   "metadata": {},
   "source": [
    "**Exercicio 1.** Amosa os tipos das columnas de **df_penguins**"
   ]
  },
  {
   "cell_type": "code",
   "execution_count": null,
   "id": "0048c9f8",
   "metadata": {},
   "outputs": [],
   "source": [
    "# TODO: escribe aquí a túa solución\n"
   ]
  },
  {
   "cell_type": "markdown",
   "id": "2cf87e29",
   "metadata": {},
   "source": [
    "**Exercicio 2.** Amosa as 5 primeiras liñas de `df_penguins`"
   ]
  },
  {
   "cell_type": "code",
   "execution_count": null,
   "id": "97dff9fe",
   "metadata": {},
   "outputs": [],
   "source": [
    "# TODO: escribe aquí a túa solución\n"
   ]
  },
  {
   "cell_type": "markdown",
   "id": "d9daf04a",
   "metadata": {},
   "source": [
    "**Exercicio 3.** Amosa as principais medidas estatísticas de `df_penguins`."
   ]
  },
  {
   "cell_type": "code",
   "execution_count": null,
   "id": "a45acc28",
   "metadata": {},
   "outputs": [],
   "source": [
    "# TODO: escribe aquí a túa solución\n"
   ]
  },
  {
   "cell_type": "markdown",
   "id": "f6549d69",
   "metadata": {},
   "source": [
    "**Exercicio 4.** Amosa o *DataFrame* `penguins_df`ordeado descendentemente por `bill_length_mm`"
   ]
  },
  {
   "cell_type": "code",
   "execution_count": null,
   "id": "92a515cd",
   "metadata": {},
   "outputs": [],
   "source": [
    "# TODO: escribe aquí a túa solución\n"
   ]
  },
  {
   "cell_type": "markdown",
   "id": "1dd69b96",
   "metadata": {},
   "source": [
    "## Selección de datos"
   ]
  },
  {
   "cell_type": "markdown",
   "id": "79a794dd",
   "metadata": {},
   "source": [
    "**Exercicio 1.** Selecciona a segunda fila de `df_penguins` usando `iloc`."
   ]
  },
  {
   "cell_type": "code",
   "execution_count": null,
   "id": "30ce51d5",
   "metadata": {},
   "outputs": [],
   "source": [
    "# TODO: escribe aquí a túa solución\n"
   ]
  },
  {
   "cell_type": "markdown",
   "id": "b7105e7f",
   "metadata": {},
   "source": [
    "**Exercicio 2.** Selecciona a columna `body_mass_g` de `df_penguins` polo seu nome."
   ]
  },
  {
   "cell_type": "code",
   "execution_count": null,
   "id": "6d34596f",
   "metadata": {},
   "outputs": [],
   "source": [
    "# TODO: escribe aquí a túa solución\n"
   ]
  },
  {
   "cell_type": "markdown",
   "id": "9e6818e7",
   "metadata": {},
   "source": [
    "**Exercicio 3.** Obtén un subconxunto con varias columnas (por exemplo, `species` e `sex`)."
   ]
  },
  {
   "cell_type": "code",
   "execution_count": null,
   "id": "6be5b603",
   "metadata": {},
   "outputs": [],
   "source": [
    "# TODO: escribe aquí a túa solución\n"
   ]
  },
  {
   "cell_type": "markdown",
   "id": "e1a74c47",
   "metadata": {},
   "source": [
    "**Exercicio 4.** Selecciona varias filas consecutivas (1-5) usando un rango con `loc`."
   ]
  },
  {
   "cell_type": "code",
   "execution_count": null,
   "id": "e31ec366",
   "metadata": {},
   "outputs": [],
   "source": [
    "# TODO: escribe aquí a túa solución\n"
   ]
  },
  {
   "cell_type": "markdown",
   "id": "ea94625c",
   "metadata": {},
   "source": [
    "## Filtrado de datos"
   ]
  },
  {
   "cell_type": "markdown",
   "id": "5ad37a14",
   "metadata": {},
   "source": [
    "**Exercicio 1.** Para `df_penguins` filtra só as filas con `bill_length_mm >= 40`."
   ]
  },
  {
   "cell_type": "code",
   "execution_count": null,
   "id": "f83cdf75",
   "metadata": {},
   "outputs": [],
   "source": [
    "# TODO: escribe aquí a túa solución\n"
   ]
  },
  {
   "cell_type": "markdown",
   "id": "a6948d29",
   "metadata": {},
   "source": [
    "**Exercicio 2.** Amosa os pinguinos de sexo masculino con `flipper_length_mm` inferior a 200"
   ]
  },
  {
   "cell_type": "code",
   "execution_count": null,
   "id": "12c2abfd",
   "metadata": {},
   "outputs": [],
   "source": [
    "# TODO: escribe aquí a túa solución\n"
   ]
  },
  {
   "cell_type": "markdown",
   "id": "6770d664",
   "metadata": {},
   "source": [
    "**Exercicio 3.** Emprega `isin()` para amosar só as filas correspondents ás illas 'Dream' e 'Biscoe'"
   ]
  },
  {
   "cell_type": "code",
   "execution_count": null,
   "id": "303287c0",
   "metadata": {},
   "outputs": [],
   "source": [
    "# TODO: escribe aquí a túa solución\n"
   ]
  }
 ],
 "metadata": {
  "kernelspec": {
   "display_name": "Python 3 (ipykernel)",
   "language": "python",
   "name": "python3"
  },
  "language_info": {
   "codemirror_mode": {
    "name": "ipython",
    "version": 3
   },
   "file_extension": ".py",
   "mimetype": "text/x-python",
   "name": "python",
   "nbconvert_exporter": "python",
   "pygments_lexer": "ipython3",
   "version": "3.11.6"
  }
 },
 "nbformat": 4,
 "nbformat_minor": 5
}
