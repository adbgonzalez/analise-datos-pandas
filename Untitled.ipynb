{
 "cells": [
  {
   "cell_type": "code",
   "execution_count": 4,
   "id": "7a7aefda-82ad-4cac-8470-bc92f1cb7d5b",
   "metadata": {},
   "outputs": [
    {
     "name": "stdout",
     "output_type": "stream",
     "text": [
      "\n",
      ">>>>>>>>>> Nuevo hijo creado con el pid 538 a punto de finalizar<<<<<Padre: 228, Hijo: 538\n",
      "\n",
      "\n"
     ]
    },
    {
     "name": "stdin",
     "output_type": "stream",
     "text": [
      "Pulsa 's' si quieres crear un nuevo proceso s\n"
     ]
    },
    {
     "name": "stdout",
     "output_type": "stream",
     "text": [
      "Padre: 228, Hijo: 551\n",
      "\n",
      "\n",
      ">>>>>>>>>> Nuevo hijo creado con el pid 551 a punto de finalizar<<<<<\n"
     ]
    },
    {
     "name": "stdin",
     "output_type": "stream",
     "text": [
      "Pulsa 's' si quieres crear un nuevo proceso s\n"
     ]
    },
    {
     "name": "stdout",
     "output_type": "stream",
     "text": [
      "Padre: 228, Hijo: 556\n",
      "\n",
      "\n",
      ">>>>>>>>>> Nuevo hijo creado con el pid 556 a punto de finalizar<<<<<\n"
     ]
    },
    {
     "name": "stdin",
     "output_type": "stream",
     "text": [
      "Pulsa 's' si quieres crear un nuevo proceso s\n"
     ]
    },
    {
     "name": "stdout",
     "output_type": "stream",
     "text": [
      "Padre: 228, Hijo: 569\n",
      "\n",
      "\n",
      ">>>>>>>>>> Nuevo hijo creado con el pid 569 a punto de finalizar<<<<<\n"
     ]
    },
    {
     "name": "stdin",
     "output_type": "stream",
     "text": [
      "Pulsa 's' si quieres crear un nuevo proceso \n"
     ]
    }
   ],
   "source": [
    "# fork solo funciona en unix/macos\n",
    "import os\n",
    "def padre():\n",
    "    while True:\n",
    "        newpid = os.fork()\n",
    "        if newpid == 0:\n",
    "             hijo()\n",
    "        else:\n",
    "             pids = (os.getpid(), newpid)\n",
    "             print(\"Padre: %d, Hijo: %d\\n\" % pids)\n",
    "             reply = input(\"Pulsa 's' si quieres crear un nuevo proceso\")\n",
    "             if reply != \"s\":\n",
    "                 break\n",
    "def hijo():\n",
    "     print(\"\\n>>>>>>>>>> Nuevo hijo creado con el pid %d a punto de finalizar<<<<<\" % os.getpid())\n",
    "     os._exit(0)\n",
    "padre()\n"
   ]
  },
  {
   "cell_type": "code",
   "execution_count": 5,
   "id": "23e7b59f-daab-43df-a193-5688941e27ce",
   "metadata": {},
   "outputs": [],
   "source": [
    "from multiprocessing import Process"
   ]
  },
  {
   "cell_type": "code",
   "execution_count": 6,
   "id": "d773e9c6-4f31-4b20-9d84-961757d741a5",
   "metadata": {},
   "outputs": [],
   "source": [
    "import psutil\n",
    "import os\n",
    "import subprocess\n",
    "import sys\n"
   ]
  },
  {
   "cell_type": "code",
   "execution_count": null,
   "id": "71837158-e7f6-49a2-b575-47f0a2af46a8",
   "metadata": {},
   "outputs": [
    {
     "name": "stdout",
     "output_type": "stream",
     "text": [
      "Padre: 228, Hijo: 963\n",
      "\n",
      "\n",
      "Nuevo hijo creado 963\n"
     ]
    }
   ],
   "source": [
    "from multiprocessing import Process\n",
    "import os\n",
    "\n",
    "\n",
    "def hijo():\n",
    "    print(\"Padre: %d, Hijo: %d\\n\" % (os.getppid(), os.getpid()))\n",
    "    os._exit(0)\n",
    "\n",
    "\n",
    "def padre():\n",
    "    while True:\n",
    "        p = Process(target=hijo)\n",
    "        p.start()\n",
    "        print(\"\\nNuevo hijo creado\", p.pid)\n",
    "        p.join()\n",
    "\n",
    "        reply = input(\"Pulsa 's' si quieres crear un nuevo proceso\\n\")\n",
    "        if reply != \"s\":\n",
    "            break\n",
    "\n",
    "\n",
    "if __name__ == \"__main__\":\n",
    "    padre()\n"
   ]
  },
  {
   "cell_type": "code",
   "execution_count": null,
   "id": "c6ca57d9-b190-4031-a58a-dbfc6aed54ff",
   "metadata": {},
   "outputs": [],
   "source": []
  }
 ],
 "metadata": {
  "kernelspec": {
   "display_name": "Python 3 (ipykernel)",
   "language": "python",
   "name": "python3"
  },
  "language_info": {
   "codemirror_mode": {
    "name": "ipython",
    "version": 3
   },
   "file_extension": ".py",
   "mimetype": "text/x-python",
   "name": "python",
   "nbconvert_exporter": "python",
   "pygments_lexer": "ipython3",
   "version": "3.11.6"
  }
 },
 "nbformat": 4,
 "nbformat_minor": 5
}
